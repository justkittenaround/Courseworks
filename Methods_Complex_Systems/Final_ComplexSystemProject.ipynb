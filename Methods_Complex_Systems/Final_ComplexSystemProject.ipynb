{
  "nbformat": 4,
  "nbformat_minor": 0,
  "metadata": {
    "colab": {
      "name": "Copy of ComplexSystemProject.ipynb",
      "provenance": [],
      "collapsed_sections": [
        "xQN-E6pMZVYK",
        "sYaUmy-tCRpl",
        "YADPSLvIhD4R",
        "5UotRTdJsbZV"
      ],
      "machine_shape": "hm",
      "include_colab_link": true
    },
    "kernelspec": {
      "name": "python3",
      "display_name": "Python 3"
    },
    "accelerator": "GPU"
  },
  "cells": [
    {
      "cell_type": "markdown",
      "metadata": {
        "id": "view-in-github",
        "colab_type": "text"
      },
      "source": [
        "<a href=\"https://colab.research.google.com/github/justkittenaround/Courseworks/blob/master/Methods_Complex_Systems/Final_ComplexSystemProject.ipynb\" target=\"_parent\"><img src=\"https://colab.research.google.com/assets/colab-badge.svg\" alt=\"Open In Colab\"/></a>"
      ]
    },
    {
      "cell_type": "markdown",
      "metadata": {
        "id": "hnxJn5LdkLBb",
        "colab_type": "text"
      },
      "source": [
        "Please make a copy of this document and then share your copy with williamedwardhahn@gmail.com"
      ]
    },
    {
      "cell_type": "markdown",
      "metadata": {
        "id": "BhIxO9V4K935",
        "colab_type": "text"
      },
      "source": [
        "#Modeling Complex Systems"
      ]
    },
    {
      "cell_type": "markdown",
      "metadata": {
        "id": "BY6GY8fqK5PS",
        "colab_type": "text"
      },
      "source": [
        "# Cuttlefish Optimization Algorithm\n",
        "### A nature inspired heuristic by [Eesa, Brifcani, & Orman (2013)](https://www.ijser.org/paper/Cuttlefish-Algorithm-A-Novel-Bio-Inspired-Optimization-Algorithm.html)."
      ]
    },
    {
      "cell_type": "markdown",
      "metadata": {
        "id": "1FF8i5UdmmPK",
        "colab_type": "text"
      },
      "source": [
        "<iframe width=\"900\" height=\"506\" src=\"https://www.youtube.com/embed/pgDE2DOICuc\" frameborder=\"0\" allow=\"accelerometer; autoplay; encrypted-media; gyroscope; picture-in-picture\" allowfullscreen></iframe>"
      ]
    },
    {
      "cell_type": "code",
      "metadata": {
        "id": "R11KCBaNlF2X",
        "colab_type": "code",
        "outputId": "25ef04c4-3881-475d-df62-e23227d28dea",
        "colab": {
          "base_uri": "https://localhost:8080/",
          "height": 527
        }
      },
      "source": [
        "from IPython.display import HTML\n",
        "HTML('<iframe width=\"900\" height=\"506\" src=\"https://www.youtube.com/embed/pgDE2DOICuc\" frameborder=\"0\" allow=\"accelerometer; autoplay; encrypted-media; gyroscope; picture-in-picture\" allowfullscreen></iframe>')"
      ],
      "execution_count": 203,
      "outputs": [
        {
          "output_type": "execute_result",
          "data": {
            "text/html": [
              "<iframe width=\"900\" height=\"506\" src=\"https://www.youtube.com/embed/pgDE2DOICuc\" frameborder=\"0\" allow=\"accelerometer; autoplay; encrypted-media; gyroscope; picture-in-picture\" allowfullscreen></iframe>"
            ],
            "text/plain": [
              "<IPython.core.display.HTML object>"
            ]
          },
          "metadata": {
            "tags": []
          },
          "execution_count": 203
        }
      ]
    },
    {
      "cell_type": "markdown",
      "metadata": {
        "id": "xQN-E6pMZVYK",
        "colab_type": "text"
      },
      "source": [
        "### Cuttlefish Skin Cells\n"
      ]
    },
    {
      "cell_type": "markdown",
      "metadata": {
        "id": "iq_BQbUeZyoy",
        "colab_type": "text"
      },
      "source": [
        "The Cuttlefish Optimization Alforithm **(CFA)**, was designed to mimick the cuttlefish's ability to change its own skin pattern and color. This task can be formulated as an optimization problem upon considering the natural method this phenomena occurs, by cuttlefish skin cells. Their skin is made up of three types of cells. Chromataphores are pigment muscle cells on the surface of the skin that enable color by expansion and contraction. These cells are saccules pigmented with orange, black, yellow, red, or brown granules. Cromataphore cells have complex inner network stuctures containing reflective proteins. The next layer of cells are called iridophores. These reflect and refract light, creating more metallic color tones and are important in concealing the animal from predators. The bottom layer of skin cells, leucophores, scatter light. These cells help camouflage the cuttlefis by reflecting the predominant wavelength of light as it hits their skin to match what is below them. The interaction between the three stacked layers of cells allow for the complexity of colors. A combination of external stimuli sensing and controlled nervous system While the decision-making process for organizing color and pattern changes are still not fully known, we can model the cell and light interaction mathematically. The problem to be optimized thus involves two main variables: reflection of light by the three cells and visibility to match patterns (fig. 1-2). The goal then becomes to finding the global opimum of the interaction of these processes."
      ]
    },
    {
      "cell_type": "markdown",
      "metadata": {
        "id": "OJVC5Yjd9EdO",
        "colab_type": "text"
      },
      "source": [
        "**Figure One:**  \\\\\n",
        "![How light reflection can occure in cuttlefish skin cells.](https://www.ijser.org/paper/Cuttlefish-Algorithm-A-Novel-Bio-Inspired-Optimization-Algorithm/Image_001.jpg)\n",
        " \\\\\n",
        " How light reflection can occure in cuttlefish skin cells.\n",
        " \\\\\n",
        "  \\\\\n",
        "**Figure Two:**  \\\\\n",
        "![Six cases of cell and light reflection interactions.](https://www.ijser.org/paper/Cuttlefish-Algorithm-A-Novel-Bio-Inspired-Optimization-Algorithm/Image_002.jpg)\n",
        " \\\\\n",
        "Six cases of cell and light reflection interactions.\n",
        "  \\\\\n",
        "  \\\\\n"
      ]
    },
    {
      "cell_type": "markdown",
      "metadata": {
        "id": "6-RNeWu583Lw",
        "colab_type": "text"
      },
      "source": [
        "## CFA"
      ]
    },
    {
      "cell_type": "markdown",
      "metadata": {
        "id": "_afVAh0v9QD5",
        "colab_type": "text"
      },
      "source": [
        "Color organization can then be broken down into six cases of ineraction between light reflection and the various types of cells (fig 2). These six cases can be used as variables to model reflection. Visibility can then be described as the difference between the curent solution and the best solution. Local and global searches for new patterns can be described by groups of interactions between cells. \\\\\n",
        "\n",
        "**Group One:** \\\\\n",
        " ![alt text](https://wikimedia.org/api/rest_v1/media/math/render/svg/1674c5ceac7e8ad3e3400659b248bc0cdffd6639)\n",
        ">- case 1 and case 2 cells\n",
        ">- interaction between chromataphors and iridophores\n",
        ">- local search\n",
        "\n",
        "\n",
        "**Group Two:** \\\\\n",
        " ![alt text](https://wikimedia.org/api/rest_v1/media/math/render/svg/8337dda18c64a4914a603a53aac2d03a614a38ad)\n",
        ">- case 3 and case 4 cells\n",
        ">- iridophores are reflecing incoming light as a specific color \n",
        ">- optimal visibility are assumed as concealed organs (best solution)\n",
        ">- global search\n",
        "\n",
        "\n",
        "**Group Three:** \\\\\n",
        "![](https://wikimedia.org/api/rest_v1/media/math/render/svg/c9f8488a85ed191c37dd89520848b942c3782ed4)\n",
        ">- case 5 cells\n",
        ">- leucophores mirror predominant wavelength of light in environment\n",
        ">- global search\n",
        "\n",
        "\n",
        "**Group Four:** \\\\\n",
        "![](https://wikimedia.org/api/rest_v1/media/math/render/svg/2d6bcbdd410c3c74d67a009520fbd07171c0d6d5)\n",
        ">- case 6 cells\n",
        ">- leucophores\n",
        ">- local search\n",
        "\n",
        " \\\\\n",
        "\n",
        "\n",
        "### The general method to the algorithm is: \n",
        "\n",
        "1.   randomlly initialize best solution\n",
        "2.   new solutions by reflection and visibility equations for group 1 (chromatophores and iridophores)\n",
        "3.   new solutions by refleciton and visibility equations for group 2 (iridophores)\n",
        "4.   new solution by reflection and visibility equations for group 3 (leucophores)\n",
        "5.   new solution by reflection and visiblity equations for group 4 (leucophores)\n",
        "6.   save the best population (of cells)\n",
        "\n"
      ]
    },
    {
      "cell_type": "markdown",
      "metadata": {
        "id": "uHnxcMEhZjX9",
        "colab_type": "text"
      },
      "source": [
        "## CFA Algorithm Code"
      ]
    },
    {
      "cell_type": "markdown",
      "metadata": {
        "id": "sYaUmy-tCRpl",
        "colab_type": "text"
      },
      "source": [
        "#### Pseudo-code (from paper)\n"
      ]
    },
    {
      "cell_type": "markdown",
      "metadata": {
        "id": "mMEBTFtHDQO3",
        "colab_type": "text"
      },
      "source": [
        "   1.  Initialize population (P[N]) with random solutions, Assign the values of r1, r2, v1, v2.\n",
        "   2. Evaluate the population and Keep the best solution.\n",
        "   3. Divide population into four groups (G1, G2, G3 and G4).\n",
        "   4. Repeat \n",
        "        >- Calculate the average value of the best solution.\n",
        "        >- for (each element in G1) generate new solution using Case(1 and 2)\n",
        "        >- for (each element in G2) generate new solution using Case(3 and 4)\n",
        "        >- for (each element in G3) generate new solution using Case(5)\n",
        "        >- for (each element in G4) generate new solution using Case(6)\n",
        "        >- Evaluate the new solutions \n",
        "   5. Until (stopping criterion is met)\n",
        "   6. Return the best solution"
      ]
    },
    {
      "cell_type": "markdown",
      "metadata": {
        "id": "UKlY26tgfRSS",
        "colab_type": "text"
      },
      "source": [
        "#### CFA functions to implement when applying to a problem"
      ]
    },
    {
      "cell_type": "code",
      "metadata": {
        "id": "OFqJEnB8bEjc",
        "colab_type": "code",
        "colab": {}
      },
      "source": [
        "import numpy as np\n",
        "import matplotlib.pyplot as plt"
      ],
      "execution_count": 0,
      "outputs": []
    },
    {
      "cell_type": "code",
      "metadata": {
        "id": "FQuirE4jVLJG",
        "colab_type": "code",
        "colab": {}
      },
      "source": [
        "\n",
        "def R(r1,r2): \n",
        "    return (np.random.randint(0,2)*(r1-r2)+r2) #R =refleciton degree (stretch angle of chromataphore saccule) * group 1 cells' points\n",
        "\n",
        "def V(v1,v2):\n",
        "    return(np.random.randint(0,2)*(v1-v2)+v2) #V =visibility degree of final view of pattern * group 1 cells' points, we set to 1 as paper suggested\n",
        "\n",
        "def init_pop(n,d,s):\n",
        "    P = np.random.rand(n,d) * s #create the points for n cells in d dimensions across possible values s\n",
        "    #divide the points into the four groups\n",
        "    g1 = P[:25,] \n",
        "    g2 = P[25:50,]\n",
        "    g3 = P[50:75,]\n",
        "    g4 = P[75:,]\n",
        "    return P, g1,g2,g3,g4\n",
        "\n",
        "#Group 1 equations:\n",
        "def g1f(best):\n",
        "    ref = R(2, -1)*g1  #reflection\n",
        "    vis = 1*(best-g1)  #visibility\n",
        "    newP = ref+vis\n",
        "    return newP\n",
        "\n",
        "#Group 2 equations:\n",
        "def g2f(best):\n",
        "    ref = 1*best\n",
        "    vis = V(1.5,-1.5)*(best-g2)\n",
        "    newP = ref+vis\n",
        "    return newP\n",
        "\n",
        "#Group 3 equations:\n",
        "def g3f(best):\n",
        "    ref = 1*best\n",
        "    vis = V(1,-1)*(best-np.average(best))\n",
        "    newP = ref+vis\n",
        "    return newP\n",
        "\n",
        "#Group 4 equations:\n",
        "def g4f(n,d,s):\n",
        "     P = np.random.randint(0, s, (n, d)) \n",
        "     return P\n"
      ],
      "execution_count": 0,
      "outputs": []
    },
    {
      "cell_type": "markdown",
      "metadata": {
        "id": "2q0d28tafX1Z",
        "colab_type": "text"
      },
      "source": [
        "#### Setting up a toy-problem to check the CFA algorithm:"
      ]
    },
    {
      "cell_type": "code",
      "metadata": {
        "id": "7pNEy1LXZeu6",
        "colab_type": "code",
        "outputId": "74d25ac9-df54-47e6-e34d-6859bd6fb4e0",
        "colab": {
          "base_uri": "https://localhost:8080/",
          "height": 282
        }
      },
      "source": [
        "x = np.linspace(0,10,10)                 #generate some data points\n",
        "noise = 5 * np.random.randn(x.shape[0])  #create some noise to make it more realistic\n",
        "y = 6*x + 2 + noise                      #generate the values (with noise) for each datapoint\n",
        "plt.plot(x,y,'.')                        #plot them to see what our data looks like"
      ],
      "execution_count": 206,
      "outputs": [
        {
          "output_type": "execute_result",
          "data": {
            "text/plain": [
              "[<matplotlib.lines.Line2D at 0x7fc04a074e48>]"
            ]
          },
          "metadata": {
            "tags": []
          },
          "execution_count": 206
        },
        {
          "output_type": "display_data",
          "data": {
            "image/png": "[encoded data removed]",
            "text/plain": [
              "<Figure size 432x288 with 1 Axes>"
            ]
          },
          "metadata": {
            "tags": [],
            "needs_background": "light"
          }
        }
      ]
    },
    {
      "cell_type": "markdown",
      "metadata": {
        "id": "shCdK_FpgBlM",
        "colab_type": "text"
      },
      "source": [
        "##### Run the CFA steps while iterating through the data to update our parameters and find a good fit:"
      ]
    },
    {
      "cell_type": "code",
      "metadata": {
        "id": "RR58iArDZe1t",
        "colab_type": "code",
        "outputId": "7938d021-9a4f-45c1-fc3f-737c41880317",
        "colab": {
          "base_uri": "https://localhost:8080/",
          "height": 282
        }
      },
      "source": [
        "iters = 100                                       #number of iteration to run CFA \n",
        "n = 100                                           #number of cells\n",
        "d = 2                                             #dimensions of cell points\n",
        "s = 10                                            #search size space\n",
        "\n",
        "P, g1,g2,g3,g4 = init_pop(n,d,s)                   #Initialize the popultaion with random solutions\n",
        "y2 = x *P[:,0][:,None] + P[:,1][:,None]            #y=xm+b prediction based on current params \n",
        "loss = np.sum(((y2) - y)**2,1)                     #mean-squared error loss function \n",
        "best = P[np.argmin(loss)]                          #to determine best solution\n",
        "\n",
        "for i in range(iters):\n",
        "    \n",
        "    newP = g1f(best)                                            #CFA step\n",
        "    y2 = x *newP[:,0][:,None] + newP[:,1][:,None]                  #fit model to parameters                \n",
        "    if np.amin(np.sum(((y2) - y)**2,1)) < np.amin(loss):           #evaluate loss\n",
        "        loss = np.sum(((y2) - y)**2,1)                             #redefine the loss to compare in next CFA step\n",
        "        best = newP[np.argmin(loss)]                               #update params\n",
        "        \n",
        "    newP = g2f(best)\n",
        "    y2 = x *newP[:,0][:,None] + newP[:,1][:,None]\n",
        "    if np.amin(np.sum(((y2) - y)**2,1)) < np.amin(loss):\n",
        "        loss = np.sum(((y2) - y)**2,1)\n",
        "        best = newP[np.argmin(loss)]\n",
        "\n",
        "    newP = g3f(best)\n",
        "    newP = np.expand_dims(newP, 0)\n",
        "    y2 = x *newP[:,0][:,None] + newP[:,1][:,None]\n",
        "    if np.amin(np.sum(((y2) - y)**2,1)) < np.amin(loss):\n",
        "        loss = np.sum(((y2) - y)**2,1)\n",
        "        best = newP[np.argmin(loss)]\n",
        "    \n",
        "    newP = g4f(n,d,s)\n",
        "    y2 = x *newP[:,0][:,None] + newP[:,1][:,None] \n",
        "    if np.amin(np.sum(((y2) - y)**2,1)) < np.amin(loss):\n",
        "        loss = np.sum(((y2) - y)**2,1)\n",
        "        best = newP[np.argmin(loss)]\n",
        "\n",
        "    \n",
        "    \n",
        "m,b = best                                           #take the converged best of the cells\n",
        "y2 = m*x+b                                           #make the prediction using the best cell params\n",
        "plt.plot(x,y,'.')                                    #plot the original data\n",
        "plt.plot(x,y2)                                       #plot our best solution                      \n",
        "print(np.amin(loss))                                 #print our final loss"
      ],
      "execution_count": 207,
      "outputs": [
        {
          "output_type": "stream",
          "text": [
            "89.38532133430293\n"
          ],
          "name": "stdout"
        },
        {
          "output_type": "display_data",
          "data": {
            "image/png": "[encoded data removed]",
            "text/plain": [
              "<Figure size 432x288 with 1 Axes>"
            ]
          },
          "metadata": {
            "tags": [],
            "needs_background": "light"
          }
        }
      ]
    },
    {
      "cell_type": "code",
      "metadata": {
        "id": "cuJGEoEsZfLV",
        "colab_type": "code",
        "colab": {}
      },
      "source": [
        ""
      ],
      "execution_count": 0,
      "outputs": []
    },
    {
      "cell_type": "markdown",
      "metadata": {
        "id": "eJ2E75G6cV3-",
        "colab_type": "text"
      },
      "source": [
        "# Minesweeper\n",
        "### an NP-complete or co-NP-complete problem "
      ]
    },
    {
      "cell_type": "markdown",
      "metadata": {
        "id": "BKHKIfwV4iln",
        "colab_type": "text"
      },
      "source": [
        "Minesweeper is a game that appeared on early PCs in 1990 by the creator Curt Johnson. The game starts with a n by m grid with blank square that are turned over to reveal mines or numbered squares. Numbers indicated how many mines are near that square. The game is played by using deductive reasoning to uncover all the square that are not mines. Clicking on a mine results in a losing game. The game was first published as being Np complete in 2000 by Richard Kaye. To give us an understanding of the grid and peices, the video below demonstrates how the game is played."
      ]
    },
    {
      "cell_type": "markdown",
      "metadata": {
        "id": "Yv5sVhVF54oA",
        "colab_type": "text"
      },
      "source": [
        "#### How to play minesweeper video"
      ]
    },
    {
      "cell_type": "code",
      "metadata": {
        "id": "ZRJfzRGF3WUF",
        "colab_type": "code",
        "outputId": "0e818c93-abde-4d69-bff7-1f9d499ca821",
        "colab": {
          "base_uri": "https://localhost:8080/",
          "height": 756
        }
      },
      "source": [
        "from IPython.display import HTML\n",
        "HTML('<iframe width=\"900\" height=\"735\" src=\"https://www.youtube.com/embed/7B85WbEiYf4\" frameborder=\"0\" allow=\"accelerometer; autoplay; encrypted-media; gyroscope; picture-in-picture\" allowfullscreen></iframe>')"
      ],
      "execution_count": 208,
      "outputs": [
        {
          "output_type": "execute_result",
          "data": {
            "text/html": [
              "<iframe width=\"900\" height=\"735\" src=\"https://www.youtube.com/embed/7B85WbEiYf4\" frameborder=\"0\" allow=\"accelerometer; autoplay; encrypted-media; gyroscope; picture-in-picture\" allowfullscreen></iframe>"
            ],
            "text/plain": [
              "<IPython.core.display.HTML object>"
            ]
          },
          "metadata": {
            "tags": []
          },
          "execution_count": 208
        }
      ]
    },
    {
      "cell_type": "markdown",
      "metadata": {
        "id": "MGM9afzt4dc-",
        "colab_type": "text"
      },
      "source": [
        "### Np-complete and co-NP types of problems"
      ]
    },
    {
      "cell_type": "markdown",
      "metadata": {
        "id": "1oSV3fbsgyY5",
        "colab_type": "text"
      },
      "source": [
        "\n",
        "Simply put, NP Problems are those which we can check if there is a solution in polynomial time and whose solution is solvable in non-polynomial time. Rather, the steps to solve the problem are non-polynomial function of the size of the problem. This class of problems inutitively includes P type problems (in which the problem itself, in any size, is solvable in polynomial time). The hardest problems in the class of NP problems are called NP-complete. If a NP-complete type problem was solved in polynomial time (say by some crazy new algorithm), all other NP problems would then be solvable in essentially the same way. Similarly to NP-complete problems, co-NP-complete problems are those NP type problems which a negated solution can be verified in polynomial time but true solution may exist in exponential time. \n",
        "\n",
        "\n"
      ]
    },
    {
      "cell_type": "markdown",
      "metadata": {
        "id": "eNBJOkgycpdb",
        "colab_type": "text"
      },
      "source": [
        "### Minesweeper Problem"
      ]
    },
    {
      "cell_type": "markdown",
      "metadata": {
        "id": "0ogbmLWp4gbW",
        "colab_type": "text"
      },
      "source": [
        "*If  we consider a Minesweeper grid in which some information about the placement of bombs is present, can we determine **if there is a solution**? This question, minesweeper consistency, is NP complete.* \\\n",
        "\n",
        "Let's take the minesweeper grid in the figure below. The dark grey squares (blanks) indicate no mine present and not touching any mines. The numbered dark grey squares indicates that a mine is nearby. The number indicates exactly how many mines that square is touching. The light grey squares are un-turned peices where mines could be present. Thus, there is two seperate placements of mines which offer a solution to this grid.\n",
        "\n",
        "![Minesweeper Wire](https://i.imgur.com/NJ9hczV.png)\n",
        "\n",
        "Given any placement of mines we can quickly verify if the constraints of the grid are met. If so, this is a possible solution. Consider one such mine placement shown below. Is this a solution? By checking all the numbered squares and satisfying their number in relation to how many mines they're each touching, we can see this solution holds true. (PS... if you moved every mine to the right by one quare, this would be the second possible solution.)\n",
        "\n",
        "![Minesweeper Wire Solution](https://i.imgur.com/K9B7fIy.png)\n",
        "\n",
        "We've now shown that Minesweeper consistency is an NP-complete type problem because:\n",
        "1. given any grid with partial information, solving the grid requires exponential steps as the size of the grid increases\n",
        "2. given any possible complete grid, the steps required for verifying if the grid is a solution (i.e. if the mines are placed correctly) is a polynomial funciton\n",
        "\n",
        "It's important to note the destinction between Minesweeper consistency and solving Minesweeper the game (i.e. Minesweeper inference). Minesweeeper inference is a co-NP-complete type problem wich seeks to answer: *given a partial grid, can you figure out where the bombs are placed?* To demonstrate how this question is different than the previous one, consider a partial grid with only blank squares. A possible solution is given to you that the entire grid is blank. There are no mines are numbered squares. You can quickly verify that this grid is satisfying the constraints of the game. That is the NP-complete problem. However, given the same partial blank grid, Is it possible to find were the minds are? This is the co-NP-complete problem because:\n",
        "1. as the size of the partial grid increases, steps for checking all posible solutions to the grid increase non-polynomially \n",
        "2. checking false solutions are in polynomial time \n",
        "\n"
      ]
    },
    {
      "cell_type": "markdown",
      "metadata": {
        "id": "A0ZwHMlePm57",
        "colab_type": "text"
      },
      "source": [
        "## Pytorch Implementation of Minesweeper with CFA"
      ]
    },
    {
      "cell_type": "markdown",
      "metadata": {
        "id": "0Ml8as-vQ8yM",
        "colab_type": "text"
      },
      "source": [
        "**Notes:** \\\n",
        ">- We're going to use the cells as possible grid solutions to the Minesweeper grid (not as parameters as in the toy example previously).\n",
        ">- Reflection and visibility paramaters r1,r2,v1,v2 will be optimized using auto-diff (and helper pytorch functions).\n",
        ">- We will use the number 9 to denote X's (mines) for easier computations.\n",
        ">- The gridsize denotes one length of the square grid and needs to be >= 3.\n",
        ">- Smooth-L1 loss has had best results so far.\n",
        ">- AdamW is the best optimizer so far."
      ]
    },
    {
      "cell_type": "code",
      "metadata": {
        "id": "QZanlUrGP7TM",
        "colab_type": "code",
        "outputId": "5606ecef-2e55-4e4a-addb-e989b84f6d73",
        "colab": {
          "base_uri": "https://localhost:8080/",
          "height": 471
        }
      },
      "source": [
        "import random\n",
        "import re\n",
        "import time\n",
        "import numpy as np\n",
        "\n",
        "!pip install wandb\n",
        "import wandb as wb\n",
        "\n",
        "import torch\n",
        "from torch.autograd import Variable"
      ],
      "execution_count": 209,
      "outputs": [
        {
          "output_type": "stream",
          "text": [
            "Requirement already satisfied: wandb in /usr/local/lib/python3.6/dist-packages (0.8.35)\n",
            "Requirement already satisfied: psutil>=5.0.0 in /usr/local/lib/python3.6/dist-packages (from wandb) (5.4.8)\n",
            "Requirement already satisfied: gql==0.2.0 in /usr/local/lib/python3.6/dist-packages (from wandb) (0.2.0)\n",
            "Requirement already satisfied: docker-pycreds>=0.4.0 in /usr/local/lib/python3.6/dist-packages (from wandb) (0.4.0)\n",
            "Requirement already satisfied: python-dateutil>=2.6.1 in /usr/local/lib/python3.6/dist-packages (from wandb) (2.8.1)\n",
            "Requirement already satisfied: configparser>=3.8.1 in /usr/local/lib/python3.6/dist-packages (from wandb) (5.0.0)\n",
            "Requirement already satisfied: Click>=7.0 in /usr/local/lib/python3.6/dist-packages (from wandb) (7.1.2)\n",
            "Requirement already satisfied: nvidia-ml-py3>=7.352.0 in /usr/local/lib/python3.6/dist-packages (from wandb) (7.352.0)\n",
            "Requirement already satisfied: subprocess32>=3.5.3 in /usr/local/lib/python3.6/dist-packages (from wandb) (3.5.4)\n",
            "Requirement already satisfied: requests>=2.0.0 in /usr/local/lib/python3.6/dist-packages (from wandb) (2.23.0)\n",
            "Requirement already satisfied: sentry-sdk>=0.4.0 in /usr/local/lib/python3.6/dist-packages (from wandb) (0.14.3)\n",
            "Requirement already satisfied: shortuuid>=0.5.0 in /usr/local/lib/python3.6/dist-packages (from wandb) (1.0.1)\n",
            "Requirement already satisfied: six>=1.10.0 in /usr/local/lib/python3.6/dist-packages (from wandb) (1.12.0)\n",
            "Requirement already satisfied: PyYAML>=3.10 in /usr/local/lib/python3.6/dist-packages (from wandb) (3.13)\n",
            "Requirement already satisfied: GitPython>=1.0.0 in /usr/local/lib/python3.6/dist-packages (from wandb) (3.1.1)\n",
            "Requirement already satisfied: watchdog>=0.8.3 in /usr/local/lib/python3.6/dist-packages (from wandb) (0.10.2)\n",
            "Requirement already satisfied: graphql-core<2,>=0.5.0 in /usr/local/lib/python3.6/dist-packages (from gql==0.2.0->wandb) (1.1)\n",
            "Requirement already satisfied: promise<3,>=2.0 in /usr/local/lib/python3.6/dist-packages (from gql==0.2.0->wandb) (2.3)\n",
            "Requirement already satisfied: urllib3!=1.25.0,!=1.25.1,<1.26,>=1.21.1 in /usr/local/lib/python3.6/dist-packages (from requests>=2.0.0->wandb) (1.24.3)\n",
            "Requirement already satisfied: idna<3,>=2.5 in /usr/local/lib/python3.6/dist-packages (from requests>=2.0.0->wandb) (2.9)\n",
            "Requirement already satisfied: certifi>=2017.4.17 in /usr/local/lib/python3.6/dist-packages (from requests>=2.0.0->wandb) (2020.4.5.1)\n",
            "Requirement already satisfied: chardet<4,>=3.0.2 in /usr/local/lib/python3.6/dist-packages (from requests>=2.0.0->wandb) (3.0.4)\n",
            "Requirement already satisfied: gitdb<5,>=4.0.1 in /usr/local/lib/python3.6/dist-packages (from GitPython>=1.0.0->wandb) (4.0.4)\n",
            "Requirement already satisfied: pathtools>=0.1.1 in /usr/local/lib/python3.6/dist-packages (from watchdog>=0.8.3->wandb) (0.1.2)\n",
            "Requirement already satisfied: smmap<4,>=3.0.1 in /usr/local/lib/python3.6/dist-packages (from gitdb<5,>=4.0.1->GitPython>=1.0.0->wandb) (3.0.2)\n"
          ],
          "name": "stdout"
        }
      ]
    },
    {
      "cell_type": "markdown",
      "metadata": {
        "id": "d1YzA5L7R42H",
        "colab_type": "text"
      },
      "source": [
        "###### minesweeper functions"
      ]
    },
    {
      "cell_type": "code",
      "metadata": {
        "id": "FQUCWmojP_-_",
        "colab_type": "code",
        "colab": {}
      },
      "source": [
        "#this section of code was borrowed from Mohamed Akram @ https://gist.github.com/mohd-akram/3057736\n",
        "#it creates a solved minesweeper grid (grid) and returns where the mines are\n",
        "\n",
        "def setupgrid(gridsize, start, numberofmines):\n",
        "    emptygrid = [['0' for i in range(gridsize)] for i in range(gridsize)]\n",
        "    mines = getmines(emptygrid, start, numberofmines)\n",
        "    for i, j in mines:\n",
        "        emptygrid[i][j] = 'X'\n",
        "    grid = np.asarray(getnumbers(emptygrid)).astype('str')\n",
        "    grid[grid=='X'] = '9'\n",
        "    grid = grid.astype(int)\n",
        "    return (grid, mines)\n",
        "\n",
        "def getmines(grid, start, numberofmines):\n",
        "    mines = []\n",
        "    neighbors = getneighbors(grid, *start)\n",
        "    for i in range(numberofmines):\n",
        "        cell = getrandomcell(grid)\n",
        "        while cell == start or cell in mines or cell in neighbors:\n",
        "            cell = getrandomcell(grid)\n",
        "        mines.append(cell)\n",
        "    return mines\n",
        "\n",
        "def getneighbors(grid, rowno, colno):\n",
        "    gridsize = len(grid)\n",
        "    neighbors = []\n",
        "    for i in range(-1, 2):\n",
        "        for j in range(-1, 2):\n",
        "            if i == 0 and j == 0:\n",
        "                continue\n",
        "            elif -1 < (rowno + i) < gridsize and -1 < (colno + j) < gridsize:\n",
        "                neighbors.append((rowno + i, colno + j))\n",
        "    return neighbors\n",
        "\n",
        "def getrandomcell(grid):\n",
        "    gridsize = len(grid)\n",
        "    a = random.randint(0, gridsize - 1)\n",
        "    b = random.randint(0, gridsize - 1)\n",
        "    return (a, b)\n",
        "\n",
        "def getnumbers(grid):\n",
        "    for rowno, row in enumerate(grid):\n",
        "        for colno, cell in enumerate(row):\n",
        "            if cell != 'X':\n",
        "                # Gets the values of the neighbors\n",
        "                values = [grid[r][c] for r, c in getneighbors(grid, rowno, colno)]\n",
        "                # Counts how many are mines\n",
        "                grid[rowno][colno] = str(values.count('X'))\n",
        "    return grid\n"
      ],
      "execution_count": 0,
      "outputs": []
    },
    {
      "cell_type": "code",
      "metadata": {
        "id": "VnD6iFLVQLqF",
        "colab_type": "code",
        "colab": {}
      },
      "source": [
        "#to start the game, we need the grid to be unturned in some places (according to the starting square)\n",
        "def startgrid(gridsize, grid, start):\n",
        "    fixedidx = getneighbors(grid, *start)\n",
        "    fixedidx.append(tuple(start))\n",
        "    omitgrid = [idx for idx in list(np.ndindex(gridsize, gridsize)) if idx not in fixedidx]\n",
        "    sgrid = np.asarray(grid.copy().astype(str))\n",
        "    for idx in omitgrid:\n",
        "        sgrid[idx] = ' '\n",
        "    return sgrid, omitgrid, fixedidx"
      ],
      "execution_count": 0,
      "outputs": []
    },
    {
      "cell_type": "code",
      "metadata": {
        "id": "ayQDklfzQROT",
        "colab_type": "code",
        "colab": {}
      },
      "source": [
        "# a little function to make our solution grid in the familar aesthetic\n",
        "def pretty(best):\n",
        "    best = np.asarray(best)\n",
        "    best = best.astype('str')\n",
        "    best[best == '9'] = 'X'\n",
        "    return best"
      ],
      "execution_count": 0,
      "outputs": []
    },
    {
      "cell_type": "markdown",
      "metadata": {
        "id": "boXjArIQR8Y_",
        "colab_type": "text"
      },
      "source": [
        "###### CFA functions"
      ]
    },
    {
      "cell_type": "code",
      "metadata": {
        "id": "j03569XXPuek",
        "colab_type": "code",
        "colab": {}
      },
      "source": [
        "def R(r1,r2): \n",
        "    return (torch.randint(2, (1, 1))*(r1-r2)+r2).to(device) #R =refleciton degree (stretch angle of chromataphore saccule) * group 1 cells' points\n",
        "\n",
        "def V(v1,v2):\n",
        "    return (torch.randint(2, (1, 1))*(v1-v2)+v2).to(device) #V =visibility degree of final view of pattern * group 1 cells' points, we set to 1 as paper suggested\n",
        "\n",
        "def init_pop(n,d):\n",
        "    P = torch.randint(low=0, high=10, size=(wab.n, wab.gridsize, wab.gridsize), dtype=torch.float32, requires_grad=True).to(device)\n",
        "    for idx in range(P.shape[0]):\n",
        "        for i,j in fixedidx:\n",
        "            P[idx, i,j] = torch.Tensor(grid.astype(int))[i,j]\n",
        "    split = P.shape[0]//4\n",
        "    g1 = P[:split,].to(torch.float32).to(device) \n",
        "    g2 = P[split:split+split,].to(torch.float32).to(device)\n",
        "    g3 = P[2*split:3*split,].to(torch.float32).to(device)\n",
        "    g4 = P[3*split:,].to(torch.float32).to(device)\n",
        "    return P, g1,g2,g3,g4\n"
      ],
      "execution_count": 0,
      "outputs": []
    },
    {
      "cell_type": "code",
      "metadata": {
        "id": "DKRXkW_qniGc",
        "colab_type": "code",
        "colab": {}
      },
      "source": [
        "# loss will be computed for each cell compared to the actual grid solution\n",
        "# sum the whole grid for each cell\n",
        "def min_loss(newP):\n",
        "    return torch.min(crit(newP, y).sum((1,2)))"
      ],
      "execution_count": 0,
      "outputs": []
    },
    {
      "cell_type": "markdown",
      "metadata": {
        "id": "TxexCBgjYiVu",
        "colab_type": "text"
      },
      "source": [
        "###### Run functions"
      ]
    },
    {
      "cell_type": "code",
      "metadata": {
        "id": "Q-NbD9P6AYdU",
        "colab_type": "code",
        "colab": {}
      },
      "source": [
        "#this allows our code to run for up to 10k iterations\n",
        "import sys\n",
        "sys.setrecursionlimit(10000)"
      ],
      "execution_count": 0,
      "outputs": []
    },
    {
      "cell_type": "code",
      "metadata": {
        "id": "EjORReMu6Xif",
        "colab_type": "code",
        "outputId": "bf740c5f-d5bb-441c-c1db-afa4b78e796e",
        "colab": {
          "base_uri": "https://localhost:8080/",
          "height": 34
        }
      },
      "source": [
        "#set deviice to gpu\n",
        "device = torch.device(\"cuda:0\" if torch.cuda.is_available() else \"cpu\")\n",
        "print(device)"
      ],
      "execution_count": 216,
      "outputs": [
        {
          "output_type": "stream",
          "text": [
            "cuda:0\n"
          ],
          "name": "stdout"
        }
      ]
    },
    {
      "cell_type": "code",
      "metadata": {
        "id": "ENoNu6qwP_78",
        "colab_type": "code",
        "outputId": "3eb78f4e-e8f4-4dfc-c39c-5f072078f266",
        "colab": {
          "base_uri": "https://localhost:8080/",
          "height": 104
        }
      },
      "source": [
        "###Hyperparameters:\n",
        "\n",
        "# Graphs / links to Weights&Biases run pages\n",
        "# !wandb off                          #turn off wandb for debugging\n",
        "!wandb on\n",
        "!wandb.login()\n",
        "wb.init(project='CFA-minesweeper-pytorch')\n",
        "wab = wb.config\n",
        "\n",
        "#define variables of the minesweepergame\n",
        "wab.gridsize = 4                      #size of grid\n",
        "wab.numberofmines = 1                 #how many mines to place\n",
        "wab.start = (0,0)                     #first square click (where to start)\n",
        "\n",
        "d = (wab.gridsize,wab.gridsize)       #tuple of the gridsize                    \n",
        "\n",
        "#define variables of CFA                           \n",
        "wab.n = 200                            #how many cells for the CFA \n"
      ],
      "execution_count": 217,
      "outputs": [
        {
          "output_type": "stream",
          "text": [
            "W&B enabled, running your script from this directory will now sync to the cloud.\n",
            "/bin/bash: -c: line 1: syntax error: unexpected end of file\n"
          ],
          "name": "stdout"
        },
        {
          "output_type": "display_data",
          "data": {
            "text/html": [
              "\n",
              "                Logging results to <a href=\"https://wandb.com\" target=\"_blank\">Weights & Biases</a> <a href=\"https://docs.wandb.com/integrations/jupyter.html\" target=\"_blank\">(Documentation)</a>.<br/>\n",
              "                Project page: <a href=\"https://app.wandb.ai/justkittenaround/CFA-minesweeper-pytorch\" target=\"_blank\">https://app.wandb.ai/justkittenaround/CFA-minesweeper-pytorch</a><br/>\n",
              "                Run page: <a href=\"https://app.wandb.ai/justkittenaround/CFA-minesweeper-pytorch/runs/1h63tiwk\" target=\"_blank\">https://app.wandb.ai/justkittenaround/CFA-minesweeper-pytorch/runs/1h63tiwk</a><br/>\n",
              "            "
            ],
            "text/plain": [
              "<IPython.core.display.HTML object>"
            ]
          },
          "metadata": {
            "tags": []
          }
        }
      ]
    },
    {
      "cell_type": "code",
      "metadata": {
        "id": "hwehT_aLLMZE",
        "colab_type": "code",
        "colab": {}
      },
      "source": [
        "#helpful for debugging by making all random variables reproducable\n",
        "# torch.manual_seed(0)\n",
        "# np.random.seed(0)"
      ],
      "execution_count": 0,
      "outputs": []
    },
    {
      "cell_type": "code",
      "metadata": {
        "id": "-QFfjcsrQyhD",
        "colab_type": "code",
        "colab": {}
      },
      "source": [
        "#set up the grid and get starting partial grid and the indexes that can be changed or fixed\n",
        "grid, mines_idx = setupgrid(wab.gridsize, wab.start, wab.numberofmines)\n",
        "startg, openidx, fixedidx = startgrid(wab.gridsize, grid, wab.start)"
      ],
      "execution_count": 0,
      "outputs": []
    },
    {
      "cell_type": "code",
      "metadata": {
        "id": "_sEo24HxV-vF",
        "colab_type": "code",
        "colab": {}
      },
      "source": [
        "###define a loss function \n",
        "\n",
        "# crit = torch.nn.L1Loss(reduction='none')\n",
        "# wab.loss_fx = 'L1'\n",
        "\n",
        "crit = torch.nn.SmoothL1Loss(reduction='none')\n",
        "wab.loss_fx = 'SmoothL1'\n",
        "\n",
        "# crit = torch.nn.MSELoss(reduction='none')\n",
        "# wab.loss_fx = 'MSE'\n"
      ],
      "execution_count": 0,
      "outputs": []
    },
    {
      "cell_type": "code",
      "metadata": {
        "id": "f3BttmqfsulG",
        "colab_type": "code",
        "outputId": "cbae85ee-2d9e-4df2-e0d0-069ba7eb9109",
        "colab": {
          "base_uri": "https://localhost:8080/",
          "height": 943
        }
      },
      "source": [
        "#Run the CFA to play minesweeper   \n",
        "iters = 0\n",
        "y = torch.Tensor(grid.astype(int)).to(device)      #get the complete minesweeper grid\n",
        "P, g1,g2,g3,g4 = init_pop(wab.n,d)               #initialize the population of cuttlefish cells\n",
        "loss = crit(P, y).sum((1,2))                       #calc error between predicted grid and actual minesweeper grid \n",
        "best = P[torch.argmin(loss),...]                   #save the closest predicted grid (to the actual)                \n",
        "\n",
        "\n",
        "r1_1 = Variable(torch.randn(1), requires_grad=True)\n",
        "r2_1 = Variable(torch.randn(1), requires_grad=True)\n",
        "v1_2 = Variable(torch.randn(1), requires_grad=True)\n",
        "v2_2 = Variable(torch.randn(1), requires_grad=True)    \n",
        "v1_3 = Variable(torch.randn(1), requires_grad=True)\n",
        "v2_3 = Variable(torch.randn(1), requires_grad=True)\n",
        "\n",
        "params = [r1_1, r2_1, v1_2, v2_2, v1_3, v2_3]\n",
        "\n",
        "\n",
        "###define an optimizer to change the parameters according to the gradients accumulated in loss.backwards()\n",
        "# optimizer = torch.optim.SGD(params, lr=0.001)\n",
        "# wab.optim = 'sgd'\n",
        "\n",
        "optimizer = torch.optim.AdamW(params, 0.2)\n",
        "wab.optim='adamW'\n",
        "\n",
        "# optimizer = torch.optim.Adagrad(params)\n",
        "# wab.optim='adagrad'\n",
        "\n",
        "# optimizer = torch.optim.RMSprop(params,0.01)\n",
        "# wab.optim='rms'\n",
        "\n",
        "\n",
        "# ###define a schedule to control the learning rate as the loss approaches zero\n",
        "scheduler = torch.optim.lr_scheduler.StepLR(optimizer, step_size=10) \n",
        "\n",
        "\n",
        "def run(P, g1,g2,g3,g4, loss, best, since, iters):               #make a function so we can run recursively\n",
        "   \n",
        "    optimizer.zero_grad()                                        #zero the optimizer gradients\n",
        "\n",
        "    #group one CFA cells\n",
        "    ref = g1.clone()                                             #make a copy of group1 cells for math purposes\n",
        "    for i, j in openidx:                                         #the startgrid will be preserved throughout (since it is already revealed)\n",
        "        ref[:,i,j] *= (R(r1_1, r2_1)).squeeze()                  #calc reflection\n",
        "    vis = g1.clone()  \n",
        "    for i, j in openidx:\n",
        "        vis[:,i,j] -= best[i,j]                                  #calc visiblity\n",
        "    vis = torch.nn.functional.relu(1*vis)                        #some values could be negative, apply rectified linear unit function\n",
        "    newP = ref.clone()\n",
        "    for i, j in openidx:\n",
        "        newP[:,i,j] += vis[:,i,j]                                 #add reflection and visibility to get new grid (only for the positions not in starting grid)\n",
        "    if min_loss(newP) < torch.min(loss):                          #if the new grid closer to the actual grid then the previous best grid         \n",
        "        loss = crit(newP, y).sum((1,2))                           #redefine the loss to be with the new population of cells (grids)\n",
        "        best = newP[torch.argmin(loss),...]                       #save the best grid in the new population\n",
        "        (loss.sum()).backward(retain_graph=True)                  #calc gradients for each variable with retain_graph\n",
        "        optimizer.step()\n",
        "        optimizer.zero_grad()                                     #update the variables according to the calc gradients and the optimizer math\n",
        "        print('1', r1_1) \n",
        "    wb.log({\"r1_1\": r1_1.item(), \"r2_1\": r2_1.item()})            #record these variables in wandb\n",
        "\n",
        "    #group two CFA cells\n",
        "    ref = 1*best\n",
        "    vis = g2.clone()\n",
        "    for i, j in openidx:\n",
        "        vis[:,i,j] -= best[i,j]\n",
        "        vis[:,i,j] *= (V(v1_2,v2_2)).squeeze()\n",
        "    vis = torch.nn.functional.relu(vis)                           \n",
        "    newP = vis.clone()\n",
        "    for i, j in openidx:\n",
        "        newP[:,i,j] += ref[i,j]\n",
        "    if min_loss(newP) < torch.min(loss):                                  \n",
        "        loss = crit(newP, y).sum((1,2))\n",
        "        best = newP[torch.argmin(loss),...]\n",
        "        (loss.sum()).backward(retain_graph=True)\n",
        "        optimizer.step() \n",
        "        optimizer.zero_grad() \n",
        "        print('2', v1_2)             \n",
        "    wb.log({\"v1_2\": v1_2.item(), \"v2_2\": v2_2.item()}) \n",
        "\n",
        "    #group three CFA cells\n",
        "    ref = 1*best\n",
        "    vis = best.clone()\n",
        "    for i,j in openidx:\n",
        "        vis -= torch.mean(best)\n",
        "        vis *= (V(v1_3,v2_3)).squeeze()\n",
        "    vis = torch.nn.functional.relu(vis)\n",
        "    newP = vis.clone()\n",
        "    for i, j in openidx:\n",
        "        newP[i,j] += ref[i,j]  \n",
        "    if crit(newP, y).sum() < torch.min(loss):                                  \n",
        "        loss = crit(newP, y).sum()\n",
        "        best = newP\n",
        "        (loss.sum()).backward(retain_graph=True)\n",
        "        optimizer.step()\n",
        "        optimizer.zero_grad() \n",
        "        print('3', v1_3) \n",
        "    wb.log({\"v1_3\": v1_3.item(), \"v2_3\": v2_3.item()}) \n",
        "\n",
        "    #group four CFA cells\n",
        "    P = torch.randint(low=0, high=10, size=(wab.n, wab.gridsize, wab.gridsize), dtype=torch.float32, requires_grad=True).to(device)  #group four is the same as brute forcing (random guess)\n",
        "    for i,j in fixedidx:\n",
        "        P[:, i,j] = torch.Tensor(grid).to(torch.float32)[i,j] \n",
        "    if min_loss(P) < torch.min(loss):                                  \n",
        "        loss = crit(P, y).sum((1,2))\n",
        "        best = P[torch.argmin(loss),...]                              \n",
        "        (loss.sum()).backward(retain_graph=True)\n",
        "        optimizer.step()\n",
        "        optimizer.zero_grad() \n",
        "        print('4') \n",
        "    \n",
        "    (loss.sum()).backward(retain_graph=True)\n",
        "    optimizer.step()\n",
        "    scheduler.step(torch.abs(crit(best.int(), y).sum()))           #activate the scheduler  according to the loss of the best grid  \n",
        "    wb.log({'LR': scheduler.get_lr()[0]})                            #record the learning rate\n",
        "    wb.log({\"Loss\": torch.abs(crit(best.int(), y).sum()).item()})    #record the loss\n",
        "    \n",
        "    if torch.abs(crit(best.int(), y).sum()) == 0:                    #if loss is 0, we have solved the game\n",
        "        print('\\n', 'Solution found!')\n",
        "        print(pretty(grid.astype(int)), '\\n')                                            \n",
        "        print(pretty(best.detach().cpu().numpy().astype(int)), '\\n')                                                                     \n",
        "        print('Total loss after', iters, 'iterations is:', torch.abs(crit(best.int(), y).sum()))\n",
        "        print('Time:', time.time()-since)\n",
        "        sys.exit('Program complete.')\n",
        "\n",
        "    iters+=1                                                         #count each iteration (epoch) \n",
        "    run(P, g1,g2,g3,g4, loss, best, since, iters)                    #run all cfa steps again (until solved or max recursion limit reached)\n",
        "\n",
        "\n",
        "since = time.time()                                                  #for counting the time it takes\n",
        "run(P, g1,g2,g3,g4, loss, best, since, iters)\n",
        "print(best, y)\n"
      ],
      "execution_count": 221,
      "outputs": [
        {
          "output_type": "stream",
          "text": [
            "/usr/local/lib/python3.6/dist-packages/torch/nn/modules/loss.py:798: UserWarning: Using a target size (torch.Size([4, 4])) that is different to the input size (torch.Size([200, 4, 4])). This will likely lead to incorrect results due to broadcasting. Please ensure they have the same size.\n",
            "  return F.smooth_l1_loss(input, target, reduction=self.reduction)\n",
            "/usr/local/lib/python3.6/dist-packages/torch/nn/modules/loss.py:798: UserWarning: Using a target size (torch.Size([4, 4])) that is different to the input size (torch.Size([50, 4, 4])). This will likely lead to incorrect results due to broadcasting. Please ensure they have the same size.\n",
            "  return F.smooth_l1_loss(input, target, reduction=self.reduction)\n",
            "/usr/local/lib/python3.6/dist-packages/torch/optim/lr_scheduler.py:143: UserWarning: The epoch parameter in `scheduler.step()` was not necessary and is being deprecated where possible. Please use `scheduler.step()` to step the scheduler. During the deprecation, if epoch is different from None, the closed form is used instead of the new chainable form, where available. Please open an issue if you are unable to replicate your use case: https://github.com/pytorch/pytorch/issues/new/choose.\n",
            "  warnings.warn(EPOCH_DEPRECATION_WARNING, UserWarning)\n",
            "/usr/local/lib/python3.6/dist-packages/torch/optim/lr_scheduler.py:351: UserWarning: To get the last learning rate computed by the scheduler, please use `get_last_lr()`.\n",
            "  \"please use `get_last_lr()`.\", UserWarning)\n"
          ],
          "name": "stderr"
        },
        {
          "output_type": "stream",
          "text": [
            "2 tensor([-0.4711], requires_grad=True)\n",
            "2 tensor([0.2192], requires_grad=True)\n"
          ],
          "name": "stdout"
        },
        {
          "output_type": "error",
          "ename": "KeyboardInterrupt",
          "evalue": "ignored",
          "traceback": [
            "\u001b[0;31m---------------------------------------------------------------------------\u001b[0m",
            "\u001b[0;31mKeyboardInterrupt\u001b[0m                         Traceback (most recent call last)",
            "\u001b[0;32m<ipython-input-221-4195913b356b>\u001b[0m in \u001b[0;36m<module>\u001b[0;34m()\u001b[0m\n\u001b[1;32m    127\u001b[0m \u001b[0;34m\u001b[0m\u001b[0m\n\u001b[1;32m    128\u001b[0m \u001b[0msince\u001b[0m \u001b[0;34m=\u001b[0m \u001b[0mtime\u001b[0m\u001b[0;34m.\u001b[0m\u001b[0mtime\u001b[0m\u001b[0;34m(\u001b[0m\u001b[0;34m)\u001b[0m                                                  \u001b[0;31m#for counting the time it takes\u001b[0m\u001b[0;34m\u001b[0m\u001b[0;34m\u001b[0m\u001b[0m\n\u001b[0;32m--> 129\u001b[0;31m \u001b[0mrun\u001b[0m\u001b[0;34m(\u001b[0m\u001b[0mP\u001b[0m\u001b[0;34m,\u001b[0m \u001b[0mg1\u001b[0m\u001b[0;34m,\u001b[0m\u001b[0mg2\u001b[0m\u001b[0;34m,\u001b[0m\u001b[0mg3\u001b[0m\u001b[0;34m,\u001b[0m\u001b[0mg4\u001b[0m\u001b[0;34m,\u001b[0m \u001b[0mloss\u001b[0m\u001b[0;34m,\u001b[0m \u001b[0mbest\u001b[0m\u001b[0;34m,\u001b[0m \u001b[0msince\u001b[0m\u001b[0;34m,\u001b[0m \u001b[0miters\u001b[0m\u001b[0;34m)\u001b[0m\u001b[0;34m\u001b[0m\u001b[0;34m\u001b[0m\u001b[0m\n\u001b[0m\u001b[1;32m    130\u001b[0m \u001b[0mprint\u001b[0m\u001b[0;34m(\u001b[0m\u001b[0mbest\u001b[0m\u001b[0;34m,\u001b[0m \u001b[0my\u001b[0m\u001b[0;34m)\u001b[0m\u001b[0;34m\u001b[0m\u001b[0;34m\u001b[0m\u001b[0m\n",
            "\u001b[0;32m<ipython-input-221-4195913b356b>\u001b[0m in \u001b[0;36mrun\u001b[0;34m(P, g1, g2, g3, g4, loss, best, since, iters)\u001b[0m\n\u001b[1;32m    123\u001b[0m \u001b[0;34m\u001b[0m\u001b[0m\n\u001b[1;32m    124\u001b[0m     \u001b[0miters\u001b[0m\u001b[0;34m+=\u001b[0m\u001b[0;36m1\u001b[0m                                                         \u001b[0;31m#count each iteration (epoch)\u001b[0m\u001b[0;34m\u001b[0m\u001b[0;34m\u001b[0m\u001b[0m\n\u001b[0;32m--> 125\u001b[0;31m     \u001b[0mrun\u001b[0m\u001b[0;34m(\u001b[0m\u001b[0mP\u001b[0m\u001b[0;34m,\u001b[0m \u001b[0mg1\u001b[0m\u001b[0;34m,\u001b[0m\u001b[0mg2\u001b[0m\u001b[0;34m,\u001b[0m\u001b[0mg3\u001b[0m\u001b[0;34m,\u001b[0m\u001b[0mg4\u001b[0m\u001b[0;34m,\u001b[0m \u001b[0mloss\u001b[0m\u001b[0;34m,\u001b[0m \u001b[0mbest\u001b[0m\u001b[0;34m,\u001b[0m \u001b[0msince\u001b[0m\u001b[0;34m,\u001b[0m \u001b[0miters\u001b[0m\u001b[0;34m)\u001b[0m                    \u001b[0;31m#run all cfa steps again (until solved or max recursion limit reached)\u001b[0m\u001b[0;34m\u001b[0m\u001b[0;34m\u001b[0m\u001b[0m\n\u001b[0m\u001b[1;32m    126\u001b[0m \u001b[0;34m\u001b[0m\u001b[0m\n\u001b[1;32m    127\u001b[0m \u001b[0;34m\u001b[0m\u001b[0m\n",
            "\u001b[0;32m<ipython-input-221-4195913b356b>\u001b[0m in \u001b[0;36mrun\u001b[0;34m(P, g1, g2, g3, g4, loss, best, since, iters)\u001b[0m\n\u001b[1;32m    123\u001b[0m \u001b[0;34m\u001b[0m\u001b[0m\n\u001b[1;32m    124\u001b[0m     \u001b[0miters\u001b[0m\u001b[0;34m+=\u001b[0m\u001b[0;36m1\u001b[0m                                                         \u001b[0;31m#count each iteration (epoch)\u001b[0m\u001b[0;34m\u001b[0m\u001b[0;34m\u001b[0m\u001b[0m\n\u001b[0;32m--> 125\u001b[0;31m     \u001b[0mrun\u001b[0m\u001b[0;34m(\u001b[0m\u001b[0mP\u001b[0m\u001b[0;34m,\u001b[0m \u001b[0mg1\u001b[0m\u001b[0;34m,\u001b[0m\u001b[0mg2\u001b[0m\u001b[0;34m,\u001b[0m\u001b[0mg3\u001b[0m\u001b[0;34m,\u001b[0m\u001b[0mg4\u001b[0m\u001b[0;34m,\u001b[0m \u001b[0mloss\u001b[0m\u001b[0;34m,\u001b[0m \u001b[0mbest\u001b[0m\u001b[0;34m,\u001b[0m \u001b[0msince\u001b[0m\u001b[0;34m,\u001b[0m \u001b[0miters\u001b[0m\u001b[0;34m)\u001b[0m                    \u001b[0;31m#run all cfa steps again (until solved or max recursion limit reached)\u001b[0m\u001b[0;34m\u001b[0m\u001b[0;34m\u001b[0m\u001b[0m\n\u001b[0m\u001b[1;32m    126\u001b[0m \u001b[0;34m\u001b[0m\u001b[0m\n\u001b[1;32m    127\u001b[0m \u001b[0;34m\u001b[0m\u001b[0m\n",
            "\u001b[0;32m<ipython-input-221-4195913b356b>\u001b[0m in \u001b[0;36mrun\u001b[0;34m(P, g1, g2, g3, g4, loss, best, since, iters)\u001b[0m\n\u001b[1;32m    123\u001b[0m \u001b[0;34m\u001b[0m\u001b[0m\n\u001b[1;32m    124\u001b[0m     \u001b[0miters\u001b[0m\u001b[0;34m+=\u001b[0m\u001b[0;36m1\u001b[0m                                                         \u001b[0;31m#count each iteration (epoch)\u001b[0m\u001b[0;34m\u001b[0m\u001b[0;34m\u001b[0m\u001b[0m\n\u001b[0;32m--> 125\u001b[0;31m     \u001b[0mrun\u001b[0m\u001b[0;34m(\u001b[0m\u001b[0mP\u001b[0m\u001b[0;34m,\u001b[0m \u001b[0mg1\u001b[0m\u001b[0;34m,\u001b[0m\u001b[0mg2\u001b[0m\u001b[0;34m,\u001b[0m\u001b[0mg3\u001b[0m\u001b[0;34m,\u001b[0m\u001b[0mg4\u001b[0m\u001b[0;34m,\u001b[0m \u001b[0mloss\u001b[0m\u001b[0;34m,\u001b[0m \u001b[0mbest\u001b[0m\u001b[0;34m,\u001b[0m \u001b[0msince\u001b[0m\u001b[0;34m,\u001b[0m \u001b[0miters\u001b[0m\u001b[0;34m)\u001b[0m                    \u001b[0;31m#run all cfa steps again (until solved or max recursion limit reached)\u001b[0m\u001b[0;34m\u001b[0m\u001b[0;34m\u001b[0m\u001b[0m\n\u001b[0m\u001b[1;32m    126\u001b[0m \u001b[0;34m\u001b[0m\u001b[0m\n\u001b[1;32m    127\u001b[0m \u001b[0;34m\u001b[0m\u001b[0m\n",
            "\u001b[0;32m<ipython-input-221-4195913b356b>\u001b[0m in \u001b[0;36mrun\u001b[0;34m(P, g1, g2, g3, g4, loss, best, since, iters)\u001b[0m\n\u001b[1;32m    123\u001b[0m \u001b[0;34m\u001b[0m\u001b[0m\n\u001b[1;32m    124\u001b[0m     \u001b[0miters\u001b[0m\u001b[0;34m+=\u001b[0m\u001b[0;36m1\u001b[0m                                                         \u001b[0;31m#count each iteration (epoch)\u001b[0m\u001b[0;34m\u001b[0m\u001b[0;34m\u001b[0m\u001b[0m\n\u001b[0;32m--> 125\u001b[0;31m     \u001b[0mrun\u001b[0m\u001b[0;34m(\u001b[0m\u001b[0mP\u001b[0m\u001b[0;34m,\u001b[0m \u001b[0mg1\u001b[0m\u001b[0;34m,\u001b[0m\u001b[0mg2\u001b[0m\u001b[0;34m,\u001b[0m\u001b[0mg3\u001b[0m\u001b[0;34m,\u001b[0m\u001b[0mg4\u001b[0m\u001b[0;34m,\u001b[0m \u001b[0mloss\u001b[0m\u001b[0;34m,\u001b[0m \u001b[0mbest\u001b[0m\u001b[0;34m,\u001b[0m \u001b[0msince\u001b[0m\u001b[0;34m,\u001b[0m \u001b[0miters\u001b[0m\u001b[0;34m)\u001b[0m                    \u001b[0;31m#run all cfa steps again (until solved or max recursion limit reached)\u001b[0m\u001b[0;34m\u001b[0m\u001b[0;34m\u001b[0m\u001b[0m\n\u001b[0m\u001b[1;32m    126\u001b[0m \u001b[0;34m\u001b[0m\u001b[0m\n\u001b[1;32m    127\u001b[0m \u001b[0;34m\u001b[0m\u001b[0m\n",
            "\u001b[0;32m<ipython-input-221-4195913b356b>\u001b[0m in \u001b[0;36mrun\u001b[0;34m(P, g1, g2, g3, g4, loss, best, since, iters)\u001b[0m\n\u001b[1;32m    123\u001b[0m \u001b[0;34m\u001b[0m\u001b[0m\n\u001b[1;32m    124\u001b[0m     \u001b[0miters\u001b[0m\u001b[0;34m+=\u001b[0m\u001b[0;36m1\u001b[0m                                                         \u001b[0;31m#count each iteration (epoch)\u001b[0m\u001b[0;34m\u001b[0m\u001b[0;34m\u001b[0m\u001b[0m\n\u001b[0;32m--> 125\u001b[0;31m     \u001b[0mrun\u001b[0m\u001b[0;34m(\u001b[0m\u001b[0mP\u001b[0m\u001b[0;34m,\u001b[0m \u001b[0mg1\u001b[0m\u001b[0;34m,\u001b[0m\u001b[0mg2\u001b[0m\u001b[0;34m,\u001b[0m\u001b[0mg3\u001b[0m\u001b[0;34m,\u001b[0m\u001b[0mg4\u001b[0m\u001b[0;34m,\u001b[0m \u001b[0mloss\u001b[0m\u001b[0;34m,\u001b[0m \u001b[0mbest\u001b[0m\u001b[0;34m,\u001b[0m \u001b[0msince\u001b[0m\u001b[0;34m,\u001b[0m \u001b[0miters\u001b[0m\u001b[0;34m)\u001b[0m                    \u001b[0;31m#run all cfa steps again (until solved or max recursion limit reached)\u001b[0m\u001b[0;34m\u001b[0m\u001b[0;34m\u001b[0m\u001b[0m\n\u001b[0m\u001b[1;32m    126\u001b[0m \u001b[0;34m\u001b[0m\u001b[0m\n\u001b[1;32m    127\u001b[0m \u001b[0;34m\u001b[0m\u001b[0m\n",
            "\u001b[0;32m<ipython-input-221-4195913b356b>\u001b[0m in \u001b[0;36mrun\u001b[0;34m(P, g1, g2, g3, g4, loss, best, since, iters)\u001b[0m\n\u001b[1;32m    123\u001b[0m \u001b[0;34m\u001b[0m\u001b[0m\n\u001b[1;32m    124\u001b[0m     \u001b[0miters\u001b[0m\u001b[0;34m+=\u001b[0m\u001b[0;36m1\u001b[0m                                                         \u001b[0;31m#count each iteration (epoch)\u001b[0m\u001b[0;34m\u001b[0m\u001b[0;34m\u001b[0m\u001b[0m\n\u001b[0;32m--> 125\u001b[0;31m     \u001b[0mrun\u001b[0m\u001b[0;34m(\u001b[0m\u001b[0mP\u001b[0m\u001b[0;34m,\u001b[0m \u001b[0mg1\u001b[0m\u001b[0;34m,\u001b[0m\u001b[0mg2\u001b[0m\u001b[0;34m,\u001b[0m\u001b[0mg3\u001b[0m\u001b[0;34m,\u001b[0m\u001b[0mg4\u001b[0m\u001b[0;34m,\u001b[0m \u001b[0mloss\u001b[0m\u001b[0;34m,\u001b[0m \u001b[0mbest\u001b[0m\u001b[0;34m,\u001b[0m \u001b[0msince\u001b[0m\u001b[0;34m,\u001b[0m \u001b[0miters\u001b[0m\u001b[0;34m)\u001b[0m                    \u001b[0;31m#run all cfa steps again (until solved or max recursion limit reached)\u001b[0m\u001b[0;34m\u001b[0m\u001b[0;34m\u001b[0m\u001b[0m\n\u001b[0m\u001b[1;32m    126\u001b[0m \u001b[0;34m\u001b[0m\u001b[0m\n\u001b[1;32m    127\u001b[0m \u001b[0;34m\u001b[0m\u001b[0m\n",
            "\u001b[0;32m<ipython-input-221-4195913b356b>\u001b[0m in \u001b[0;36mrun\u001b[0;34m(P, g1, g2, g3, g4, loss, best, since, iters)\u001b[0m\n\u001b[1;32m    123\u001b[0m \u001b[0;34m\u001b[0m\u001b[0m\n\u001b[1;32m    124\u001b[0m     \u001b[0miters\u001b[0m\u001b[0;34m+=\u001b[0m\u001b[0;36m1\u001b[0m                                                         \u001b[0;31m#count each iteration (epoch)\u001b[0m\u001b[0;34m\u001b[0m\u001b[0;34m\u001b[0m\u001b[0m\n\u001b[0;32m--> 125\u001b[0;31m     \u001b[0mrun\u001b[0m\u001b[0;34m(\u001b[0m\u001b[0mP\u001b[0m\u001b[0;34m,\u001b[0m \u001b[0mg1\u001b[0m\u001b[0;34m,\u001b[0m\u001b[0mg2\u001b[0m\u001b[0;34m,\u001b[0m\u001b[0mg3\u001b[0m\u001b[0;34m,\u001b[0m\u001b[0mg4\u001b[0m\u001b[0;34m,\u001b[0m \u001b[0mloss\u001b[0m\u001b[0;34m,\u001b[0m \u001b[0mbest\u001b[0m\u001b[0;34m,\u001b[0m \u001b[0msince\u001b[0m\u001b[0;34m,\u001b[0m \u001b[0miters\u001b[0m\u001b[0;34m)\u001b[0m                    \u001b[0;31m#run all cfa steps again (until solved or max recursion limit reached)\u001b[0m\u001b[0;34m\u001b[0m\u001b[0;34m\u001b[0m\u001b[0m\n\u001b[0m\u001b[1;32m    126\u001b[0m \u001b[0;34m\u001b[0m\u001b[0m\n\u001b[1;32m    127\u001b[0m \u001b[0;34m\u001b[0m\u001b[0m\n",
            "\u001b[0;32m<ipython-input-221-4195913b356b>\u001b[0m in \u001b[0;36mrun\u001b[0;34m(P, g1, g2, g3, g4, loss, best, since, iters)\u001b[0m\n\u001b[1;32m    123\u001b[0m \u001b[0;34m\u001b[0m\u001b[0m\n\u001b[1;32m    124\u001b[0m     \u001b[0miters\u001b[0m\u001b[0;34m+=\u001b[0m\u001b[0;36m1\u001b[0m                                                         \u001b[0;31m#count each iteration (epoch)\u001b[0m\u001b[0;34m\u001b[0m\u001b[0;34m\u001b[0m\u001b[0m\n\u001b[0;32m--> 125\u001b[0;31m     \u001b[0mrun\u001b[0m\u001b[0;34m(\u001b[0m\u001b[0mP\u001b[0m\u001b[0;34m,\u001b[0m \u001b[0mg1\u001b[0m\u001b[0;34m,\u001b[0m\u001b[0mg2\u001b[0m\u001b[0;34m,\u001b[0m\u001b[0mg3\u001b[0m\u001b[0;34m,\u001b[0m\u001b[0mg4\u001b[0m\u001b[0;34m,\u001b[0m \u001b[0mloss\u001b[0m\u001b[0;34m,\u001b[0m \u001b[0mbest\u001b[0m\u001b[0;34m,\u001b[0m \u001b[0msince\u001b[0m\u001b[0;34m,\u001b[0m \u001b[0miters\u001b[0m\u001b[0;34m)\u001b[0m                    \u001b[0;31m#run all cfa steps again (until solved or max recursion limit reached)\u001b[0m\u001b[0;34m\u001b[0m\u001b[0;34m\u001b[0m\u001b[0m\n\u001b[0m\u001b[1;32m    126\u001b[0m \u001b[0;34m\u001b[0m\u001b[0m\n\u001b[1;32m    127\u001b[0m \u001b[0;34m\u001b[0m\u001b[0m\n",
            "\u001b[0;32m<ipython-input-221-4195913b356b>\u001b[0m in \u001b[0;36mrun\u001b[0;34m(P, g1, g2, g3, g4, loss, best, since, iters)\u001b[0m\n\u001b[1;32m    123\u001b[0m \u001b[0;34m\u001b[0m\u001b[0m\n\u001b[1;32m    124\u001b[0m     \u001b[0miters\u001b[0m\u001b[0;34m+=\u001b[0m\u001b[0;36m1\u001b[0m                                                         \u001b[0;31m#count each iteration (epoch)\u001b[0m\u001b[0;34m\u001b[0m\u001b[0;34m\u001b[0m\u001b[0m\n\u001b[0;32m--> 125\u001b[0;31m     \u001b[0mrun\u001b[0m\u001b[0;34m(\u001b[0m\u001b[0mP\u001b[0m\u001b[0;34m,\u001b[0m \u001b[0mg1\u001b[0m\u001b[0;34m,\u001b[0m\u001b[0mg2\u001b[0m\u001b[0;34m,\u001b[0m\u001b[0mg3\u001b[0m\u001b[0;34m,\u001b[0m\u001b[0mg4\u001b[0m\u001b[0;34m,\u001b[0m \u001b[0mloss\u001b[0m\u001b[0;34m,\u001b[0m \u001b[0mbest\u001b[0m\u001b[0;34m,\u001b[0m \u001b[0msince\u001b[0m\u001b[0;34m,\u001b[0m \u001b[0miters\u001b[0m\u001b[0;34m)\u001b[0m                    \u001b[0;31m#run all cfa steps again (until solved or max recursion limit reached)\u001b[0m\u001b[0;34m\u001b[0m\u001b[0;34m\u001b[0m\u001b[0m\n\u001b[0m\u001b[1;32m    126\u001b[0m \u001b[0;34m\u001b[0m\u001b[0m\n\u001b[1;32m    127\u001b[0m \u001b[0;34m\u001b[0m\u001b[0m\n",
            "\u001b[0;32m<ipython-input-221-4195913b356b>\u001b[0m in \u001b[0;36mrun\u001b[0;34m(P, g1, g2, g3, g4, loss, best, since, iters)\u001b[0m\n\u001b[1;32m    123\u001b[0m \u001b[0;34m\u001b[0m\u001b[0m\n\u001b[1;32m    124\u001b[0m     \u001b[0miters\u001b[0m\u001b[0;34m+=\u001b[0m\u001b[0;36m1\u001b[0m                                                         \u001b[0;31m#count each iteration (epoch)\u001b[0m\u001b[0;34m\u001b[0m\u001b[0;34m\u001b[0m\u001b[0m\n\u001b[0;32m--> 125\u001b[0;31m     \u001b[0mrun\u001b[0m\u001b[0;34m(\u001b[0m\u001b[0mP\u001b[0m\u001b[0;34m,\u001b[0m \u001b[0mg1\u001b[0m\u001b[0;34m,\u001b[0m\u001b[0mg2\u001b[0m\u001b[0;34m,\u001b[0m\u001b[0mg3\u001b[0m\u001b[0;34m,\u001b[0m\u001b[0mg4\u001b[0m\u001b[0;34m,\u001b[0m \u001b[0mloss\u001b[0m\u001b[0;34m,\u001b[0m \u001b[0mbest\u001b[0m\u001b[0;34m,\u001b[0m \u001b[0msince\u001b[0m\u001b[0;34m,\u001b[0m \u001b[0miters\u001b[0m\u001b[0;34m)\u001b[0m                    \u001b[0;31m#run all cfa steps again (until solved or max recursion limit reached)\u001b[0m\u001b[0;34m\u001b[0m\u001b[0;34m\u001b[0m\u001b[0m\n\u001b[0m\u001b[1;32m    126\u001b[0m \u001b[0;34m\u001b[0m\u001b[0m\n\u001b[1;32m    127\u001b[0m \u001b[0;34m\u001b[0m\u001b[0m\n",
            "\u001b[0;32m<ipython-input-221-4195913b356b>\u001b[0m in \u001b[0;36mrun\u001b[0;34m(P, g1, g2, g3, g4, loss, best, since, iters)\u001b[0m\n\u001b[1;32m    123\u001b[0m \u001b[0;34m\u001b[0m\u001b[0m\n\u001b[1;32m    124\u001b[0m     \u001b[0miters\u001b[0m\u001b[0;34m+=\u001b[0m\u001b[0;36m1\u001b[0m                                                         \u001b[0;31m#count each iteration (epoch)\u001b[0m\u001b[0;34m\u001b[0m\u001b[0;34m\u001b[0m\u001b[0m\n\u001b[0;32m--> 125\u001b[0;31m     \u001b[0mrun\u001b[0m\u001b[0;34m(\u001b[0m\u001b[0mP\u001b[0m\u001b[0;34m,\u001b[0m \u001b[0mg1\u001b[0m\u001b[0;34m,\u001b[0m\u001b[0mg2\u001b[0m\u001b[0;34m,\u001b[0m\u001b[0mg3\u001b[0m\u001b[0;34m,\u001b[0m\u001b[0mg4\u001b[0m\u001b[0;34m,\u001b[0m \u001b[0mloss\u001b[0m\u001b[0;34m,\u001b[0m \u001b[0mbest\u001b[0m\u001b[0;34m,\u001b[0m \u001b[0msince\u001b[0m\u001b[0;34m,\u001b[0m \u001b[0miters\u001b[0m\u001b[0;34m)\u001b[0m                    \u001b[0;31m#run all cfa steps again (until solved or max recursion limit reached)\u001b[0m\u001b[0;34m\u001b[0m\u001b[0;34m\u001b[0m\u001b[0m\n\u001b[0m\u001b[1;32m    126\u001b[0m \u001b[0;34m\u001b[0m\u001b[0m\n\u001b[1;32m    127\u001b[0m \u001b[0;34m\u001b[0m\u001b[0m\n",
            "\u001b[0;32m<ipython-input-221-4195913b356b>\u001b[0m in \u001b[0;36mrun\u001b[0;34m(P, g1, g2, g3, g4, loss, best, since, iters)\u001b[0m\n\u001b[1;32m    123\u001b[0m \u001b[0;34m\u001b[0m\u001b[0m\n\u001b[1;32m    124\u001b[0m     \u001b[0miters\u001b[0m\u001b[0;34m+=\u001b[0m\u001b[0;36m1\u001b[0m                                                         \u001b[0;31m#count each iteration (epoch)\u001b[0m\u001b[0;34m\u001b[0m\u001b[0;34m\u001b[0m\u001b[0m\n\u001b[0;32m--> 125\u001b[0;31m     \u001b[0mrun\u001b[0m\u001b[0;34m(\u001b[0m\u001b[0mP\u001b[0m\u001b[0;34m,\u001b[0m \u001b[0mg1\u001b[0m\u001b[0;34m,\u001b[0m\u001b[0mg2\u001b[0m\u001b[0;34m,\u001b[0m\u001b[0mg3\u001b[0m\u001b[0;34m,\u001b[0m\u001b[0mg4\u001b[0m\u001b[0;34m,\u001b[0m \u001b[0mloss\u001b[0m\u001b[0;34m,\u001b[0m \u001b[0mbest\u001b[0m\u001b[0;34m,\u001b[0m \u001b[0msince\u001b[0m\u001b[0;34m,\u001b[0m \u001b[0miters\u001b[0m\u001b[0;34m)\u001b[0m                    \u001b[0;31m#run all cfa steps again (until solved or max recursion limit reached)\u001b[0m\u001b[0;34m\u001b[0m\u001b[0;34m\u001b[0m\u001b[0m\n\u001b[0m\u001b[1;32m    126\u001b[0m \u001b[0;34m\u001b[0m\u001b[0m\n\u001b[1;32m    127\u001b[0m \u001b[0;34m\u001b[0m\u001b[0m\n",
            "\u001b[0;32m<ipython-input-221-4195913b356b>\u001b[0m in \u001b[0;36mrun\u001b[0;34m(P, g1, g2, g3, g4, loss, best, since, iters)\u001b[0m\n\u001b[1;32m    123\u001b[0m \u001b[0;34m\u001b[0m\u001b[0m\n\u001b[1;32m    124\u001b[0m     \u001b[0miters\u001b[0m\u001b[0;34m+=\u001b[0m\u001b[0;36m1\u001b[0m                                                         \u001b[0;31m#count each iteration (epoch)\u001b[0m\u001b[0;34m\u001b[0m\u001b[0;34m\u001b[0m\u001b[0m\n\u001b[0;32m--> 125\u001b[0;31m     \u001b[0mrun\u001b[0m\u001b[0;34m(\u001b[0m\u001b[0mP\u001b[0m\u001b[0;34m,\u001b[0m \u001b[0mg1\u001b[0m\u001b[0;34m,\u001b[0m\u001b[0mg2\u001b[0m\u001b[0;34m,\u001b[0m\u001b[0mg3\u001b[0m\u001b[0;34m,\u001b[0m\u001b[0mg4\u001b[0m\u001b[0;34m,\u001b[0m \u001b[0mloss\u001b[0m\u001b[0;34m,\u001b[0m \u001b[0mbest\u001b[0m\u001b[0;34m,\u001b[0m \u001b[0msince\u001b[0m\u001b[0;34m,\u001b[0m \u001b[0miters\u001b[0m\u001b[0;34m)\u001b[0m                    \u001b[0;31m#run all cfa steps again (until solved or max recursion limit reached)\u001b[0m\u001b[0;34m\u001b[0m\u001b[0;34m\u001b[0m\u001b[0m\n\u001b[0m\u001b[1;32m    126\u001b[0m \u001b[0;34m\u001b[0m\u001b[0m\n\u001b[1;32m    127\u001b[0m \u001b[0;34m\u001b[0m\u001b[0m\n",
            "\u001b[0;32m<ipython-input-221-4195913b356b>\u001b[0m in \u001b[0;36mrun\u001b[0;34m(P, g1, g2, g3, g4, loss, best, since, iters)\u001b[0m\n\u001b[1;32m    123\u001b[0m \u001b[0;34m\u001b[0m\u001b[0m\n\u001b[1;32m    124\u001b[0m     \u001b[0miters\u001b[0m\u001b[0;34m+=\u001b[0m\u001b[0;36m1\u001b[0m                                                         \u001b[0;31m#count each iteration (epoch)\u001b[0m\u001b[0;34m\u001b[0m\u001b[0;34m\u001b[0m\u001b[0m\n\u001b[0;32m--> 125\u001b[0;31m     \u001b[0mrun\u001b[0m\u001b[0;34m(\u001b[0m\u001b[0mP\u001b[0m\u001b[0;34m,\u001b[0m \u001b[0mg1\u001b[0m\u001b[0;34m,\u001b[0m\u001b[0mg2\u001b[0m\u001b[0;34m,\u001b[0m\u001b[0mg3\u001b[0m\u001b[0;34m,\u001b[0m\u001b[0mg4\u001b[0m\u001b[0;34m,\u001b[0m \u001b[0mloss\u001b[0m\u001b[0;34m,\u001b[0m \u001b[0mbest\u001b[0m\u001b[0;34m,\u001b[0m \u001b[0msince\u001b[0m\u001b[0;34m,\u001b[0m \u001b[0miters\u001b[0m\u001b[0;34m)\u001b[0m                    \u001b[0;31m#run all cfa steps again (until solved or max recursion limit reached)\u001b[0m\u001b[0;34m\u001b[0m\u001b[0;34m\u001b[0m\u001b[0m\n\u001b[0m\u001b[1;32m    126\u001b[0m \u001b[0;34m\u001b[0m\u001b[0m\n\u001b[1;32m    127\u001b[0m \u001b[0;34m\u001b[0m\u001b[0m\n",
            "\u001b[0;32m<ipython-input-221-4195913b356b>\u001b[0m in \u001b[0;36mrun\u001b[0;34m(P, g1, g2, g3, g4, loss, best, since, iters)\u001b[0m\n\u001b[1;32m    123\u001b[0m \u001b[0;34m\u001b[0m\u001b[0m\n\u001b[1;32m    124\u001b[0m     \u001b[0miters\u001b[0m\u001b[0;34m+=\u001b[0m\u001b[0;36m1\u001b[0m                                                         \u001b[0;31m#count each iteration (epoch)\u001b[0m\u001b[0;34m\u001b[0m\u001b[0;34m\u001b[0m\u001b[0m\n\u001b[0;32m--> 125\u001b[0;31m     \u001b[0mrun\u001b[0m\u001b[0;34m(\u001b[0m\u001b[0mP\u001b[0m\u001b[0;34m,\u001b[0m \u001b[0mg1\u001b[0m\u001b[0;34m,\u001b[0m\u001b[0mg2\u001b[0m\u001b[0;34m,\u001b[0m\u001b[0mg3\u001b[0m\u001b[0;34m,\u001b[0m\u001b[0mg4\u001b[0m\u001b[0;34m,\u001b[0m \u001b[0mloss\u001b[0m\u001b[0;34m,\u001b[0m \u001b[0mbest\u001b[0m\u001b[0;34m,\u001b[0m \u001b[0msince\u001b[0m\u001b[0;34m,\u001b[0m \u001b[0miters\u001b[0m\u001b[0;34m)\u001b[0m                    \u001b[0;31m#run all cfa steps again (until solved or max recursion limit reached)\u001b[0m\u001b[0;34m\u001b[0m\u001b[0;34m\u001b[0m\u001b[0m\n\u001b[0m\u001b[1;32m    126\u001b[0m \u001b[0;34m\u001b[0m\u001b[0m\n\u001b[1;32m    127\u001b[0m \u001b[0;34m\u001b[0m\u001b[0m\n",
            "\u001b[0;32m<ipython-input-221-4195913b356b>\u001b[0m in \u001b[0;36mrun\u001b[0;34m(P, g1, g2, g3, g4, loss, best, since, iters)\u001b[0m\n\u001b[1;32m    123\u001b[0m \u001b[0;34m\u001b[0m\u001b[0m\n\u001b[1;32m    124\u001b[0m     \u001b[0miters\u001b[0m\u001b[0;34m+=\u001b[0m\u001b[0;36m1\u001b[0m                                                         \u001b[0;31m#count each iteration (epoch)\u001b[0m\u001b[0;34m\u001b[0m\u001b[0;34m\u001b[0m\u001b[0m\n\u001b[0;32m--> 125\u001b[0;31m     \u001b[0mrun\u001b[0m\u001b[0;34m(\u001b[0m\u001b[0mP\u001b[0m\u001b[0;34m,\u001b[0m \u001b[0mg1\u001b[0m\u001b[0;34m,\u001b[0m\u001b[0mg2\u001b[0m\u001b[0;34m,\u001b[0m\u001b[0mg3\u001b[0m\u001b[0;34m,\u001b[0m\u001b[0mg4\u001b[0m\u001b[0;34m,\u001b[0m \u001b[0mloss\u001b[0m\u001b[0;34m,\u001b[0m \u001b[0mbest\u001b[0m\u001b[0;34m,\u001b[0m \u001b[0msince\u001b[0m\u001b[0;34m,\u001b[0m \u001b[0miters\u001b[0m\u001b[0;34m)\u001b[0m                    \u001b[0;31m#run all cfa steps again (until solved or max recursion limit reached)\u001b[0m\u001b[0;34m\u001b[0m\u001b[0;34m\u001b[0m\u001b[0m\n\u001b[0m\u001b[1;32m    126\u001b[0m \u001b[0;34m\u001b[0m\u001b[0m\n\u001b[1;32m    127\u001b[0m \u001b[0;34m\u001b[0m\u001b[0m\n",
            "\u001b[0;32m<ipython-input-221-4195913b356b>\u001b[0m in \u001b[0;36mrun\u001b[0;34m(P, g1, g2, g3, g4, loss, best, since, iters)\u001b[0m\n\u001b[1;32m    123\u001b[0m \u001b[0;34m\u001b[0m\u001b[0m\n\u001b[1;32m    124\u001b[0m     \u001b[0miters\u001b[0m\u001b[0;34m+=\u001b[0m\u001b[0;36m1\u001b[0m                                                         \u001b[0;31m#count each iteration (epoch)\u001b[0m\u001b[0;34m\u001b[0m\u001b[0;34m\u001b[0m\u001b[0m\n\u001b[0;32m--> 125\u001b[0;31m     \u001b[0mrun\u001b[0m\u001b[0;34m(\u001b[0m\u001b[0mP\u001b[0m\u001b[0;34m,\u001b[0m \u001b[0mg1\u001b[0m\u001b[0;34m,\u001b[0m\u001b[0mg2\u001b[0m\u001b[0;34m,\u001b[0m\u001b[0mg3\u001b[0m\u001b[0;34m,\u001b[0m\u001b[0mg4\u001b[0m\u001b[0;34m,\u001b[0m \u001b[0mloss\u001b[0m\u001b[0;34m,\u001b[0m \u001b[0mbest\u001b[0m\u001b[0;34m,\u001b[0m \u001b[0msince\u001b[0m\u001b[0;34m,\u001b[0m \u001b[0miters\u001b[0m\u001b[0;34m)\u001b[0m                    \u001b[0;31m#run all cfa steps again (until solved or max recursion limit reached)\u001b[0m\u001b[0;34m\u001b[0m\u001b[0;34m\u001b[0m\u001b[0m\n\u001b[0m\u001b[1;32m    126\u001b[0m \u001b[0;34m\u001b[0m\u001b[0m\n\u001b[1;32m    127\u001b[0m \u001b[0;34m\u001b[0m\u001b[0m\n",
            "\u001b[0;32m<ipython-input-221-4195913b356b>\u001b[0m in \u001b[0;36mrun\u001b[0;34m(P, g1, g2, g3, g4, loss, best, since, iters)\u001b[0m\n\u001b[1;32m    123\u001b[0m \u001b[0;34m\u001b[0m\u001b[0m\n\u001b[1;32m    124\u001b[0m     \u001b[0miters\u001b[0m\u001b[0;34m+=\u001b[0m\u001b[0;36m1\u001b[0m                                                         \u001b[0;31m#count each iteration (epoch)\u001b[0m\u001b[0;34m\u001b[0m\u001b[0;34m\u001b[0m\u001b[0m\n\u001b[0;32m--> 125\u001b[0;31m     \u001b[0mrun\u001b[0m\u001b[0;34m(\u001b[0m\u001b[0mP\u001b[0m\u001b[0;34m,\u001b[0m \u001b[0mg1\u001b[0m\u001b[0;34m,\u001b[0m\u001b[0mg2\u001b[0m\u001b[0;34m,\u001b[0m\u001b[0mg3\u001b[0m\u001b[0;34m,\u001b[0m\u001b[0mg4\u001b[0m\u001b[0;34m,\u001b[0m \u001b[0mloss\u001b[0m\u001b[0;34m,\u001b[0m \u001b[0mbest\u001b[0m\u001b[0;34m,\u001b[0m \u001b[0msince\u001b[0m\u001b[0;34m,\u001b[0m \u001b[0miters\u001b[0m\u001b[0;34m)\u001b[0m                    \u001b[0;31m#run all cfa steps again (until solved or max recursion limit reached)\u001b[0m\u001b[0;34m\u001b[0m\u001b[0;34m\u001b[0m\u001b[0m\n\u001b[0m\u001b[1;32m    126\u001b[0m \u001b[0;34m\u001b[0m\u001b[0m\n\u001b[1;32m    127\u001b[0m \u001b[0;34m\u001b[0m\u001b[0m\n",
            "\u001b[0;32m<ipython-input-221-4195913b356b>\u001b[0m in \u001b[0;36mrun\u001b[0;34m(P, g1, g2, g3, g4, loss, best, since, iters)\u001b[0m\n\u001b[1;32m    123\u001b[0m \u001b[0;34m\u001b[0m\u001b[0m\n\u001b[1;32m    124\u001b[0m     \u001b[0miters\u001b[0m\u001b[0;34m+=\u001b[0m\u001b[0;36m1\u001b[0m                                                         \u001b[0;31m#count each iteration (epoch)\u001b[0m\u001b[0;34m\u001b[0m\u001b[0;34m\u001b[0m\u001b[0m\n\u001b[0;32m--> 125\u001b[0;31m     \u001b[0mrun\u001b[0m\u001b[0;34m(\u001b[0m\u001b[0mP\u001b[0m\u001b[0;34m,\u001b[0m \u001b[0mg1\u001b[0m\u001b[0;34m,\u001b[0m\u001b[0mg2\u001b[0m\u001b[0;34m,\u001b[0m\u001b[0mg3\u001b[0m\u001b[0;34m,\u001b[0m\u001b[0mg4\u001b[0m\u001b[0;34m,\u001b[0m \u001b[0mloss\u001b[0m\u001b[0;34m,\u001b[0m \u001b[0mbest\u001b[0m\u001b[0;34m,\u001b[0m \u001b[0msince\u001b[0m\u001b[0;34m,\u001b[0m \u001b[0miters\u001b[0m\u001b[0;34m)\u001b[0m                    \u001b[0;31m#run all cfa steps again (until solved or max recursion limit reached)\u001b[0m\u001b[0;34m\u001b[0m\u001b[0;34m\u001b[0m\u001b[0m\n\u001b[0m\u001b[1;32m    126\u001b[0m \u001b[0;34m\u001b[0m\u001b[0m\n\u001b[1;32m    127\u001b[0m \u001b[0;34m\u001b[0m\u001b[0m\n",
            "\u001b[0;32m<ipython-input-221-4195913b356b>\u001b[0m in \u001b[0;36mrun\u001b[0;34m(P, g1, g2, g3, g4, loss, best, since, iters)\u001b[0m\n\u001b[1;32m    123\u001b[0m \u001b[0;34m\u001b[0m\u001b[0m\n\u001b[1;32m    124\u001b[0m     \u001b[0miters\u001b[0m\u001b[0;34m+=\u001b[0m\u001b[0;36m1\u001b[0m                                                         \u001b[0;31m#count each iteration (epoch)\u001b[0m\u001b[0;34m\u001b[0m\u001b[0;34m\u001b[0m\u001b[0m\n\u001b[0;32m--> 125\u001b[0;31m     \u001b[0mrun\u001b[0m\u001b[0;34m(\u001b[0m\u001b[0mP\u001b[0m\u001b[0;34m,\u001b[0m \u001b[0mg1\u001b[0m\u001b[0;34m,\u001b[0m\u001b[0mg2\u001b[0m\u001b[0;34m,\u001b[0m\u001b[0mg3\u001b[0m\u001b[0;34m,\u001b[0m\u001b[0mg4\u001b[0m\u001b[0;34m,\u001b[0m \u001b[0mloss\u001b[0m\u001b[0;34m,\u001b[0m \u001b[0mbest\u001b[0m\u001b[0;34m,\u001b[0m \u001b[0msince\u001b[0m\u001b[0;34m,\u001b[0m \u001b[0miters\u001b[0m\u001b[0;34m)\u001b[0m                    \u001b[0;31m#run all cfa steps again (until solved or max recursion limit reached)\u001b[0m\u001b[0;34m\u001b[0m\u001b[0;34m\u001b[0m\u001b[0m\n\u001b[0m\u001b[1;32m    126\u001b[0m \u001b[0;34m\u001b[0m\u001b[0m\n\u001b[1;32m    127\u001b[0m \u001b[0;34m\u001b[0m\u001b[0m\n",
            "\u001b[0;32m<ipython-input-221-4195913b356b>\u001b[0m in \u001b[0;36mrun\u001b[0;34m(P, g1, g2, g3, g4, loss, best, since, iters)\u001b[0m\n\u001b[1;32m    123\u001b[0m \u001b[0;34m\u001b[0m\u001b[0m\n\u001b[1;32m    124\u001b[0m     \u001b[0miters\u001b[0m\u001b[0;34m+=\u001b[0m\u001b[0;36m1\u001b[0m                                                         \u001b[0;31m#count each iteration (epoch)\u001b[0m\u001b[0;34m\u001b[0m\u001b[0;34m\u001b[0m\u001b[0m\n\u001b[0;32m--> 125\u001b[0;31m     \u001b[0mrun\u001b[0m\u001b[0;34m(\u001b[0m\u001b[0mP\u001b[0m\u001b[0;34m,\u001b[0m \u001b[0mg1\u001b[0m\u001b[0;34m,\u001b[0m\u001b[0mg2\u001b[0m\u001b[0;34m,\u001b[0m\u001b[0mg3\u001b[0m\u001b[0;34m,\u001b[0m\u001b[0mg4\u001b[0m\u001b[0;34m,\u001b[0m \u001b[0mloss\u001b[0m\u001b[0;34m,\u001b[0m \u001b[0mbest\u001b[0m\u001b[0;34m,\u001b[0m \u001b[0msince\u001b[0m\u001b[0;34m,\u001b[0m \u001b[0miters\u001b[0m\u001b[0;34m)\u001b[0m                    \u001b[0;31m#run all cfa steps again (until solved or max recursion limit reached)\u001b[0m\u001b[0;34m\u001b[0m\u001b[0;34m\u001b[0m\u001b[0m\n\u001b[0m\u001b[1;32m    126\u001b[0m \u001b[0;34m\u001b[0m\u001b[0m\n\u001b[1;32m    127\u001b[0m \u001b[0;34m\u001b[0m\u001b[0m\n",
            "\u001b[0;32m<ipython-input-221-4195913b356b>\u001b[0m in \u001b[0;36mrun\u001b[0;34m(P, g1, g2, g3, g4, loss, best, since, iters)\u001b[0m\n\u001b[1;32m    123\u001b[0m \u001b[0;34m\u001b[0m\u001b[0m\n\u001b[1;32m    124\u001b[0m     \u001b[0miters\u001b[0m\u001b[0;34m+=\u001b[0m\u001b[0;36m1\u001b[0m                                                         \u001b[0;31m#count each iteration (epoch)\u001b[0m\u001b[0;34m\u001b[0m\u001b[0;34m\u001b[0m\u001b[0m\n\u001b[0;32m--> 125\u001b[0;31m     \u001b[0mrun\u001b[0m\u001b[0;34m(\u001b[0m\u001b[0mP\u001b[0m\u001b[0;34m,\u001b[0m \u001b[0mg1\u001b[0m\u001b[0;34m,\u001b[0m\u001b[0mg2\u001b[0m\u001b[0;34m,\u001b[0m\u001b[0mg3\u001b[0m\u001b[0;34m,\u001b[0m\u001b[0mg4\u001b[0m\u001b[0;34m,\u001b[0m \u001b[0mloss\u001b[0m\u001b[0;34m,\u001b[0m \u001b[0mbest\u001b[0m\u001b[0;34m,\u001b[0m \u001b[0msince\u001b[0m\u001b[0;34m,\u001b[0m \u001b[0miters\u001b[0m\u001b[0;34m)\u001b[0m                    \u001b[0;31m#run all cfa steps again (until solved or max recursion limit reached)\u001b[0m\u001b[0;34m\u001b[0m\u001b[0;34m\u001b[0m\u001b[0m\n\u001b[0m\u001b[1;32m    126\u001b[0m \u001b[0;34m\u001b[0m\u001b[0m\n\u001b[1;32m    127\u001b[0m \u001b[0;34m\u001b[0m\u001b[0m\n",
            "\u001b[0;32m<ipython-input-221-4195913b356b>\u001b[0m in \u001b[0;36mrun\u001b[0;34m(P, g1, g2, g3, g4, loss, best, since, iters)\u001b[0m\n\u001b[1;32m    123\u001b[0m \u001b[0;34m\u001b[0m\u001b[0m\n\u001b[1;32m    124\u001b[0m     \u001b[0miters\u001b[0m\u001b[0;34m+=\u001b[0m\u001b[0;36m1\u001b[0m                                                         \u001b[0;31m#count each iteration (epoch)\u001b[0m\u001b[0;34m\u001b[0m\u001b[0;34m\u001b[0m\u001b[0m\n\u001b[0;32m--> 125\u001b[0;31m     \u001b[0mrun\u001b[0m\u001b[0;34m(\u001b[0m\u001b[0mP\u001b[0m\u001b[0;34m,\u001b[0m \u001b[0mg1\u001b[0m\u001b[0;34m,\u001b[0m\u001b[0mg2\u001b[0m\u001b[0;34m,\u001b[0m\u001b[0mg3\u001b[0m\u001b[0;34m,\u001b[0m\u001b[0mg4\u001b[0m\u001b[0;34m,\u001b[0m \u001b[0mloss\u001b[0m\u001b[0;34m,\u001b[0m \u001b[0mbest\u001b[0m\u001b[0;34m,\u001b[0m \u001b[0msince\u001b[0m\u001b[0;34m,\u001b[0m \u001b[0miters\u001b[0m\u001b[0;34m)\u001b[0m                    \u001b[0;31m#run all cfa steps again (until solved or max recursion limit reached)\u001b[0m\u001b[0;34m\u001b[0m\u001b[0;34m\u001b[0m\u001b[0m\n\u001b[0m\u001b[1;32m    126\u001b[0m \u001b[0;34m\u001b[0m\u001b[0m\n\u001b[1;32m    127\u001b[0m \u001b[0;34m\u001b[0m\u001b[0m\n",
            "\u001b[0;32m<ipython-input-221-4195913b356b>\u001b[0m in \u001b[0;36mrun\u001b[0;34m(P, g1, g2, g3, g4, loss, best, since, iters)\u001b[0m\n\u001b[1;32m    123\u001b[0m \u001b[0;34m\u001b[0m\u001b[0m\n\u001b[1;32m    124\u001b[0m     \u001b[0miters\u001b[0m\u001b[0;34m+=\u001b[0m\u001b[0;36m1\u001b[0m                                                         \u001b[0;31m#count each iteration (epoch)\u001b[0m\u001b[0;34m\u001b[0m\u001b[0;34m\u001b[0m\u001b[0m\n\u001b[0;32m--> 125\u001b[0;31m     \u001b[0mrun\u001b[0m\u001b[0;34m(\u001b[0m\u001b[0mP\u001b[0m\u001b[0;34m,\u001b[0m \u001b[0mg1\u001b[0m\u001b[0;34m,\u001b[0m\u001b[0mg2\u001b[0m\u001b[0;34m,\u001b[0m\u001b[0mg3\u001b[0m\u001b[0;34m,\u001b[0m\u001b[0mg4\u001b[0m\u001b[0;34m,\u001b[0m \u001b[0mloss\u001b[0m\u001b[0;34m,\u001b[0m \u001b[0mbest\u001b[0m\u001b[0;34m,\u001b[0m \u001b[0msince\u001b[0m\u001b[0;34m,\u001b[0m \u001b[0miters\u001b[0m\u001b[0;34m)\u001b[0m                    \u001b[0;31m#run all cfa steps again (until solved or max recursion limit reached)\u001b[0m\u001b[0;34m\u001b[0m\u001b[0;34m\u001b[0m\u001b[0m\n\u001b[0m\u001b[1;32m    126\u001b[0m \u001b[0;34m\u001b[0m\u001b[0m\n\u001b[1;32m    127\u001b[0m \u001b[0;34m\u001b[0m\u001b[0m\n",
            "\u001b[0;32m<ipython-input-221-4195913b356b>\u001b[0m in \u001b[0;36mrun\u001b[0;34m(P, g1, g2, g3, g4, loss, best, since, iters)\u001b[0m\n\u001b[1;32m    123\u001b[0m \u001b[0;34m\u001b[0m\u001b[0m\n\u001b[1;32m    124\u001b[0m     \u001b[0miters\u001b[0m\u001b[0;34m+=\u001b[0m\u001b[0;36m1\u001b[0m                                                         \u001b[0;31m#count each iteration (epoch)\u001b[0m\u001b[0;34m\u001b[0m\u001b[0;34m\u001b[0m\u001b[0m\n\u001b[0;32m--> 125\u001b[0;31m     \u001b[0mrun\u001b[0m\u001b[0;34m(\u001b[0m\u001b[0mP\u001b[0m\u001b[0;34m,\u001b[0m \u001b[0mg1\u001b[0m\u001b[0;34m,\u001b[0m\u001b[0mg2\u001b[0m\u001b[0;34m,\u001b[0m\u001b[0mg3\u001b[0m\u001b[0;34m,\u001b[0m\u001b[0mg4\u001b[0m\u001b[0;34m,\u001b[0m \u001b[0mloss\u001b[0m\u001b[0;34m,\u001b[0m \u001b[0mbest\u001b[0m\u001b[0;34m,\u001b[0m \u001b[0msince\u001b[0m\u001b[0;34m,\u001b[0m \u001b[0miters\u001b[0m\u001b[0;34m)\u001b[0m                    \u001b[0;31m#run all cfa steps again (until solved or max recursion limit reached)\u001b[0m\u001b[0;34m\u001b[0m\u001b[0;34m\u001b[0m\u001b[0m\n\u001b[0m\u001b[1;32m    126\u001b[0m \u001b[0;34m\u001b[0m\u001b[0m\n\u001b[1;32m    127\u001b[0m \u001b[0;34m\u001b[0m\u001b[0m\n",
            "\u001b[0;32m<ipython-input-221-4195913b356b>\u001b[0m in \u001b[0;36mrun\u001b[0;34m(P, g1, g2, g3, g4, loss, best, since, iters)\u001b[0m\n\u001b[1;32m    123\u001b[0m \u001b[0;34m\u001b[0m\u001b[0m\n\u001b[1;32m    124\u001b[0m     \u001b[0miters\u001b[0m\u001b[0;34m+=\u001b[0m\u001b[0;36m1\u001b[0m                                                         \u001b[0;31m#count each iteration (epoch)\u001b[0m\u001b[0;34m\u001b[0m\u001b[0;34m\u001b[0m\u001b[0m\n\u001b[0;32m--> 125\u001b[0;31m     \u001b[0mrun\u001b[0m\u001b[0;34m(\u001b[0m\u001b[0mP\u001b[0m\u001b[0;34m,\u001b[0m \u001b[0mg1\u001b[0m\u001b[0;34m,\u001b[0m\u001b[0mg2\u001b[0m\u001b[0;34m,\u001b[0m\u001b[0mg3\u001b[0m\u001b[0;34m,\u001b[0m\u001b[0mg4\u001b[0m\u001b[0;34m,\u001b[0m \u001b[0mloss\u001b[0m\u001b[0;34m,\u001b[0m \u001b[0mbest\u001b[0m\u001b[0;34m,\u001b[0m \u001b[0msince\u001b[0m\u001b[0;34m,\u001b[0m \u001b[0miters\u001b[0m\u001b[0;34m)\u001b[0m                    \u001b[0;31m#run all cfa steps again (until solved or max recursion limit reached)\u001b[0m\u001b[0;34m\u001b[0m\u001b[0;34m\u001b[0m\u001b[0m\n\u001b[0m\u001b[1;32m    126\u001b[0m \u001b[0;34m\u001b[0m\u001b[0m\n\u001b[1;32m    127\u001b[0m \u001b[0;34m\u001b[0m\u001b[0m\n",
            "\u001b[0;32m<ipython-input-221-4195913b356b>\u001b[0m in \u001b[0;36mrun\u001b[0;34m(P, g1, g2, g3, g4, loss, best, since, iters)\u001b[0m\n\u001b[1;32m    123\u001b[0m \u001b[0;34m\u001b[0m\u001b[0m\n\u001b[1;32m    124\u001b[0m     \u001b[0miters\u001b[0m\u001b[0;34m+=\u001b[0m\u001b[0;36m1\u001b[0m                                                         \u001b[0;31m#count each iteration (epoch)\u001b[0m\u001b[0;34m\u001b[0m\u001b[0;34m\u001b[0m\u001b[0m\n\u001b[0;32m--> 125\u001b[0;31m     \u001b[0mrun\u001b[0m\u001b[0;34m(\u001b[0m\u001b[0mP\u001b[0m\u001b[0;34m,\u001b[0m \u001b[0mg1\u001b[0m\u001b[0;34m,\u001b[0m\u001b[0mg2\u001b[0m\u001b[0;34m,\u001b[0m\u001b[0mg3\u001b[0m\u001b[0;34m,\u001b[0m\u001b[0mg4\u001b[0m\u001b[0;34m,\u001b[0m \u001b[0mloss\u001b[0m\u001b[0;34m,\u001b[0m \u001b[0mbest\u001b[0m\u001b[0;34m,\u001b[0m \u001b[0msince\u001b[0m\u001b[0;34m,\u001b[0m \u001b[0miters\u001b[0m\u001b[0;34m)\u001b[0m                    \u001b[0;31m#run all cfa steps again (until solved or max recursion limit reached)\u001b[0m\u001b[0;34m\u001b[0m\u001b[0;34m\u001b[0m\u001b[0m\n\u001b[0m\u001b[1;32m    126\u001b[0m \u001b[0;34m\u001b[0m\u001b[0m\n\u001b[1;32m    127\u001b[0m \u001b[0;34m\u001b[0m\u001b[0m\n",
            "\u001b[0;32m<ipython-input-221-4195913b356b>\u001b[0m in \u001b[0;36mrun\u001b[0;34m(P, g1, g2, g3, g4, loss, best, since, iters)\u001b[0m\n\u001b[1;32m    123\u001b[0m \u001b[0;34m\u001b[0m\u001b[0m\n\u001b[1;32m    124\u001b[0m     \u001b[0miters\u001b[0m\u001b[0;34m+=\u001b[0m\u001b[0;36m1\u001b[0m                                                         \u001b[0;31m#count each iteration (epoch)\u001b[0m\u001b[0;34m\u001b[0m\u001b[0;34m\u001b[0m\u001b[0m\n\u001b[0;32m--> 125\u001b[0;31m     \u001b[0mrun\u001b[0m\u001b[0;34m(\u001b[0m\u001b[0mP\u001b[0m\u001b[0;34m,\u001b[0m \u001b[0mg1\u001b[0m\u001b[0;34m,\u001b[0m\u001b[0mg2\u001b[0m\u001b[0;34m,\u001b[0m\u001b[0mg3\u001b[0m\u001b[0;34m,\u001b[0m\u001b[0mg4\u001b[0m\u001b[0;34m,\u001b[0m \u001b[0mloss\u001b[0m\u001b[0;34m,\u001b[0m \u001b[0mbest\u001b[0m\u001b[0;34m,\u001b[0m \u001b[0msince\u001b[0m\u001b[0;34m,\u001b[0m \u001b[0miters\u001b[0m\u001b[0;34m)\u001b[0m                    \u001b[0;31m#run all cfa steps again (until solved or max recursion limit reached)\u001b[0m\u001b[0;34m\u001b[0m\u001b[0;34m\u001b[0m\u001b[0m\n\u001b[0m\u001b[1;32m    126\u001b[0m \u001b[0;34m\u001b[0m\u001b[0m\n\u001b[1;32m    127\u001b[0m \u001b[0;34m\u001b[0m\u001b[0m\n",
            "\u001b[0;32m<ipython-input-221-4195913b356b>\u001b[0m in \u001b[0;36mrun\u001b[0;34m(P, g1, g2, g3, g4, loss, best, since, iters)\u001b[0m\n\u001b[1;32m    123\u001b[0m \u001b[0;34m\u001b[0m\u001b[0m\n\u001b[1;32m    124\u001b[0m     \u001b[0miters\u001b[0m\u001b[0;34m+=\u001b[0m\u001b[0;36m1\u001b[0m                                                         \u001b[0;31m#count each iteration (epoch)\u001b[0m\u001b[0;34m\u001b[0m\u001b[0;34m\u001b[0m\u001b[0m\n\u001b[0;32m--> 125\u001b[0;31m     \u001b[0mrun\u001b[0m\u001b[0;34m(\u001b[0m\u001b[0mP\u001b[0m\u001b[0;34m,\u001b[0m \u001b[0mg1\u001b[0m\u001b[0;34m,\u001b[0m\u001b[0mg2\u001b[0m\u001b[0;34m,\u001b[0m\u001b[0mg3\u001b[0m\u001b[0;34m,\u001b[0m\u001b[0mg4\u001b[0m\u001b[0;34m,\u001b[0m \u001b[0mloss\u001b[0m\u001b[0;34m,\u001b[0m \u001b[0mbest\u001b[0m\u001b[0;34m,\u001b[0m \u001b[0msince\u001b[0m\u001b[0;34m,\u001b[0m \u001b[0miters\u001b[0m\u001b[0;34m)\u001b[0m                    \u001b[0;31m#run all cfa steps again (until solved or max recursion limit reached)\u001b[0m\u001b[0;34m\u001b[0m\u001b[0;34m\u001b[0m\u001b[0m\n\u001b[0m\u001b[1;32m    126\u001b[0m \u001b[0;34m\u001b[0m\u001b[0m\n\u001b[1;32m    127\u001b[0m \u001b[0;34m\u001b[0m\u001b[0m\n",
            "\u001b[0;32m<ipython-input-221-4195913b356b>\u001b[0m in \u001b[0;36mrun\u001b[0;34m(P, g1, g2, g3, g4, loss, best, since, iters)\u001b[0m\n\u001b[1;32m    123\u001b[0m \u001b[0;34m\u001b[0m\u001b[0m\n\u001b[1;32m    124\u001b[0m     \u001b[0miters\u001b[0m\u001b[0;34m+=\u001b[0m\u001b[0;36m1\u001b[0m                                                         \u001b[0;31m#count each iteration (epoch)\u001b[0m\u001b[0;34m\u001b[0m\u001b[0;34m\u001b[0m\u001b[0m\n\u001b[0;32m--> 125\u001b[0;31m     \u001b[0mrun\u001b[0m\u001b[0;34m(\u001b[0m\u001b[0mP\u001b[0m\u001b[0;34m,\u001b[0m \u001b[0mg1\u001b[0m\u001b[0;34m,\u001b[0m\u001b[0mg2\u001b[0m\u001b[0;34m,\u001b[0m\u001b[0mg3\u001b[0m\u001b[0;34m,\u001b[0m\u001b[0mg4\u001b[0m\u001b[0;34m,\u001b[0m \u001b[0mloss\u001b[0m\u001b[0;34m,\u001b[0m \u001b[0mbest\u001b[0m\u001b[0;34m,\u001b[0m \u001b[0msince\u001b[0m\u001b[0;34m,\u001b[0m \u001b[0miters\u001b[0m\u001b[0;34m)\u001b[0m                    \u001b[0;31m#run all cfa steps again (until solved or max recursion limit reached)\u001b[0m\u001b[0;34m\u001b[0m\u001b[0;34m\u001b[0m\u001b[0m\n\u001b[0m\u001b[1;32m    126\u001b[0m \u001b[0;34m\u001b[0m\u001b[0m\n\u001b[1;32m    127\u001b[0m \u001b[0;34m\u001b[0m\u001b[0m\n",
            "\u001b[0;32m<ipython-input-221-4195913b356b>\u001b[0m in \u001b[0;36mrun\u001b[0;34m(P, g1, g2, g3, g4, loss, best, since, iters)\u001b[0m\n\u001b[1;32m    123\u001b[0m \u001b[0;34m\u001b[0m\u001b[0m\n\u001b[1;32m    124\u001b[0m     \u001b[0miters\u001b[0m\u001b[0;34m+=\u001b[0m\u001b[0;36m1\u001b[0m                                                         \u001b[0;31m#count each iteration (epoch)\u001b[0m\u001b[0;34m\u001b[0m\u001b[0;34m\u001b[0m\u001b[0m\n\u001b[0;32m--> 125\u001b[0;31m     \u001b[0mrun\u001b[0m\u001b[0;34m(\u001b[0m\u001b[0mP\u001b[0m\u001b[0;34m,\u001b[0m \u001b[0mg1\u001b[0m\u001b[0;34m,\u001b[0m\u001b[0mg2\u001b[0m\u001b[0;34m,\u001b[0m\u001b[0mg3\u001b[0m\u001b[0;34m,\u001b[0m\u001b[0mg4\u001b[0m\u001b[0;34m,\u001b[0m \u001b[0mloss\u001b[0m\u001b[0;34m,\u001b[0m \u001b[0mbest\u001b[0m\u001b[0;34m,\u001b[0m \u001b[0msince\u001b[0m\u001b[0;34m,\u001b[0m \u001b[0miters\u001b[0m\u001b[0;34m)\u001b[0m                    \u001b[0;31m#run all cfa steps again (until solved or max recursion limit reached)\u001b[0m\u001b[0;34m\u001b[0m\u001b[0;34m\u001b[0m\u001b[0m\n\u001b[0m\u001b[1;32m    126\u001b[0m \u001b[0;34m\u001b[0m\u001b[0m\n\u001b[1;32m    127\u001b[0m \u001b[0;34m\u001b[0m\u001b[0m\n",
            "\u001b[0;32m<ipython-input-221-4195913b356b>\u001b[0m in \u001b[0;36mrun\u001b[0;34m(P, g1, g2, g3, g4, loss, best, since, iters)\u001b[0m\n\u001b[1;32m    123\u001b[0m \u001b[0;34m\u001b[0m\u001b[0m\n\u001b[1;32m    124\u001b[0m     \u001b[0miters\u001b[0m\u001b[0;34m+=\u001b[0m\u001b[0;36m1\u001b[0m                                                         \u001b[0;31m#count each iteration (epoch)\u001b[0m\u001b[0;34m\u001b[0m\u001b[0;34m\u001b[0m\u001b[0m\n\u001b[0;32m--> 125\u001b[0;31m     \u001b[0mrun\u001b[0m\u001b[0;34m(\u001b[0m\u001b[0mP\u001b[0m\u001b[0;34m,\u001b[0m \u001b[0mg1\u001b[0m\u001b[0;34m,\u001b[0m\u001b[0mg2\u001b[0m\u001b[0;34m,\u001b[0m\u001b[0mg3\u001b[0m\u001b[0;34m,\u001b[0m\u001b[0mg4\u001b[0m\u001b[0;34m,\u001b[0m \u001b[0mloss\u001b[0m\u001b[0;34m,\u001b[0m \u001b[0mbest\u001b[0m\u001b[0;34m,\u001b[0m \u001b[0msince\u001b[0m\u001b[0;34m,\u001b[0m \u001b[0miters\u001b[0m\u001b[0;34m)\u001b[0m                    \u001b[0;31m#run all cfa steps again (until solved or max recursion limit reached)\u001b[0m\u001b[0;34m\u001b[0m\u001b[0;34m\u001b[0m\u001b[0m\n\u001b[0m\u001b[1;32m    126\u001b[0m \u001b[0;34m\u001b[0m\u001b[0m\n\u001b[1;32m    127\u001b[0m \u001b[0;34m\u001b[0m\u001b[0m\n",
            "\u001b[0;32m<ipython-input-221-4195913b356b>\u001b[0m in \u001b[0;36mrun\u001b[0;34m(P, g1, g2, g3, g4, loss, best, since, iters)\u001b[0m\n\u001b[1;32m    123\u001b[0m \u001b[0;34m\u001b[0m\u001b[0m\n\u001b[1;32m    124\u001b[0m     \u001b[0miters\u001b[0m\u001b[0;34m+=\u001b[0m\u001b[0;36m1\u001b[0m                                                         \u001b[0;31m#count each iteration (epoch)\u001b[0m\u001b[0;34m\u001b[0m\u001b[0;34m\u001b[0m\u001b[0m\n\u001b[0;32m--> 125\u001b[0;31m     \u001b[0mrun\u001b[0m\u001b[0;34m(\u001b[0m\u001b[0mP\u001b[0m\u001b[0;34m,\u001b[0m \u001b[0mg1\u001b[0m\u001b[0;34m,\u001b[0m\u001b[0mg2\u001b[0m\u001b[0;34m,\u001b[0m\u001b[0mg3\u001b[0m\u001b[0;34m,\u001b[0m\u001b[0mg4\u001b[0m\u001b[0;34m,\u001b[0m \u001b[0mloss\u001b[0m\u001b[0;34m,\u001b[0m \u001b[0mbest\u001b[0m\u001b[0;34m,\u001b[0m \u001b[0msince\u001b[0m\u001b[0;34m,\u001b[0m \u001b[0miters\u001b[0m\u001b[0;34m)\u001b[0m                    \u001b[0;31m#run all cfa steps again (until solved or max recursion limit reached)\u001b[0m\u001b[0;34m\u001b[0m\u001b[0;34m\u001b[0m\u001b[0m\n\u001b[0m\u001b[1;32m    126\u001b[0m \u001b[0;34m\u001b[0m\u001b[0m\n\u001b[1;32m    127\u001b[0m \u001b[0;34m\u001b[0m\u001b[0m\n",
            "\u001b[0;32m<ipython-input-221-4195913b356b>\u001b[0m in \u001b[0;36mrun\u001b[0;34m(P, g1, g2, g3, g4, loss, best, since, iters)\u001b[0m\n\u001b[1;32m    123\u001b[0m \u001b[0;34m\u001b[0m\u001b[0m\n\u001b[1;32m    124\u001b[0m     \u001b[0miters\u001b[0m\u001b[0;34m+=\u001b[0m\u001b[0;36m1\u001b[0m                                                         \u001b[0;31m#count each iteration (epoch)\u001b[0m\u001b[0;34m\u001b[0m\u001b[0;34m\u001b[0m\u001b[0m\n\u001b[0;32m--> 125\u001b[0;31m     \u001b[0mrun\u001b[0m\u001b[0;34m(\u001b[0m\u001b[0mP\u001b[0m\u001b[0;34m,\u001b[0m \u001b[0mg1\u001b[0m\u001b[0;34m,\u001b[0m\u001b[0mg2\u001b[0m\u001b[0;34m,\u001b[0m\u001b[0mg3\u001b[0m\u001b[0;34m,\u001b[0m\u001b[0mg4\u001b[0m\u001b[0;34m,\u001b[0m \u001b[0mloss\u001b[0m\u001b[0;34m,\u001b[0m \u001b[0mbest\u001b[0m\u001b[0;34m,\u001b[0m \u001b[0msince\u001b[0m\u001b[0;34m,\u001b[0m \u001b[0miters\u001b[0m\u001b[0;34m)\u001b[0m                    \u001b[0;31m#run all cfa steps again (until solved or max recursion limit reached)\u001b[0m\u001b[0;34m\u001b[0m\u001b[0;34m\u001b[0m\u001b[0m\n\u001b[0m\u001b[1;32m    126\u001b[0m \u001b[0;34m\u001b[0m\u001b[0m\n\u001b[1;32m    127\u001b[0m \u001b[0;34m\u001b[0m\u001b[0m\n",
            "\u001b[0;32m<ipython-input-221-4195913b356b>\u001b[0m in \u001b[0;36mrun\u001b[0;34m(P, g1, g2, g3, g4, loss, best, since, iters)\u001b[0m\n\u001b[1;32m    123\u001b[0m \u001b[0;34m\u001b[0m\u001b[0m\n\u001b[1;32m    124\u001b[0m     \u001b[0miters\u001b[0m\u001b[0;34m+=\u001b[0m\u001b[0;36m1\u001b[0m                                                         \u001b[0;31m#count each iteration (epoch)\u001b[0m\u001b[0;34m\u001b[0m\u001b[0;34m\u001b[0m\u001b[0m\n\u001b[0;32m--> 125\u001b[0;31m     \u001b[0mrun\u001b[0m\u001b[0;34m(\u001b[0m\u001b[0mP\u001b[0m\u001b[0;34m,\u001b[0m \u001b[0mg1\u001b[0m\u001b[0;34m,\u001b[0m\u001b[0mg2\u001b[0m\u001b[0;34m,\u001b[0m\u001b[0mg3\u001b[0m\u001b[0;34m,\u001b[0m\u001b[0mg4\u001b[0m\u001b[0;34m,\u001b[0m \u001b[0mloss\u001b[0m\u001b[0;34m,\u001b[0m \u001b[0mbest\u001b[0m\u001b[0;34m,\u001b[0m \u001b[0msince\u001b[0m\u001b[0;34m,\u001b[0m \u001b[0miters\u001b[0m\u001b[0;34m)\u001b[0m                    \u001b[0;31m#run all cfa steps again (until solved or max recursion limit reached)\u001b[0m\u001b[0;34m\u001b[0m\u001b[0;34m\u001b[0m\u001b[0m\n\u001b[0m\u001b[1;32m    126\u001b[0m \u001b[0;34m\u001b[0m\u001b[0m\n\u001b[1;32m    127\u001b[0m \u001b[0;34m\u001b[0m\u001b[0m\n",
            "\u001b[0;32m<ipython-input-221-4195913b356b>\u001b[0m in \u001b[0;36mrun\u001b[0;34m(P, g1, g2, g3, g4, loss, best, since, iters)\u001b[0m\n\u001b[1;32m    123\u001b[0m \u001b[0;34m\u001b[0m\u001b[0m\n\u001b[1;32m    124\u001b[0m     \u001b[0miters\u001b[0m\u001b[0;34m+=\u001b[0m\u001b[0;36m1\u001b[0m                                                         \u001b[0;31m#count each iteration (epoch)\u001b[0m\u001b[0;34m\u001b[0m\u001b[0;34m\u001b[0m\u001b[0m\n\u001b[0;32m--> 125\u001b[0;31m     \u001b[0mrun\u001b[0m\u001b[0;34m(\u001b[0m\u001b[0mP\u001b[0m\u001b[0;34m,\u001b[0m \u001b[0mg1\u001b[0m\u001b[0;34m,\u001b[0m\u001b[0mg2\u001b[0m\u001b[0;34m,\u001b[0m\u001b[0mg3\u001b[0m\u001b[0;34m,\u001b[0m\u001b[0mg4\u001b[0m\u001b[0;34m,\u001b[0m \u001b[0mloss\u001b[0m\u001b[0;34m,\u001b[0m \u001b[0mbest\u001b[0m\u001b[0;34m,\u001b[0m \u001b[0msince\u001b[0m\u001b[0;34m,\u001b[0m \u001b[0miters\u001b[0m\u001b[0;34m)\u001b[0m                    \u001b[0;31m#run all cfa steps again (until solved or max recursion limit reached)\u001b[0m\u001b[0;34m\u001b[0m\u001b[0;34m\u001b[0m\u001b[0m\n\u001b[0m\u001b[1;32m    126\u001b[0m \u001b[0;34m\u001b[0m\u001b[0m\n\u001b[1;32m    127\u001b[0m \u001b[0;34m\u001b[0m\u001b[0m\n",
            "\u001b[0;32m<ipython-input-221-4195913b356b>\u001b[0m in \u001b[0;36mrun\u001b[0;34m(P, g1, g2, g3, g4, loss, best, since, iters)\u001b[0m\n\u001b[1;32m    123\u001b[0m \u001b[0;34m\u001b[0m\u001b[0m\n\u001b[1;32m    124\u001b[0m     \u001b[0miters\u001b[0m\u001b[0;34m+=\u001b[0m\u001b[0;36m1\u001b[0m                                                         \u001b[0;31m#count each iteration (epoch)\u001b[0m\u001b[0;34m\u001b[0m\u001b[0;34m\u001b[0m\u001b[0m\n\u001b[0;32m--> 125\u001b[0;31m     \u001b[0mrun\u001b[0m\u001b[0;34m(\u001b[0m\u001b[0mP\u001b[0m\u001b[0;34m,\u001b[0m \u001b[0mg1\u001b[0m\u001b[0;34m,\u001b[0m\u001b[0mg2\u001b[0m\u001b[0;34m,\u001b[0m\u001b[0mg3\u001b[0m\u001b[0;34m,\u001b[0m\u001b[0mg4\u001b[0m\u001b[0;34m,\u001b[0m \u001b[0mloss\u001b[0m\u001b[0;34m,\u001b[0m \u001b[0mbest\u001b[0m\u001b[0;34m,\u001b[0m \u001b[0msince\u001b[0m\u001b[0;34m,\u001b[0m \u001b[0miters\u001b[0m\u001b[0;34m)\u001b[0m                    \u001b[0;31m#run all cfa steps again (until solved or max recursion limit reached)\u001b[0m\u001b[0;34m\u001b[0m\u001b[0;34m\u001b[0m\u001b[0m\n\u001b[0m\u001b[1;32m    126\u001b[0m \u001b[0;34m\u001b[0m\u001b[0m\n\u001b[1;32m    127\u001b[0m \u001b[0;34m\u001b[0m\u001b[0m\n",
            "\u001b[0;32m<ipython-input-221-4195913b356b>\u001b[0m in \u001b[0;36mrun\u001b[0;34m(P, g1, g2, g3, g4, loss, best, since, iters)\u001b[0m\n\u001b[1;32m    123\u001b[0m \u001b[0;34m\u001b[0m\u001b[0m\n\u001b[1;32m    124\u001b[0m     \u001b[0miters\u001b[0m\u001b[0;34m+=\u001b[0m\u001b[0;36m1\u001b[0m                                                         \u001b[0;31m#count each iteration (epoch)\u001b[0m\u001b[0;34m\u001b[0m\u001b[0;34m\u001b[0m\u001b[0m\n\u001b[0;32m--> 125\u001b[0;31m     \u001b[0mrun\u001b[0m\u001b[0;34m(\u001b[0m\u001b[0mP\u001b[0m\u001b[0;34m,\u001b[0m \u001b[0mg1\u001b[0m\u001b[0;34m,\u001b[0m\u001b[0mg2\u001b[0m\u001b[0;34m,\u001b[0m\u001b[0mg3\u001b[0m\u001b[0;34m,\u001b[0m\u001b[0mg4\u001b[0m\u001b[0;34m,\u001b[0m \u001b[0mloss\u001b[0m\u001b[0;34m,\u001b[0m \u001b[0mbest\u001b[0m\u001b[0;34m,\u001b[0m \u001b[0msince\u001b[0m\u001b[0;34m,\u001b[0m \u001b[0miters\u001b[0m\u001b[0;34m)\u001b[0m                    \u001b[0;31m#run all cfa steps again (until solved or max recursion limit reached)\u001b[0m\u001b[0;34m\u001b[0m\u001b[0;34m\u001b[0m\u001b[0m\n\u001b[0m\u001b[1;32m    126\u001b[0m \u001b[0;34m\u001b[0m\u001b[0m\n\u001b[1;32m    127\u001b[0m \u001b[0;34m\u001b[0m\u001b[0m\n",
            "\u001b[0;32m<ipython-input-221-4195913b356b>\u001b[0m in \u001b[0;36mrun\u001b[0;34m(P, g1, g2, g3, g4, loss, best, since, iters)\u001b[0m\n\u001b[1;32m    123\u001b[0m \u001b[0;34m\u001b[0m\u001b[0m\n\u001b[1;32m    124\u001b[0m     \u001b[0miters\u001b[0m\u001b[0;34m+=\u001b[0m\u001b[0;36m1\u001b[0m                                                         \u001b[0;31m#count each iteration (epoch)\u001b[0m\u001b[0;34m\u001b[0m\u001b[0;34m\u001b[0m\u001b[0m\n\u001b[0;32m--> 125\u001b[0;31m     \u001b[0mrun\u001b[0m\u001b[0;34m(\u001b[0m\u001b[0mP\u001b[0m\u001b[0;34m,\u001b[0m \u001b[0mg1\u001b[0m\u001b[0;34m,\u001b[0m\u001b[0mg2\u001b[0m\u001b[0;34m,\u001b[0m\u001b[0mg3\u001b[0m\u001b[0;34m,\u001b[0m\u001b[0mg4\u001b[0m\u001b[0;34m,\u001b[0m \u001b[0mloss\u001b[0m\u001b[0;34m,\u001b[0m \u001b[0mbest\u001b[0m\u001b[0;34m,\u001b[0m \u001b[0msince\u001b[0m\u001b[0;34m,\u001b[0m \u001b[0miters\u001b[0m\u001b[0;34m)\u001b[0m                    \u001b[0;31m#run all cfa steps again (until solved or max recursion limit reached)\u001b[0m\u001b[0;34m\u001b[0m\u001b[0;34m\u001b[0m\u001b[0m\n\u001b[0m\u001b[1;32m    126\u001b[0m \u001b[0;34m\u001b[0m\u001b[0m\n\u001b[1;32m    127\u001b[0m \u001b[0;34m\u001b[0m\u001b[0m\n",
            "\u001b[0;32m<ipython-input-221-4195913b356b>\u001b[0m in \u001b[0;36mrun\u001b[0;34m(P, g1, g2, g3, g4, loss, best, since, iters)\u001b[0m\n\u001b[1;32m    123\u001b[0m \u001b[0;34m\u001b[0m\u001b[0m\n\u001b[1;32m    124\u001b[0m     \u001b[0miters\u001b[0m\u001b[0;34m+=\u001b[0m\u001b[0;36m1\u001b[0m                                                         \u001b[0;31m#count each iteration (epoch)\u001b[0m\u001b[0;34m\u001b[0m\u001b[0;34m\u001b[0m\u001b[0m\n\u001b[0;32m--> 125\u001b[0;31m     \u001b[0mrun\u001b[0m\u001b[0;34m(\u001b[0m\u001b[0mP\u001b[0m\u001b[0;34m,\u001b[0m \u001b[0mg1\u001b[0m\u001b[0;34m,\u001b[0m\u001b[0mg2\u001b[0m\u001b[0;34m,\u001b[0m\u001b[0mg3\u001b[0m\u001b[0;34m,\u001b[0m\u001b[0mg4\u001b[0m\u001b[0;34m,\u001b[0m \u001b[0mloss\u001b[0m\u001b[0;34m,\u001b[0m \u001b[0mbest\u001b[0m\u001b[0;34m,\u001b[0m \u001b[0msince\u001b[0m\u001b[0;34m,\u001b[0m \u001b[0miters\u001b[0m\u001b[0;34m)\u001b[0m                    \u001b[0;31m#run all cfa steps again (until solved or max recursion limit reached)\u001b[0m\u001b[0;34m\u001b[0m\u001b[0;34m\u001b[0m\u001b[0m\n\u001b[0m\u001b[1;32m    126\u001b[0m \u001b[0;34m\u001b[0m\u001b[0m\n\u001b[1;32m    127\u001b[0m \u001b[0;34m\u001b[0m\u001b[0m\n",
            "\u001b[0;32m<ipython-input-221-4195913b356b>\u001b[0m in \u001b[0;36mrun\u001b[0;34m(P, g1, g2, g3, g4, loss, best, since, iters)\u001b[0m\n\u001b[1;32m    123\u001b[0m \u001b[0;34m\u001b[0m\u001b[0m\n\u001b[1;32m    124\u001b[0m     \u001b[0miters\u001b[0m\u001b[0;34m+=\u001b[0m\u001b[0;36m1\u001b[0m                                                         \u001b[0;31m#count each iteration (epoch)\u001b[0m\u001b[0;34m\u001b[0m\u001b[0;34m\u001b[0m\u001b[0m\n\u001b[0;32m--> 125\u001b[0;31m     \u001b[0mrun\u001b[0m\u001b[0;34m(\u001b[0m\u001b[0mP\u001b[0m\u001b[0;34m,\u001b[0m \u001b[0mg1\u001b[0m\u001b[0;34m,\u001b[0m\u001b[0mg2\u001b[0m\u001b[0;34m,\u001b[0m\u001b[0mg3\u001b[0m\u001b[0;34m,\u001b[0m\u001b[0mg4\u001b[0m\u001b[0;34m,\u001b[0m \u001b[0mloss\u001b[0m\u001b[0;34m,\u001b[0m \u001b[0mbest\u001b[0m\u001b[0;34m,\u001b[0m \u001b[0msince\u001b[0m\u001b[0;34m,\u001b[0m \u001b[0miters\u001b[0m\u001b[0;34m)\u001b[0m                    \u001b[0;31m#run all cfa steps again (until solved or max recursion limit reached)\u001b[0m\u001b[0;34m\u001b[0m\u001b[0;34m\u001b[0m\u001b[0m\n\u001b[0m\u001b[1;32m    126\u001b[0m \u001b[0;34m\u001b[0m\u001b[0m\n\u001b[1;32m    127\u001b[0m \u001b[0;34m\u001b[0m\u001b[0m\n",
            "\u001b[0;32m<ipython-input-221-4195913b356b>\u001b[0m in \u001b[0;36mrun\u001b[0;34m(P, g1, g2, g3, g4, loss, best, since, iters)\u001b[0m\n\u001b[1;32m    123\u001b[0m \u001b[0;34m\u001b[0m\u001b[0m\n\u001b[1;32m    124\u001b[0m     \u001b[0miters\u001b[0m\u001b[0;34m+=\u001b[0m\u001b[0;36m1\u001b[0m                                                         \u001b[0;31m#count each iteration (epoch)\u001b[0m\u001b[0;34m\u001b[0m\u001b[0;34m\u001b[0m\u001b[0m\n\u001b[0;32m--> 125\u001b[0;31m     \u001b[0mrun\u001b[0m\u001b[0;34m(\u001b[0m\u001b[0mP\u001b[0m\u001b[0;34m,\u001b[0m \u001b[0mg1\u001b[0m\u001b[0;34m,\u001b[0m\u001b[0mg2\u001b[0m\u001b[0;34m,\u001b[0m\u001b[0mg3\u001b[0m\u001b[0;34m,\u001b[0m\u001b[0mg4\u001b[0m\u001b[0;34m,\u001b[0m \u001b[0mloss\u001b[0m\u001b[0;34m,\u001b[0m \u001b[0mbest\u001b[0m\u001b[0;34m,\u001b[0m \u001b[0msince\u001b[0m\u001b[0;34m,\u001b[0m \u001b[0miters\u001b[0m\u001b[0;34m)\u001b[0m                    \u001b[0;31m#run all cfa steps again (until solved or max recursion limit reached)\u001b[0m\u001b[0;34m\u001b[0m\u001b[0;34m\u001b[0m\u001b[0m\n\u001b[0m\u001b[1;32m    126\u001b[0m \u001b[0;34m\u001b[0m\u001b[0m\n\u001b[1;32m    127\u001b[0m \u001b[0;34m\u001b[0m\u001b[0m\n",
            "\u001b[0;32m<ipython-input-221-4195913b356b>\u001b[0m in \u001b[0;36mrun\u001b[0;34m(P, g1, g2, g3, g4, loss, best, since, iters)\u001b[0m\n\u001b[1;32m    123\u001b[0m \u001b[0;34m\u001b[0m\u001b[0m\n\u001b[1;32m    124\u001b[0m     \u001b[0miters\u001b[0m\u001b[0;34m+=\u001b[0m\u001b[0;36m1\u001b[0m                                                         \u001b[0;31m#count each iteration (epoch)\u001b[0m\u001b[0;34m\u001b[0m\u001b[0;34m\u001b[0m\u001b[0m\n\u001b[0;32m--> 125\u001b[0;31m     \u001b[0mrun\u001b[0m\u001b[0;34m(\u001b[0m\u001b[0mP\u001b[0m\u001b[0;34m,\u001b[0m \u001b[0mg1\u001b[0m\u001b[0;34m,\u001b[0m\u001b[0mg2\u001b[0m\u001b[0;34m,\u001b[0m\u001b[0mg3\u001b[0m\u001b[0;34m,\u001b[0m\u001b[0mg4\u001b[0m\u001b[0;34m,\u001b[0m \u001b[0mloss\u001b[0m\u001b[0;34m,\u001b[0m \u001b[0mbest\u001b[0m\u001b[0;34m,\u001b[0m \u001b[0msince\u001b[0m\u001b[0;34m,\u001b[0m \u001b[0miters\u001b[0m\u001b[0;34m)\u001b[0m                    \u001b[0;31m#run all cfa steps again (until solved or max recursion limit reached)\u001b[0m\u001b[0;34m\u001b[0m\u001b[0;34m\u001b[0m\u001b[0m\n\u001b[0m\u001b[1;32m    126\u001b[0m \u001b[0;34m\u001b[0m\u001b[0m\n\u001b[1;32m    127\u001b[0m \u001b[0;34m\u001b[0m\u001b[0m\n",
            "\u001b[0;32m<ipython-input-221-4195913b356b>\u001b[0m in \u001b[0;36mrun\u001b[0;34m(P, g1, g2, g3, g4, loss, best, since, iters)\u001b[0m\n\u001b[1;32m    123\u001b[0m \u001b[0;34m\u001b[0m\u001b[0m\n\u001b[1;32m    124\u001b[0m     \u001b[0miters\u001b[0m\u001b[0;34m+=\u001b[0m\u001b[0;36m1\u001b[0m                                                         \u001b[0;31m#count each iteration (epoch)\u001b[0m\u001b[0;34m\u001b[0m\u001b[0;34m\u001b[0m\u001b[0m\n\u001b[0;32m--> 125\u001b[0;31m     \u001b[0mrun\u001b[0m\u001b[0;34m(\u001b[0m\u001b[0mP\u001b[0m\u001b[0;34m,\u001b[0m \u001b[0mg1\u001b[0m\u001b[0;34m,\u001b[0m\u001b[0mg2\u001b[0m\u001b[0;34m,\u001b[0m\u001b[0mg3\u001b[0m\u001b[0;34m,\u001b[0m\u001b[0mg4\u001b[0m\u001b[0;34m,\u001b[0m \u001b[0mloss\u001b[0m\u001b[0;34m,\u001b[0m \u001b[0mbest\u001b[0m\u001b[0;34m,\u001b[0m \u001b[0msince\u001b[0m\u001b[0;34m,\u001b[0m \u001b[0miters\u001b[0m\u001b[0;34m)\u001b[0m                    \u001b[0;31m#run all cfa steps again (until solved or max recursion limit reached)\u001b[0m\u001b[0;34m\u001b[0m\u001b[0;34m\u001b[0m\u001b[0m\n\u001b[0m\u001b[1;32m    126\u001b[0m \u001b[0;34m\u001b[0m\u001b[0m\n\u001b[1;32m    127\u001b[0m \u001b[0;34m\u001b[0m\u001b[0m\n",
            "\u001b[0;32m<ipython-input-221-4195913b356b>\u001b[0m in \u001b[0;36mrun\u001b[0;34m(P, g1, g2, g3, g4, loss, best, since, iters)\u001b[0m\n\u001b[1;32m    123\u001b[0m \u001b[0;34m\u001b[0m\u001b[0m\n\u001b[1;32m    124\u001b[0m     \u001b[0miters\u001b[0m\u001b[0;34m+=\u001b[0m\u001b[0;36m1\u001b[0m                                                         \u001b[0;31m#count each iteration (epoch)\u001b[0m\u001b[0;34m\u001b[0m\u001b[0;34m\u001b[0m\u001b[0m\n\u001b[0;32m--> 125\u001b[0;31m     \u001b[0mrun\u001b[0m\u001b[0;34m(\u001b[0m\u001b[0mP\u001b[0m\u001b[0;34m,\u001b[0m \u001b[0mg1\u001b[0m\u001b[0;34m,\u001b[0m\u001b[0mg2\u001b[0m\u001b[0;34m,\u001b[0m\u001b[0mg3\u001b[0m\u001b[0;34m,\u001b[0m\u001b[0mg4\u001b[0m\u001b[0;34m,\u001b[0m \u001b[0mloss\u001b[0m\u001b[0;34m,\u001b[0m \u001b[0mbest\u001b[0m\u001b[0;34m,\u001b[0m \u001b[0msince\u001b[0m\u001b[0;34m,\u001b[0m \u001b[0miters\u001b[0m\u001b[0;34m)\u001b[0m                    \u001b[0;31m#run all cfa steps again (until solved or max recursion limit reached)\u001b[0m\u001b[0;34m\u001b[0m\u001b[0;34m\u001b[0m\u001b[0m\n\u001b[0m\u001b[1;32m    126\u001b[0m \u001b[0;34m\u001b[0m\u001b[0m\n\u001b[1;32m    127\u001b[0m \u001b[0;34m\u001b[0m\u001b[0m\n",
            "\u001b[0;32m<ipython-input-221-4195913b356b>\u001b[0m in \u001b[0;36mrun\u001b[0;34m(P, g1, g2, g3, g4, loss, best, since, iters)\u001b[0m\n\u001b[1;32m    123\u001b[0m \u001b[0;34m\u001b[0m\u001b[0m\n\u001b[1;32m    124\u001b[0m     \u001b[0miters\u001b[0m\u001b[0;34m+=\u001b[0m\u001b[0;36m1\u001b[0m                                                         \u001b[0;31m#count each iteration (epoch)\u001b[0m\u001b[0;34m\u001b[0m\u001b[0;34m\u001b[0m\u001b[0m\n\u001b[0;32m--> 125\u001b[0;31m     \u001b[0mrun\u001b[0m\u001b[0;34m(\u001b[0m\u001b[0mP\u001b[0m\u001b[0;34m,\u001b[0m \u001b[0mg1\u001b[0m\u001b[0;34m,\u001b[0m\u001b[0mg2\u001b[0m\u001b[0;34m,\u001b[0m\u001b[0mg3\u001b[0m\u001b[0;34m,\u001b[0m\u001b[0mg4\u001b[0m\u001b[0;34m,\u001b[0m \u001b[0mloss\u001b[0m\u001b[0;34m,\u001b[0m \u001b[0mbest\u001b[0m\u001b[0;34m,\u001b[0m \u001b[0msince\u001b[0m\u001b[0;34m,\u001b[0m \u001b[0miters\u001b[0m\u001b[0;34m)\u001b[0m                    \u001b[0;31m#run all cfa steps again (until solved or max recursion limit reached)\u001b[0m\u001b[0;34m\u001b[0m\u001b[0;34m\u001b[0m\u001b[0m\n\u001b[0m\u001b[1;32m    126\u001b[0m \u001b[0;34m\u001b[0m\u001b[0m\n\u001b[1;32m    127\u001b[0m \u001b[0;34m\u001b[0m\u001b[0m\n",
            "\u001b[0;32m<ipython-input-221-4195913b356b>\u001b[0m in \u001b[0;36mrun\u001b[0;34m(P, g1, g2, g3, g4, loss, best, since, iters)\u001b[0m\n\u001b[1;32m    123\u001b[0m \u001b[0;34m\u001b[0m\u001b[0m\n\u001b[1;32m    124\u001b[0m     \u001b[0miters\u001b[0m\u001b[0;34m+=\u001b[0m\u001b[0;36m1\u001b[0m                                                         \u001b[0;31m#count each iteration (epoch)\u001b[0m\u001b[0;34m\u001b[0m\u001b[0;34m\u001b[0m\u001b[0m\n\u001b[0;32m--> 125\u001b[0;31m     \u001b[0mrun\u001b[0m\u001b[0;34m(\u001b[0m\u001b[0mP\u001b[0m\u001b[0;34m,\u001b[0m \u001b[0mg1\u001b[0m\u001b[0;34m,\u001b[0m\u001b[0mg2\u001b[0m\u001b[0;34m,\u001b[0m\u001b[0mg3\u001b[0m\u001b[0;34m,\u001b[0m\u001b[0mg4\u001b[0m\u001b[0;34m,\u001b[0m \u001b[0mloss\u001b[0m\u001b[0;34m,\u001b[0m \u001b[0mbest\u001b[0m\u001b[0;34m,\u001b[0m \u001b[0msince\u001b[0m\u001b[0;34m,\u001b[0m \u001b[0miters\u001b[0m\u001b[0;34m)\u001b[0m                    \u001b[0;31m#run all cfa steps again (until solved or max recursion limit reached)\u001b[0m\u001b[0;34m\u001b[0m\u001b[0;34m\u001b[0m\u001b[0m\n\u001b[0m\u001b[1;32m    126\u001b[0m \u001b[0;34m\u001b[0m\u001b[0m\n\u001b[1;32m    127\u001b[0m \u001b[0;34m\u001b[0m\u001b[0m\n",
            "\u001b[0;32m<ipython-input-221-4195913b356b>\u001b[0m in \u001b[0;36mrun\u001b[0;34m(P, g1, g2, g3, g4, loss, best, since, iters)\u001b[0m\n\u001b[1;32m    123\u001b[0m \u001b[0;34m\u001b[0m\u001b[0m\n\u001b[1;32m    124\u001b[0m     \u001b[0miters\u001b[0m\u001b[0;34m+=\u001b[0m\u001b[0;36m1\u001b[0m                                                         \u001b[0;31m#count each iteration (epoch)\u001b[0m\u001b[0;34m\u001b[0m\u001b[0;34m\u001b[0m\u001b[0m\n\u001b[0;32m--> 125\u001b[0;31m     \u001b[0mrun\u001b[0m\u001b[0;34m(\u001b[0m\u001b[0mP\u001b[0m\u001b[0;34m,\u001b[0m \u001b[0mg1\u001b[0m\u001b[0;34m,\u001b[0m\u001b[0mg2\u001b[0m\u001b[0;34m,\u001b[0m\u001b[0mg3\u001b[0m\u001b[0;34m,\u001b[0m\u001b[0mg4\u001b[0m\u001b[0;34m,\u001b[0m \u001b[0mloss\u001b[0m\u001b[0;34m,\u001b[0m \u001b[0mbest\u001b[0m\u001b[0;34m,\u001b[0m \u001b[0msince\u001b[0m\u001b[0;34m,\u001b[0m \u001b[0miters\u001b[0m\u001b[0;34m)\u001b[0m                    \u001b[0;31m#run all cfa steps again (until solved or max recursion limit reached)\u001b[0m\u001b[0;34m\u001b[0m\u001b[0;34m\u001b[0m\u001b[0m\n\u001b[0m\u001b[1;32m    126\u001b[0m \u001b[0;34m\u001b[0m\u001b[0m\n\u001b[1;32m    127\u001b[0m \u001b[0;34m\u001b[0m\u001b[0m\n",
            "\u001b[0;32m<ipython-input-221-4195913b356b>\u001b[0m in \u001b[0;36mrun\u001b[0;34m(P, g1, g2, g3, g4, loss, best, since, iters)\u001b[0m\n\u001b[1;32m    123\u001b[0m \u001b[0;34m\u001b[0m\u001b[0m\n\u001b[1;32m    124\u001b[0m     \u001b[0miters\u001b[0m\u001b[0;34m+=\u001b[0m\u001b[0;36m1\u001b[0m                                                         \u001b[0;31m#count each iteration (epoch)\u001b[0m\u001b[0;34m\u001b[0m\u001b[0;34m\u001b[0m\u001b[0m\n\u001b[0;32m--> 125\u001b[0;31m     \u001b[0mrun\u001b[0m\u001b[0;34m(\u001b[0m\u001b[0mP\u001b[0m\u001b[0;34m,\u001b[0m \u001b[0mg1\u001b[0m\u001b[0;34m,\u001b[0m\u001b[0mg2\u001b[0m\u001b[0;34m,\u001b[0m\u001b[0mg3\u001b[0m\u001b[0;34m,\u001b[0m\u001b[0mg4\u001b[0m\u001b[0;34m,\u001b[0m \u001b[0mloss\u001b[0m\u001b[0;34m,\u001b[0m \u001b[0mbest\u001b[0m\u001b[0;34m,\u001b[0m \u001b[0msince\u001b[0m\u001b[0;34m,\u001b[0m \u001b[0miters\u001b[0m\u001b[0;34m)\u001b[0m                    \u001b[0;31m#run all cfa steps again (until solved or max recursion limit reached)\u001b[0m\u001b[0;34m\u001b[0m\u001b[0;34m\u001b[0m\u001b[0m\n\u001b[0m\u001b[1;32m    126\u001b[0m \u001b[0;34m\u001b[0m\u001b[0m\n\u001b[1;32m    127\u001b[0m \u001b[0;34m\u001b[0m\u001b[0m\n",
            "\u001b[0;32m<ipython-input-221-4195913b356b>\u001b[0m in \u001b[0;36mrun\u001b[0;34m(P, g1, g2, g3, g4, loss, best, since, iters)\u001b[0m\n\u001b[1;32m    123\u001b[0m \u001b[0;34m\u001b[0m\u001b[0m\n\u001b[1;32m    124\u001b[0m     \u001b[0miters\u001b[0m\u001b[0;34m+=\u001b[0m\u001b[0;36m1\u001b[0m                                                         \u001b[0;31m#count each iteration (epoch)\u001b[0m\u001b[0;34m\u001b[0m\u001b[0;34m\u001b[0m\u001b[0m\n\u001b[0;32m--> 125\u001b[0;31m     \u001b[0mrun\u001b[0m\u001b[0;34m(\u001b[0m\u001b[0mP\u001b[0m\u001b[0;34m,\u001b[0m \u001b[0mg1\u001b[0m\u001b[0;34m,\u001b[0m\u001b[0mg2\u001b[0m\u001b[0;34m,\u001b[0m\u001b[0mg3\u001b[0m\u001b[0;34m,\u001b[0m\u001b[0mg4\u001b[0m\u001b[0;34m,\u001b[0m \u001b[0mloss\u001b[0m\u001b[0;34m,\u001b[0m \u001b[0mbest\u001b[0m\u001b[0;34m,\u001b[0m \u001b[0msince\u001b[0m\u001b[0;34m,\u001b[0m \u001b[0miters\u001b[0m\u001b[0;34m)\u001b[0m                    \u001b[0;31m#run all cfa steps again (until solved or max recursion limit reached)\u001b[0m\u001b[0;34m\u001b[0m\u001b[0;34m\u001b[0m\u001b[0m\n\u001b[0m\u001b[1;32m    126\u001b[0m \u001b[0;34m\u001b[0m\u001b[0m\n\u001b[1;32m    127\u001b[0m \u001b[0;34m\u001b[0m\u001b[0m\n",
            "\u001b[0;32m<ipython-input-221-4195913b356b>\u001b[0m in \u001b[0;36mrun\u001b[0;34m(P, g1, g2, g3, g4, loss, best, since, iters)\u001b[0m\n\u001b[1;32m    123\u001b[0m \u001b[0;34m\u001b[0m\u001b[0m\n\u001b[1;32m    124\u001b[0m     \u001b[0miters\u001b[0m\u001b[0;34m+=\u001b[0m\u001b[0;36m1\u001b[0m                                                         \u001b[0;31m#count each iteration (epoch)\u001b[0m\u001b[0;34m\u001b[0m\u001b[0;34m\u001b[0m\u001b[0m\n\u001b[0;32m--> 125\u001b[0;31m     \u001b[0mrun\u001b[0m\u001b[0;34m(\u001b[0m\u001b[0mP\u001b[0m\u001b[0;34m,\u001b[0m \u001b[0mg1\u001b[0m\u001b[0;34m,\u001b[0m\u001b[0mg2\u001b[0m\u001b[0;34m,\u001b[0m\u001b[0mg3\u001b[0m\u001b[0;34m,\u001b[0m\u001b[0mg4\u001b[0m\u001b[0;34m,\u001b[0m \u001b[0mloss\u001b[0m\u001b[0;34m,\u001b[0m \u001b[0mbest\u001b[0m\u001b[0;34m,\u001b[0m \u001b[0msince\u001b[0m\u001b[0;34m,\u001b[0m \u001b[0miters\u001b[0m\u001b[0;34m)\u001b[0m                    \u001b[0;31m#run all cfa steps again (until solved or max recursion limit reached)\u001b[0m\u001b[0;34m\u001b[0m\u001b[0;34m\u001b[0m\u001b[0m\n\u001b[0m\u001b[1;32m    126\u001b[0m \u001b[0;34m\u001b[0m\u001b[0m\n\u001b[1;32m    127\u001b[0m \u001b[0;34m\u001b[0m\u001b[0m\n",
            "\u001b[0;32m<ipython-input-221-4195913b356b>\u001b[0m in \u001b[0;36mrun\u001b[0;34m(P, g1, g2, g3, g4, loss, best, since, iters)\u001b[0m\n\u001b[1;32m    123\u001b[0m \u001b[0;34m\u001b[0m\u001b[0m\n\u001b[1;32m    124\u001b[0m     \u001b[0miters\u001b[0m\u001b[0;34m+=\u001b[0m\u001b[0;36m1\u001b[0m                                                         \u001b[0;31m#count each iteration (epoch)\u001b[0m\u001b[0;34m\u001b[0m\u001b[0;34m\u001b[0m\u001b[0m\n\u001b[0;32m--> 125\u001b[0;31m     \u001b[0mrun\u001b[0m\u001b[0;34m(\u001b[0m\u001b[0mP\u001b[0m\u001b[0;34m,\u001b[0m \u001b[0mg1\u001b[0m\u001b[0;34m,\u001b[0m\u001b[0mg2\u001b[0m\u001b[0;34m,\u001b[0m\u001b[0mg3\u001b[0m\u001b[0;34m,\u001b[0m\u001b[0mg4\u001b[0m\u001b[0;34m,\u001b[0m \u001b[0mloss\u001b[0m\u001b[0;34m,\u001b[0m \u001b[0mbest\u001b[0m\u001b[0;34m,\u001b[0m \u001b[0msince\u001b[0m\u001b[0;34m,\u001b[0m \u001b[0miters\u001b[0m\u001b[0;34m)\u001b[0m                    \u001b[0;31m#run all cfa steps again (until solved or max recursion limit reached)\u001b[0m\u001b[0;34m\u001b[0m\u001b[0;34m\u001b[0m\u001b[0m\n\u001b[0m\u001b[1;32m    126\u001b[0m \u001b[0;34m\u001b[0m\u001b[0m\n\u001b[1;32m    127\u001b[0m \u001b[0;34m\u001b[0m\u001b[0m\n",
            "\u001b[0;32m<ipython-input-221-4195913b356b>\u001b[0m in \u001b[0;36mrun\u001b[0;34m(P, g1, g2, g3, g4, loss, best, since, iters)\u001b[0m\n\u001b[1;32m    123\u001b[0m \u001b[0;34m\u001b[0m\u001b[0m\n\u001b[1;32m    124\u001b[0m     \u001b[0miters\u001b[0m\u001b[0;34m+=\u001b[0m\u001b[0;36m1\u001b[0m                                                         \u001b[0;31m#count each iteration (epoch)\u001b[0m\u001b[0;34m\u001b[0m\u001b[0;34m\u001b[0m\u001b[0m\n\u001b[0;32m--> 125\u001b[0;31m     \u001b[0mrun\u001b[0m\u001b[0;34m(\u001b[0m\u001b[0mP\u001b[0m\u001b[0;34m,\u001b[0m \u001b[0mg1\u001b[0m\u001b[0;34m,\u001b[0m\u001b[0mg2\u001b[0m\u001b[0;34m,\u001b[0m\u001b[0mg3\u001b[0m\u001b[0;34m,\u001b[0m\u001b[0mg4\u001b[0m\u001b[0;34m,\u001b[0m \u001b[0mloss\u001b[0m\u001b[0;34m,\u001b[0m \u001b[0mbest\u001b[0m\u001b[0;34m,\u001b[0m \u001b[0msince\u001b[0m\u001b[0;34m,\u001b[0m \u001b[0miters\u001b[0m\u001b[0;34m)\u001b[0m                    \u001b[0;31m#run all cfa steps again (until solved or max recursion limit reached)\u001b[0m\u001b[0;34m\u001b[0m\u001b[0;34m\u001b[0m\u001b[0m\n\u001b[0m\u001b[1;32m    126\u001b[0m \u001b[0;34m\u001b[0m\u001b[0m\n\u001b[1;32m    127\u001b[0m \u001b[0;34m\u001b[0m\u001b[0m\n",
            "\u001b[0;32m<ipython-input-221-4195913b356b>\u001b[0m in \u001b[0;36mrun\u001b[0;34m(P, g1, g2, g3, g4, loss, best, since, iters)\u001b[0m\n\u001b[1;32m    123\u001b[0m \u001b[0;34m\u001b[0m\u001b[0m\n\u001b[1;32m    124\u001b[0m     \u001b[0miters\u001b[0m\u001b[0;34m+=\u001b[0m\u001b[0;36m1\u001b[0m                                                         \u001b[0;31m#count each iteration (epoch)\u001b[0m\u001b[0;34m\u001b[0m\u001b[0;34m\u001b[0m\u001b[0m\n\u001b[0;32m--> 125\u001b[0;31m     \u001b[0mrun\u001b[0m\u001b[0;34m(\u001b[0m\u001b[0mP\u001b[0m\u001b[0;34m,\u001b[0m \u001b[0mg1\u001b[0m\u001b[0;34m,\u001b[0m\u001b[0mg2\u001b[0m\u001b[0;34m,\u001b[0m\u001b[0mg3\u001b[0m\u001b[0;34m,\u001b[0m\u001b[0mg4\u001b[0m\u001b[0;34m,\u001b[0m \u001b[0mloss\u001b[0m\u001b[0;34m,\u001b[0m \u001b[0mbest\u001b[0m\u001b[0;34m,\u001b[0m \u001b[0msince\u001b[0m\u001b[0;34m,\u001b[0m \u001b[0miters\u001b[0m\u001b[0;34m)\u001b[0m                    \u001b[0;31m#run all cfa steps again (until solved or max recursion limit reached)\u001b[0m\u001b[0;34m\u001b[0m\u001b[0;34m\u001b[0m\u001b[0m\n\u001b[0m\u001b[1;32m    126\u001b[0m \u001b[0;34m\u001b[0m\u001b[0m\n\u001b[1;32m    127\u001b[0m \u001b[0;34m\u001b[0m\u001b[0m\n",
            "\u001b[0;32m<ipython-input-221-4195913b356b>\u001b[0m in \u001b[0;36mrun\u001b[0;34m(P, g1, g2, g3, g4, loss, best, since, iters)\u001b[0m\n\u001b[1;32m    123\u001b[0m \u001b[0;34m\u001b[0m\u001b[0m\n\u001b[1;32m    124\u001b[0m     \u001b[0miters\u001b[0m\u001b[0;34m+=\u001b[0m\u001b[0;36m1\u001b[0m                                                         \u001b[0;31m#count each iteration (epoch)\u001b[0m\u001b[0;34m\u001b[0m\u001b[0;34m\u001b[0m\u001b[0m\n\u001b[0;32m--> 125\u001b[0;31m     \u001b[0mrun\u001b[0m\u001b[0;34m(\u001b[0m\u001b[0mP\u001b[0m\u001b[0;34m,\u001b[0m \u001b[0mg1\u001b[0m\u001b[0;34m,\u001b[0m\u001b[0mg2\u001b[0m\u001b[0;34m,\u001b[0m\u001b[0mg3\u001b[0m\u001b[0;34m,\u001b[0m\u001b[0mg4\u001b[0m\u001b[0;34m,\u001b[0m \u001b[0mloss\u001b[0m\u001b[0;34m,\u001b[0m \u001b[0mbest\u001b[0m\u001b[0;34m,\u001b[0m \u001b[0msince\u001b[0m\u001b[0;34m,\u001b[0m \u001b[0miters\u001b[0m\u001b[0;34m)\u001b[0m                    \u001b[0;31m#run all cfa steps again (until solved or max recursion limit reached)\u001b[0m\u001b[0;34m\u001b[0m\u001b[0;34m\u001b[0m\u001b[0m\n\u001b[0m\u001b[1;32m    126\u001b[0m \u001b[0;34m\u001b[0m\u001b[0m\n\u001b[1;32m    127\u001b[0m \u001b[0;34m\u001b[0m\u001b[0m\n",
            "\u001b[0;32m<ipython-input-221-4195913b356b>\u001b[0m in \u001b[0;36mrun\u001b[0;34m(P, g1, g2, g3, g4, loss, best, since, iters)\u001b[0m\n\u001b[1;32m    123\u001b[0m \u001b[0;34m\u001b[0m\u001b[0m\n\u001b[1;32m    124\u001b[0m     \u001b[0miters\u001b[0m\u001b[0;34m+=\u001b[0m\u001b[0;36m1\u001b[0m                                                         \u001b[0;31m#count each iteration (epoch)\u001b[0m\u001b[0;34m\u001b[0m\u001b[0;34m\u001b[0m\u001b[0m\n\u001b[0;32m--> 125\u001b[0;31m     \u001b[0mrun\u001b[0m\u001b[0;34m(\u001b[0m\u001b[0mP\u001b[0m\u001b[0;34m,\u001b[0m \u001b[0mg1\u001b[0m\u001b[0;34m,\u001b[0m\u001b[0mg2\u001b[0m\u001b[0;34m,\u001b[0m\u001b[0mg3\u001b[0m\u001b[0;34m,\u001b[0m\u001b[0mg4\u001b[0m\u001b[0;34m,\u001b[0m \u001b[0mloss\u001b[0m\u001b[0;34m,\u001b[0m \u001b[0mbest\u001b[0m\u001b[0;34m,\u001b[0m \u001b[0msince\u001b[0m\u001b[0;34m,\u001b[0m \u001b[0miters\u001b[0m\u001b[0;34m)\u001b[0m                    \u001b[0;31m#run all cfa steps again (until solved or max recursion limit reached)\u001b[0m\u001b[0;34m\u001b[0m\u001b[0;34m\u001b[0m\u001b[0m\n\u001b[0m\u001b[1;32m    126\u001b[0m \u001b[0;34m\u001b[0m\u001b[0m\n\u001b[1;32m    127\u001b[0m \u001b[0;34m\u001b[0m\u001b[0m\n",
            "\u001b[0;32m<ipython-input-221-4195913b356b>\u001b[0m in \u001b[0;36mrun\u001b[0;34m(P, g1, g2, g3, g4, loss, best, since, iters)\u001b[0m\n\u001b[1;32m    123\u001b[0m \u001b[0;34m\u001b[0m\u001b[0m\n\u001b[1;32m    124\u001b[0m     \u001b[0miters\u001b[0m\u001b[0;34m+=\u001b[0m\u001b[0;36m1\u001b[0m                                                         \u001b[0;31m#count each iteration (epoch)\u001b[0m\u001b[0;34m\u001b[0m\u001b[0;34m\u001b[0m\u001b[0m\n\u001b[0;32m--> 125\u001b[0;31m     \u001b[0mrun\u001b[0m\u001b[0;34m(\u001b[0m\u001b[0mP\u001b[0m\u001b[0;34m,\u001b[0m \u001b[0mg1\u001b[0m\u001b[0;34m,\u001b[0m\u001b[0mg2\u001b[0m\u001b[0;34m,\u001b[0m\u001b[0mg3\u001b[0m\u001b[0;34m,\u001b[0m\u001b[0mg4\u001b[0m\u001b[0;34m,\u001b[0m \u001b[0mloss\u001b[0m\u001b[0;34m,\u001b[0m \u001b[0mbest\u001b[0m\u001b[0;34m,\u001b[0m \u001b[0msince\u001b[0m\u001b[0;34m,\u001b[0m \u001b[0miters\u001b[0m\u001b[0;34m)\u001b[0m                    \u001b[0;31m#run all cfa steps again (until solved or max recursion limit reached)\u001b[0m\u001b[0;34m\u001b[0m\u001b[0;34m\u001b[0m\u001b[0m\n\u001b[0m\u001b[1;32m    126\u001b[0m \u001b[0;34m\u001b[0m\u001b[0m\n\u001b[1;32m    127\u001b[0m \u001b[0;34m\u001b[0m\u001b[0m\n",
            "\u001b[0;32m<ipython-input-221-4195913b356b>\u001b[0m in \u001b[0;36mrun\u001b[0;34m(P, g1, g2, g3, g4, loss, best, since, iters)\u001b[0m\n\u001b[1;32m    123\u001b[0m \u001b[0;34m\u001b[0m\u001b[0m\n\u001b[1;32m    124\u001b[0m     \u001b[0miters\u001b[0m\u001b[0;34m+=\u001b[0m\u001b[0;36m1\u001b[0m                                                         \u001b[0;31m#count each iteration (epoch)\u001b[0m\u001b[0;34m\u001b[0m\u001b[0;34m\u001b[0m\u001b[0m\n\u001b[0;32m--> 125\u001b[0;31m     \u001b[0mrun\u001b[0m\u001b[0;34m(\u001b[0m\u001b[0mP\u001b[0m\u001b[0;34m,\u001b[0m \u001b[0mg1\u001b[0m\u001b[0;34m,\u001b[0m\u001b[0mg2\u001b[0m\u001b[0;34m,\u001b[0m\u001b[0mg3\u001b[0m\u001b[0;34m,\u001b[0m\u001b[0mg4\u001b[0m\u001b[0;34m,\u001b[0m \u001b[0mloss\u001b[0m\u001b[0;34m,\u001b[0m \u001b[0mbest\u001b[0m\u001b[0;34m,\u001b[0m \u001b[0msince\u001b[0m\u001b[0;34m,\u001b[0m \u001b[0miters\u001b[0m\u001b[0;34m)\u001b[0m                    \u001b[0;31m#run all cfa steps again (until solved or max recursion limit reached)\u001b[0m\u001b[0;34m\u001b[0m\u001b[0;34m\u001b[0m\u001b[0m\n\u001b[0m\u001b[1;32m    126\u001b[0m \u001b[0;34m\u001b[0m\u001b[0m\n\u001b[1;32m    127\u001b[0m \u001b[0;34m\u001b[0m\u001b[0m\n",
            "\u001b[0;32m<ipython-input-221-4195913b356b>\u001b[0m in \u001b[0;36mrun\u001b[0;34m(P, g1, g2, g3, g4, loss, best, since, iters)\u001b[0m\n\u001b[1;32m    123\u001b[0m \u001b[0;34m\u001b[0m\u001b[0m\n\u001b[1;32m    124\u001b[0m     \u001b[0miters\u001b[0m\u001b[0;34m+=\u001b[0m\u001b[0;36m1\u001b[0m                                                         \u001b[0;31m#count each iteration (epoch)\u001b[0m\u001b[0;34m\u001b[0m\u001b[0;34m\u001b[0m\u001b[0m\n\u001b[0;32m--> 125\u001b[0;31m     \u001b[0mrun\u001b[0m\u001b[0;34m(\u001b[0m\u001b[0mP\u001b[0m\u001b[0;34m,\u001b[0m \u001b[0mg1\u001b[0m\u001b[0;34m,\u001b[0m\u001b[0mg2\u001b[0m\u001b[0;34m,\u001b[0m\u001b[0mg3\u001b[0m\u001b[0;34m,\u001b[0m\u001b[0mg4\u001b[0m\u001b[0;34m,\u001b[0m \u001b[0mloss\u001b[0m\u001b[0;34m,\u001b[0m \u001b[0mbest\u001b[0m\u001b[0;34m,\u001b[0m \u001b[0msince\u001b[0m\u001b[0;34m,\u001b[0m \u001b[0miters\u001b[0m\u001b[0;34m)\u001b[0m                    \u001b[0;31m#run all cfa steps again (until solved or max recursion limit reached)\u001b[0m\u001b[0;34m\u001b[0m\u001b[0;34m\u001b[0m\u001b[0m\n\u001b[0m\u001b[1;32m    126\u001b[0m \u001b[0;34m\u001b[0m\u001b[0m\n\u001b[1;32m    127\u001b[0m \u001b[0;34m\u001b[0m\u001b[0m\n",
            "\u001b[0;32m<ipython-input-221-4195913b356b>\u001b[0m in \u001b[0;36mrun\u001b[0;34m(P, g1, g2, g3, g4, loss, best, since, iters)\u001b[0m\n\u001b[1;32m    123\u001b[0m \u001b[0;34m\u001b[0m\u001b[0m\n\u001b[1;32m    124\u001b[0m     \u001b[0miters\u001b[0m\u001b[0;34m+=\u001b[0m\u001b[0;36m1\u001b[0m                                                         \u001b[0;31m#count each iteration (epoch)\u001b[0m\u001b[0;34m\u001b[0m\u001b[0;34m\u001b[0m\u001b[0m\n\u001b[0;32m--> 125\u001b[0;31m     \u001b[0mrun\u001b[0m\u001b[0;34m(\u001b[0m\u001b[0mP\u001b[0m\u001b[0;34m,\u001b[0m \u001b[0mg1\u001b[0m\u001b[0;34m,\u001b[0m\u001b[0mg2\u001b[0m\u001b[0;34m,\u001b[0m\u001b[0mg3\u001b[0m\u001b[0;34m,\u001b[0m\u001b[0mg4\u001b[0m\u001b[0;34m,\u001b[0m \u001b[0mloss\u001b[0m\u001b[0;34m,\u001b[0m \u001b[0mbest\u001b[0m\u001b[0;34m,\u001b[0m \u001b[0msince\u001b[0m\u001b[0;34m,\u001b[0m \u001b[0miters\u001b[0m\u001b[0;34m)\u001b[0m                    \u001b[0;31m#run all cfa steps again (until solved or max recursion limit reached)\u001b[0m\u001b[0;34m\u001b[0m\u001b[0;34m\u001b[0m\u001b[0m\n\u001b[0m\u001b[1;32m    126\u001b[0m \u001b[0;34m\u001b[0m\u001b[0m\n\u001b[1;32m    127\u001b[0m \u001b[0;34m\u001b[0m\u001b[0m\n",
            "\u001b[0;32m<ipython-input-221-4195913b356b>\u001b[0m in \u001b[0;36mrun\u001b[0;34m(P, g1, g2, g3, g4, loss, best, since, iters)\u001b[0m\n\u001b[1;32m    123\u001b[0m \u001b[0;34m\u001b[0m\u001b[0m\n\u001b[1;32m    124\u001b[0m     \u001b[0miters\u001b[0m\u001b[0;34m+=\u001b[0m\u001b[0;36m1\u001b[0m                                                         \u001b[0;31m#count each iteration (epoch)\u001b[0m\u001b[0;34m\u001b[0m\u001b[0;34m\u001b[0m\u001b[0m\n\u001b[0;32m--> 125\u001b[0;31m     \u001b[0mrun\u001b[0m\u001b[0;34m(\u001b[0m\u001b[0mP\u001b[0m\u001b[0;34m,\u001b[0m \u001b[0mg1\u001b[0m\u001b[0;34m,\u001b[0m\u001b[0mg2\u001b[0m\u001b[0;34m,\u001b[0m\u001b[0mg3\u001b[0m\u001b[0;34m,\u001b[0m\u001b[0mg4\u001b[0m\u001b[0;34m,\u001b[0m \u001b[0mloss\u001b[0m\u001b[0;34m,\u001b[0m \u001b[0mbest\u001b[0m\u001b[0;34m,\u001b[0m \u001b[0msince\u001b[0m\u001b[0;34m,\u001b[0m \u001b[0miters\u001b[0m\u001b[0;34m)\u001b[0m                    \u001b[0;31m#run all cfa steps again (until solved or max recursion limit reached)\u001b[0m\u001b[0;34m\u001b[0m\u001b[0;34m\u001b[0m\u001b[0m\n\u001b[0m\u001b[1;32m    126\u001b[0m \u001b[0;34m\u001b[0m\u001b[0m\n\u001b[1;32m    127\u001b[0m \u001b[0;34m\u001b[0m\u001b[0m\n",
            "\u001b[0;32m<ipython-input-221-4195913b356b>\u001b[0m in \u001b[0;36mrun\u001b[0;34m(P, g1, g2, g3, g4, loss, best, since, iters)\u001b[0m\n\u001b[1;32m    123\u001b[0m \u001b[0;34m\u001b[0m\u001b[0m\n\u001b[1;32m    124\u001b[0m     \u001b[0miters\u001b[0m\u001b[0;34m+=\u001b[0m\u001b[0;36m1\u001b[0m                                                         \u001b[0;31m#count each iteration (epoch)\u001b[0m\u001b[0;34m\u001b[0m\u001b[0;34m\u001b[0m\u001b[0m\n\u001b[0;32m--> 125\u001b[0;31m     \u001b[0mrun\u001b[0m\u001b[0;34m(\u001b[0m\u001b[0mP\u001b[0m\u001b[0;34m,\u001b[0m \u001b[0mg1\u001b[0m\u001b[0;34m,\u001b[0m\u001b[0mg2\u001b[0m\u001b[0;34m,\u001b[0m\u001b[0mg3\u001b[0m\u001b[0;34m,\u001b[0m\u001b[0mg4\u001b[0m\u001b[0;34m,\u001b[0m \u001b[0mloss\u001b[0m\u001b[0;34m,\u001b[0m \u001b[0mbest\u001b[0m\u001b[0;34m,\u001b[0m \u001b[0msince\u001b[0m\u001b[0;34m,\u001b[0m \u001b[0miters\u001b[0m\u001b[0;34m)\u001b[0m                    \u001b[0;31m#run all cfa steps again (until solved or max recursion limit reached)\u001b[0m\u001b[0;34m\u001b[0m\u001b[0;34m\u001b[0m\u001b[0m\n\u001b[0m\u001b[1;32m    126\u001b[0m \u001b[0;34m\u001b[0m\u001b[0m\n\u001b[1;32m    127\u001b[0m \u001b[0;34m\u001b[0m\u001b[0m\n",
            "\u001b[0;32m<ipython-input-221-4195913b356b>\u001b[0m in \u001b[0;36mrun\u001b[0;34m(P, g1, g2, g3, g4, loss, best, since, iters)\u001b[0m\n\u001b[1;32m    123\u001b[0m \u001b[0;34m\u001b[0m\u001b[0m\n\u001b[1;32m    124\u001b[0m     \u001b[0miters\u001b[0m\u001b[0;34m+=\u001b[0m\u001b[0;36m1\u001b[0m                                                         \u001b[0;31m#count each iteration (epoch)\u001b[0m\u001b[0;34m\u001b[0m\u001b[0;34m\u001b[0m\u001b[0m\n\u001b[0;32m--> 125\u001b[0;31m     \u001b[0mrun\u001b[0m\u001b[0;34m(\u001b[0m\u001b[0mP\u001b[0m\u001b[0;34m,\u001b[0m \u001b[0mg1\u001b[0m\u001b[0;34m,\u001b[0m\u001b[0mg2\u001b[0m\u001b[0;34m,\u001b[0m\u001b[0mg3\u001b[0m\u001b[0;34m,\u001b[0m\u001b[0mg4\u001b[0m\u001b[0;34m,\u001b[0m \u001b[0mloss\u001b[0m\u001b[0;34m,\u001b[0m \u001b[0mbest\u001b[0m\u001b[0;34m,\u001b[0m \u001b[0msince\u001b[0m\u001b[0;34m,\u001b[0m \u001b[0miters\u001b[0m\u001b[0;34m)\u001b[0m                    \u001b[0;31m#run all cfa steps again (until solved or max recursion limit reached)\u001b[0m\u001b[0;34m\u001b[0m\u001b[0;34m\u001b[0m\u001b[0m\n\u001b[0m\u001b[1;32m    126\u001b[0m \u001b[0;34m\u001b[0m\u001b[0m\n\u001b[1;32m    127\u001b[0m \u001b[0;34m\u001b[0m\u001b[0m\n",
            "\u001b[0;32m<ipython-input-221-4195913b356b>\u001b[0m in \u001b[0;36mrun\u001b[0;34m(P, g1, g2, g3, g4, loss, best, since, iters)\u001b[0m\n\u001b[1;32m    123\u001b[0m \u001b[0;34m\u001b[0m\u001b[0m\n\u001b[1;32m    124\u001b[0m     \u001b[0miters\u001b[0m\u001b[0;34m+=\u001b[0m\u001b[0;36m1\u001b[0m                                                         \u001b[0;31m#count each iteration (epoch)\u001b[0m\u001b[0;34m\u001b[0m\u001b[0;34m\u001b[0m\u001b[0m\n\u001b[0;32m--> 125\u001b[0;31m     \u001b[0mrun\u001b[0m\u001b[0;34m(\u001b[0m\u001b[0mP\u001b[0m\u001b[0;34m,\u001b[0m \u001b[0mg1\u001b[0m\u001b[0;34m,\u001b[0m\u001b[0mg2\u001b[0m\u001b[0;34m,\u001b[0m\u001b[0mg3\u001b[0m\u001b[0;34m,\u001b[0m\u001b[0mg4\u001b[0m\u001b[0;34m,\u001b[0m \u001b[0mloss\u001b[0m\u001b[0;34m,\u001b[0m \u001b[0mbest\u001b[0m\u001b[0;34m,\u001b[0m \u001b[0msince\u001b[0m\u001b[0;34m,\u001b[0m \u001b[0miters\u001b[0m\u001b[0;34m)\u001b[0m                    \u001b[0;31m#run all cfa steps again (until solved or max recursion limit reached)\u001b[0m\u001b[0;34m\u001b[0m\u001b[0;34m\u001b[0m\u001b[0m\n\u001b[0m\u001b[1;32m    126\u001b[0m \u001b[0;34m\u001b[0m\u001b[0m\n\u001b[1;32m    127\u001b[0m \u001b[0;34m\u001b[0m\u001b[0m\n",
            "\u001b[0;32m<ipython-input-221-4195913b356b>\u001b[0m in \u001b[0;36mrun\u001b[0;34m(P, g1, g2, g3, g4, loss, best, since, iters)\u001b[0m\n\u001b[1;32m    123\u001b[0m \u001b[0;34m\u001b[0m\u001b[0m\n\u001b[1;32m    124\u001b[0m     \u001b[0miters\u001b[0m\u001b[0;34m+=\u001b[0m\u001b[0;36m1\u001b[0m                                                         \u001b[0;31m#count each iteration (epoch)\u001b[0m\u001b[0;34m\u001b[0m\u001b[0;34m\u001b[0m\u001b[0m\n\u001b[0;32m--> 125\u001b[0;31m     \u001b[0mrun\u001b[0m\u001b[0;34m(\u001b[0m\u001b[0mP\u001b[0m\u001b[0;34m,\u001b[0m \u001b[0mg1\u001b[0m\u001b[0;34m,\u001b[0m\u001b[0mg2\u001b[0m\u001b[0;34m,\u001b[0m\u001b[0mg3\u001b[0m\u001b[0;34m,\u001b[0m\u001b[0mg4\u001b[0m\u001b[0;34m,\u001b[0m \u001b[0mloss\u001b[0m\u001b[0;34m,\u001b[0m \u001b[0mbest\u001b[0m\u001b[0;34m,\u001b[0m \u001b[0msince\u001b[0m\u001b[0;34m,\u001b[0m \u001b[0miters\u001b[0m\u001b[0;34m)\u001b[0m                    \u001b[0;31m#run all cfa steps again (until solved or max recursion limit reached)\u001b[0m\u001b[0;34m\u001b[0m\u001b[0;34m\u001b[0m\u001b[0m\n\u001b[0m\u001b[1;32m    126\u001b[0m \u001b[0;34m\u001b[0m\u001b[0m\n\u001b[1;32m    127\u001b[0m \u001b[0;34m\u001b[0m\u001b[0m\n",
            "\u001b[0;32m<ipython-input-221-4195913b356b>\u001b[0m in \u001b[0;36mrun\u001b[0;34m(P, g1, g2, g3, g4, loss, best, since, iters)\u001b[0m\n\u001b[1;32m    123\u001b[0m \u001b[0;34m\u001b[0m\u001b[0m\n\u001b[1;32m    124\u001b[0m     \u001b[0miters\u001b[0m\u001b[0;34m+=\u001b[0m\u001b[0;36m1\u001b[0m                                                         \u001b[0;31m#count each iteration (epoch)\u001b[0m\u001b[0;34m\u001b[0m\u001b[0;34m\u001b[0m\u001b[0m\n\u001b[0;32m--> 125\u001b[0;31m     \u001b[0mrun\u001b[0m\u001b[0;34m(\u001b[0m\u001b[0mP\u001b[0m\u001b[0;34m,\u001b[0m \u001b[0mg1\u001b[0m\u001b[0;34m,\u001b[0m\u001b[0mg2\u001b[0m\u001b[0;34m,\u001b[0m\u001b[0mg3\u001b[0m\u001b[0;34m,\u001b[0m\u001b[0mg4\u001b[0m\u001b[0;34m,\u001b[0m \u001b[0mloss\u001b[0m\u001b[0;34m,\u001b[0m \u001b[0mbest\u001b[0m\u001b[0;34m,\u001b[0m \u001b[0msince\u001b[0m\u001b[0;34m,\u001b[0m \u001b[0miters\u001b[0m\u001b[0;34m)\u001b[0m                    \u001b[0;31m#run all cfa steps again (until solved or max recursion limit reached)\u001b[0m\u001b[0;34m\u001b[0m\u001b[0;34m\u001b[0m\u001b[0m\n\u001b[0m\u001b[1;32m    126\u001b[0m \u001b[0;34m\u001b[0m\u001b[0m\n\u001b[1;32m    127\u001b[0m \u001b[0;34m\u001b[0m\u001b[0m\n",
            "\u001b[0;32m<ipython-input-221-4195913b356b>\u001b[0m in \u001b[0;36mrun\u001b[0;34m(P, g1, g2, g3, g4, loss, best, since, iters)\u001b[0m\n\u001b[1;32m    123\u001b[0m \u001b[0;34m\u001b[0m\u001b[0m\n\u001b[1;32m    124\u001b[0m     \u001b[0miters\u001b[0m\u001b[0;34m+=\u001b[0m\u001b[0;36m1\u001b[0m                                                         \u001b[0;31m#count each iteration (epoch)\u001b[0m\u001b[0;34m\u001b[0m\u001b[0;34m\u001b[0m\u001b[0m\n\u001b[0;32m--> 125\u001b[0;31m     \u001b[0mrun\u001b[0m\u001b[0;34m(\u001b[0m\u001b[0mP\u001b[0m\u001b[0;34m,\u001b[0m \u001b[0mg1\u001b[0m\u001b[0;34m,\u001b[0m\u001b[0mg2\u001b[0m\u001b[0;34m,\u001b[0m\u001b[0mg3\u001b[0m\u001b[0;34m,\u001b[0m\u001b[0mg4\u001b[0m\u001b[0;34m,\u001b[0m \u001b[0mloss\u001b[0m\u001b[0;34m,\u001b[0m \u001b[0mbest\u001b[0m\u001b[0;34m,\u001b[0m \u001b[0msince\u001b[0m\u001b[0;34m,\u001b[0m \u001b[0miters\u001b[0m\u001b[0;34m)\u001b[0m                    \u001b[0;31m#run all cfa steps again (until solved or max recursion limit reached)\u001b[0m\u001b[0;34m\u001b[0m\u001b[0;34m\u001b[0m\u001b[0m\n\u001b[0m\u001b[1;32m    126\u001b[0m \u001b[0;34m\u001b[0m\u001b[0m\n\u001b[1;32m    127\u001b[0m \u001b[0;34m\u001b[0m\u001b[0m\n",
            "\u001b[0;32m<ipython-input-221-4195913b356b>\u001b[0m in \u001b[0;36mrun\u001b[0;34m(P, g1, g2, g3, g4, loss, best, since, iters)\u001b[0m\n\u001b[1;32m    123\u001b[0m \u001b[0;34m\u001b[0m\u001b[0m\n\u001b[1;32m    124\u001b[0m     \u001b[0miters\u001b[0m\u001b[0;34m+=\u001b[0m\u001b[0;36m1\u001b[0m                                                         \u001b[0;31m#count each iteration (epoch)\u001b[0m\u001b[0;34m\u001b[0m\u001b[0;34m\u001b[0m\u001b[0m\n\u001b[0;32m--> 125\u001b[0;31m     \u001b[0mrun\u001b[0m\u001b[0;34m(\u001b[0m\u001b[0mP\u001b[0m\u001b[0;34m,\u001b[0m \u001b[0mg1\u001b[0m\u001b[0;34m,\u001b[0m\u001b[0mg2\u001b[0m\u001b[0;34m,\u001b[0m\u001b[0mg3\u001b[0m\u001b[0;34m,\u001b[0m\u001b[0mg4\u001b[0m\u001b[0;34m,\u001b[0m \u001b[0mloss\u001b[0m\u001b[0;34m,\u001b[0m \u001b[0mbest\u001b[0m\u001b[0;34m,\u001b[0m \u001b[0msince\u001b[0m\u001b[0;34m,\u001b[0m \u001b[0miters\u001b[0m\u001b[0;34m)\u001b[0m                    \u001b[0;31m#run all cfa steps again (until solved or max recursion limit reached)\u001b[0m\u001b[0;34m\u001b[0m\u001b[0;34m\u001b[0m\u001b[0m\n\u001b[0m\u001b[1;32m    126\u001b[0m \u001b[0;34m\u001b[0m\u001b[0m\n\u001b[1;32m    127\u001b[0m \u001b[0;34m\u001b[0m\u001b[0m\n",
            "\u001b[0;32m<ipython-input-221-4195913b356b>\u001b[0m in \u001b[0;36mrun\u001b[0;34m(P, g1, g2, g3, g4, loss, best, since, iters)\u001b[0m\n\u001b[1;32m    123\u001b[0m \u001b[0;34m\u001b[0m\u001b[0m\n\u001b[1;32m    124\u001b[0m     \u001b[0miters\u001b[0m\u001b[0;34m+=\u001b[0m\u001b[0;36m1\u001b[0m                                                         \u001b[0;31m#count each iteration (epoch)\u001b[0m\u001b[0;34m\u001b[0m\u001b[0;34m\u001b[0m\u001b[0m\n\u001b[0;32m--> 125\u001b[0;31m     \u001b[0mrun\u001b[0m\u001b[0;34m(\u001b[0m\u001b[0mP\u001b[0m\u001b[0;34m,\u001b[0m \u001b[0mg1\u001b[0m\u001b[0;34m,\u001b[0m\u001b[0mg2\u001b[0m\u001b[0;34m,\u001b[0m\u001b[0mg3\u001b[0m\u001b[0;34m,\u001b[0m\u001b[0mg4\u001b[0m\u001b[0;34m,\u001b[0m \u001b[0mloss\u001b[0m\u001b[0;34m,\u001b[0m \u001b[0mbest\u001b[0m\u001b[0;34m,\u001b[0m \u001b[0msince\u001b[0m\u001b[0;34m,\u001b[0m \u001b[0miters\u001b[0m\u001b[0;34m)\u001b[0m                    \u001b[0;31m#run all cfa steps again (until solved or max recursion limit reached)\u001b[0m\u001b[0;34m\u001b[0m\u001b[0;34m\u001b[0m\u001b[0m\n\u001b[0m\u001b[1;32m    126\u001b[0m \u001b[0;34m\u001b[0m\u001b[0m\n\u001b[1;32m    127\u001b[0m \u001b[0;34m\u001b[0m\u001b[0m\n",
            "\u001b[0;32m<ipython-input-221-4195913b356b>\u001b[0m in \u001b[0;36mrun\u001b[0;34m(P, g1, g2, g3, g4, loss, best, since, iters)\u001b[0m\n\u001b[1;32m    123\u001b[0m \u001b[0;34m\u001b[0m\u001b[0m\n\u001b[1;32m    124\u001b[0m     \u001b[0miters\u001b[0m\u001b[0;34m+=\u001b[0m\u001b[0;36m1\u001b[0m                                                         \u001b[0;31m#count each iteration (epoch)\u001b[0m\u001b[0;34m\u001b[0m\u001b[0;34m\u001b[0m\u001b[0m\n\u001b[0;32m--> 125\u001b[0;31m     \u001b[0mrun\u001b[0m\u001b[0;34m(\u001b[0m\u001b[0mP\u001b[0m\u001b[0;34m,\u001b[0m \u001b[0mg1\u001b[0m\u001b[0;34m,\u001b[0m\u001b[0mg2\u001b[0m\u001b[0;34m,\u001b[0m\u001b[0mg3\u001b[0m\u001b[0;34m,\u001b[0m\u001b[0mg4\u001b[0m\u001b[0;34m,\u001b[0m \u001b[0mloss\u001b[0m\u001b[0;34m,\u001b[0m \u001b[0mbest\u001b[0m\u001b[0;34m,\u001b[0m \u001b[0msince\u001b[0m\u001b[0;34m,\u001b[0m \u001b[0miters\u001b[0m\u001b[0;34m)\u001b[0m                    \u001b[0;31m#run all cfa steps again (until solved or max recursion limit reached)\u001b[0m\u001b[0;34m\u001b[0m\u001b[0;34m\u001b[0m\u001b[0m\n\u001b[0m\u001b[1;32m    126\u001b[0m \u001b[0;34m\u001b[0m\u001b[0m\n\u001b[1;32m    127\u001b[0m \u001b[0;34m\u001b[0m\u001b[0m\n",
            "\u001b[0;32m<ipython-input-221-4195913b356b>\u001b[0m in \u001b[0;36mrun\u001b[0;34m(P, g1, g2, g3, g4, loss, best, since, iters)\u001b[0m\n\u001b[1;32m    123\u001b[0m \u001b[0;34m\u001b[0m\u001b[0m\n\u001b[1;32m    124\u001b[0m     \u001b[0miters\u001b[0m\u001b[0;34m+=\u001b[0m\u001b[0;36m1\u001b[0m                                                         \u001b[0;31m#count each iteration (epoch)\u001b[0m\u001b[0;34m\u001b[0m\u001b[0;34m\u001b[0m\u001b[0m\n\u001b[0;32m--> 125\u001b[0;31m     \u001b[0mrun\u001b[0m\u001b[0;34m(\u001b[0m\u001b[0mP\u001b[0m\u001b[0;34m,\u001b[0m \u001b[0mg1\u001b[0m\u001b[0;34m,\u001b[0m\u001b[0mg2\u001b[0m\u001b[0;34m,\u001b[0m\u001b[0mg3\u001b[0m\u001b[0;34m,\u001b[0m\u001b[0mg4\u001b[0m\u001b[0;34m,\u001b[0m \u001b[0mloss\u001b[0m\u001b[0;34m,\u001b[0m \u001b[0mbest\u001b[0m\u001b[0;34m,\u001b[0m \u001b[0msince\u001b[0m\u001b[0;34m,\u001b[0m \u001b[0miters\u001b[0m\u001b[0;34m)\u001b[0m                    \u001b[0;31m#run all cfa steps again (until solved or max recursion limit reached)\u001b[0m\u001b[0;34m\u001b[0m\u001b[0;34m\u001b[0m\u001b[0m\n\u001b[0m\u001b[1;32m    126\u001b[0m \u001b[0;34m\u001b[0m\u001b[0m\n\u001b[1;32m    127\u001b[0m \u001b[0;34m\u001b[0m\u001b[0m\n",
            "\u001b[0;32m<ipython-input-221-4195913b356b>\u001b[0m in \u001b[0;36mrun\u001b[0;34m(P, g1, g2, g3, g4, loss, best, since, iters)\u001b[0m\n\u001b[1;32m    123\u001b[0m \u001b[0;34m\u001b[0m\u001b[0m\n\u001b[1;32m    124\u001b[0m     \u001b[0miters\u001b[0m\u001b[0;34m+=\u001b[0m\u001b[0;36m1\u001b[0m                                                         \u001b[0;31m#count each iteration (epoch)\u001b[0m\u001b[0;34m\u001b[0m\u001b[0;34m\u001b[0m\u001b[0m\n\u001b[0;32m--> 125\u001b[0;31m     \u001b[0mrun\u001b[0m\u001b[0;34m(\u001b[0m\u001b[0mP\u001b[0m\u001b[0;34m,\u001b[0m \u001b[0mg1\u001b[0m\u001b[0;34m,\u001b[0m\u001b[0mg2\u001b[0m\u001b[0;34m,\u001b[0m\u001b[0mg3\u001b[0m\u001b[0;34m,\u001b[0m\u001b[0mg4\u001b[0m\u001b[0;34m,\u001b[0m \u001b[0mloss\u001b[0m\u001b[0;34m,\u001b[0m \u001b[0mbest\u001b[0m\u001b[0;34m,\u001b[0m \u001b[0msince\u001b[0m\u001b[0;34m,\u001b[0m \u001b[0miters\u001b[0m\u001b[0;34m)\u001b[0m                    \u001b[0;31m#run all cfa steps again (until solved or max recursion limit reached)\u001b[0m\u001b[0;34m\u001b[0m\u001b[0;34m\u001b[0m\u001b[0m\n\u001b[0m\u001b[1;32m    126\u001b[0m \u001b[0;34m\u001b[0m\u001b[0m\n\u001b[1;32m    127\u001b[0m \u001b[0;34m\u001b[0m\u001b[0m\n",
            "\u001b[0;32m<ipython-input-221-4195913b356b>\u001b[0m in \u001b[0;36mrun\u001b[0;34m(P, g1, g2, g3, g4, loss, best, since, iters)\u001b[0m\n\u001b[1;32m    123\u001b[0m \u001b[0;34m\u001b[0m\u001b[0m\n\u001b[1;32m    124\u001b[0m     \u001b[0miters\u001b[0m\u001b[0;34m+=\u001b[0m\u001b[0;36m1\u001b[0m                                                         \u001b[0;31m#count each iteration (epoch)\u001b[0m\u001b[0;34m\u001b[0m\u001b[0;34m\u001b[0m\u001b[0m\n\u001b[0;32m--> 125\u001b[0;31m     \u001b[0mrun\u001b[0m\u001b[0;34m(\u001b[0m\u001b[0mP\u001b[0m\u001b[0;34m,\u001b[0m \u001b[0mg1\u001b[0m\u001b[0;34m,\u001b[0m\u001b[0mg2\u001b[0m\u001b[0;34m,\u001b[0m\u001b[0mg3\u001b[0m\u001b[0;34m,\u001b[0m\u001b[0mg4\u001b[0m\u001b[0;34m,\u001b[0m \u001b[0mloss\u001b[0m\u001b[0;34m,\u001b[0m \u001b[0mbest\u001b[0m\u001b[0;34m,\u001b[0m \u001b[0msince\u001b[0m\u001b[0;34m,\u001b[0m \u001b[0miters\u001b[0m\u001b[0;34m)\u001b[0m                    \u001b[0;31m#run all cfa steps again (until solved or max recursion limit reached)\u001b[0m\u001b[0;34m\u001b[0m\u001b[0;34m\u001b[0m\u001b[0m\n\u001b[0m\u001b[1;32m    126\u001b[0m \u001b[0;34m\u001b[0m\u001b[0m\n\u001b[1;32m    127\u001b[0m \u001b[0;34m\u001b[0m\u001b[0m\n",
            "\u001b[0;32m<ipython-input-221-4195913b356b>\u001b[0m in \u001b[0;36mrun\u001b[0;34m(P, g1, g2, g3, g4, loss, best, since, iters)\u001b[0m\n\u001b[1;32m    123\u001b[0m \u001b[0;34m\u001b[0m\u001b[0m\n\u001b[1;32m    124\u001b[0m     \u001b[0miters\u001b[0m\u001b[0;34m+=\u001b[0m\u001b[0;36m1\u001b[0m                                                         \u001b[0;31m#count each iteration (epoch)\u001b[0m\u001b[0;34m\u001b[0m\u001b[0;34m\u001b[0m\u001b[0m\n\u001b[0;32m--> 125\u001b[0;31m     \u001b[0mrun\u001b[0m\u001b[0;34m(\u001b[0m\u001b[0mP\u001b[0m\u001b[0;34m,\u001b[0m \u001b[0mg1\u001b[0m\u001b[0;34m,\u001b[0m\u001b[0mg2\u001b[0m\u001b[0;34m,\u001b[0m\u001b[0mg3\u001b[0m\u001b[0;34m,\u001b[0m\u001b[0mg4\u001b[0m\u001b[0;34m,\u001b[0m \u001b[0mloss\u001b[0m\u001b[0;34m,\u001b[0m \u001b[0mbest\u001b[0m\u001b[0;34m,\u001b[0m \u001b[0msince\u001b[0m\u001b[0;34m,\u001b[0m \u001b[0miters\u001b[0m\u001b[0;34m)\u001b[0m                    \u001b[0;31m#run all cfa steps again (until solved or max recursion limit reached)\u001b[0m\u001b[0;34m\u001b[0m\u001b[0;34m\u001b[0m\u001b[0m\n\u001b[0m\u001b[1;32m    126\u001b[0m \u001b[0;34m\u001b[0m\u001b[0m\n\u001b[1;32m    127\u001b[0m \u001b[0;34m\u001b[0m\u001b[0m\n",
            "\u001b[0;32m<ipython-input-221-4195913b356b>\u001b[0m in \u001b[0;36mrun\u001b[0;34m(P, g1, g2, g3, g4, loss, best, since, iters)\u001b[0m\n\u001b[1;32m    123\u001b[0m \u001b[0;34m\u001b[0m\u001b[0m\n\u001b[1;32m    124\u001b[0m     \u001b[0miters\u001b[0m\u001b[0;34m+=\u001b[0m\u001b[0;36m1\u001b[0m                                                         \u001b[0;31m#count each iteration (epoch)\u001b[0m\u001b[0;34m\u001b[0m\u001b[0;34m\u001b[0m\u001b[0m\n\u001b[0;32m--> 125\u001b[0;31m     \u001b[0mrun\u001b[0m\u001b[0;34m(\u001b[0m\u001b[0mP\u001b[0m\u001b[0;34m,\u001b[0m \u001b[0mg1\u001b[0m\u001b[0;34m,\u001b[0m\u001b[0mg2\u001b[0m\u001b[0;34m,\u001b[0m\u001b[0mg3\u001b[0m\u001b[0;34m,\u001b[0m\u001b[0mg4\u001b[0m\u001b[0;34m,\u001b[0m \u001b[0mloss\u001b[0m\u001b[0;34m,\u001b[0m \u001b[0mbest\u001b[0m\u001b[0;34m,\u001b[0m \u001b[0msince\u001b[0m\u001b[0;34m,\u001b[0m \u001b[0miters\u001b[0m\u001b[0;34m)\u001b[0m                    \u001b[0;31m#run all cfa steps again (until solved or max recursion limit reached)\u001b[0m\u001b[0;34m\u001b[0m\u001b[0;34m\u001b[0m\u001b[0m\n\u001b[0m\u001b[1;32m    126\u001b[0m \u001b[0;34m\u001b[0m\u001b[0m\n\u001b[1;32m    127\u001b[0m \u001b[0;34m\u001b[0m\u001b[0m\n",
            "\u001b[0;32m<ipython-input-221-4195913b356b>\u001b[0m in \u001b[0;36mrun\u001b[0;34m(P, g1, g2, g3, g4, loss, best, since, iters)\u001b[0m\n\u001b[1;32m    123\u001b[0m \u001b[0;34m\u001b[0m\u001b[0m\n\u001b[1;32m    124\u001b[0m     \u001b[0miters\u001b[0m\u001b[0;34m+=\u001b[0m\u001b[0;36m1\u001b[0m                                                         \u001b[0;31m#count each iteration (epoch)\u001b[0m\u001b[0;34m\u001b[0m\u001b[0;34m\u001b[0m\u001b[0m\n\u001b[0;32m--> 125\u001b[0;31m     \u001b[0mrun\u001b[0m\u001b[0;34m(\u001b[0m\u001b[0mP\u001b[0m\u001b[0;34m,\u001b[0m \u001b[0mg1\u001b[0m\u001b[0;34m,\u001b[0m\u001b[0mg2\u001b[0m\u001b[0;34m,\u001b[0m\u001b[0mg3\u001b[0m\u001b[0;34m,\u001b[0m\u001b[0mg4\u001b[0m\u001b[0;34m,\u001b[0m \u001b[0mloss\u001b[0m\u001b[0;34m,\u001b[0m \u001b[0mbest\u001b[0m\u001b[0;34m,\u001b[0m \u001b[0msince\u001b[0m\u001b[0;34m,\u001b[0m \u001b[0miters\u001b[0m\u001b[0;34m)\u001b[0m                    \u001b[0;31m#run all cfa steps again (until solved or max recursion limit reached)\u001b[0m\u001b[0;34m\u001b[0m\u001b[0;34m\u001b[0m\u001b[0m\n\u001b[0m\u001b[1;32m    126\u001b[0m \u001b[0;34m\u001b[0m\u001b[0m\n\u001b[1;32m    127\u001b[0m \u001b[0;34m\u001b[0m\u001b[0m\n",
            "\u001b[0;32m<ipython-input-221-4195913b356b>\u001b[0m in \u001b[0;36mrun\u001b[0;34m(P, g1, g2, g3, g4, loss, best, since, iters)\u001b[0m\n\u001b[1;32m    123\u001b[0m \u001b[0;34m\u001b[0m\u001b[0m\n\u001b[1;32m    124\u001b[0m     \u001b[0miters\u001b[0m\u001b[0;34m+=\u001b[0m\u001b[0;36m1\u001b[0m                                                         \u001b[0;31m#count each iteration (epoch)\u001b[0m\u001b[0;34m\u001b[0m\u001b[0;34m\u001b[0m\u001b[0m\n\u001b[0;32m--> 125\u001b[0;31m     \u001b[0mrun\u001b[0m\u001b[0;34m(\u001b[0m\u001b[0mP\u001b[0m\u001b[0;34m,\u001b[0m \u001b[0mg1\u001b[0m\u001b[0;34m,\u001b[0m\u001b[0mg2\u001b[0m\u001b[0;34m,\u001b[0m\u001b[0mg3\u001b[0m\u001b[0;34m,\u001b[0m\u001b[0mg4\u001b[0m\u001b[0;34m,\u001b[0m \u001b[0mloss\u001b[0m\u001b[0;34m,\u001b[0m \u001b[0mbest\u001b[0m\u001b[0;34m,\u001b[0m \u001b[0msince\u001b[0m\u001b[0;34m,\u001b[0m \u001b[0miters\u001b[0m\u001b[0;34m)\u001b[0m                    \u001b[0;31m#run all cfa steps again (until solved or max recursion limit reached)\u001b[0m\u001b[0;34m\u001b[0m\u001b[0;34m\u001b[0m\u001b[0m\n\u001b[0m\u001b[1;32m    126\u001b[0m \u001b[0;34m\u001b[0m\u001b[0m\n\u001b[1;32m    127\u001b[0m \u001b[0;34m\u001b[0m\u001b[0m\n",
            "\u001b[0;32m<ipython-input-221-4195913b356b>\u001b[0m in \u001b[0;36mrun\u001b[0;34m(P, g1, g2, g3, g4, loss, best, since, iters)\u001b[0m\n\u001b[1;32m    123\u001b[0m \u001b[0;34m\u001b[0m\u001b[0m\n\u001b[1;32m    124\u001b[0m     \u001b[0miters\u001b[0m\u001b[0;34m+=\u001b[0m\u001b[0;36m1\u001b[0m                                                         \u001b[0;31m#count each iteration (epoch)\u001b[0m\u001b[0;34m\u001b[0m\u001b[0;34m\u001b[0m\u001b[0m\n\u001b[0;32m--> 125\u001b[0;31m     \u001b[0mrun\u001b[0m\u001b[0;34m(\u001b[0m\u001b[0mP\u001b[0m\u001b[0;34m,\u001b[0m \u001b[0mg1\u001b[0m\u001b[0;34m,\u001b[0m\u001b[0mg2\u001b[0m\u001b[0;34m,\u001b[0m\u001b[0mg3\u001b[0m\u001b[0;34m,\u001b[0m\u001b[0mg4\u001b[0m\u001b[0;34m,\u001b[0m \u001b[0mloss\u001b[0m\u001b[0;34m,\u001b[0m \u001b[0mbest\u001b[0m\u001b[0;34m,\u001b[0m \u001b[0msince\u001b[0m\u001b[0;34m,\u001b[0m \u001b[0miters\u001b[0m\u001b[0;34m)\u001b[0m                    \u001b[0;31m#run all cfa steps again (until solved or max recursion limit reached)\u001b[0m\u001b[0;34m\u001b[0m\u001b[0;34m\u001b[0m\u001b[0m\n\u001b[0m\u001b[1;32m    126\u001b[0m \u001b[0;34m\u001b[0m\u001b[0m\n\u001b[1;32m    127\u001b[0m \u001b[0;34m\u001b[0m\u001b[0m\n",
            "\u001b[0;32m<ipython-input-221-4195913b356b>\u001b[0m in \u001b[0;36mrun\u001b[0;34m(P, g1, g2, g3, g4, loss, best, since, iters)\u001b[0m\n\u001b[1;32m    123\u001b[0m \u001b[0;34m\u001b[0m\u001b[0m\n\u001b[1;32m    124\u001b[0m     \u001b[0miters\u001b[0m\u001b[0;34m+=\u001b[0m\u001b[0;36m1\u001b[0m                                                         \u001b[0;31m#count each iteration (epoch)\u001b[0m\u001b[0;34m\u001b[0m\u001b[0;34m\u001b[0m\u001b[0m\n\u001b[0;32m--> 125\u001b[0;31m     \u001b[0mrun\u001b[0m\u001b[0;34m(\u001b[0m\u001b[0mP\u001b[0m\u001b[0;34m,\u001b[0m \u001b[0mg1\u001b[0m\u001b[0;34m,\u001b[0m\u001b[0mg2\u001b[0m\u001b[0;34m,\u001b[0m\u001b[0mg3\u001b[0m\u001b[0;34m,\u001b[0m\u001b[0mg4\u001b[0m\u001b[0;34m,\u001b[0m \u001b[0mloss\u001b[0m\u001b[0;34m,\u001b[0m \u001b[0mbest\u001b[0m\u001b[0;34m,\u001b[0m \u001b[0msince\u001b[0m\u001b[0;34m,\u001b[0m \u001b[0miters\u001b[0m\u001b[0;34m)\u001b[0m                    \u001b[0;31m#run all cfa steps again (until solved or max recursion limit reached)\u001b[0m\u001b[0;34m\u001b[0m\u001b[0;34m\u001b[0m\u001b[0m\n\u001b[0m\u001b[1;32m    126\u001b[0m \u001b[0;34m\u001b[0m\u001b[0m\n\u001b[1;32m    127\u001b[0m \u001b[0;34m\u001b[0m\u001b[0m\n",
            "\u001b[0;32m<ipython-input-221-4195913b356b>\u001b[0m in \u001b[0;36mrun\u001b[0;34m(P, g1, g2, g3, g4, loss, best, since, iters)\u001b[0m\n\u001b[1;32m    123\u001b[0m \u001b[0;34m\u001b[0m\u001b[0m\n\u001b[1;32m    124\u001b[0m     \u001b[0miters\u001b[0m\u001b[0;34m+=\u001b[0m\u001b[0;36m1\u001b[0m                                                         \u001b[0;31m#count each iteration (epoch)\u001b[0m\u001b[0;34m\u001b[0m\u001b[0;34m\u001b[0m\u001b[0m\n\u001b[0;32m--> 125\u001b[0;31m     \u001b[0mrun\u001b[0m\u001b[0;34m(\u001b[0m\u001b[0mP\u001b[0m\u001b[0;34m,\u001b[0m \u001b[0mg1\u001b[0m\u001b[0;34m,\u001b[0m\u001b[0mg2\u001b[0m\u001b[0;34m,\u001b[0m\u001b[0mg3\u001b[0m\u001b[0;34m,\u001b[0m\u001b[0mg4\u001b[0m\u001b[0;34m,\u001b[0m \u001b[0mloss\u001b[0m\u001b[0;34m,\u001b[0m \u001b[0mbest\u001b[0m\u001b[0;34m,\u001b[0m \u001b[0msince\u001b[0m\u001b[0;34m,\u001b[0m \u001b[0miters\u001b[0m\u001b[0;34m)\u001b[0m                    \u001b[0;31m#run all cfa steps again (until solved or max recursion limit reached)\u001b[0m\u001b[0;34m\u001b[0m\u001b[0;34m\u001b[0m\u001b[0m\n\u001b[0m\u001b[1;32m    126\u001b[0m \u001b[0;34m\u001b[0m\u001b[0m\n\u001b[1;32m    127\u001b[0m \u001b[0;34m\u001b[0m\u001b[0m\n",
            "\u001b[0;32m<ipython-input-221-4195913b356b>\u001b[0m in \u001b[0;36mrun\u001b[0;34m(P, g1, g2, g3, g4, loss, best, since, iters)\u001b[0m\n\u001b[1;32m    123\u001b[0m \u001b[0;34m\u001b[0m\u001b[0m\n\u001b[1;32m    124\u001b[0m     \u001b[0miters\u001b[0m\u001b[0;34m+=\u001b[0m\u001b[0;36m1\u001b[0m                                                         \u001b[0;31m#count each iteration (epoch)\u001b[0m\u001b[0;34m\u001b[0m\u001b[0;34m\u001b[0m\u001b[0m\n\u001b[0;32m--> 125\u001b[0;31m     \u001b[0mrun\u001b[0m\u001b[0;34m(\u001b[0m\u001b[0mP\u001b[0m\u001b[0;34m,\u001b[0m \u001b[0mg1\u001b[0m\u001b[0;34m,\u001b[0m\u001b[0mg2\u001b[0m\u001b[0;34m,\u001b[0m\u001b[0mg3\u001b[0m\u001b[0;34m,\u001b[0m\u001b[0mg4\u001b[0m\u001b[0;34m,\u001b[0m \u001b[0mloss\u001b[0m\u001b[0;34m,\u001b[0m \u001b[0mbest\u001b[0m\u001b[0;34m,\u001b[0m \u001b[0msince\u001b[0m\u001b[0;34m,\u001b[0m \u001b[0miters\u001b[0m\u001b[0;34m)\u001b[0m                    \u001b[0;31m#run all cfa steps again (until solved or max recursion limit reached)\u001b[0m\u001b[0;34m\u001b[0m\u001b[0;34m\u001b[0m\u001b[0m\n\u001b[0m\u001b[1;32m    126\u001b[0m \u001b[0;34m\u001b[0m\u001b[0m\n\u001b[1;32m    127\u001b[0m \u001b[0;34m\u001b[0m\u001b[0m\n",
            "\u001b[0;32m<ipython-input-221-4195913b356b>\u001b[0m in \u001b[0;36mrun\u001b[0;34m(P, g1, g2, g3, g4, loss, best, since, iters)\u001b[0m\n\u001b[1;32m    123\u001b[0m \u001b[0;34m\u001b[0m\u001b[0m\n\u001b[1;32m    124\u001b[0m     \u001b[0miters\u001b[0m\u001b[0;34m+=\u001b[0m\u001b[0;36m1\u001b[0m                                                         \u001b[0;31m#count each iteration (epoch)\u001b[0m\u001b[0;34m\u001b[0m\u001b[0;34m\u001b[0m\u001b[0m\n\u001b[0;32m--> 125\u001b[0;31m     \u001b[0mrun\u001b[0m\u001b[0;34m(\u001b[0m\u001b[0mP\u001b[0m\u001b[0;34m,\u001b[0m \u001b[0mg1\u001b[0m\u001b[0;34m,\u001b[0m\u001b[0mg2\u001b[0m\u001b[0;34m,\u001b[0m\u001b[0mg3\u001b[0m\u001b[0;34m,\u001b[0m\u001b[0mg4\u001b[0m\u001b[0;34m,\u001b[0m \u001b[0mloss\u001b[0m\u001b[0;34m,\u001b[0m \u001b[0mbest\u001b[0m\u001b[0;34m,\u001b[0m \u001b[0msince\u001b[0m\u001b[0;34m,\u001b[0m \u001b[0miters\u001b[0m\u001b[0;34m)\u001b[0m                    \u001b[0;31m#run all cfa steps again (until solved or max recursion limit reached)\u001b[0m\u001b[0;34m\u001b[0m\u001b[0;34m\u001b[0m\u001b[0m\n\u001b[0m\u001b[1;32m    126\u001b[0m \u001b[0;34m\u001b[0m\u001b[0m\n\u001b[1;32m    127\u001b[0m \u001b[0;34m\u001b[0m\u001b[0m\n",
            "\u001b[0;32m<ipython-input-221-4195913b356b>\u001b[0m in \u001b[0;36mrun\u001b[0;34m(P, g1, g2, g3, g4, loss, best, since, iters)\u001b[0m\n\u001b[1;32m    123\u001b[0m \u001b[0;34m\u001b[0m\u001b[0m\n\u001b[1;32m    124\u001b[0m     \u001b[0miters\u001b[0m\u001b[0;34m+=\u001b[0m\u001b[0;36m1\u001b[0m                                                         \u001b[0;31m#count each iteration (epoch)\u001b[0m\u001b[0;34m\u001b[0m\u001b[0;34m\u001b[0m\u001b[0m\n\u001b[0;32m--> 125\u001b[0;31m     \u001b[0mrun\u001b[0m\u001b[0;34m(\u001b[0m\u001b[0mP\u001b[0m\u001b[0;34m,\u001b[0m \u001b[0mg1\u001b[0m\u001b[0;34m,\u001b[0m\u001b[0mg2\u001b[0m\u001b[0;34m,\u001b[0m\u001b[0mg3\u001b[0m\u001b[0;34m,\u001b[0m\u001b[0mg4\u001b[0m\u001b[0;34m,\u001b[0m \u001b[0mloss\u001b[0m\u001b[0;34m,\u001b[0m \u001b[0mbest\u001b[0m\u001b[0;34m,\u001b[0m \u001b[0msince\u001b[0m\u001b[0;34m,\u001b[0m \u001b[0miters\u001b[0m\u001b[0;34m)\u001b[0m                    \u001b[0;31m#run all cfa steps again (until solved or max recursion limit reached)\u001b[0m\u001b[0;34m\u001b[0m\u001b[0;34m\u001b[0m\u001b[0m\n\u001b[0m\u001b[1;32m    126\u001b[0m \u001b[0;34m\u001b[0m\u001b[0m\n\u001b[1;32m    127\u001b[0m \u001b[0;34m\u001b[0m\u001b[0m\n",
            "\u001b[0;32m<ipython-input-221-4195913b356b>\u001b[0m in \u001b[0;36mrun\u001b[0;34m(P, g1, g2, g3, g4, loss, best, since, iters)\u001b[0m\n\u001b[1;32m    123\u001b[0m \u001b[0;34m\u001b[0m\u001b[0m\n\u001b[1;32m    124\u001b[0m     \u001b[0miters\u001b[0m\u001b[0;34m+=\u001b[0m\u001b[0;36m1\u001b[0m                                                         \u001b[0;31m#count each iteration (epoch)\u001b[0m\u001b[0;34m\u001b[0m\u001b[0;34m\u001b[0m\u001b[0m\n\u001b[0;32m--> 125\u001b[0;31m     \u001b[0mrun\u001b[0m\u001b[0;34m(\u001b[0m\u001b[0mP\u001b[0m\u001b[0;34m,\u001b[0m \u001b[0mg1\u001b[0m\u001b[0;34m,\u001b[0m\u001b[0mg2\u001b[0m\u001b[0;34m,\u001b[0m\u001b[0mg3\u001b[0m\u001b[0;34m,\u001b[0m\u001b[0mg4\u001b[0m\u001b[0;34m,\u001b[0m \u001b[0mloss\u001b[0m\u001b[0;34m,\u001b[0m \u001b[0mbest\u001b[0m\u001b[0;34m,\u001b[0m \u001b[0msince\u001b[0m\u001b[0;34m,\u001b[0m \u001b[0miters\u001b[0m\u001b[0;34m)\u001b[0m                    \u001b[0;31m#run all cfa steps again (until solved or max recursion limit reached)\u001b[0m\u001b[0;34m\u001b[0m\u001b[0;34m\u001b[0m\u001b[0m\n\u001b[0m\u001b[1;32m    126\u001b[0m \u001b[0;34m\u001b[0m\u001b[0m\n\u001b[1;32m    127\u001b[0m \u001b[0;34m\u001b[0m\u001b[0m\n",
            "\u001b[0;32m<ipython-input-221-4195913b356b>\u001b[0m in \u001b[0;36mrun\u001b[0;34m(P, g1, g2, g3, g4, loss, best, since, iters)\u001b[0m\n\u001b[1;32m    123\u001b[0m \u001b[0;34m\u001b[0m\u001b[0m\n\u001b[1;32m    124\u001b[0m     \u001b[0miters\u001b[0m\u001b[0;34m+=\u001b[0m\u001b[0;36m1\u001b[0m                                                         \u001b[0;31m#count each iteration (epoch)\u001b[0m\u001b[0;34m\u001b[0m\u001b[0;34m\u001b[0m\u001b[0m\n\u001b[0;32m--> 125\u001b[0;31m     \u001b[0mrun\u001b[0m\u001b[0;34m(\u001b[0m\u001b[0mP\u001b[0m\u001b[0;34m,\u001b[0m \u001b[0mg1\u001b[0m\u001b[0;34m,\u001b[0m\u001b[0mg2\u001b[0m\u001b[0;34m,\u001b[0m\u001b[0mg3\u001b[0m\u001b[0;34m,\u001b[0m\u001b[0mg4\u001b[0m\u001b[0;34m,\u001b[0m \u001b[0mloss\u001b[0m\u001b[0;34m,\u001b[0m \u001b[0mbest\u001b[0m\u001b[0;34m,\u001b[0m \u001b[0msince\u001b[0m\u001b[0;34m,\u001b[0m \u001b[0miters\u001b[0m\u001b[0;34m)\u001b[0m                    \u001b[0;31m#run all cfa steps again (until solved or max recursion limit reached)\u001b[0m\u001b[0;34m\u001b[0m\u001b[0;34m\u001b[0m\u001b[0m\n\u001b[0m\u001b[1;32m    126\u001b[0m \u001b[0;34m\u001b[0m\u001b[0m\n\u001b[1;32m    127\u001b[0m \u001b[0;34m\u001b[0m\u001b[0m\n",
            "\u001b[0;32m<ipython-input-221-4195913b356b>\u001b[0m in \u001b[0;36mrun\u001b[0;34m(P, g1, g2, g3, g4, loss, best, since, iters)\u001b[0m\n\u001b[1;32m    123\u001b[0m \u001b[0;34m\u001b[0m\u001b[0m\n\u001b[1;32m    124\u001b[0m     \u001b[0miters\u001b[0m\u001b[0;34m+=\u001b[0m\u001b[0;36m1\u001b[0m                                                         \u001b[0;31m#count each iteration (epoch)\u001b[0m\u001b[0;34m\u001b[0m\u001b[0;34m\u001b[0m\u001b[0m\n\u001b[0;32m--> 125\u001b[0;31m     \u001b[0mrun\u001b[0m\u001b[0;34m(\u001b[0m\u001b[0mP\u001b[0m\u001b[0;34m,\u001b[0m \u001b[0mg1\u001b[0m\u001b[0;34m,\u001b[0m\u001b[0mg2\u001b[0m\u001b[0;34m,\u001b[0m\u001b[0mg3\u001b[0m\u001b[0;34m,\u001b[0m\u001b[0mg4\u001b[0m\u001b[0;34m,\u001b[0m \u001b[0mloss\u001b[0m\u001b[0;34m,\u001b[0m \u001b[0mbest\u001b[0m\u001b[0;34m,\u001b[0m \u001b[0msince\u001b[0m\u001b[0;34m,\u001b[0m \u001b[0miters\u001b[0m\u001b[0;34m)\u001b[0m                    \u001b[0;31m#run all cfa steps again (until solved or max recursion limit reached)\u001b[0m\u001b[0;34m\u001b[0m\u001b[0;34m\u001b[0m\u001b[0m\n\u001b[0m\u001b[1;32m    126\u001b[0m \u001b[0;34m\u001b[0m\u001b[0m\n\u001b[1;32m    127\u001b[0m \u001b[0;34m\u001b[0m\u001b[0m\n",
            "\u001b[0;32m<ipython-input-221-4195913b356b>\u001b[0m in \u001b[0;36mrun\u001b[0;34m(P, g1, g2, g3, g4, loss, best, since, iters)\u001b[0m\n\u001b[1;32m    123\u001b[0m \u001b[0;34m\u001b[0m\u001b[0m\n\u001b[1;32m    124\u001b[0m     \u001b[0miters\u001b[0m\u001b[0;34m+=\u001b[0m\u001b[0;36m1\u001b[0m                                                         \u001b[0;31m#count each iteration (epoch)\u001b[0m\u001b[0;34m\u001b[0m\u001b[0;34m\u001b[0m\u001b[0m\n\u001b[0;32m--> 125\u001b[0;31m     \u001b[0mrun\u001b[0m\u001b[0;34m(\u001b[0m\u001b[0mP\u001b[0m\u001b[0;34m,\u001b[0m \u001b[0mg1\u001b[0m\u001b[0;34m,\u001b[0m\u001b[0mg2\u001b[0m\u001b[0;34m,\u001b[0m\u001b[0mg3\u001b[0m\u001b[0;34m,\u001b[0m\u001b[0mg4\u001b[0m\u001b[0;34m,\u001b[0m \u001b[0mloss\u001b[0m\u001b[0;34m,\u001b[0m \u001b[0mbest\u001b[0m\u001b[0;34m,\u001b[0m \u001b[0msince\u001b[0m\u001b[0;34m,\u001b[0m \u001b[0miters\u001b[0m\u001b[0;34m)\u001b[0m                    \u001b[0;31m#run all cfa steps again (until solved or max recursion limit reached)\u001b[0m\u001b[0;34m\u001b[0m\u001b[0;34m\u001b[0m\u001b[0m\n\u001b[0m\u001b[1;32m    126\u001b[0m \u001b[0;34m\u001b[0m\u001b[0m\n\u001b[1;32m    127\u001b[0m \u001b[0;34m\u001b[0m\u001b[0m\n",
            "\u001b[0;32m<ipython-input-221-4195913b356b>\u001b[0m in \u001b[0;36mrun\u001b[0;34m(P, g1, g2, g3, g4, loss, best, since, iters)\u001b[0m\n\u001b[1;32m    123\u001b[0m \u001b[0;34m\u001b[0m\u001b[0m\n\u001b[1;32m    124\u001b[0m     \u001b[0miters\u001b[0m\u001b[0;34m+=\u001b[0m\u001b[0;36m1\u001b[0m                                                         \u001b[0;31m#count each iteration (epoch)\u001b[0m\u001b[0;34m\u001b[0m\u001b[0;34m\u001b[0m\u001b[0m\n\u001b[0;32m--> 125\u001b[0;31m     \u001b[0mrun\u001b[0m\u001b[0;34m(\u001b[0m\u001b[0mP\u001b[0m\u001b[0;34m,\u001b[0m \u001b[0mg1\u001b[0m\u001b[0;34m,\u001b[0m\u001b[0mg2\u001b[0m\u001b[0;34m,\u001b[0m\u001b[0mg3\u001b[0m\u001b[0;34m,\u001b[0m\u001b[0mg4\u001b[0m\u001b[0;34m,\u001b[0m \u001b[0mloss\u001b[0m\u001b[0;34m,\u001b[0m \u001b[0mbest\u001b[0m\u001b[0;34m,\u001b[0m \u001b[0msince\u001b[0m\u001b[0;34m,\u001b[0m \u001b[0miters\u001b[0m\u001b[0;34m)\u001b[0m                    \u001b[0;31m#run all cfa steps again (until solved or max recursion limit reached)\u001b[0m\u001b[0;34m\u001b[0m\u001b[0;34m\u001b[0m\u001b[0m\n\u001b[0m\u001b[1;32m    126\u001b[0m \u001b[0;34m\u001b[0m\u001b[0m\n\u001b[1;32m    127\u001b[0m \u001b[0;34m\u001b[0m\u001b[0m\n",
            "\u001b[0;32m<ipython-input-221-4195913b356b>\u001b[0m in \u001b[0;36mrun\u001b[0;34m(P, g1, g2, g3, g4, loss, best, since, iters)\u001b[0m\n\u001b[1;32m    123\u001b[0m \u001b[0;34m\u001b[0m\u001b[0m\n\u001b[1;32m    124\u001b[0m     \u001b[0miters\u001b[0m\u001b[0;34m+=\u001b[0m\u001b[0;36m1\u001b[0m                                                         \u001b[0;31m#count each iteration (epoch)\u001b[0m\u001b[0;34m\u001b[0m\u001b[0;34m\u001b[0m\u001b[0m\n\u001b[0;32m--> 125\u001b[0;31m     \u001b[0mrun\u001b[0m\u001b[0;34m(\u001b[0m\u001b[0mP\u001b[0m\u001b[0;34m,\u001b[0m \u001b[0mg1\u001b[0m\u001b[0;34m,\u001b[0m\u001b[0mg2\u001b[0m\u001b[0;34m,\u001b[0m\u001b[0mg3\u001b[0m\u001b[0;34m,\u001b[0m\u001b[0mg4\u001b[0m\u001b[0;34m,\u001b[0m \u001b[0mloss\u001b[0m\u001b[0;34m,\u001b[0m \u001b[0mbest\u001b[0m\u001b[0;34m,\u001b[0m \u001b[0msince\u001b[0m\u001b[0;34m,\u001b[0m \u001b[0miters\u001b[0m\u001b[0;34m)\u001b[0m                    \u001b[0;31m#run all cfa steps again (until solved or max recursion limit reached)\u001b[0m\u001b[0;34m\u001b[0m\u001b[0;34m\u001b[0m\u001b[0m\n\u001b[0m\u001b[1;32m    126\u001b[0m \u001b[0;34m\u001b[0m\u001b[0m\n\u001b[1;32m    127\u001b[0m \u001b[0;34m\u001b[0m\u001b[0m\n",
            "\u001b[0;32m<ipython-input-221-4195913b356b>\u001b[0m in \u001b[0;36mrun\u001b[0;34m(P, g1, g2, g3, g4, loss, best, since, iters)\u001b[0m\n\u001b[1;32m    123\u001b[0m \u001b[0;34m\u001b[0m\u001b[0m\n\u001b[1;32m    124\u001b[0m     \u001b[0miters\u001b[0m\u001b[0;34m+=\u001b[0m\u001b[0;36m1\u001b[0m                                                         \u001b[0;31m#count each iteration (epoch)\u001b[0m\u001b[0;34m\u001b[0m\u001b[0;34m\u001b[0m\u001b[0m\n\u001b[0;32m--> 125\u001b[0;31m     \u001b[0mrun\u001b[0m\u001b[0;34m(\u001b[0m\u001b[0mP\u001b[0m\u001b[0;34m,\u001b[0m \u001b[0mg1\u001b[0m\u001b[0;34m,\u001b[0m\u001b[0mg2\u001b[0m\u001b[0;34m,\u001b[0m\u001b[0mg3\u001b[0m\u001b[0;34m,\u001b[0m\u001b[0mg4\u001b[0m\u001b[0;34m,\u001b[0m \u001b[0mloss\u001b[0m\u001b[0;34m,\u001b[0m \u001b[0mbest\u001b[0m\u001b[0;34m,\u001b[0m \u001b[0msince\u001b[0m\u001b[0;34m,\u001b[0m \u001b[0miters\u001b[0m\u001b[0;34m)\u001b[0m                    \u001b[0;31m#run all cfa steps again (until solved or max recursion limit reached)\u001b[0m\u001b[0;34m\u001b[0m\u001b[0;34m\u001b[0m\u001b[0m\n\u001b[0m\u001b[1;32m    126\u001b[0m \u001b[0;34m\u001b[0m\u001b[0m\n\u001b[1;32m    127\u001b[0m \u001b[0;34m\u001b[0m\u001b[0m\n",
            "\u001b[0;32m<ipython-input-221-4195913b356b>\u001b[0m in \u001b[0;36mrun\u001b[0;34m(P, g1, g2, g3, g4, loss, best, since, iters)\u001b[0m\n\u001b[1;32m    123\u001b[0m \u001b[0;34m\u001b[0m\u001b[0m\n\u001b[1;32m    124\u001b[0m     \u001b[0miters\u001b[0m\u001b[0;34m+=\u001b[0m\u001b[0;36m1\u001b[0m                                                         \u001b[0;31m#count each iteration (epoch)\u001b[0m\u001b[0;34m\u001b[0m\u001b[0;34m\u001b[0m\u001b[0m\n\u001b[0;32m--> 125\u001b[0;31m     \u001b[0mrun\u001b[0m\u001b[0;34m(\u001b[0m\u001b[0mP\u001b[0m\u001b[0;34m,\u001b[0m \u001b[0mg1\u001b[0m\u001b[0;34m,\u001b[0m\u001b[0mg2\u001b[0m\u001b[0;34m,\u001b[0m\u001b[0mg3\u001b[0m\u001b[0;34m,\u001b[0m\u001b[0mg4\u001b[0m\u001b[0;34m,\u001b[0m \u001b[0mloss\u001b[0m\u001b[0;34m,\u001b[0m \u001b[0mbest\u001b[0m\u001b[0;34m,\u001b[0m \u001b[0msince\u001b[0m\u001b[0;34m,\u001b[0m \u001b[0miters\u001b[0m\u001b[0;34m)\u001b[0m                    \u001b[0;31m#run all cfa steps again (until solved or max recursion limit reached)\u001b[0m\u001b[0;34m\u001b[0m\u001b[0;34m\u001b[0m\u001b[0m\n\u001b[0m\u001b[1;32m    126\u001b[0m \u001b[0;34m\u001b[0m\u001b[0m\n\u001b[1;32m    127\u001b[0m \u001b[0;34m\u001b[0m\u001b[0m\n",
            "\u001b[0;32m<ipython-input-221-4195913b356b>\u001b[0m in \u001b[0;36mrun\u001b[0;34m(P, g1, g2, g3, g4, loss, best, since, iters)\u001b[0m\n\u001b[1;32m    123\u001b[0m \u001b[0;34m\u001b[0m\u001b[0m\n\u001b[1;32m    124\u001b[0m     \u001b[0miters\u001b[0m\u001b[0;34m+=\u001b[0m\u001b[0;36m1\u001b[0m                                                         \u001b[0;31m#count each iteration (epoch)\u001b[0m\u001b[0;34m\u001b[0m\u001b[0;34m\u001b[0m\u001b[0m\n\u001b[0;32m--> 125\u001b[0;31m     \u001b[0mrun\u001b[0m\u001b[0;34m(\u001b[0m\u001b[0mP\u001b[0m\u001b[0;34m,\u001b[0m \u001b[0mg1\u001b[0m\u001b[0;34m,\u001b[0m\u001b[0mg2\u001b[0m\u001b[0;34m,\u001b[0m\u001b[0mg3\u001b[0m\u001b[0;34m,\u001b[0m\u001b[0mg4\u001b[0m\u001b[0;34m,\u001b[0m \u001b[0mloss\u001b[0m\u001b[0;34m,\u001b[0m \u001b[0mbest\u001b[0m\u001b[0;34m,\u001b[0m \u001b[0msince\u001b[0m\u001b[0;34m,\u001b[0m \u001b[0miters\u001b[0m\u001b[0;34m)\u001b[0m                    \u001b[0;31m#run all cfa steps again (until solved or max recursion limit reached)\u001b[0m\u001b[0;34m\u001b[0m\u001b[0;34m\u001b[0m\u001b[0m\n\u001b[0m\u001b[1;32m    126\u001b[0m \u001b[0;34m\u001b[0m\u001b[0m\n\u001b[1;32m    127\u001b[0m \u001b[0;34m\u001b[0m\u001b[0m\n",
            "\u001b[0;32m<ipython-input-221-4195913b356b>\u001b[0m in \u001b[0;36mrun\u001b[0;34m(P, g1, g2, g3, g4, loss, best, since, iters)\u001b[0m\n\u001b[1;32m    123\u001b[0m \u001b[0;34m\u001b[0m\u001b[0m\n\u001b[1;32m    124\u001b[0m     \u001b[0miters\u001b[0m\u001b[0;34m+=\u001b[0m\u001b[0;36m1\u001b[0m                                                         \u001b[0;31m#count each iteration (epoch)\u001b[0m\u001b[0;34m\u001b[0m\u001b[0;34m\u001b[0m\u001b[0m\n\u001b[0;32m--> 125\u001b[0;31m     \u001b[0mrun\u001b[0m\u001b[0;34m(\u001b[0m\u001b[0mP\u001b[0m\u001b[0;34m,\u001b[0m \u001b[0mg1\u001b[0m\u001b[0;34m,\u001b[0m\u001b[0mg2\u001b[0m\u001b[0;34m,\u001b[0m\u001b[0mg3\u001b[0m\u001b[0;34m,\u001b[0m\u001b[0mg4\u001b[0m\u001b[0;34m,\u001b[0m \u001b[0mloss\u001b[0m\u001b[0;34m,\u001b[0m \u001b[0mbest\u001b[0m\u001b[0;34m,\u001b[0m \u001b[0msince\u001b[0m\u001b[0;34m,\u001b[0m \u001b[0miters\u001b[0m\u001b[0;34m)\u001b[0m                    \u001b[0;31m#run all cfa steps again (until solved or max recursion limit reached)\u001b[0m\u001b[0;34m\u001b[0m\u001b[0;34m\u001b[0m\u001b[0m\n\u001b[0m\u001b[1;32m    126\u001b[0m \u001b[0;34m\u001b[0m\u001b[0m\n\u001b[1;32m    127\u001b[0m \u001b[0;34m\u001b[0m\u001b[0m\n",
            "\u001b[0;32m<ipython-input-221-4195913b356b>\u001b[0m in \u001b[0;36mrun\u001b[0;34m(P, g1, g2, g3, g4, loss, best, since, iters)\u001b[0m\n\u001b[1;32m    123\u001b[0m \u001b[0;34m\u001b[0m\u001b[0m\n\u001b[1;32m    124\u001b[0m     \u001b[0miters\u001b[0m\u001b[0;34m+=\u001b[0m\u001b[0;36m1\u001b[0m                                                         \u001b[0;31m#count each iteration (epoch)\u001b[0m\u001b[0;34m\u001b[0m\u001b[0;34m\u001b[0m\u001b[0m\n\u001b[0;32m--> 125\u001b[0;31m     \u001b[0mrun\u001b[0m\u001b[0;34m(\u001b[0m\u001b[0mP\u001b[0m\u001b[0;34m,\u001b[0m \u001b[0mg1\u001b[0m\u001b[0;34m,\u001b[0m\u001b[0mg2\u001b[0m\u001b[0;34m,\u001b[0m\u001b[0mg3\u001b[0m\u001b[0;34m,\u001b[0m\u001b[0mg4\u001b[0m\u001b[0;34m,\u001b[0m \u001b[0mloss\u001b[0m\u001b[0;34m,\u001b[0m \u001b[0mbest\u001b[0m\u001b[0;34m,\u001b[0m \u001b[0msince\u001b[0m\u001b[0;34m,\u001b[0m \u001b[0miters\u001b[0m\u001b[0;34m)\u001b[0m                    \u001b[0;31m#run all cfa steps again (until solved or max recursion limit reached)\u001b[0m\u001b[0;34m\u001b[0m\u001b[0;34m\u001b[0m\u001b[0m\n\u001b[0m\u001b[1;32m    126\u001b[0m \u001b[0;34m\u001b[0m\u001b[0m\n\u001b[1;32m    127\u001b[0m \u001b[0;34m\u001b[0m\u001b[0m\n",
            "\u001b[0;32m<ipython-input-221-4195913b356b>\u001b[0m in \u001b[0;36mrun\u001b[0;34m(P, g1, g2, g3, g4, loss, best, since, iters)\u001b[0m\n\u001b[1;32m    123\u001b[0m \u001b[0;34m\u001b[0m\u001b[0m\n\u001b[1;32m    124\u001b[0m     \u001b[0miters\u001b[0m\u001b[0;34m+=\u001b[0m\u001b[0;36m1\u001b[0m                                                         \u001b[0;31m#count each iteration (epoch)\u001b[0m\u001b[0;34m\u001b[0m\u001b[0;34m\u001b[0m\u001b[0m\n\u001b[0;32m--> 125\u001b[0;31m     \u001b[0mrun\u001b[0m\u001b[0;34m(\u001b[0m\u001b[0mP\u001b[0m\u001b[0;34m,\u001b[0m \u001b[0mg1\u001b[0m\u001b[0;34m,\u001b[0m\u001b[0mg2\u001b[0m\u001b[0;34m,\u001b[0m\u001b[0mg3\u001b[0m\u001b[0;34m,\u001b[0m\u001b[0mg4\u001b[0m\u001b[0;34m,\u001b[0m \u001b[0mloss\u001b[0m\u001b[0;34m,\u001b[0m \u001b[0mbest\u001b[0m\u001b[0;34m,\u001b[0m \u001b[0msince\u001b[0m\u001b[0;34m,\u001b[0m \u001b[0miters\u001b[0m\u001b[0;34m)\u001b[0m                    \u001b[0;31m#run all cfa steps again (until solved or max recursion limit reached)\u001b[0m\u001b[0;34m\u001b[0m\u001b[0;34m\u001b[0m\u001b[0m\n\u001b[0m\u001b[1;32m    126\u001b[0m \u001b[0;34m\u001b[0m\u001b[0m\n\u001b[1;32m    127\u001b[0m \u001b[0;34m\u001b[0m\u001b[0m\n",
            "\u001b[0;32m<ipython-input-221-4195913b356b>\u001b[0m in \u001b[0;36mrun\u001b[0;34m(P, g1, g2, g3, g4, loss, best, since, iters)\u001b[0m\n\u001b[1;32m    123\u001b[0m \u001b[0;34m\u001b[0m\u001b[0m\n\u001b[1;32m    124\u001b[0m     \u001b[0miters\u001b[0m\u001b[0;34m+=\u001b[0m\u001b[0;36m1\u001b[0m                                                         \u001b[0;31m#count each iteration (epoch)\u001b[0m\u001b[0;34m\u001b[0m\u001b[0;34m\u001b[0m\u001b[0m\n\u001b[0;32m--> 125\u001b[0;31m     \u001b[0mrun\u001b[0m\u001b[0;34m(\u001b[0m\u001b[0mP\u001b[0m\u001b[0;34m,\u001b[0m \u001b[0mg1\u001b[0m\u001b[0;34m,\u001b[0m\u001b[0mg2\u001b[0m\u001b[0;34m,\u001b[0m\u001b[0mg3\u001b[0m\u001b[0;34m,\u001b[0m\u001b[0mg4\u001b[0m\u001b[0;34m,\u001b[0m \u001b[0mloss\u001b[0m\u001b[0;34m,\u001b[0m \u001b[0mbest\u001b[0m\u001b[0;34m,\u001b[0m \u001b[0msince\u001b[0m\u001b[0;34m,\u001b[0m \u001b[0miters\u001b[0m\u001b[0;34m)\u001b[0m                    \u001b[0;31m#run all cfa steps again (until solved or max recursion limit reached)\u001b[0m\u001b[0;34m\u001b[0m\u001b[0;34m\u001b[0m\u001b[0m\n\u001b[0m\u001b[1;32m    126\u001b[0m \u001b[0;34m\u001b[0m\u001b[0m\n\u001b[1;32m    127\u001b[0m \u001b[0;34m\u001b[0m\u001b[0m\n",
            "\u001b[0;32m<ipython-input-221-4195913b356b>\u001b[0m in \u001b[0;36mrun\u001b[0;34m(P, g1, g2, g3, g4, loss, best, since, iters)\u001b[0m\n\u001b[1;32m    123\u001b[0m \u001b[0;34m\u001b[0m\u001b[0m\n\u001b[1;32m    124\u001b[0m     \u001b[0miters\u001b[0m\u001b[0;34m+=\u001b[0m\u001b[0;36m1\u001b[0m                                                         \u001b[0;31m#count each iteration (epoch)\u001b[0m\u001b[0;34m\u001b[0m\u001b[0;34m\u001b[0m\u001b[0m\n\u001b[0;32m--> 125\u001b[0;31m     \u001b[0mrun\u001b[0m\u001b[0;34m(\u001b[0m\u001b[0mP\u001b[0m\u001b[0;34m,\u001b[0m \u001b[0mg1\u001b[0m\u001b[0;34m,\u001b[0m\u001b[0mg2\u001b[0m\u001b[0;34m,\u001b[0m\u001b[0mg3\u001b[0m\u001b[0;34m,\u001b[0m\u001b[0mg4\u001b[0m\u001b[0;34m,\u001b[0m \u001b[0mloss\u001b[0m\u001b[0;34m,\u001b[0m \u001b[0mbest\u001b[0m\u001b[0;34m,\u001b[0m \u001b[0msince\u001b[0m\u001b[0;34m,\u001b[0m \u001b[0miters\u001b[0m\u001b[0;34m)\u001b[0m                    \u001b[0;31m#run all cfa steps again (until solved or max recursion limit reached)\u001b[0m\u001b[0;34m\u001b[0m\u001b[0;34m\u001b[0m\u001b[0m\n\u001b[0m\u001b[1;32m    126\u001b[0m \u001b[0;34m\u001b[0m\u001b[0m\n\u001b[1;32m    127\u001b[0m \u001b[0;34m\u001b[0m\u001b[0m\n",
            "\u001b[0;32m<ipython-input-221-4195913b356b>\u001b[0m in \u001b[0;36mrun\u001b[0;34m(P, g1, g2, g3, g4, loss, best, since, iters)\u001b[0m\n\u001b[1;32m    123\u001b[0m \u001b[0;34m\u001b[0m\u001b[0m\n\u001b[1;32m    124\u001b[0m     \u001b[0miters\u001b[0m\u001b[0;34m+=\u001b[0m\u001b[0;36m1\u001b[0m                                                         \u001b[0;31m#count each iteration (epoch)\u001b[0m\u001b[0;34m\u001b[0m\u001b[0;34m\u001b[0m\u001b[0m\n\u001b[0;32m--> 125\u001b[0;31m     \u001b[0mrun\u001b[0m\u001b[0;34m(\u001b[0m\u001b[0mP\u001b[0m\u001b[0;34m,\u001b[0m \u001b[0mg1\u001b[0m\u001b[0;34m,\u001b[0m\u001b[0mg2\u001b[0m\u001b[0;34m,\u001b[0m\u001b[0mg3\u001b[0m\u001b[0;34m,\u001b[0m\u001b[0mg4\u001b[0m\u001b[0;34m,\u001b[0m \u001b[0mloss\u001b[0m\u001b[0;34m,\u001b[0m \u001b[0mbest\u001b[0m\u001b[0;34m,\u001b[0m \u001b[0msince\u001b[0m\u001b[0;34m,\u001b[0m \u001b[0miters\u001b[0m\u001b[0;34m)\u001b[0m                    \u001b[0;31m#run all cfa steps again (until solved or max recursion limit reached)\u001b[0m\u001b[0;34m\u001b[0m\u001b[0;34m\u001b[0m\u001b[0m\n\u001b[0m\u001b[1;32m    126\u001b[0m \u001b[0;34m\u001b[0m\u001b[0m\n\u001b[1;32m    127\u001b[0m \u001b[0;34m\u001b[0m\u001b[0m\n",
            "\u001b[0;32m<ipython-input-221-4195913b356b>\u001b[0m in \u001b[0;36mrun\u001b[0;34m(P, g1, g2, g3, g4, loss, best, since, iters)\u001b[0m\n\u001b[1;32m    123\u001b[0m \u001b[0;34m\u001b[0m\u001b[0m\n\u001b[1;32m    124\u001b[0m     \u001b[0miters\u001b[0m\u001b[0;34m+=\u001b[0m\u001b[0;36m1\u001b[0m                                                         \u001b[0;31m#count each iteration (epoch)\u001b[0m\u001b[0;34m\u001b[0m\u001b[0;34m\u001b[0m\u001b[0m\n\u001b[0;32m--> 125\u001b[0;31m     \u001b[0mrun\u001b[0m\u001b[0;34m(\u001b[0m\u001b[0mP\u001b[0m\u001b[0;34m,\u001b[0m \u001b[0mg1\u001b[0m\u001b[0;34m,\u001b[0m\u001b[0mg2\u001b[0m\u001b[0;34m,\u001b[0m\u001b[0mg3\u001b[0m\u001b[0;34m,\u001b[0m\u001b[0mg4\u001b[0m\u001b[0;34m,\u001b[0m \u001b[0mloss\u001b[0m\u001b[0;34m,\u001b[0m \u001b[0mbest\u001b[0m\u001b[0;34m,\u001b[0m \u001b[0msince\u001b[0m\u001b[0;34m,\u001b[0m \u001b[0miters\u001b[0m\u001b[0;34m)\u001b[0m                    \u001b[0;31m#run all cfa steps again (until solved or max recursion limit reached)\u001b[0m\u001b[0;34m\u001b[0m\u001b[0;34m\u001b[0m\u001b[0m\n\u001b[0m\u001b[1;32m    126\u001b[0m \u001b[0;34m\u001b[0m\u001b[0m\n\u001b[1;32m    127\u001b[0m \u001b[0;34m\u001b[0m\u001b[0m\n",
            "\u001b[0;32m<ipython-input-221-4195913b356b>\u001b[0m in \u001b[0;36mrun\u001b[0;34m(P, g1, g2, g3, g4, loss, best, since, iters)\u001b[0m\n\u001b[1;32m    123\u001b[0m \u001b[0;34m\u001b[0m\u001b[0m\n\u001b[1;32m    124\u001b[0m     \u001b[0miters\u001b[0m\u001b[0;34m+=\u001b[0m\u001b[0;36m1\u001b[0m                                                         \u001b[0;31m#count each iteration (epoch)\u001b[0m\u001b[0;34m\u001b[0m\u001b[0;34m\u001b[0m\u001b[0m\n\u001b[0;32m--> 125\u001b[0;31m     \u001b[0mrun\u001b[0m\u001b[0;34m(\u001b[0m\u001b[0mP\u001b[0m\u001b[0;34m,\u001b[0m \u001b[0mg1\u001b[0m\u001b[0;34m,\u001b[0m\u001b[0mg2\u001b[0m\u001b[0;34m,\u001b[0m\u001b[0mg3\u001b[0m\u001b[0;34m,\u001b[0m\u001b[0mg4\u001b[0m\u001b[0;34m,\u001b[0m \u001b[0mloss\u001b[0m\u001b[0;34m,\u001b[0m \u001b[0mbest\u001b[0m\u001b[0;34m,\u001b[0m \u001b[0msince\u001b[0m\u001b[0;34m,\u001b[0m \u001b[0miters\u001b[0m\u001b[0;34m)\u001b[0m                    \u001b[0;31m#run all cfa steps again (until solved or max recursion limit reached)\u001b[0m\u001b[0;34m\u001b[0m\u001b[0;34m\u001b[0m\u001b[0m\n\u001b[0m\u001b[1;32m    126\u001b[0m \u001b[0;34m\u001b[0m\u001b[0m\n\u001b[1;32m    127\u001b[0m \u001b[0;34m\u001b[0m\u001b[0m\n",
            "\u001b[0;32m<ipython-input-221-4195913b356b>\u001b[0m in \u001b[0;36mrun\u001b[0;34m(P, g1, g2, g3, g4, loss, best, since, iters)\u001b[0m\n\u001b[1;32m    123\u001b[0m \u001b[0;34m\u001b[0m\u001b[0m\n\u001b[1;32m    124\u001b[0m     \u001b[0miters\u001b[0m\u001b[0;34m+=\u001b[0m\u001b[0;36m1\u001b[0m                                                         \u001b[0;31m#count each iteration (epoch)\u001b[0m\u001b[0;34m\u001b[0m\u001b[0;34m\u001b[0m\u001b[0m\n\u001b[0;32m--> 125\u001b[0;31m     \u001b[0mrun\u001b[0m\u001b[0;34m(\u001b[0m\u001b[0mP\u001b[0m\u001b[0;34m,\u001b[0m \u001b[0mg1\u001b[0m\u001b[0;34m,\u001b[0m\u001b[0mg2\u001b[0m\u001b[0;34m,\u001b[0m\u001b[0mg3\u001b[0m\u001b[0;34m,\u001b[0m\u001b[0mg4\u001b[0m\u001b[0;34m,\u001b[0m \u001b[0mloss\u001b[0m\u001b[0;34m,\u001b[0m \u001b[0mbest\u001b[0m\u001b[0;34m,\u001b[0m \u001b[0msince\u001b[0m\u001b[0;34m,\u001b[0m \u001b[0miters\u001b[0m\u001b[0;34m)\u001b[0m                    \u001b[0;31m#run all cfa steps again (until solved or max recursion limit reached)\u001b[0m\u001b[0;34m\u001b[0m\u001b[0;34m\u001b[0m\u001b[0m\n\u001b[0m\u001b[1;32m    126\u001b[0m \u001b[0;34m\u001b[0m\u001b[0m\n\u001b[1;32m    127\u001b[0m \u001b[0;34m\u001b[0m\u001b[0m\n",
            "\u001b[0;32m<ipython-input-221-4195913b356b>\u001b[0m in \u001b[0;36mrun\u001b[0;34m(P, g1, g2, g3, g4, loss, best, since, iters)\u001b[0m\n\u001b[1;32m    123\u001b[0m \u001b[0;34m\u001b[0m\u001b[0m\n\u001b[1;32m    124\u001b[0m     \u001b[0miters\u001b[0m\u001b[0;34m+=\u001b[0m\u001b[0;36m1\u001b[0m                                                         \u001b[0;31m#count each iteration (epoch)\u001b[0m\u001b[0;34m\u001b[0m\u001b[0;34m\u001b[0m\u001b[0m\n\u001b[0;32m--> 125\u001b[0;31m     \u001b[0mrun\u001b[0m\u001b[0;34m(\u001b[0m\u001b[0mP\u001b[0m\u001b[0;34m,\u001b[0m \u001b[0mg1\u001b[0m\u001b[0;34m,\u001b[0m\u001b[0mg2\u001b[0m\u001b[0;34m,\u001b[0m\u001b[0mg3\u001b[0m\u001b[0;34m,\u001b[0m\u001b[0mg4\u001b[0m\u001b[0;34m,\u001b[0m \u001b[0mloss\u001b[0m\u001b[0;34m,\u001b[0m \u001b[0mbest\u001b[0m\u001b[0;34m,\u001b[0m \u001b[0msince\u001b[0m\u001b[0;34m,\u001b[0m \u001b[0miters\u001b[0m\u001b[0;34m)\u001b[0m                    \u001b[0;31m#run all cfa steps again (until solved or max recursion limit reached)\u001b[0m\u001b[0;34m\u001b[0m\u001b[0;34m\u001b[0m\u001b[0m\n\u001b[0m\u001b[1;32m    126\u001b[0m \u001b[0;34m\u001b[0m\u001b[0m\n\u001b[1;32m    127\u001b[0m \u001b[0;34m\u001b[0m\u001b[0m\n",
            "\u001b[0;32m<ipython-input-221-4195913b356b>\u001b[0m in \u001b[0;36mrun\u001b[0;34m(P, g1, g2, g3, g4, loss, best, since, iters)\u001b[0m\n\u001b[1;32m    123\u001b[0m \u001b[0;34m\u001b[0m\u001b[0m\n\u001b[1;32m    124\u001b[0m     \u001b[0miters\u001b[0m\u001b[0;34m+=\u001b[0m\u001b[0;36m1\u001b[0m                                                         \u001b[0;31m#count each iteration (epoch)\u001b[0m\u001b[0;34m\u001b[0m\u001b[0;34m\u001b[0m\u001b[0m\n\u001b[0;32m--> 125\u001b[0;31m     \u001b[0mrun\u001b[0m\u001b[0;34m(\u001b[0m\u001b[0mP\u001b[0m\u001b[0;34m,\u001b[0m \u001b[0mg1\u001b[0m\u001b[0;34m,\u001b[0m\u001b[0mg2\u001b[0m\u001b[0;34m,\u001b[0m\u001b[0mg3\u001b[0m\u001b[0;34m,\u001b[0m\u001b[0mg4\u001b[0m\u001b[0;34m,\u001b[0m \u001b[0mloss\u001b[0m\u001b[0;34m,\u001b[0m \u001b[0mbest\u001b[0m\u001b[0;34m,\u001b[0m \u001b[0msince\u001b[0m\u001b[0;34m,\u001b[0m \u001b[0miters\u001b[0m\u001b[0;34m)\u001b[0m                    \u001b[0;31m#run all cfa steps again (until solved or max recursion limit reached)\u001b[0m\u001b[0;34m\u001b[0m\u001b[0;34m\u001b[0m\u001b[0m\n\u001b[0m\u001b[1;32m    126\u001b[0m \u001b[0;34m\u001b[0m\u001b[0m\n\u001b[1;32m    127\u001b[0m \u001b[0;34m\u001b[0m\u001b[0m\n",
            "\u001b[0;32m<ipython-input-221-4195913b356b>\u001b[0m in \u001b[0;36mrun\u001b[0;34m(P, g1, g2, g3, g4, loss, best, since, iters)\u001b[0m\n\u001b[1;32m    123\u001b[0m \u001b[0;34m\u001b[0m\u001b[0m\n\u001b[1;32m    124\u001b[0m     \u001b[0miters\u001b[0m\u001b[0;34m+=\u001b[0m\u001b[0;36m1\u001b[0m                                                         \u001b[0;31m#count each iteration (epoch)\u001b[0m\u001b[0;34m\u001b[0m\u001b[0;34m\u001b[0m\u001b[0m\n\u001b[0;32m--> 125\u001b[0;31m     \u001b[0mrun\u001b[0m\u001b[0;34m(\u001b[0m\u001b[0mP\u001b[0m\u001b[0;34m,\u001b[0m \u001b[0mg1\u001b[0m\u001b[0;34m,\u001b[0m\u001b[0mg2\u001b[0m\u001b[0;34m,\u001b[0m\u001b[0mg3\u001b[0m\u001b[0;34m,\u001b[0m\u001b[0mg4\u001b[0m\u001b[0;34m,\u001b[0m \u001b[0mloss\u001b[0m\u001b[0;34m,\u001b[0m \u001b[0mbest\u001b[0m\u001b[0;34m,\u001b[0m \u001b[0msince\u001b[0m\u001b[0;34m,\u001b[0m \u001b[0miters\u001b[0m\u001b[0;34m)\u001b[0m                    \u001b[0;31m#run all cfa steps again (until solved or max recursion limit reached)\u001b[0m\u001b[0;34m\u001b[0m\u001b[0;34m\u001b[0m\u001b[0m\n\u001b[0m\u001b[1;32m    126\u001b[0m \u001b[0;34m\u001b[0m\u001b[0m\n\u001b[1;32m    127\u001b[0m \u001b[0;34m\u001b[0m\u001b[0m\n",
            "\u001b[0;32m<ipython-input-221-4195913b356b>\u001b[0m in \u001b[0;36mrun\u001b[0;34m(P, g1, g2, g3, g4, loss, best, since, iters)\u001b[0m\n\u001b[1;32m    123\u001b[0m \u001b[0;34m\u001b[0m\u001b[0m\n\u001b[1;32m    124\u001b[0m     \u001b[0miters\u001b[0m\u001b[0;34m+=\u001b[0m\u001b[0;36m1\u001b[0m                                                         \u001b[0;31m#count each iteration (epoch)\u001b[0m\u001b[0;34m\u001b[0m\u001b[0;34m\u001b[0m\u001b[0m\n\u001b[0;32m--> 125\u001b[0;31m     \u001b[0mrun\u001b[0m\u001b[0;34m(\u001b[0m\u001b[0mP\u001b[0m\u001b[0;34m,\u001b[0m \u001b[0mg1\u001b[0m\u001b[0;34m,\u001b[0m\u001b[0mg2\u001b[0m\u001b[0;34m,\u001b[0m\u001b[0mg3\u001b[0m\u001b[0;34m,\u001b[0m\u001b[0mg4\u001b[0m\u001b[0;34m,\u001b[0m \u001b[0mloss\u001b[0m\u001b[0;34m,\u001b[0m \u001b[0mbest\u001b[0m\u001b[0;34m,\u001b[0m \u001b[0msince\u001b[0m\u001b[0;34m,\u001b[0m \u001b[0miters\u001b[0m\u001b[0;34m)\u001b[0m                    \u001b[0;31m#run all cfa steps again (until solved or max recursion limit reached)\u001b[0m\u001b[0;34m\u001b[0m\u001b[0;34m\u001b[0m\u001b[0m\n\u001b[0m\u001b[1;32m    126\u001b[0m \u001b[0;34m\u001b[0m\u001b[0m\n\u001b[1;32m    127\u001b[0m \u001b[0;34m\u001b[0m\u001b[0m\n",
            "\u001b[0;32m<ipython-input-221-4195913b356b>\u001b[0m in \u001b[0;36mrun\u001b[0;34m(P, g1, g2, g3, g4, loss, best, since, iters)\u001b[0m\n\u001b[1;32m    123\u001b[0m \u001b[0;34m\u001b[0m\u001b[0m\n\u001b[1;32m    124\u001b[0m     \u001b[0miters\u001b[0m\u001b[0;34m+=\u001b[0m\u001b[0;36m1\u001b[0m                                                         \u001b[0;31m#count each iteration (epoch)\u001b[0m\u001b[0;34m\u001b[0m\u001b[0;34m\u001b[0m\u001b[0m\n\u001b[0;32m--> 125\u001b[0;31m     \u001b[0mrun\u001b[0m\u001b[0;34m(\u001b[0m\u001b[0mP\u001b[0m\u001b[0;34m,\u001b[0m \u001b[0mg1\u001b[0m\u001b[0;34m,\u001b[0m\u001b[0mg2\u001b[0m\u001b[0;34m,\u001b[0m\u001b[0mg3\u001b[0m\u001b[0;34m,\u001b[0m\u001b[0mg4\u001b[0m\u001b[0;34m,\u001b[0m \u001b[0mloss\u001b[0m\u001b[0;34m,\u001b[0m \u001b[0mbest\u001b[0m\u001b[0;34m,\u001b[0m \u001b[0msince\u001b[0m\u001b[0;34m,\u001b[0m \u001b[0miters\u001b[0m\u001b[0;34m)\u001b[0m                    \u001b[0;31m#run all cfa steps again (until solved or max recursion limit reached)\u001b[0m\u001b[0;34m\u001b[0m\u001b[0;34m\u001b[0m\u001b[0m\n\u001b[0m\u001b[1;32m    126\u001b[0m \u001b[0;34m\u001b[0m\u001b[0m\n\u001b[1;32m    127\u001b[0m \u001b[0;34m\u001b[0m\u001b[0m\n",
            "\u001b[0;32m<ipython-input-221-4195913b356b>\u001b[0m in \u001b[0;36mrun\u001b[0;34m(P, g1, g2, g3, g4, loss, best, since, iters)\u001b[0m\n\u001b[1;32m    123\u001b[0m \u001b[0;34m\u001b[0m\u001b[0m\n\u001b[1;32m    124\u001b[0m     \u001b[0miters\u001b[0m\u001b[0;34m+=\u001b[0m\u001b[0;36m1\u001b[0m                                                         \u001b[0;31m#count each iteration (epoch)\u001b[0m\u001b[0;34m\u001b[0m\u001b[0;34m\u001b[0m\u001b[0m\n\u001b[0;32m--> 125\u001b[0;31m     \u001b[0mrun\u001b[0m\u001b[0;34m(\u001b[0m\u001b[0mP\u001b[0m\u001b[0;34m,\u001b[0m \u001b[0mg1\u001b[0m\u001b[0;34m,\u001b[0m\u001b[0mg2\u001b[0m\u001b[0;34m,\u001b[0m\u001b[0mg3\u001b[0m\u001b[0;34m,\u001b[0m\u001b[0mg4\u001b[0m\u001b[0;34m,\u001b[0m \u001b[0mloss\u001b[0m\u001b[0;34m,\u001b[0m \u001b[0mbest\u001b[0m\u001b[0;34m,\u001b[0m \u001b[0msince\u001b[0m\u001b[0;34m,\u001b[0m \u001b[0miters\u001b[0m\u001b[0;34m)\u001b[0m                    \u001b[0;31m#run all cfa steps again (until solved or max recursion limit reached)\u001b[0m\u001b[0;34m\u001b[0m\u001b[0;34m\u001b[0m\u001b[0m\n\u001b[0m\u001b[1;32m    126\u001b[0m \u001b[0;34m\u001b[0m\u001b[0m\n\u001b[1;32m    127\u001b[0m \u001b[0;34m\u001b[0m\u001b[0m\n",
            "\u001b[0;32m<ipython-input-221-4195913b356b>\u001b[0m in \u001b[0;36mrun\u001b[0;34m(P, g1, g2, g3, g4, loss, best, since, iters)\u001b[0m\n\u001b[1;32m    123\u001b[0m \u001b[0;34m\u001b[0m\u001b[0m\n\u001b[1;32m    124\u001b[0m     \u001b[0miters\u001b[0m\u001b[0;34m+=\u001b[0m\u001b[0;36m1\u001b[0m                                                         \u001b[0;31m#count each iteration (epoch)\u001b[0m\u001b[0;34m\u001b[0m\u001b[0;34m\u001b[0m\u001b[0m\n\u001b[0;32m--> 125\u001b[0;31m     \u001b[0mrun\u001b[0m\u001b[0;34m(\u001b[0m\u001b[0mP\u001b[0m\u001b[0;34m,\u001b[0m \u001b[0mg1\u001b[0m\u001b[0;34m,\u001b[0m\u001b[0mg2\u001b[0m\u001b[0;34m,\u001b[0m\u001b[0mg3\u001b[0m\u001b[0;34m,\u001b[0m\u001b[0mg4\u001b[0m\u001b[0;34m,\u001b[0m \u001b[0mloss\u001b[0m\u001b[0;34m,\u001b[0m \u001b[0mbest\u001b[0m\u001b[0;34m,\u001b[0m \u001b[0msince\u001b[0m\u001b[0;34m,\u001b[0m \u001b[0miters\u001b[0m\u001b[0;34m)\u001b[0m                    \u001b[0;31m#run all cfa steps again (until solved or max recursion limit reached)\u001b[0m\u001b[0;34m\u001b[0m\u001b[0;34m\u001b[0m\u001b[0m\n\u001b[0m\u001b[1;32m    126\u001b[0m \u001b[0;34m\u001b[0m\u001b[0m\n\u001b[1;32m    127\u001b[0m \u001b[0;34m\u001b[0m\u001b[0m\n",
            "\u001b[0;32m<ipython-input-221-4195913b356b>\u001b[0m in \u001b[0;36mrun\u001b[0;34m(P, g1, g2, g3, g4, loss, best, since, iters)\u001b[0m\n\u001b[1;32m    123\u001b[0m \u001b[0;34m\u001b[0m\u001b[0m\n\u001b[1;32m    124\u001b[0m     \u001b[0miters\u001b[0m\u001b[0;34m+=\u001b[0m\u001b[0;36m1\u001b[0m                                                         \u001b[0;31m#count each iteration (epoch)\u001b[0m\u001b[0;34m\u001b[0m\u001b[0;34m\u001b[0m\u001b[0m\n\u001b[0;32m--> 125\u001b[0;31m     \u001b[0mrun\u001b[0m\u001b[0;34m(\u001b[0m\u001b[0mP\u001b[0m\u001b[0;34m,\u001b[0m \u001b[0mg1\u001b[0m\u001b[0;34m,\u001b[0m\u001b[0mg2\u001b[0m\u001b[0;34m,\u001b[0m\u001b[0mg3\u001b[0m\u001b[0;34m,\u001b[0m\u001b[0mg4\u001b[0m\u001b[0;34m,\u001b[0m \u001b[0mloss\u001b[0m\u001b[0;34m,\u001b[0m \u001b[0mbest\u001b[0m\u001b[0;34m,\u001b[0m \u001b[0msince\u001b[0m\u001b[0;34m,\u001b[0m \u001b[0miters\u001b[0m\u001b[0;34m)\u001b[0m                    \u001b[0;31m#run all cfa steps again (until solved or max recursion limit reached)\u001b[0m\u001b[0;34m\u001b[0m\u001b[0;34m\u001b[0m\u001b[0m\n\u001b[0m\u001b[1;32m    126\u001b[0m \u001b[0;34m\u001b[0m\u001b[0m\n\u001b[1;32m    127\u001b[0m \u001b[0;34m\u001b[0m\u001b[0m\n",
            "\u001b[0;32m<ipython-input-221-4195913b356b>\u001b[0m in \u001b[0;36mrun\u001b[0;34m(P, g1, g2, g3, g4, loss, best, since, iters)\u001b[0m\n\u001b[1;32m    123\u001b[0m \u001b[0;34m\u001b[0m\u001b[0m\n\u001b[1;32m    124\u001b[0m     \u001b[0miters\u001b[0m\u001b[0;34m+=\u001b[0m\u001b[0;36m1\u001b[0m                                                         \u001b[0;31m#count each iteration (epoch)\u001b[0m\u001b[0;34m\u001b[0m\u001b[0;34m\u001b[0m\u001b[0m\n\u001b[0;32m--> 125\u001b[0;31m     \u001b[0mrun\u001b[0m\u001b[0;34m(\u001b[0m\u001b[0mP\u001b[0m\u001b[0;34m,\u001b[0m \u001b[0mg1\u001b[0m\u001b[0;34m,\u001b[0m\u001b[0mg2\u001b[0m\u001b[0;34m,\u001b[0m\u001b[0mg3\u001b[0m\u001b[0;34m,\u001b[0m\u001b[0mg4\u001b[0m\u001b[0;34m,\u001b[0m \u001b[0mloss\u001b[0m\u001b[0;34m,\u001b[0m \u001b[0mbest\u001b[0m\u001b[0;34m,\u001b[0m \u001b[0msince\u001b[0m\u001b[0;34m,\u001b[0m \u001b[0miters\u001b[0m\u001b[0;34m)\u001b[0m                    \u001b[0;31m#run all cfa steps again (until solved or max recursion limit reached)\u001b[0m\u001b[0;34m\u001b[0m\u001b[0;34m\u001b[0m\u001b[0m\n\u001b[0m\u001b[1;32m    126\u001b[0m \u001b[0;34m\u001b[0m\u001b[0m\n\u001b[1;32m    127\u001b[0m \u001b[0;34m\u001b[0m\u001b[0m\n",
            "\u001b[0;32m<ipython-input-221-4195913b356b>\u001b[0m in \u001b[0;36mrun\u001b[0;34m(P, g1, g2, g3, g4, loss, best, since, iters)\u001b[0m\n\u001b[1;32m    123\u001b[0m \u001b[0;34m\u001b[0m\u001b[0m\n\u001b[1;32m    124\u001b[0m     \u001b[0miters\u001b[0m\u001b[0;34m+=\u001b[0m\u001b[0;36m1\u001b[0m                                                         \u001b[0;31m#count each iteration (epoch)\u001b[0m\u001b[0;34m\u001b[0m\u001b[0;34m\u001b[0m\u001b[0m\n\u001b[0;32m--> 125\u001b[0;31m     \u001b[0mrun\u001b[0m\u001b[0;34m(\u001b[0m\u001b[0mP\u001b[0m\u001b[0;34m,\u001b[0m \u001b[0mg1\u001b[0m\u001b[0;34m,\u001b[0m\u001b[0mg2\u001b[0m\u001b[0;34m,\u001b[0m\u001b[0mg3\u001b[0m\u001b[0;34m,\u001b[0m\u001b[0mg4\u001b[0m\u001b[0;34m,\u001b[0m \u001b[0mloss\u001b[0m\u001b[0;34m,\u001b[0m \u001b[0mbest\u001b[0m\u001b[0;34m,\u001b[0m \u001b[0msince\u001b[0m\u001b[0;34m,\u001b[0m \u001b[0miters\u001b[0m\u001b[0;34m)\u001b[0m                    \u001b[0;31m#run all cfa steps again (until solved or max recursion limit reached)\u001b[0m\u001b[0;34m\u001b[0m\u001b[0;34m\u001b[0m\u001b[0m\n\u001b[0m\u001b[1;32m    126\u001b[0m \u001b[0;34m\u001b[0m\u001b[0m\n\u001b[1;32m    127\u001b[0m \u001b[0;34m\u001b[0m\u001b[0m\n",
            "\u001b[0;32m<ipython-input-221-4195913b356b>\u001b[0m in \u001b[0;36mrun\u001b[0;34m(P, g1, g2, g3, g4, loss, best, since, iters)\u001b[0m\n\u001b[1;32m    123\u001b[0m \u001b[0;34m\u001b[0m\u001b[0m\n\u001b[1;32m    124\u001b[0m     \u001b[0miters\u001b[0m\u001b[0;34m+=\u001b[0m\u001b[0;36m1\u001b[0m                                                         \u001b[0;31m#count each iteration (epoch)\u001b[0m\u001b[0;34m\u001b[0m\u001b[0;34m\u001b[0m\u001b[0m\n\u001b[0;32m--> 125\u001b[0;31m     \u001b[0mrun\u001b[0m\u001b[0;34m(\u001b[0m\u001b[0mP\u001b[0m\u001b[0;34m,\u001b[0m \u001b[0mg1\u001b[0m\u001b[0;34m,\u001b[0m\u001b[0mg2\u001b[0m\u001b[0;34m,\u001b[0m\u001b[0mg3\u001b[0m\u001b[0;34m,\u001b[0m\u001b[0mg4\u001b[0m\u001b[0;34m,\u001b[0m \u001b[0mloss\u001b[0m\u001b[0;34m,\u001b[0m \u001b[0mbest\u001b[0m\u001b[0;34m,\u001b[0m \u001b[0msince\u001b[0m\u001b[0;34m,\u001b[0m \u001b[0miters\u001b[0m\u001b[0;34m)\u001b[0m                    \u001b[0;31m#run all cfa steps again (until solved or max recursion limit reached)\u001b[0m\u001b[0;34m\u001b[0m\u001b[0;34m\u001b[0m\u001b[0m\n\u001b[0m\u001b[1;32m    126\u001b[0m \u001b[0;34m\u001b[0m\u001b[0m\n\u001b[1;32m    127\u001b[0m \u001b[0;34m\u001b[0m\u001b[0m\n",
            "\u001b[0;32m<ipython-input-221-4195913b356b>\u001b[0m in \u001b[0;36mrun\u001b[0;34m(P, g1, g2, g3, g4, loss, best, since, iters)\u001b[0m\n\u001b[1;32m    123\u001b[0m \u001b[0;34m\u001b[0m\u001b[0m\n\u001b[1;32m    124\u001b[0m     \u001b[0miters\u001b[0m\u001b[0;34m+=\u001b[0m\u001b[0;36m1\u001b[0m                                                         \u001b[0;31m#count each iteration (epoch)\u001b[0m\u001b[0;34m\u001b[0m\u001b[0;34m\u001b[0m\u001b[0m\n\u001b[0;32m--> 125\u001b[0;31m     \u001b[0mrun\u001b[0m\u001b[0;34m(\u001b[0m\u001b[0mP\u001b[0m\u001b[0;34m,\u001b[0m \u001b[0mg1\u001b[0m\u001b[0;34m,\u001b[0m\u001b[0mg2\u001b[0m\u001b[0;34m,\u001b[0m\u001b[0mg3\u001b[0m\u001b[0;34m,\u001b[0m\u001b[0mg4\u001b[0m\u001b[0;34m,\u001b[0m \u001b[0mloss\u001b[0m\u001b[0;34m,\u001b[0m \u001b[0mbest\u001b[0m\u001b[0;34m,\u001b[0m \u001b[0msince\u001b[0m\u001b[0;34m,\u001b[0m \u001b[0miters\u001b[0m\u001b[0;34m)\u001b[0m                    \u001b[0;31m#run all cfa steps again (until solved or max recursion limit reached)\u001b[0m\u001b[0;34m\u001b[0m\u001b[0;34m\u001b[0m\u001b[0m\n\u001b[0m\u001b[1;32m    126\u001b[0m \u001b[0;34m\u001b[0m\u001b[0m\n\u001b[1;32m    127\u001b[0m \u001b[0;34m\u001b[0m\u001b[0m\n",
            "\u001b[0;32m<ipython-input-221-4195913b356b>\u001b[0m in \u001b[0;36mrun\u001b[0;34m(P, g1, g2, g3, g4, loss, best, since, iters)\u001b[0m\n\u001b[1;32m    123\u001b[0m \u001b[0;34m\u001b[0m\u001b[0m\n\u001b[1;32m    124\u001b[0m     \u001b[0miters\u001b[0m\u001b[0;34m+=\u001b[0m\u001b[0;36m1\u001b[0m                                                         \u001b[0;31m#count each iteration (epoch)\u001b[0m\u001b[0;34m\u001b[0m\u001b[0;34m\u001b[0m\u001b[0m\n\u001b[0;32m--> 125\u001b[0;31m     \u001b[0mrun\u001b[0m\u001b[0;34m(\u001b[0m\u001b[0mP\u001b[0m\u001b[0;34m,\u001b[0m \u001b[0mg1\u001b[0m\u001b[0;34m,\u001b[0m\u001b[0mg2\u001b[0m\u001b[0;34m,\u001b[0m\u001b[0mg3\u001b[0m\u001b[0;34m,\u001b[0m\u001b[0mg4\u001b[0m\u001b[0;34m,\u001b[0m \u001b[0mloss\u001b[0m\u001b[0;34m,\u001b[0m \u001b[0mbest\u001b[0m\u001b[0;34m,\u001b[0m \u001b[0msince\u001b[0m\u001b[0;34m,\u001b[0m \u001b[0miters\u001b[0m\u001b[0;34m)\u001b[0m                    \u001b[0;31m#run all cfa steps again (until solved or max recursion limit reached)\u001b[0m\u001b[0;34m\u001b[0m\u001b[0;34m\u001b[0m\u001b[0m\n\u001b[0m\u001b[1;32m    126\u001b[0m \u001b[0;34m\u001b[0m\u001b[0m\n\u001b[1;32m    127\u001b[0m \u001b[0;34m\u001b[0m\u001b[0m\n",
            "\u001b[0;32m<ipython-input-221-4195913b356b>\u001b[0m in \u001b[0;36mrun\u001b[0;34m(P, g1, g2, g3, g4, loss, best, since, iters)\u001b[0m\n\u001b[1;32m    123\u001b[0m \u001b[0;34m\u001b[0m\u001b[0m\n\u001b[1;32m    124\u001b[0m     \u001b[0miters\u001b[0m\u001b[0;34m+=\u001b[0m\u001b[0;36m1\u001b[0m                                                         \u001b[0;31m#count each iteration (epoch)\u001b[0m\u001b[0;34m\u001b[0m\u001b[0;34m\u001b[0m\u001b[0m\n\u001b[0;32m--> 125\u001b[0;31m     \u001b[0mrun\u001b[0m\u001b[0;34m(\u001b[0m\u001b[0mP\u001b[0m\u001b[0;34m,\u001b[0m \u001b[0mg1\u001b[0m\u001b[0;34m,\u001b[0m\u001b[0mg2\u001b[0m\u001b[0;34m,\u001b[0m\u001b[0mg3\u001b[0m\u001b[0;34m,\u001b[0m\u001b[0mg4\u001b[0m\u001b[0;34m,\u001b[0m \u001b[0mloss\u001b[0m\u001b[0;34m,\u001b[0m \u001b[0mbest\u001b[0m\u001b[0;34m,\u001b[0m \u001b[0msince\u001b[0m\u001b[0;34m,\u001b[0m \u001b[0miters\u001b[0m\u001b[0;34m)\u001b[0m                    \u001b[0;31m#run all cfa steps again (until solved or max recursion limit reached)\u001b[0m\u001b[0;34m\u001b[0m\u001b[0;34m\u001b[0m\u001b[0m\n\u001b[0m\u001b[1;32m    126\u001b[0m \u001b[0;34m\u001b[0m\u001b[0m\n\u001b[1;32m    127\u001b[0m \u001b[0;34m\u001b[0m\u001b[0m\n",
            "\u001b[0;32m<ipython-input-221-4195913b356b>\u001b[0m in \u001b[0;36mrun\u001b[0;34m(P, g1, g2, g3, g4, loss, best, since, iters)\u001b[0m\n\u001b[1;32m    123\u001b[0m \u001b[0;34m\u001b[0m\u001b[0m\n\u001b[1;32m    124\u001b[0m     \u001b[0miters\u001b[0m\u001b[0;34m+=\u001b[0m\u001b[0;36m1\u001b[0m                                                         \u001b[0;31m#count each iteration (epoch)\u001b[0m\u001b[0;34m\u001b[0m\u001b[0;34m\u001b[0m\u001b[0m\n\u001b[0;32m--> 125\u001b[0;31m     \u001b[0mrun\u001b[0m\u001b[0;34m(\u001b[0m\u001b[0mP\u001b[0m\u001b[0;34m,\u001b[0m \u001b[0mg1\u001b[0m\u001b[0;34m,\u001b[0m\u001b[0mg2\u001b[0m\u001b[0;34m,\u001b[0m\u001b[0mg3\u001b[0m\u001b[0;34m,\u001b[0m\u001b[0mg4\u001b[0m\u001b[0;34m,\u001b[0m \u001b[0mloss\u001b[0m\u001b[0;34m,\u001b[0m \u001b[0mbest\u001b[0m\u001b[0;34m,\u001b[0m \u001b[0msince\u001b[0m\u001b[0;34m,\u001b[0m \u001b[0miters\u001b[0m\u001b[0;34m)\u001b[0m                    \u001b[0;31m#run all cfa steps again (until solved or max recursion limit reached)\u001b[0m\u001b[0;34m\u001b[0m\u001b[0;34m\u001b[0m\u001b[0m\n\u001b[0m\u001b[1;32m    126\u001b[0m \u001b[0;34m\u001b[0m\u001b[0m\n\u001b[1;32m    127\u001b[0m \u001b[0;34m\u001b[0m\u001b[0m\n",
            "\u001b[0;32m<ipython-input-221-4195913b356b>\u001b[0m in \u001b[0;36mrun\u001b[0;34m(P, g1, g2, g3, g4, loss, best, since, iters)\u001b[0m\n\u001b[1;32m    123\u001b[0m \u001b[0;34m\u001b[0m\u001b[0m\n\u001b[1;32m    124\u001b[0m     \u001b[0miters\u001b[0m\u001b[0;34m+=\u001b[0m\u001b[0;36m1\u001b[0m                                                         \u001b[0;31m#count each iteration (epoch)\u001b[0m\u001b[0;34m\u001b[0m\u001b[0;34m\u001b[0m\u001b[0m\n\u001b[0;32m--> 125\u001b[0;31m     \u001b[0mrun\u001b[0m\u001b[0;34m(\u001b[0m\u001b[0mP\u001b[0m\u001b[0;34m,\u001b[0m \u001b[0mg1\u001b[0m\u001b[0;34m,\u001b[0m\u001b[0mg2\u001b[0m\u001b[0;34m,\u001b[0m\u001b[0mg3\u001b[0m\u001b[0;34m,\u001b[0m\u001b[0mg4\u001b[0m\u001b[0;34m,\u001b[0m \u001b[0mloss\u001b[0m\u001b[0;34m,\u001b[0m \u001b[0mbest\u001b[0m\u001b[0;34m,\u001b[0m \u001b[0msince\u001b[0m\u001b[0;34m,\u001b[0m \u001b[0miters\u001b[0m\u001b[0;34m)\u001b[0m                    \u001b[0;31m#run all cfa steps again (until solved or max recursion limit reached)\u001b[0m\u001b[0;34m\u001b[0m\u001b[0;34m\u001b[0m\u001b[0m\n\u001b[0m\u001b[1;32m    126\u001b[0m \u001b[0;34m\u001b[0m\u001b[0m\n\u001b[1;32m    127\u001b[0m \u001b[0;34m\u001b[0m\u001b[0m\n",
            "\u001b[0;32m<ipython-input-221-4195913b356b>\u001b[0m in \u001b[0;36mrun\u001b[0;34m(P, g1, g2, g3, g4, loss, best, since, iters)\u001b[0m\n\u001b[1;32m    123\u001b[0m \u001b[0;34m\u001b[0m\u001b[0m\n\u001b[1;32m    124\u001b[0m     \u001b[0miters\u001b[0m\u001b[0;34m+=\u001b[0m\u001b[0;36m1\u001b[0m                                                         \u001b[0;31m#count each iteration (epoch)\u001b[0m\u001b[0;34m\u001b[0m\u001b[0;34m\u001b[0m\u001b[0m\n\u001b[0;32m--> 125\u001b[0;31m     \u001b[0mrun\u001b[0m\u001b[0;34m(\u001b[0m\u001b[0mP\u001b[0m\u001b[0;34m,\u001b[0m \u001b[0mg1\u001b[0m\u001b[0;34m,\u001b[0m\u001b[0mg2\u001b[0m\u001b[0;34m,\u001b[0m\u001b[0mg3\u001b[0m\u001b[0;34m,\u001b[0m\u001b[0mg4\u001b[0m\u001b[0;34m,\u001b[0m \u001b[0mloss\u001b[0m\u001b[0;34m,\u001b[0m \u001b[0mbest\u001b[0m\u001b[0;34m,\u001b[0m \u001b[0msince\u001b[0m\u001b[0;34m,\u001b[0m \u001b[0miters\u001b[0m\u001b[0;34m)\u001b[0m                    \u001b[0;31m#run all cfa steps again (until solved or max recursion limit reached)\u001b[0m\u001b[0;34m\u001b[0m\u001b[0;34m\u001b[0m\u001b[0m\n\u001b[0m\u001b[1;32m    126\u001b[0m \u001b[0;34m\u001b[0m\u001b[0m\n\u001b[1;32m    127\u001b[0m \u001b[0;34m\u001b[0m\u001b[0m\n",
            "\u001b[0;32m<ipython-input-221-4195913b356b>\u001b[0m in \u001b[0;36mrun\u001b[0;34m(P, g1, g2, g3, g4, loss, best, since, iters)\u001b[0m\n\u001b[1;32m    123\u001b[0m \u001b[0;34m\u001b[0m\u001b[0m\n\u001b[1;32m    124\u001b[0m     \u001b[0miters\u001b[0m\u001b[0;34m+=\u001b[0m\u001b[0;36m1\u001b[0m                                                         \u001b[0;31m#count each iteration (epoch)\u001b[0m\u001b[0;34m\u001b[0m\u001b[0;34m\u001b[0m\u001b[0m\n\u001b[0;32m--> 125\u001b[0;31m     \u001b[0mrun\u001b[0m\u001b[0;34m(\u001b[0m\u001b[0mP\u001b[0m\u001b[0;34m,\u001b[0m \u001b[0mg1\u001b[0m\u001b[0;34m,\u001b[0m\u001b[0mg2\u001b[0m\u001b[0;34m,\u001b[0m\u001b[0mg3\u001b[0m\u001b[0;34m,\u001b[0m\u001b[0mg4\u001b[0m\u001b[0;34m,\u001b[0m \u001b[0mloss\u001b[0m\u001b[0;34m,\u001b[0m \u001b[0mbest\u001b[0m\u001b[0;34m,\u001b[0m \u001b[0msince\u001b[0m\u001b[0;34m,\u001b[0m \u001b[0miters\u001b[0m\u001b[0;34m)\u001b[0m                    \u001b[0;31m#run all cfa steps again (until solved or max recursion limit reached)\u001b[0m\u001b[0;34m\u001b[0m\u001b[0;34m\u001b[0m\u001b[0m\n\u001b[0m\u001b[1;32m    126\u001b[0m \u001b[0;34m\u001b[0m\u001b[0m\n\u001b[1;32m    127\u001b[0m \u001b[0;34m\u001b[0m\u001b[0m\n",
            "\u001b[0;32m<ipython-input-221-4195913b356b>\u001b[0m in \u001b[0;36mrun\u001b[0;34m(P, g1, g2, g3, g4, loss, best, since, iters)\u001b[0m\n\u001b[1;32m    123\u001b[0m \u001b[0;34m\u001b[0m\u001b[0m\n\u001b[1;32m    124\u001b[0m     \u001b[0miters\u001b[0m\u001b[0;34m+=\u001b[0m\u001b[0;36m1\u001b[0m                                                         \u001b[0;31m#count each iteration (epoch)\u001b[0m\u001b[0;34m\u001b[0m\u001b[0;34m\u001b[0m\u001b[0m\n\u001b[0;32m--> 125\u001b[0;31m     \u001b[0mrun\u001b[0m\u001b[0;34m(\u001b[0m\u001b[0mP\u001b[0m\u001b[0;34m,\u001b[0m \u001b[0mg1\u001b[0m\u001b[0;34m,\u001b[0m\u001b[0mg2\u001b[0m\u001b[0;34m,\u001b[0m\u001b[0mg3\u001b[0m\u001b[0;34m,\u001b[0m\u001b[0mg4\u001b[0m\u001b[0;34m,\u001b[0m \u001b[0mloss\u001b[0m\u001b[0;34m,\u001b[0m \u001b[0mbest\u001b[0m\u001b[0;34m,\u001b[0m \u001b[0msince\u001b[0m\u001b[0;34m,\u001b[0m \u001b[0miters\u001b[0m\u001b[0;34m)\u001b[0m                    \u001b[0;31m#run all cfa steps again (until solved or max recursion limit reached)\u001b[0m\u001b[0;34m\u001b[0m\u001b[0;34m\u001b[0m\u001b[0m\n\u001b[0m\u001b[1;32m    126\u001b[0m \u001b[0;34m\u001b[0m\u001b[0m\n\u001b[1;32m    127\u001b[0m \u001b[0;34m\u001b[0m\u001b[0m\n",
            "\u001b[0;32m<ipython-input-221-4195913b356b>\u001b[0m in \u001b[0;36mrun\u001b[0;34m(P, g1, g2, g3, g4, loss, best, since, iters)\u001b[0m\n\u001b[1;32m    123\u001b[0m \u001b[0;34m\u001b[0m\u001b[0m\n\u001b[1;32m    124\u001b[0m     \u001b[0miters\u001b[0m\u001b[0;34m+=\u001b[0m\u001b[0;36m1\u001b[0m                                                         \u001b[0;31m#count each iteration (epoch)\u001b[0m\u001b[0;34m\u001b[0m\u001b[0;34m\u001b[0m\u001b[0m\n\u001b[0;32m--> 125\u001b[0;31m     \u001b[0mrun\u001b[0m\u001b[0;34m(\u001b[0m\u001b[0mP\u001b[0m\u001b[0;34m,\u001b[0m \u001b[0mg1\u001b[0m\u001b[0;34m,\u001b[0m\u001b[0mg2\u001b[0m\u001b[0;34m,\u001b[0m\u001b[0mg3\u001b[0m\u001b[0;34m,\u001b[0m\u001b[0mg4\u001b[0m\u001b[0;34m,\u001b[0m \u001b[0mloss\u001b[0m\u001b[0;34m,\u001b[0m \u001b[0mbest\u001b[0m\u001b[0;34m,\u001b[0m \u001b[0msince\u001b[0m\u001b[0;34m,\u001b[0m \u001b[0miters\u001b[0m\u001b[0;34m)\u001b[0m                    \u001b[0;31m#run all cfa steps again (until solved or max recursion limit reached)\u001b[0m\u001b[0;34m\u001b[0m\u001b[0;34m\u001b[0m\u001b[0m\n\u001b[0m\u001b[1;32m    126\u001b[0m \u001b[0;34m\u001b[0m\u001b[0m\n\u001b[1;32m    127\u001b[0m \u001b[0;34m\u001b[0m\u001b[0m\n",
            "\u001b[0;32m<ipython-input-221-4195913b356b>\u001b[0m in \u001b[0;36mrun\u001b[0;34m(P, g1, g2, g3, g4, loss, best, since, iters)\u001b[0m\n\u001b[1;32m    123\u001b[0m \u001b[0;34m\u001b[0m\u001b[0m\n\u001b[1;32m    124\u001b[0m     \u001b[0miters\u001b[0m\u001b[0;34m+=\u001b[0m\u001b[0;36m1\u001b[0m                                                         \u001b[0;31m#count each iteration (epoch)\u001b[0m\u001b[0;34m\u001b[0m\u001b[0;34m\u001b[0m\u001b[0m\n\u001b[0;32m--> 125\u001b[0;31m     \u001b[0mrun\u001b[0m\u001b[0;34m(\u001b[0m\u001b[0mP\u001b[0m\u001b[0;34m,\u001b[0m \u001b[0mg1\u001b[0m\u001b[0;34m,\u001b[0m\u001b[0mg2\u001b[0m\u001b[0;34m,\u001b[0m\u001b[0mg3\u001b[0m\u001b[0;34m,\u001b[0m\u001b[0mg4\u001b[0m\u001b[0;34m,\u001b[0m \u001b[0mloss\u001b[0m\u001b[0;34m,\u001b[0m \u001b[0mbest\u001b[0m\u001b[0;34m,\u001b[0m \u001b[0msince\u001b[0m\u001b[0;34m,\u001b[0m \u001b[0miters\u001b[0m\u001b[0;34m)\u001b[0m                    \u001b[0;31m#run all cfa steps again (until solved or max recursion limit reached)\u001b[0m\u001b[0;34m\u001b[0m\u001b[0;34m\u001b[0m\u001b[0m\n\u001b[0m\u001b[1;32m    126\u001b[0m \u001b[0;34m\u001b[0m\u001b[0m\n\u001b[1;32m    127\u001b[0m \u001b[0;34m\u001b[0m\u001b[0m\n",
            "\u001b[0;32m<ipython-input-221-4195913b356b>\u001b[0m in \u001b[0;36mrun\u001b[0;34m(P, g1, g2, g3, g4, loss, best, since, iters)\u001b[0m\n\u001b[1;32m    123\u001b[0m \u001b[0;34m\u001b[0m\u001b[0m\n\u001b[1;32m    124\u001b[0m     \u001b[0miters\u001b[0m\u001b[0;34m+=\u001b[0m\u001b[0;36m1\u001b[0m                                                         \u001b[0;31m#count each iteration (epoch)\u001b[0m\u001b[0;34m\u001b[0m\u001b[0;34m\u001b[0m\u001b[0m\n\u001b[0;32m--> 125\u001b[0;31m     \u001b[0mrun\u001b[0m\u001b[0;34m(\u001b[0m\u001b[0mP\u001b[0m\u001b[0;34m,\u001b[0m \u001b[0mg1\u001b[0m\u001b[0;34m,\u001b[0m\u001b[0mg2\u001b[0m\u001b[0;34m,\u001b[0m\u001b[0mg3\u001b[0m\u001b[0;34m,\u001b[0m\u001b[0mg4\u001b[0m\u001b[0;34m,\u001b[0m \u001b[0mloss\u001b[0m\u001b[0;34m,\u001b[0m \u001b[0mbest\u001b[0m\u001b[0;34m,\u001b[0m \u001b[0msince\u001b[0m\u001b[0;34m,\u001b[0m \u001b[0miters\u001b[0m\u001b[0;34m)\u001b[0m                    \u001b[0;31m#run all cfa steps again (until solved or max recursion limit reached)\u001b[0m\u001b[0;34m\u001b[0m\u001b[0;34m\u001b[0m\u001b[0m\n\u001b[0m\u001b[1;32m    126\u001b[0m \u001b[0;34m\u001b[0m\u001b[0m\n\u001b[1;32m    127\u001b[0m \u001b[0;34m\u001b[0m\u001b[0m\n",
            "\u001b[0;32m<ipython-input-221-4195913b356b>\u001b[0m in \u001b[0;36mrun\u001b[0;34m(P, g1, g2, g3, g4, loss, best, since, iters)\u001b[0m\n\u001b[1;32m    123\u001b[0m \u001b[0;34m\u001b[0m\u001b[0m\n\u001b[1;32m    124\u001b[0m     \u001b[0miters\u001b[0m\u001b[0;34m+=\u001b[0m\u001b[0;36m1\u001b[0m                                                         \u001b[0;31m#count each iteration (epoch)\u001b[0m\u001b[0;34m\u001b[0m\u001b[0;34m\u001b[0m\u001b[0m\n\u001b[0;32m--> 125\u001b[0;31m     \u001b[0mrun\u001b[0m\u001b[0;34m(\u001b[0m\u001b[0mP\u001b[0m\u001b[0;34m,\u001b[0m \u001b[0mg1\u001b[0m\u001b[0;34m,\u001b[0m\u001b[0mg2\u001b[0m\u001b[0;34m,\u001b[0m\u001b[0mg3\u001b[0m\u001b[0;34m,\u001b[0m\u001b[0mg4\u001b[0m\u001b[0;34m,\u001b[0m \u001b[0mloss\u001b[0m\u001b[0;34m,\u001b[0m \u001b[0mbest\u001b[0m\u001b[0;34m,\u001b[0m \u001b[0msince\u001b[0m\u001b[0;34m,\u001b[0m \u001b[0miters\u001b[0m\u001b[0;34m)\u001b[0m                    \u001b[0;31m#run all cfa steps again (until solved or max recursion limit reached)\u001b[0m\u001b[0;34m\u001b[0m\u001b[0;34m\u001b[0m\u001b[0m\n\u001b[0m\u001b[1;32m    126\u001b[0m \u001b[0;34m\u001b[0m\u001b[0m\n\u001b[1;32m    127\u001b[0m \u001b[0;34m\u001b[0m\u001b[0m\n",
            "\u001b[0;32m<ipython-input-221-4195913b356b>\u001b[0m in \u001b[0;36mrun\u001b[0;34m(P, g1, g2, g3, g4, loss, best, since, iters)\u001b[0m\n\u001b[1;32m    123\u001b[0m \u001b[0;34m\u001b[0m\u001b[0m\n\u001b[1;32m    124\u001b[0m     \u001b[0miters\u001b[0m\u001b[0;34m+=\u001b[0m\u001b[0;36m1\u001b[0m                                                         \u001b[0;31m#count each iteration (epoch)\u001b[0m\u001b[0;34m\u001b[0m\u001b[0;34m\u001b[0m\u001b[0m\n\u001b[0;32m--> 125\u001b[0;31m     \u001b[0mrun\u001b[0m\u001b[0;34m(\u001b[0m\u001b[0mP\u001b[0m\u001b[0;34m,\u001b[0m \u001b[0mg1\u001b[0m\u001b[0;34m,\u001b[0m\u001b[0mg2\u001b[0m\u001b[0;34m,\u001b[0m\u001b[0mg3\u001b[0m\u001b[0;34m,\u001b[0m\u001b[0mg4\u001b[0m\u001b[0;34m,\u001b[0m \u001b[0mloss\u001b[0m\u001b[0;34m,\u001b[0m \u001b[0mbest\u001b[0m\u001b[0;34m,\u001b[0m \u001b[0msince\u001b[0m\u001b[0;34m,\u001b[0m \u001b[0miters\u001b[0m\u001b[0;34m)\u001b[0m                    \u001b[0;31m#run all cfa steps again (until solved or max recursion limit reached)\u001b[0m\u001b[0;34m\u001b[0m\u001b[0;34m\u001b[0m\u001b[0m\n\u001b[0m\u001b[1;32m    126\u001b[0m \u001b[0;34m\u001b[0m\u001b[0m\n\u001b[1;32m    127\u001b[0m \u001b[0;34m\u001b[0m\u001b[0m\n",
            "\u001b[0;32m<ipython-input-221-4195913b356b>\u001b[0m in \u001b[0;36mrun\u001b[0;34m(P, g1, g2, g3, g4, loss, best, since, iters)\u001b[0m\n\u001b[1;32m    123\u001b[0m \u001b[0;34m\u001b[0m\u001b[0m\n\u001b[1;32m    124\u001b[0m     \u001b[0miters\u001b[0m\u001b[0;34m+=\u001b[0m\u001b[0;36m1\u001b[0m                                                         \u001b[0;31m#count each iteration (epoch)\u001b[0m\u001b[0;34m\u001b[0m\u001b[0;34m\u001b[0m\u001b[0m\n\u001b[0;32m--> 125\u001b[0;31m     \u001b[0mrun\u001b[0m\u001b[0;34m(\u001b[0m\u001b[0mP\u001b[0m\u001b[0;34m,\u001b[0m \u001b[0mg1\u001b[0m\u001b[0;34m,\u001b[0m\u001b[0mg2\u001b[0m\u001b[0;34m,\u001b[0m\u001b[0mg3\u001b[0m\u001b[0;34m,\u001b[0m\u001b[0mg4\u001b[0m\u001b[0;34m,\u001b[0m \u001b[0mloss\u001b[0m\u001b[0;34m,\u001b[0m \u001b[0mbest\u001b[0m\u001b[0;34m,\u001b[0m \u001b[0msince\u001b[0m\u001b[0;34m,\u001b[0m \u001b[0miters\u001b[0m\u001b[0;34m)\u001b[0m                    \u001b[0;31m#run all cfa steps again (until solved or max recursion limit reached)\u001b[0m\u001b[0;34m\u001b[0m\u001b[0;34m\u001b[0m\u001b[0m\n\u001b[0m\u001b[1;32m    126\u001b[0m \u001b[0;34m\u001b[0m\u001b[0m\n\u001b[1;32m    127\u001b[0m \u001b[0;34m\u001b[0m\u001b[0m\n",
            "\u001b[0;32m<ipython-input-221-4195913b356b>\u001b[0m in \u001b[0;36mrun\u001b[0;34m(P, g1, g2, g3, g4, loss, best, since, iters)\u001b[0m\n\u001b[1;32m    123\u001b[0m \u001b[0;34m\u001b[0m\u001b[0m\n\u001b[1;32m    124\u001b[0m     \u001b[0miters\u001b[0m\u001b[0;34m+=\u001b[0m\u001b[0;36m1\u001b[0m                                                         \u001b[0;31m#count each iteration (epoch)\u001b[0m\u001b[0;34m\u001b[0m\u001b[0;34m\u001b[0m\u001b[0m\n\u001b[0;32m--> 125\u001b[0;31m     \u001b[0mrun\u001b[0m\u001b[0;34m(\u001b[0m\u001b[0mP\u001b[0m\u001b[0;34m,\u001b[0m \u001b[0mg1\u001b[0m\u001b[0;34m,\u001b[0m\u001b[0mg2\u001b[0m\u001b[0;34m,\u001b[0m\u001b[0mg3\u001b[0m\u001b[0;34m,\u001b[0m\u001b[0mg4\u001b[0m\u001b[0;34m,\u001b[0m \u001b[0mloss\u001b[0m\u001b[0;34m,\u001b[0m \u001b[0mbest\u001b[0m\u001b[0;34m,\u001b[0m \u001b[0msince\u001b[0m\u001b[0;34m,\u001b[0m \u001b[0miters\u001b[0m\u001b[0;34m)\u001b[0m                    \u001b[0;31m#run all cfa steps again (until solved or max recursion limit reached)\u001b[0m\u001b[0;34m\u001b[0m\u001b[0;34m\u001b[0m\u001b[0m\n\u001b[0m\u001b[1;32m    126\u001b[0m \u001b[0;34m\u001b[0m\u001b[0m\n\u001b[1;32m    127\u001b[0m \u001b[0;34m\u001b[0m\u001b[0m\n",
            "\u001b[0;32m<ipython-input-221-4195913b356b>\u001b[0m in \u001b[0;36mrun\u001b[0;34m(P, g1, g2, g3, g4, loss, best, since, iters)\u001b[0m\n\u001b[1;32m    123\u001b[0m \u001b[0;34m\u001b[0m\u001b[0m\n\u001b[1;32m    124\u001b[0m     \u001b[0miters\u001b[0m\u001b[0;34m+=\u001b[0m\u001b[0;36m1\u001b[0m                                                         \u001b[0;31m#count each iteration (epoch)\u001b[0m\u001b[0;34m\u001b[0m\u001b[0;34m\u001b[0m\u001b[0m\n\u001b[0;32m--> 125\u001b[0;31m     \u001b[0mrun\u001b[0m\u001b[0;34m(\u001b[0m\u001b[0mP\u001b[0m\u001b[0;34m,\u001b[0m \u001b[0mg1\u001b[0m\u001b[0;34m,\u001b[0m\u001b[0mg2\u001b[0m\u001b[0;34m,\u001b[0m\u001b[0mg3\u001b[0m\u001b[0;34m,\u001b[0m\u001b[0mg4\u001b[0m\u001b[0;34m,\u001b[0m \u001b[0mloss\u001b[0m\u001b[0;34m,\u001b[0m \u001b[0mbest\u001b[0m\u001b[0;34m,\u001b[0m \u001b[0msince\u001b[0m\u001b[0;34m,\u001b[0m \u001b[0miters\u001b[0m\u001b[0;34m)\u001b[0m                    \u001b[0;31m#run all cfa steps again (until solved or max recursion limit reached)\u001b[0m\u001b[0;34m\u001b[0m\u001b[0;34m\u001b[0m\u001b[0m\n\u001b[0m\u001b[1;32m    126\u001b[0m \u001b[0;34m\u001b[0m\u001b[0m\n\u001b[1;32m    127\u001b[0m \u001b[0;34m\u001b[0m\u001b[0m\n",
            "\u001b[0;32m<ipython-input-221-4195913b356b>\u001b[0m in \u001b[0;36mrun\u001b[0;34m(P, g1, g2, g3, g4, loss, best, since, iters)\u001b[0m\n\u001b[1;32m    123\u001b[0m \u001b[0;34m\u001b[0m\u001b[0m\n\u001b[1;32m    124\u001b[0m     \u001b[0miters\u001b[0m\u001b[0;34m+=\u001b[0m\u001b[0;36m1\u001b[0m                                                         \u001b[0;31m#count each iteration (epoch)\u001b[0m\u001b[0;34m\u001b[0m\u001b[0;34m\u001b[0m\u001b[0m\n\u001b[0;32m--> 125\u001b[0;31m     \u001b[0mrun\u001b[0m\u001b[0;34m(\u001b[0m\u001b[0mP\u001b[0m\u001b[0;34m,\u001b[0m \u001b[0mg1\u001b[0m\u001b[0;34m,\u001b[0m\u001b[0mg2\u001b[0m\u001b[0;34m,\u001b[0m\u001b[0mg3\u001b[0m\u001b[0;34m,\u001b[0m\u001b[0mg4\u001b[0m\u001b[0;34m,\u001b[0m \u001b[0mloss\u001b[0m\u001b[0;34m,\u001b[0m \u001b[0mbest\u001b[0m\u001b[0;34m,\u001b[0m \u001b[0msince\u001b[0m\u001b[0;34m,\u001b[0m \u001b[0miters\u001b[0m\u001b[0;34m)\u001b[0m                    \u001b[0;31m#run all cfa steps again (until solved or max recursion limit reached)\u001b[0m\u001b[0;34m\u001b[0m\u001b[0;34m\u001b[0m\u001b[0m\n\u001b[0m\u001b[1;32m    126\u001b[0m \u001b[0;34m\u001b[0m\u001b[0m\n\u001b[1;32m    127\u001b[0m \u001b[0;34m\u001b[0m\u001b[0m\n",
            "\u001b[0;32m<ipython-input-221-4195913b356b>\u001b[0m in \u001b[0;36mrun\u001b[0;34m(P, g1, g2, g3, g4, loss, best, since, iters)\u001b[0m\n\u001b[1;32m    123\u001b[0m \u001b[0;34m\u001b[0m\u001b[0m\n\u001b[1;32m    124\u001b[0m     \u001b[0miters\u001b[0m\u001b[0;34m+=\u001b[0m\u001b[0;36m1\u001b[0m                                                         \u001b[0;31m#count each iteration (epoch)\u001b[0m\u001b[0;34m\u001b[0m\u001b[0;34m\u001b[0m\u001b[0m\n\u001b[0;32m--> 125\u001b[0;31m     \u001b[0mrun\u001b[0m\u001b[0;34m(\u001b[0m\u001b[0mP\u001b[0m\u001b[0;34m,\u001b[0m \u001b[0mg1\u001b[0m\u001b[0;34m,\u001b[0m\u001b[0mg2\u001b[0m\u001b[0;34m,\u001b[0m\u001b[0mg3\u001b[0m\u001b[0;34m,\u001b[0m\u001b[0mg4\u001b[0m\u001b[0;34m,\u001b[0m \u001b[0mloss\u001b[0m\u001b[0;34m,\u001b[0m \u001b[0mbest\u001b[0m\u001b[0;34m,\u001b[0m \u001b[0msince\u001b[0m\u001b[0;34m,\u001b[0m \u001b[0miters\u001b[0m\u001b[0;34m)\u001b[0m                    \u001b[0;31m#run all cfa steps again (until solved or max recursion limit reached)\u001b[0m\u001b[0;34m\u001b[0m\u001b[0;34m\u001b[0m\u001b[0m\n\u001b[0m\u001b[1;32m    126\u001b[0m \u001b[0;34m\u001b[0m\u001b[0m\n\u001b[1;32m    127\u001b[0m \u001b[0;34m\u001b[0m\u001b[0m\n",
            "\u001b[0;32m<ipython-input-221-4195913b356b>\u001b[0m in \u001b[0;36mrun\u001b[0;34m(P, g1, g2, g3, g4, loss, best, since, iters)\u001b[0m\n\u001b[1;32m    123\u001b[0m \u001b[0;34m\u001b[0m\u001b[0m\n\u001b[1;32m    124\u001b[0m     \u001b[0miters\u001b[0m\u001b[0;34m+=\u001b[0m\u001b[0;36m1\u001b[0m                                                         \u001b[0;31m#count each iteration (epoch)\u001b[0m\u001b[0;34m\u001b[0m\u001b[0;34m\u001b[0m\u001b[0m\n\u001b[0;32m--> 125\u001b[0;31m     \u001b[0mrun\u001b[0m\u001b[0;34m(\u001b[0m\u001b[0mP\u001b[0m\u001b[0;34m,\u001b[0m \u001b[0mg1\u001b[0m\u001b[0;34m,\u001b[0m\u001b[0mg2\u001b[0m\u001b[0;34m,\u001b[0m\u001b[0mg3\u001b[0m\u001b[0;34m,\u001b[0m\u001b[0mg4\u001b[0m\u001b[0;34m,\u001b[0m \u001b[0mloss\u001b[0m\u001b[0;34m,\u001b[0m \u001b[0mbest\u001b[0m\u001b[0;34m,\u001b[0m \u001b[0msince\u001b[0m\u001b[0;34m,\u001b[0m \u001b[0miters\u001b[0m\u001b[0;34m)\u001b[0m                    \u001b[0;31m#run all cfa steps again (until solved or max recursion limit reached)\u001b[0m\u001b[0;34m\u001b[0m\u001b[0;34m\u001b[0m\u001b[0m\n\u001b[0m\u001b[1;32m    126\u001b[0m \u001b[0;34m\u001b[0m\u001b[0m\n\u001b[1;32m    127\u001b[0m \u001b[0;34m\u001b[0m\u001b[0m\n",
            "\u001b[0;32m<ipython-input-221-4195913b356b>\u001b[0m in \u001b[0;36mrun\u001b[0;34m(P, g1, g2, g3, g4, loss, best, since, iters)\u001b[0m\n\u001b[1;32m    123\u001b[0m \u001b[0;34m\u001b[0m\u001b[0m\n\u001b[1;32m    124\u001b[0m     \u001b[0miters\u001b[0m\u001b[0;34m+=\u001b[0m\u001b[0;36m1\u001b[0m                                                         \u001b[0;31m#count each iteration (epoch)\u001b[0m\u001b[0;34m\u001b[0m\u001b[0;34m\u001b[0m\u001b[0m\n\u001b[0;32m--> 125\u001b[0;31m     \u001b[0mrun\u001b[0m\u001b[0;34m(\u001b[0m\u001b[0mP\u001b[0m\u001b[0;34m,\u001b[0m \u001b[0mg1\u001b[0m\u001b[0;34m,\u001b[0m\u001b[0mg2\u001b[0m\u001b[0;34m,\u001b[0m\u001b[0mg3\u001b[0m\u001b[0;34m,\u001b[0m\u001b[0mg4\u001b[0m\u001b[0;34m,\u001b[0m \u001b[0mloss\u001b[0m\u001b[0;34m,\u001b[0m \u001b[0mbest\u001b[0m\u001b[0;34m,\u001b[0m \u001b[0msince\u001b[0m\u001b[0;34m,\u001b[0m \u001b[0miters\u001b[0m\u001b[0;34m)\u001b[0m                    \u001b[0;31m#run all cfa steps again (until solved or max recursion limit reached)\u001b[0m\u001b[0;34m\u001b[0m\u001b[0;34m\u001b[0m\u001b[0m\n\u001b[0m\u001b[1;32m    126\u001b[0m \u001b[0;34m\u001b[0m\u001b[0m\n\u001b[1;32m    127\u001b[0m \u001b[0;34m\u001b[0m\u001b[0m\n",
            "\u001b[0;32m<ipython-input-221-4195913b356b>\u001b[0m in \u001b[0;36mrun\u001b[0;34m(P, g1, g2, g3, g4, loss, best, since, iters)\u001b[0m\n\u001b[1;32m    123\u001b[0m \u001b[0;34m\u001b[0m\u001b[0m\n\u001b[1;32m    124\u001b[0m     \u001b[0miters\u001b[0m\u001b[0;34m+=\u001b[0m\u001b[0;36m1\u001b[0m                                                         \u001b[0;31m#count each iteration (epoch)\u001b[0m\u001b[0;34m\u001b[0m\u001b[0;34m\u001b[0m\u001b[0m\n\u001b[0;32m--> 125\u001b[0;31m     \u001b[0mrun\u001b[0m\u001b[0;34m(\u001b[0m\u001b[0mP\u001b[0m\u001b[0;34m,\u001b[0m \u001b[0mg1\u001b[0m\u001b[0;34m,\u001b[0m\u001b[0mg2\u001b[0m\u001b[0;34m,\u001b[0m\u001b[0mg3\u001b[0m\u001b[0;34m,\u001b[0m\u001b[0mg4\u001b[0m\u001b[0;34m,\u001b[0m \u001b[0mloss\u001b[0m\u001b[0;34m,\u001b[0m \u001b[0mbest\u001b[0m\u001b[0;34m,\u001b[0m \u001b[0msince\u001b[0m\u001b[0;34m,\u001b[0m \u001b[0miters\u001b[0m\u001b[0;34m)\u001b[0m                    \u001b[0;31m#run all cfa steps again (until solved or max recursion limit reached)\u001b[0m\u001b[0;34m\u001b[0m\u001b[0;34m\u001b[0m\u001b[0m\n\u001b[0m\u001b[1;32m    126\u001b[0m \u001b[0;34m\u001b[0m\u001b[0m\n\u001b[1;32m    127\u001b[0m \u001b[0;34m\u001b[0m\u001b[0m\n",
            "\u001b[0;32m<ipython-input-221-4195913b356b>\u001b[0m in \u001b[0;36mrun\u001b[0;34m(P, g1, g2, g3, g4, loss, best, since, iters)\u001b[0m\n\u001b[1;32m    123\u001b[0m \u001b[0;34m\u001b[0m\u001b[0m\n\u001b[1;32m    124\u001b[0m     \u001b[0miters\u001b[0m\u001b[0;34m+=\u001b[0m\u001b[0;36m1\u001b[0m                                                         \u001b[0;31m#count each iteration (epoch)\u001b[0m\u001b[0;34m\u001b[0m\u001b[0;34m\u001b[0m\u001b[0m\n\u001b[0;32m--> 125\u001b[0;31m     \u001b[0mrun\u001b[0m\u001b[0;34m(\u001b[0m\u001b[0mP\u001b[0m\u001b[0;34m,\u001b[0m \u001b[0mg1\u001b[0m\u001b[0;34m,\u001b[0m\u001b[0mg2\u001b[0m\u001b[0;34m,\u001b[0m\u001b[0mg3\u001b[0m\u001b[0;34m,\u001b[0m\u001b[0mg4\u001b[0m\u001b[0;34m,\u001b[0m \u001b[0mloss\u001b[0m\u001b[0;34m,\u001b[0m \u001b[0mbest\u001b[0m\u001b[0;34m,\u001b[0m \u001b[0msince\u001b[0m\u001b[0;34m,\u001b[0m \u001b[0miters\u001b[0m\u001b[0;34m)\u001b[0m                    \u001b[0;31m#run all cfa steps again (until solved or max recursion limit reached)\u001b[0m\u001b[0;34m\u001b[0m\u001b[0;34m\u001b[0m\u001b[0m\n\u001b[0m\u001b[1;32m    126\u001b[0m \u001b[0;34m\u001b[0m\u001b[0m\n\u001b[1;32m    127\u001b[0m \u001b[0;34m\u001b[0m\u001b[0m\n",
            "\u001b[0;32m<ipython-input-221-4195913b356b>\u001b[0m in \u001b[0;36mrun\u001b[0;34m(P, g1, g2, g3, g4, loss, best, since, iters)\u001b[0m\n\u001b[1;32m    123\u001b[0m \u001b[0;34m\u001b[0m\u001b[0m\n\u001b[1;32m    124\u001b[0m     \u001b[0miters\u001b[0m\u001b[0;34m+=\u001b[0m\u001b[0;36m1\u001b[0m                                                         \u001b[0;31m#count each iteration (epoch)\u001b[0m\u001b[0;34m\u001b[0m\u001b[0;34m\u001b[0m\u001b[0m\n\u001b[0;32m--> 125\u001b[0;31m     \u001b[0mrun\u001b[0m\u001b[0;34m(\u001b[0m\u001b[0mP\u001b[0m\u001b[0;34m,\u001b[0m \u001b[0mg1\u001b[0m\u001b[0;34m,\u001b[0m\u001b[0mg2\u001b[0m\u001b[0;34m,\u001b[0m\u001b[0mg3\u001b[0m\u001b[0;34m,\u001b[0m\u001b[0mg4\u001b[0m\u001b[0;34m,\u001b[0m \u001b[0mloss\u001b[0m\u001b[0;34m,\u001b[0m \u001b[0mbest\u001b[0m\u001b[0;34m,\u001b[0m \u001b[0msince\u001b[0m\u001b[0;34m,\u001b[0m \u001b[0miters\u001b[0m\u001b[0;34m)\u001b[0m                    \u001b[0;31m#run all cfa steps again (until solved or max recursion limit reached)\u001b[0m\u001b[0;34m\u001b[0m\u001b[0;34m\u001b[0m\u001b[0m\n\u001b[0m\u001b[1;32m    126\u001b[0m \u001b[0;34m\u001b[0m\u001b[0m\n\u001b[1;32m    127\u001b[0m \u001b[0;34m\u001b[0m\u001b[0m\n",
            "\u001b[0;32m<ipython-input-221-4195913b356b>\u001b[0m in \u001b[0;36mrun\u001b[0;34m(P, g1, g2, g3, g4, loss, best, since, iters)\u001b[0m\n\u001b[1;32m    123\u001b[0m \u001b[0;34m\u001b[0m\u001b[0m\n\u001b[1;32m    124\u001b[0m     \u001b[0miters\u001b[0m\u001b[0;34m+=\u001b[0m\u001b[0;36m1\u001b[0m                                                         \u001b[0;31m#count each iteration (epoch)\u001b[0m\u001b[0;34m\u001b[0m\u001b[0;34m\u001b[0m\u001b[0m\n\u001b[0;32m--> 125\u001b[0;31m     \u001b[0mrun\u001b[0m\u001b[0;34m(\u001b[0m\u001b[0mP\u001b[0m\u001b[0;34m,\u001b[0m \u001b[0mg1\u001b[0m\u001b[0;34m,\u001b[0m\u001b[0mg2\u001b[0m\u001b[0;34m,\u001b[0m\u001b[0mg3\u001b[0m\u001b[0;34m,\u001b[0m\u001b[0mg4\u001b[0m\u001b[0;34m,\u001b[0m \u001b[0mloss\u001b[0m\u001b[0;34m,\u001b[0m \u001b[0mbest\u001b[0m\u001b[0;34m,\u001b[0m \u001b[0msince\u001b[0m\u001b[0;34m,\u001b[0m \u001b[0miters\u001b[0m\u001b[0;34m)\u001b[0m                    \u001b[0;31m#run all cfa steps again (until solved or max recursion limit reached)\u001b[0m\u001b[0;34m\u001b[0m\u001b[0;34m\u001b[0m\u001b[0m\n\u001b[0m\u001b[1;32m    126\u001b[0m \u001b[0;34m\u001b[0m\u001b[0m\n\u001b[1;32m    127\u001b[0m \u001b[0;34m\u001b[0m\u001b[0m\n",
            "\u001b[0;32m<ipython-input-221-4195913b356b>\u001b[0m in \u001b[0;36mrun\u001b[0;34m(P, g1, g2, g3, g4, loss, best, since, iters)\u001b[0m\n\u001b[1;32m    123\u001b[0m \u001b[0;34m\u001b[0m\u001b[0m\n\u001b[1;32m    124\u001b[0m     \u001b[0miters\u001b[0m\u001b[0;34m+=\u001b[0m\u001b[0;36m1\u001b[0m                                                         \u001b[0;31m#count each iteration (epoch)\u001b[0m\u001b[0;34m\u001b[0m\u001b[0;34m\u001b[0m\u001b[0m\n\u001b[0;32m--> 125\u001b[0;31m     \u001b[0mrun\u001b[0m\u001b[0;34m(\u001b[0m\u001b[0mP\u001b[0m\u001b[0;34m,\u001b[0m \u001b[0mg1\u001b[0m\u001b[0;34m,\u001b[0m\u001b[0mg2\u001b[0m\u001b[0;34m,\u001b[0m\u001b[0mg3\u001b[0m\u001b[0;34m,\u001b[0m\u001b[0mg4\u001b[0m\u001b[0;34m,\u001b[0m \u001b[0mloss\u001b[0m\u001b[0;34m,\u001b[0m \u001b[0mbest\u001b[0m\u001b[0;34m,\u001b[0m \u001b[0msince\u001b[0m\u001b[0;34m,\u001b[0m \u001b[0miters\u001b[0m\u001b[0;34m)\u001b[0m                    \u001b[0;31m#run all cfa steps again (until solved or max recursion limit reached)\u001b[0m\u001b[0;34m\u001b[0m\u001b[0;34m\u001b[0m\u001b[0m\n\u001b[0m\u001b[1;32m    126\u001b[0m \u001b[0;34m\u001b[0m\u001b[0m\n\u001b[1;32m    127\u001b[0m \u001b[0;34m\u001b[0m\u001b[0m\n",
            "\u001b[0;32m<ipython-input-221-4195913b356b>\u001b[0m in \u001b[0;36mrun\u001b[0;34m(P, g1, g2, g3, g4, loss, best, since, iters)\u001b[0m\n\u001b[1;32m    123\u001b[0m \u001b[0;34m\u001b[0m\u001b[0m\n\u001b[1;32m    124\u001b[0m     \u001b[0miters\u001b[0m\u001b[0;34m+=\u001b[0m\u001b[0;36m1\u001b[0m                                                         \u001b[0;31m#count each iteration (epoch)\u001b[0m\u001b[0;34m\u001b[0m\u001b[0;34m\u001b[0m\u001b[0m\n\u001b[0;32m--> 125\u001b[0;31m     \u001b[0mrun\u001b[0m\u001b[0;34m(\u001b[0m\u001b[0mP\u001b[0m\u001b[0;34m,\u001b[0m \u001b[0mg1\u001b[0m\u001b[0;34m,\u001b[0m\u001b[0mg2\u001b[0m\u001b[0;34m,\u001b[0m\u001b[0mg3\u001b[0m\u001b[0;34m,\u001b[0m\u001b[0mg4\u001b[0m\u001b[0;34m,\u001b[0m \u001b[0mloss\u001b[0m\u001b[0;34m,\u001b[0m \u001b[0mbest\u001b[0m\u001b[0;34m,\u001b[0m \u001b[0msince\u001b[0m\u001b[0;34m,\u001b[0m \u001b[0miters\u001b[0m\u001b[0;34m)\u001b[0m                    \u001b[0;31m#run all cfa steps again (until solved or max recursion limit reached)\u001b[0m\u001b[0;34m\u001b[0m\u001b[0;34m\u001b[0m\u001b[0m\n\u001b[0m\u001b[1;32m    126\u001b[0m \u001b[0;34m\u001b[0m\u001b[0m\n\u001b[1;32m    127\u001b[0m \u001b[0;34m\u001b[0m\u001b[0m\n",
            "\u001b[0;32m<ipython-input-221-4195913b356b>\u001b[0m in \u001b[0;36mrun\u001b[0;34m(P, g1, g2, g3, g4, loss, best, since, iters)\u001b[0m\n\u001b[1;32m    123\u001b[0m \u001b[0;34m\u001b[0m\u001b[0m\n\u001b[1;32m    124\u001b[0m     \u001b[0miters\u001b[0m\u001b[0;34m+=\u001b[0m\u001b[0;36m1\u001b[0m                                                         \u001b[0;31m#count each iteration (epoch)\u001b[0m\u001b[0;34m\u001b[0m\u001b[0;34m\u001b[0m\u001b[0m\n\u001b[0;32m--> 125\u001b[0;31m     \u001b[0mrun\u001b[0m\u001b[0;34m(\u001b[0m\u001b[0mP\u001b[0m\u001b[0;34m,\u001b[0m \u001b[0mg1\u001b[0m\u001b[0;34m,\u001b[0m\u001b[0mg2\u001b[0m\u001b[0;34m,\u001b[0m\u001b[0mg3\u001b[0m\u001b[0;34m,\u001b[0m\u001b[0mg4\u001b[0m\u001b[0;34m,\u001b[0m \u001b[0mloss\u001b[0m\u001b[0;34m,\u001b[0m \u001b[0mbest\u001b[0m\u001b[0;34m,\u001b[0m \u001b[0msince\u001b[0m\u001b[0;34m,\u001b[0m \u001b[0miters\u001b[0m\u001b[0;34m)\u001b[0m                    \u001b[0;31m#run all cfa steps again (until solved or max recursion limit reached)\u001b[0m\u001b[0;34m\u001b[0m\u001b[0;34m\u001b[0m\u001b[0m\n\u001b[0m\u001b[1;32m    126\u001b[0m \u001b[0;34m\u001b[0m\u001b[0m\n\u001b[1;32m    127\u001b[0m \u001b[0;34m\u001b[0m\u001b[0m\n",
            "\u001b[0;32m<ipython-input-221-4195913b356b>\u001b[0m in \u001b[0;36mrun\u001b[0;34m(P, g1, g2, g3, g4, loss, best, since, iters)\u001b[0m\n\u001b[1;32m    123\u001b[0m \u001b[0;34m\u001b[0m\u001b[0m\n\u001b[1;32m    124\u001b[0m     \u001b[0miters\u001b[0m\u001b[0;34m+=\u001b[0m\u001b[0;36m1\u001b[0m                                                         \u001b[0;31m#count each iteration (epoch)\u001b[0m\u001b[0;34m\u001b[0m\u001b[0;34m\u001b[0m\u001b[0m\n\u001b[0;32m--> 125\u001b[0;31m     \u001b[0mrun\u001b[0m\u001b[0;34m(\u001b[0m\u001b[0mP\u001b[0m\u001b[0;34m,\u001b[0m \u001b[0mg1\u001b[0m\u001b[0;34m,\u001b[0m\u001b[0mg2\u001b[0m\u001b[0;34m,\u001b[0m\u001b[0mg3\u001b[0m\u001b[0;34m,\u001b[0m\u001b[0mg4\u001b[0m\u001b[0;34m,\u001b[0m \u001b[0mloss\u001b[0m\u001b[0;34m,\u001b[0m \u001b[0mbest\u001b[0m\u001b[0;34m,\u001b[0m \u001b[0msince\u001b[0m\u001b[0;34m,\u001b[0m \u001b[0miters\u001b[0m\u001b[0;34m)\u001b[0m                    \u001b[0;31m#run all cfa steps again (until solved or max recursion limit reached)\u001b[0m\u001b[0;34m\u001b[0m\u001b[0;34m\u001b[0m\u001b[0m\n\u001b[0m\u001b[1;32m    126\u001b[0m \u001b[0;34m\u001b[0m\u001b[0m\n\u001b[1;32m    127\u001b[0m \u001b[0;34m\u001b[0m\u001b[0m\n",
            "\u001b[0;32m<ipython-input-221-4195913b356b>\u001b[0m in \u001b[0;36mrun\u001b[0;34m(P, g1, g2, g3, g4, loss, best, since, iters)\u001b[0m\n\u001b[1;32m    123\u001b[0m \u001b[0;34m\u001b[0m\u001b[0m\n\u001b[1;32m    124\u001b[0m     \u001b[0miters\u001b[0m\u001b[0;34m+=\u001b[0m\u001b[0;36m1\u001b[0m                                                         \u001b[0;31m#count each iteration (epoch)\u001b[0m\u001b[0;34m\u001b[0m\u001b[0;34m\u001b[0m\u001b[0m\n\u001b[0;32m--> 125\u001b[0;31m     \u001b[0mrun\u001b[0m\u001b[0;34m(\u001b[0m\u001b[0mP\u001b[0m\u001b[0;34m,\u001b[0m \u001b[0mg1\u001b[0m\u001b[0;34m,\u001b[0m\u001b[0mg2\u001b[0m\u001b[0;34m,\u001b[0m\u001b[0mg3\u001b[0m\u001b[0;34m,\u001b[0m\u001b[0mg4\u001b[0m\u001b[0;34m,\u001b[0m \u001b[0mloss\u001b[0m\u001b[0;34m,\u001b[0m \u001b[0mbest\u001b[0m\u001b[0;34m,\u001b[0m \u001b[0msince\u001b[0m\u001b[0;34m,\u001b[0m \u001b[0miters\u001b[0m\u001b[0;34m)\u001b[0m                    \u001b[0;31m#run all cfa steps again (until solved or max recursion limit reached)\u001b[0m\u001b[0;34m\u001b[0m\u001b[0;34m\u001b[0m\u001b[0m\n\u001b[0m\u001b[1;32m    126\u001b[0m \u001b[0;34m\u001b[0m\u001b[0m\n\u001b[1;32m    127\u001b[0m \u001b[0;34m\u001b[0m\u001b[0m\n",
            "\u001b[0;32m<ipython-input-221-4195913b356b>\u001b[0m in \u001b[0;36mrun\u001b[0;34m(P, g1, g2, g3, g4, loss, best, since, iters)\u001b[0m\n\u001b[1;32m    123\u001b[0m \u001b[0;34m\u001b[0m\u001b[0m\n\u001b[1;32m    124\u001b[0m     \u001b[0miters\u001b[0m\u001b[0;34m+=\u001b[0m\u001b[0;36m1\u001b[0m                                                         \u001b[0;31m#count each iteration (epoch)\u001b[0m\u001b[0;34m\u001b[0m\u001b[0;34m\u001b[0m\u001b[0m\n\u001b[0;32m--> 125\u001b[0;31m     \u001b[0mrun\u001b[0m\u001b[0;34m(\u001b[0m\u001b[0mP\u001b[0m\u001b[0;34m,\u001b[0m \u001b[0mg1\u001b[0m\u001b[0;34m,\u001b[0m\u001b[0mg2\u001b[0m\u001b[0;34m,\u001b[0m\u001b[0mg3\u001b[0m\u001b[0;34m,\u001b[0m\u001b[0mg4\u001b[0m\u001b[0;34m,\u001b[0m \u001b[0mloss\u001b[0m\u001b[0;34m,\u001b[0m \u001b[0mbest\u001b[0m\u001b[0;34m,\u001b[0m \u001b[0msince\u001b[0m\u001b[0;34m,\u001b[0m \u001b[0miters\u001b[0m\u001b[0;34m)\u001b[0m                    \u001b[0;31m#run all cfa steps again (until solved or max recursion limit reached)\u001b[0m\u001b[0;34m\u001b[0m\u001b[0;34m\u001b[0m\u001b[0m\n\u001b[0m\u001b[1;32m    126\u001b[0m \u001b[0;34m\u001b[0m\u001b[0m\n\u001b[1;32m    127\u001b[0m \u001b[0;34m\u001b[0m\u001b[0m\n",
            "\u001b[0;32m<ipython-input-221-4195913b356b>\u001b[0m in \u001b[0;36mrun\u001b[0;34m(P, g1, g2, g3, g4, loss, best, since, iters)\u001b[0m\n\u001b[1;32m    123\u001b[0m \u001b[0;34m\u001b[0m\u001b[0m\n\u001b[1;32m    124\u001b[0m     \u001b[0miters\u001b[0m\u001b[0;34m+=\u001b[0m\u001b[0;36m1\u001b[0m                                                         \u001b[0;31m#count each iteration (epoch)\u001b[0m\u001b[0;34m\u001b[0m\u001b[0;34m\u001b[0m\u001b[0m\n\u001b[0;32m--> 125\u001b[0;31m     \u001b[0mrun\u001b[0m\u001b[0;34m(\u001b[0m\u001b[0mP\u001b[0m\u001b[0;34m,\u001b[0m \u001b[0mg1\u001b[0m\u001b[0;34m,\u001b[0m\u001b[0mg2\u001b[0m\u001b[0;34m,\u001b[0m\u001b[0mg3\u001b[0m\u001b[0;34m,\u001b[0m\u001b[0mg4\u001b[0m\u001b[0;34m,\u001b[0m \u001b[0mloss\u001b[0m\u001b[0;34m,\u001b[0m \u001b[0mbest\u001b[0m\u001b[0;34m,\u001b[0m \u001b[0msince\u001b[0m\u001b[0;34m,\u001b[0m \u001b[0miters\u001b[0m\u001b[0;34m)\u001b[0m                    \u001b[0;31m#run all cfa steps again (until solved or max recursion limit reached)\u001b[0m\u001b[0;34m\u001b[0m\u001b[0;34m\u001b[0m\u001b[0m\n\u001b[0m\u001b[1;32m    126\u001b[0m \u001b[0;34m\u001b[0m\u001b[0m\n\u001b[1;32m    127\u001b[0m \u001b[0;34m\u001b[0m\u001b[0m\n",
            "\u001b[0;32m<ipython-input-221-4195913b356b>\u001b[0m in \u001b[0;36mrun\u001b[0;34m(P, g1, g2, g3, g4, loss, best, since, iters)\u001b[0m\n\u001b[1;32m    123\u001b[0m \u001b[0;34m\u001b[0m\u001b[0m\n\u001b[1;32m    124\u001b[0m     \u001b[0miters\u001b[0m\u001b[0;34m+=\u001b[0m\u001b[0;36m1\u001b[0m                                                         \u001b[0;31m#count each iteration (epoch)\u001b[0m\u001b[0;34m\u001b[0m\u001b[0;34m\u001b[0m\u001b[0m\n\u001b[0;32m--> 125\u001b[0;31m     \u001b[0mrun\u001b[0m\u001b[0;34m(\u001b[0m\u001b[0mP\u001b[0m\u001b[0;34m,\u001b[0m \u001b[0mg1\u001b[0m\u001b[0;34m,\u001b[0m\u001b[0mg2\u001b[0m\u001b[0;34m,\u001b[0m\u001b[0mg3\u001b[0m\u001b[0;34m,\u001b[0m\u001b[0mg4\u001b[0m\u001b[0;34m,\u001b[0m \u001b[0mloss\u001b[0m\u001b[0;34m,\u001b[0m \u001b[0mbest\u001b[0m\u001b[0;34m,\u001b[0m \u001b[0msince\u001b[0m\u001b[0;34m,\u001b[0m \u001b[0miters\u001b[0m\u001b[0;34m)\u001b[0m                    \u001b[0;31m#run all cfa steps again (until solved or max recursion limit reached)\u001b[0m\u001b[0;34m\u001b[0m\u001b[0;34m\u001b[0m\u001b[0m\n\u001b[0m\u001b[1;32m    126\u001b[0m \u001b[0;34m\u001b[0m\u001b[0m\n\u001b[1;32m    127\u001b[0m \u001b[0;34m\u001b[0m\u001b[0m\n",
            "\u001b[0;32m<ipython-input-221-4195913b356b>\u001b[0m in \u001b[0;36mrun\u001b[0;34m(P, g1, g2, g3, g4, loss, best, since, iters)\u001b[0m\n\u001b[1;32m    123\u001b[0m \u001b[0;34m\u001b[0m\u001b[0m\n\u001b[1;32m    124\u001b[0m     \u001b[0miters\u001b[0m\u001b[0;34m+=\u001b[0m\u001b[0;36m1\u001b[0m                                                         \u001b[0;31m#count each iteration (epoch)\u001b[0m\u001b[0;34m\u001b[0m\u001b[0;34m\u001b[0m\u001b[0m\n\u001b[0;32m--> 125\u001b[0;31m     \u001b[0mrun\u001b[0m\u001b[0;34m(\u001b[0m\u001b[0mP\u001b[0m\u001b[0;34m,\u001b[0m \u001b[0mg1\u001b[0m\u001b[0;34m,\u001b[0m\u001b[0mg2\u001b[0m\u001b[0;34m,\u001b[0m\u001b[0mg3\u001b[0m\u001b[0;34m,\u001b[0m\u001b[0mg4\u001b[0m\u001b[0;34m,\u001b[0m \u001b[0mloss\u001b[0m\u001b[0;34m,\u001b[0m \u001b[0mbest\u001b[0m\u001b[0;34m,\u001b[0m \u001b[0msince\u001b[0m\u001b[0;34m,\u001b[0m \u001b[0miters\u001b[0m\u001b[0;34m)\u001b[0m                    \u001b[0;31m#run all cfa steps again (until solved or max recursion limit reached)\u001b[0m\u001b[0;34m\u001b[0m\u001b[0;34m\u001b[0m\u001b[0m\n\u001b[0m\u001b[1;32m    126\u001b[0m \u001b[0;34m\u001b[0m\u001b[0m\n\u001b[1;32m    127\u001b[0m \u001b[0;34m\u001b[0m\u001b[0m\n",
            "\u001b[0;32m<ipython-input-221-4195913b356b>\u001b[0m in \u001b[0;36mrun\u001b[0;34m(P, g1, g2, g3, g4, loss, best, since, iters)\u001b[0m\n\u001b[1;32m    123\u001b[0m \u001b[0;34m\u001b[0m\u001b[0m\n\u001b[1;32m    124\u001b[0m     \u001b[0miters\u001b[0m\u001b[0;34m+=\u001b[0m\u001b[0;36m1\u001b[0m                                                         \u001b[0;31m#count each iteration (epoch)\u001b[0m\u001b[0;34m\u001b[0m\u001b[0;34m\u001b[0m\u001b[0m\n\u001b[0;32m--> 125\u001b[0;31m     \u001b[0mrun\u001b[0m\u001b[0;34m(\u001b[0m\u001b[0mP\u001b[0m\u001b[0;34m,\u001b[0m \u001b[0mg1\u001b[0m\u001b[0;34m,\u001b[0m\u001b[0mg2\u001b[0m\u001b[0;34m,\u001b[0m\u001b[0mg3\u001b[0m\u001b[0;34m,\u001b[0m\u001b[0mg4\u001b[0m\u001b[0;34m,\u001b[0m \u001b[0mloss\u001b[0m\u001b[0;34m,\u001b[0m \u001b[0mbest\u001b[0m\u001b[0;34m,\u001b[0m \u001b[0msince\u001b[0m\u001b[0;34m,\u001b[0m \u001b[0miters\u001b[0m\u001b[0;34m)\u001b[0m                    \u001b[0;31m#run all cfa steps again (until solved or max recursion limit reached)\u001b[0m\u001b[0;34m\u001b[0m\u001b[0;34m\u001b[0m\u001b[0m\n\u001b[0m\u001b[1;32m    126\u001b[0m \u001b[0;34m\u001b[0m\u001b[0m\n\u001b[1;32m    127\u001b[0m \u001b[0;34m\u001b[0m\u001b[0m\n",
            "\u001b[0;32m<ipython-input-221-4195913b356b>\u001b[0m in \u001b[0;36mrun\u001b[0;34m(P, g1, g2, g3, g4, loss, best, since, iters)\u001b[0m\n\u001b[1;32m    123\u001b[0m \u001b[0;34m\u001b[0m\u001b[0m\n\u001b[1;32m    124\u001b[0m     \u001b[0miters\u001b[0m\u001b[0;34m+=\u001b[0m\u001b[0;36m1\u001b[0m                                                         \u001b[0;31m#count each iteration (epoch)\u001b[0m\u001b[0;34m\u001b[0m\u001b[0;34m\u001b[0m\u001b[0m\n\u001b[0;32m--> 125\u001b[0;31m     \u001b[0mrun\u001b[0m\u001b[0;34m(\u001b[0m\u001b[0mP\u001b[0m\u001b[0;34m,\u001b[0m \u001b[0mg1\u001b[0m\u001b[0;34m,\u001b[0m\u001b[0mg2\u001b[0m\u001b[0;34m,\u001b[0m\u001b[0mg3\u001b[0m\u001b[0;34m,\u001b[0m\u001b[0mg4\u001b[0m\u001b[0;34m,\u001b[0m \u001b[0mloss\u001b[0m\u001b[0;34m,\u001b[0m \u001b[0mbest\u001b[0m\u001b[0;34m,\u001b[0m \u001b[0msince\u001b[0m\u001b[0;34m,\u001b[0m \u001b[0miters\u001b[0m\u001b[0;34m)\u001b[0m                    \u001b[0;31m#run all cfa steps again (until solved or max recursion limit reached)\u001b[0m\u001b[0;34m\u001b[0m\u001b[0;34m\u001b[0m\u001b[0m\n\u001b[0m\u001b[1;32m    126\u001b[0m \u001b[0;34m\u001b[0m\u001b[0m\n\u001b[1;32m    127\u001b[0m \u001b[0;34m\u001b[0m\u001b[0m\n",
            "\u001b[0;32m<ipython-input-221-4195913b356b>\u001b[0m in \u001b[0;36mrun\u001b[0;34m(P, g1, g2, g3, g4, loss, best, since, iters)\u001b[0m\n\u001b[1;32m    123\u001b[0m \u001b[0;34m\u001b[0m\u001b[0m\n\u001b[1;32m    124\u001b[0m     \u001b[0miters\u001b[0m\u001b[0;34m+=\u001b[0m\u001b[0;36m1\u001b[0m                                                         \u001b[0;31m#count each iteration (epoch)\u001b[0m\u001b[0;34m\u001b[0m\u001b[0;34m\u001b[0m\u001b[0m\n\u001b[0;32m--> 125\u001b[0;31m     \u001b[0mrun\u001b[0m\u001b[0;34m(\u001b[0m\u001b[0mP\u001b[0m\u001b[0;34m,\u001b[0m \u001b[0mg1\u001b[0m\u001b[0;34m,\u001b[0m\u001b[0mg2\u001b[0m\u001b[0;34m,\u001b[0m\u001b[0mg3\u001b[0m\u001b[0;34m,\u001b[0m\u001b[0mg4\u001b[0m\u001b[0;34m,\u001b[0m \u001b[0mloss\u001b[0m\u001b[0;34m,\u001b[0m \u001b[0mbest\u001b[0m\u001b[0;34m,\u001b[0m \u001b[0msince\u001b[0m\u001b[0;34m,\u001b[0m \u001b[0miters\u001b[0m\u001b[0;34m)\u001b[0m                    \u001b[0;31m#run all cfa steps again (until solved or max recursion limit reached)\u001b[0m\u001b[0;34m\u001b[0m\u001b[0;34m\u001b[0m\u001b[0m\n\u001b[0m\u001b[1;32m    126\u001b[0m \u001b[0;34m\u001b[0m\u001b[0m\n\u001b[1;32m    127\u001b[0m \u001b[0;34m\u001b[0m\u001b[0m\n",
            "\u001b[0;32m<ipython-input-221-4195913b356b>\u001b[0m in \u001b[0;36mrun\u001b[0;34m(P, g1, g2, g3, g4, loss, best, since, iters)\u001b[0m\n\u001b[1;32m    123\u001b[0m \u001b[0;34m\u001b[0m\u001b[0m\n\u001b[1;32m    124\u001b[0m     \u001b[0miters\u001b[0m\u001b[0;34m+=\u001b[0m\u001b[0;36m1\u001b[0m                                                         \u001b[0;31m#count each iteration (epoch)\u001b[0m\u001b[0;34m\u001b[0m\u001b[0;34m\u001b[0m\u001b[0m\n\u001b[0;32m--> 125\u001b[0;31m     \u001b[0mrun\u001b[0m\u001b[0;34m(\u001b[0m\u001b[0mP\u001b[0m\u001b[0;34m,\u001b[0m \u001b[0mg1\u001b[0m\u001b[0;34m,\u001b[0m\u001b[0mg2\u001b[0m\u001b[0;34m,\u001b[0m\u001b[0mg3\u001b[0m\u001b[0;34m,\u001b[0m\u001b[0mg4\u001b[0m\u001b[0;34m,\u001b[0m \u001b[0mloss\u001b[0m\u001b[0;34m,\u001b[0m \u001b[0mbest\u001b[0m\u001b[0;34m,\u001b[0m \u001b[0msince\u001b[0m\u001b[0;34m,\u001b[0m \u001b[0miters\u001b[0m\u001b[0;34m)\u001b[0m                    \u001b[0;31m#run all cfa steps again (until solved or max recursion limit reached)\u001b[0m\u001b[0;34m\u001b[0m\u001b[0;34m\u001b[0m\u001b[0m\n\u001b[0m\u001b[1;32m    126\u001b[0m \u001b[0;34m\u001b[0m\u001b[0m\n\u001b[1;32m    127\u001b[0m \u001b[0;34m\u001b[0m\u001b[0m\n",
            "\u001b[0;32m<ipython-input-221-4195913b356b>\u001b[0m in \u001b[0;36mrun\u001b[0;34m(P, g1, g2, g3, g4, loss, best, since, iters)\u001b[0m\n\u001b[1;32m    123\u001b[0m \u001b[0;34m\u001b[0m\u001b[0m\n\u001b[1;32m    124\u001b[0m     \u001b[0miters\u001b[0m\u001b[0;34m+=\u001b[0m\u001b[0;36m1\u001b[0m                                                         \u001b[0;31m#count each iteration (epoch)\u001b[0m\u001b[0;34m\u001b[0m\u001b[0;34m\u001b[0m\u001b[0m\n\u001b[0;32m--> 125\u001b[0;31m     \u001b[0mrun\u001b[0m\u001b[0;34m(\u001b[0m\u001b[0mP\u001b[0m\u001b[0;34m,\u001b[0m \u001b[0mg1\u001b[0m\u001b[0;34m,\u001b[0m\u001b[0mg2\u001b[0m\u001b[0;34m,\u001b[0m\u001b[0mg3\u001b[0m\u001b[0;34m,\u001b[0m\u001b[0mg4\u001b[0m\u001b[0;34m,\u001b[0m \u001b[0mloss\u001b[0m\u001b[0;34m,\u001b[0m \u001b[0mbest\u001b[0m\u001b[0;34m,\u001b[0m \u001b[0msince\u001b[0m\u001b[0;34m,\u001b[0m \u001b[0miters\u001b[0m\u001b[0;34m)\u001b[0m                    \u001b[0;31m#run all cfa steps again (until solved or max recursion limit reached)\u001b[0m\u001b[0;34m\u001b[0m\u001b[0;34m\u001b[0m\u001b[0m\n\u001b[0m\u001b[1;32m    126\u001b[0m \u001b[0;34m\u001b[0m\u001b[0m\n\u001b[1;32m    127\u001b[0m \u001b[0;34m\u001b[0m\u001b[0m\n",
            "\u001b[0;32m<ipython-input-221-4195913b356b>\u001b[0m in \u001b[0;36mrun\u001b[0;34m(P, g1, g2, g3, g4, loss, best, since, iters)\u001b[0m\n\u001b[1;32m    123\u001b[0m \u001b[0;34m\u001b[0m\u001b[0m\n\u001b[1;32m    124\u001b[0m     \u001b[0miters\u001b[0m\u001b[0;34m+=\u001b[0m\u001b[0;36m1\u001b[0m                                                         \u001b[0;31m#count each iteration (epoch)\u001b[0m\u001b[0;34m\u001b[0m\u001b[0;34m\u001b[0m\u001b[0m\n\u001b[0;32m--> 125\u001b[0;31m     \u001b[0mrun\u001b[0m\u001b[0;34m(\u001b[0m\u001b[0mP\u001b[0m\u001b[0;34m,\u001b[0m \u001b[0mg1\u001b[0m\u001b[0;34m,\u001b[0m\u001b[0mg2\u001b[0m\u001b[0;34m,\u001b[0m\u001b[0mg3\u001b[0m\u001b[0;34m,\u001b[0m\u001b[0mg4\u001b[0m\u001b[0;34m,\u001b[0m \u001b[0mloss\u001b[0m\u001b[0;34m,\u001b[0m \u001b[0mbest\u001b[0m\u001b[0;34m,\u001b[0m \u001b[0msince\u001b[0m\u001b[0;34m,\u001b[0m \u001b[0miters\u001b[0m\u001b[0;34m)\u001b[0m                    \u001b[0;31m#run all cfa steps again (until solved or max recursion limit reached)\u001b[0m\u001b[0;34m\u001b[0m\u001b[0;34m\u001b[0m\u001b[0m\n\u001b[0m\u001b[1;32m    126\u001b[0m \u001b[0;34m\u001b[0m\u001b[0m\n\u001b[1;32m    127\u001b[0m \u001b[0;34m\u001b[0m\u001b[0m\n",
            "\u001b[0;32m<ipython-input-221-4195913b356b>\u001b[0m in \u001b[0;36mrun\u001b[0;34m(P, g1, g2, g3, g4, loss, best, since, iters)\u001b[0m\n\u001b[1;32m    123\u001b[0m \u001b[0;34m\u001b[0m\u001b[0m\n\u001b[1;32m    124\u001b[0m     \u001b[0miters\u001b[0m\u001b[0;34m+=\u001b[0m\u001b[0;36m1\u001b[0m                                                         \u001b[0;31m#count each iteration (epoch)\u001b[0m\u001b[0;34m\u001b[0m\u001b[0;34m\u001b[0m\u001b[0m\n\u001b[0;32m--> 125\u001b[0;31m     \u001b[0mrun\u001b[0m\u001b[0;34m(\u001b[0m\u001b[0mP\u001b[0m\u001b[0;34m,\u001b[0m \u001b[0mg1\u001b[0m\u001b[0;34m,\u001b[0m\u001b[0mg2\u001b[0m\u001b[0;34m,\u001b[0m\u001b[0mg3\u001b[0m\u001b[0;34m,\u001b[0m\u001b[0mg4\u001b[0m\u001b[0;34m,\u001b[0m \u001b[0mloss\u001b[0m\u001b[0;34m,\u001b[0m \u001b[0mbest\u001b[0m\u001b[0;34m,\u001b[0m \u001b[0msince\u001b[0m\u001b[0;34m,\u001b[0m \u001b[0miters\u001b[0m\u001b[0;34m)\u001b[0m                    \u001b[0;31m#run all cfa steps again (until solved or max recursion limit reached)\u001b[0m\u001b[0;34m\u001b[0m\u001b[0;34m\u001b[0m\u001b[0m\n\u001b[0m\u001b[1;32m    126\u001b[0m \u001b[0;34m\u001b[0m\u001b[0m\n\u001b[1;32m    127\u001b[0m \u001b[0;34m\u001b[0m\u001b[0m\n",
            "\u001b[0;32m<ipython-input-221-4195913b356b>\u001b[0m in \u001b[0;36mrun\u001b[0;34m(P, g1, g2, g3, g4, loss, best, since, iters)\u001b[0m\n\u001b[1;32m    123\u001b[0m \u001b[0;34m\u001b[0m\u001b[0m\n\u001b[1;32m    124\u001b[0m     \u001b[0miters\u001b[0m\u001b[0;34m+=\u001b[0m\u001b[0;36m1\u001b[0m                                                         \u001b[0;31m#count each iteration (epoch)\u001b[0m\u001b[0;34m\u001b[0m\u001b[0;34m\u001b[0m\u001b[0m\n\u001b[0;32m--> 125\u001b[0;31m     \u001b[0mrun\u001b[0m\u001b[0;34m(\u001b[0m\u001b[0mP\u001b[0m\u001b[0;34m,\u001b[0m \u001b[0mg1\u001b[0m\u001b[0;34m,\u001b[0m\u001b[0mg2\u001b[0m\u001b[0;34m,\u001b[0m\u001b[0mg3\u001b[0m\u001b[0;34m,\u001b[0m\u001b[0mg4\u001b[0m\u001b[0;34m,\u001b[0m \u001b[0mloss\u001b[0m\u001b[0;34m,\u001b[0m \u001b[0mbest\u001b[0m\u001b[0;34m,\u001b[0m \u001b[0msince\u001b[0m\u001b[0;34m,\u001b[0m \u001b[0miters\u001b[0m\u001b[0;34m)\u001b[0m                    \u001b[0;31m#run all cfa steps again (until solved or max recursion limit reached)\u001b[0m\u001b[0;34m\u001b[0m\u001b[0;34m\u001b[0m\u001b[0m\n\u001b[0m\u001b[1;32m    126\u001b[0m \u001b[0;34m\u001b[0m\u001b[0m\n\u001b[1;32m    127\u001b[0m \u001b[0;34m\u001b[0m\u001b[0m\n",
            "\u001b[0;32m<ipython-input-221-4195913b356b>\u001b[0m in \u001b[0;36mrun\u001b[0;34m(P, g1, g2, g3, g4, loss, best, since, iters)\u001b[0m\n\u001b[1;32m    123\u001b[0m \u001b[0;34m\u001b[0m\u001b[0m\n\u001b[1;32m    124\u001b[0m     \u001b[0miters\u001b[0m\u001b[0;34m+=\u001b[0m\u001b[0;36m1\u001b[0m                                                         \u001b[0;31m#count each iteration (epoch)\u001b[0m\u001b[0;34m\u001b[0m\u001b[0;34m\u001b[0m\u001b[0m\n\u001b[0;32m--> 125\u001b[0;31m     \u001b[0mrun\u001b[0m\u001b[0;34m(\u001b[0m\u001b[0mP\u001b[0m\u001b[0;34m,\u001b[0m \u001b[0mg1\u001b[0m\u001b[0;34m,\u001b[0m\u001b[0mg2\u001b[0m\u001b[0;34m,\u001b[0m\u001b[0mg3\u001b[0m\u001b[0;34m,\u001b[0m\u001b[0mg4\u001b[0m\u001b[0;34m,\u001b[0m \u001b[0mloss\u001b[0m\u001b[0;34m,\u001b[0m \u001b[0mbest\u001b[0m\u001b[0;34m,\u001b[0m \u001b[0msince\u001b[0m\u001b[0;34m,\u001b[0m \u001b[0miters\u001b[0m\u001b[0;34m)\u001b[0m                    \u001b[0;31m#run all cfa steps again (until solved or max recursion limit reached)\u001b[0m\u001b[0;34m\u001b[0m\u001b[0;34m\u001b[0m\u001b[0m\n\u001b[0m\u001b[1;32m    126\u001b[0m \u001b[0;34m\u001b[0m\u001b[0m\n\u001b[1;32m    127\u001b[0m \u001b[0;34m\u001b[0m\u001b[0m\n",
            "\u001b[0;32m<ipython-input-221-4195913b356b>\u001b[0m in \u001b[0;36mrun\u001b[0;34m(P, g1, g2, g3, g4, loss, best, since, iters)\u001b[0m\n\u001b[1;32m    123\u001b[0m \u001b[0;34m\u001b[0m\u001b[0m\n\u001b[1;32m    124\u001b[0m     \u001b[0miters\u001b[0m\u001b[0;34m+=\u001b[0m\u001b[0;36m1\u001b[0m                                                         \u001b[0;31m#count each iteration (epoch)\u001b[0m\u001b[0;34m\u001b[0m\u001b[0;34m\u001b[0m\u001b[0m\n\u001b[0;32m--> 125\u001b[0;31m     \u001b[0mrun\u001b[0m\u001b[0;34m(\u001b[0m\u001b[0mP\u001b[0m\u001b[0;34m,\u001b[0m \u001b[0mg1\u001b[0m\u001b[0;34m,\u001b[0m\u001b[0mg2\u001b[0m\u001b[0;34m,\u001b[0m\u001b[0mg3\u001b[0m\u001b[0;34m,\u001b[0m\u001b[0mg4\u001b[0m\u001b[0;34m,\u001b[0m \u001b[0mloss\u001b[0m\u001b[0;34m,\u001b[0m \u001b[0mbest\u001b[0m\u001b[0;34m,\u001b[0m \u001b[0msince\u001b[0m\u001b[0;34m,\u001b[0m \u001b[0miters\u001b[0m\u001b[0;34m)\u001b[0m                    \u001b[0;31m#run all cfa steps again (until solved or max recursion limit reached)\u001b[0m\u001b[0;34m\u001b[0m\u001b[0;34m\u001b[0m\u001b[0m\n\u001b[0m\u001b[1;32m    126\u001b[0m \u001b[0;34m\u001b[0m\u001b[0m\n\u001b[1;32m    127\u001b[0m \u001b[0;34m\u001b[0m\u001b[0m\n",
            "\u001b[0;32m<ipython-input-221-4195913b356b>\u001b[0m in \u001b[0;36mrun\u001b[0;34m(P, g1, g2, g3, g4, loss, best, since, iters)\u001b[0m\n\u001b[1;32m    123\u001b[0m \u001b[0;34m\u001b[0m\u001b[0m\n\u001b[1;32m    124\u001b[0m     \u001b[0miters\u001b[0m\u001b[0;34m+=\u001b[0m\u001b[0;36m1\u001b[0m                                                         \u001b[0;31m#count each iteration (epoch)\u001b[0m\u001b[0;34m\u001b[0m\u001b[0;34m\u001b[0m\u001b[0m\n\u001b[0;32m--> 125\u001b[0;31m     \u001b[0mrun\u001b[0m\u001b[0;34m(\u001b[0m\u001b[0mP\u001b[0m\u001b[0;34m,\u001b[0m \u001b[0mg1\u001b[0m\u001b[0;34m,\u001b[0m\u001b[0mg2\u001b[0m\u001b[0;34m,\u001b[0m\u001b[0mg3\u001b[0m\u001b[0;34m,\u001b[0m\u001b[0mg4\u001b[0m\u001b[0;34m,\u001b[0m \u001b[0mloss\u001b[0m\u001b[0;34m,\u001b[0m \u001b[0mbest\u001b[0m\u001b[0;34m,\u001b[0m \u001b[0msince\u001b[0m\u001b[0;34m,\u001b[0m \u001b[0miters\u001b[0m\u001b[0;34m)\u001b[0m                    \u001b[0;31m#run all cfa steps again (until solved or max recursion limit reached)\u001b[0m\u001b[0;34m\u001b[0m\u001b[0;34m\u001b[0m\u001b[0m\n\u001b[0m\u001b[1;32m    126\u001b[0m \u001b[0;34m\u001b[0m\u001b[0m\n\u001b[1;32m    127\u001b[0m \u001b[0;34m\u001b[0m\u001b[0m\n",
            "\u001b[0;32m<ipython-input-221-4195913b356b>\u001b[0m in \u001b[0;36mrun\u001b[0;34m(P, g1, g2, g3, g4, loss, best, since, iters)\u001b[0m\n\u001b[1;32m    123\u001b[0m \u001b[0;34m\u001b[0m\u001b[0m\n\u001b[1;32m    124\u001b[0m     \u001b[0miters\u001b[0m\u001b[0;34m+=\u001b[0m\u001b[0;36m1\u001b[0m                                                         \u001b[0;31m#count each iteration (epoch)\u001b[0m\u001b[0;34m\u001b[0m\u001b[0;34m\u001b[0m\u001b[0m\n\u001b[0;32m--> 125\u001b[0;31m     \u001b[0mrun\u001b[0m\u001b[0;34m(\u001b[0m\u001b[0mP\u001b[0m\u001b[0;34m,\u001b[0m \u001b[0mg1\u001b[0m\u001b[0;34m,\u001b[0m\u001b[0mg2\u001b[0m\u001b[0;34m,\u001b[0m\u001b[0mg3\u001b[0m\u001b[0;34m,\u001b[0m\u001b[0mg4\u001b[0m\u001b[0;34m,\u001b[0m \u001b[0mloss\u001b[0m\u001b[0;34m,\u001b[0m \u001b[0mbest\u001b[0m\u001b[0;34m,\u001b[0m \u001b[0msince\u001b[0m\u001b[0;34m,\u001b[0m \u001b[0miters\u001b[0m\u001b[0;34m)\u001b[0m                    \u001b[0;31m#run all cfa steps again (until solved or max recursion limit reached)\u001b[0m\u001b[0;34m\u001b[0m\u001b[0;34m\u001b[0m\u001b[0m\n\u001b[0m\u001b[1;32m    126\u001b[0m \u001b[0;34m\u001b[0m\u001b[0m\n\u001b[1;32m    127\u001b[0m \u001b[0;34m\u001b[0m\u001b[0m\n",
            "\u001b[0;32m<ipython-input-221-4195913b356b>\u001b[0m in \u001b[0;36mrun\u001b[0;34m(P, g1, g2, g3, g4, loss, best, since, iters)\u001b[0m\n\u001b[1;32m    123\u001b[0m \u001b[0;34m\u001b[0m\u001b[0m\n\u001b[1;32m    124\u001b[0m     \u001b[0miters\u001b[0m\u001b[0;34m+=\u001b[0m\u001b[0;36m1\u001b[0m                                                         \u001b[0;31m#count each iteration (epoch)\u001b[0m\u001b[0;34m\u001b[0m\u001b[0;34m\u001b[0m\u001b[0m\n\u001b[0;32m--> 125\u001b[0;31m     \u001b[0mrun\u001b[0m\u001b[0;34m(\u001b[0m\u001b[0mP\u001b[0m\u001b[0;34m,\u001b[0m \u001b[0mg1\u001b[0m\u001b[0;34m,\u001b[0m\u001b[0mg2\u001b[0m\u001b[0;34m,\u001b[0m\u001b[0mg3\u001b[0m\u001b[0;34m,\u001b[0m\u001b[0mg4\u001b[0m\u001b[0;34m,\u001b[0m \u001b[0mloss\u001b[0m\u001b[0;34m,\u001b[0m \u001b[0mbest\u001b[0m\u001b[0;34m,\u001b[0m \u001b[0msince\u001b[0m\u001b[0;34m,\u001b[0m \u001b[0miters\u001b[0m\u001b[0;34m)\u001b[0m                    \u001b[0;31m#run all cfa steps again (until solved or max recursion limit reached)\u001b[0m\u001b[0;34m\u001b[0m\u001b[0;34m\u001b[0m\u001b[0m\n\u001b[0m\u001b[1;32m    126\u001b[0m \u001b[0;34m\u001b[0m\u001b[0m\n\u001b[1;32m    127\u001b[0m \u001b[0;34m\u001b[0m\u001b[0m\n",
            "\u001b[0;32m<ipython-input-221-4195913b356b>\u001b[0m in \u001b[0;36mrun\u001b[0;34m(P, g1, g2, g3, g4, loss, best, since, iters)\u001b[0m\n\u001b[1;32m    123\u001b[0m \u001b[0;34m\u001b[0m\u001b[0m\n\u001b[1;32m    124\u001b[0m     \u001b[0miters\u001b[0m\u001b[0;34m+=\u001b[0m\u001b[0;36m1\u001b[0m                                                         \u001b[0;31m#count each iteration (epoch)\u001b[0m\u001b[0;34m\u001b[0m\u001b[0;34m\u001b[0m\u001b[0m\n\u001b[0;32m--> 125\u001b[0;31m     \u001b[0mrun\u001b[0m\u001b[0;34m(\u001b[0m\u001b[0mP\u001b[0m\u001b[0;34m,\u001b[0m \u001b[0mg1\u001b[0m\u001b[0;34m,\u001b[0m\u001b[0mg2\u001b[0m\u001b[0;34m,\u001b[0m\u001b[0mg3\u001b[0m\u001b[0;34m,\u001b[0m\u001b[0mg4\u001b[0m\u001b[0;34m,\u001b[0m \u001b[0mloss\u001b[0m\u001b[0;34m,\u001b[0m \u001b[0mbest\u001b[0m\u001b[0;34m,\u001b[0m \u001b[0msince\u001b[0m\u001b[0;34m,\u001b[0m \u001b[0miters\u001b[0m\u001b[0;34m)\u001b[0m                    \u001b[0;31m#run all cfa steps again (until solved or max recursion limit reached)\u001b[0m\u001b[0;34m\u001b[0m\u001b[0;34m\u001b[0m\u001b[0m\n\u001b[0m\u001b[1;32m    126\u001b[0m \u001b[0;34m\u001b[0m\u001b[0m\n\u001b[1;32m    127\u001b[0m \u001b[0;34m\u001b[0m\u001b[0m\n",
            "\u001b[0;32m<ipython-input-221-4195913b356b>\u001b[0m in \u001b[0;36mrun\u001b[0;34m(P, g1, g2, g3, g4, loss, best, since, iters)\u001b[0m\n\u001b[1;32m    123\u001b[0m \u001b[0;34m\u001b[0m\u001b[0m\n\u001b[1;32m    124\u001b[0m     \u001b[0miters\u001b[0m\u001b[0;34m+=\u001b[0m\u001b[0;36m1\u001b[0m                                                         \u001b[0;31m#count each iteration (epoch)\u001b[0m\u001b[0;34m\u001b[0m\u001b[0;34m\u001b[0m\u001b[0m\n\u001b[0;32m--> 125\u001b[0;31m     \u001b[0mrun\u001b[0m\u001b[0;34m(\u001b[0m\u001b[0mP\u001b[0m\u001b[0;34m,\u001b[0m \u001b[0mg1\u001b[0m\u001b[0;34m,\u001b[0m\u001b[0mg2\u001b[0m\u001b[0;34m,\u001b[0m\u001b[0mg3\u001b[0m\u001b[0;34m,\u001b[0m\u001b[0mg4\u001b[0m\u001b[0;34m,\u001b[0m \u001b[0mloss\u001b[0m\u001b[0;34m,\u001b[0m \u001b[0mbest\u001b[0m\u001b[0;34m,\u001b[0m \u001b[0msince\u001b[0m\u001b[0;34m,\u001b[0m \u001b[0miters\u001b[0m\u001b[0;34m)\u001b[0m                    \u001b[0;31m#run all cfa steps again (until solved or max recursion limit reached)\u001b[0m\u001b[0;34m\u001b[0m\u001b[0;34m\u001b[0m\u001b[0m\n\u001b[0m\u001b[1;32m    126\u001b[0m \u001b[0;34m\u001b[0m\u001b[0m\n\u001b[1;32m    127\u001b[0m \u001b[0;34m\u001b[0m\u001b[0m\n",
            "\u001b[0;32m<ipython-input-221-4195913b356b>\u001b[0m in \u001b[0;36mrun\u001b[0;34m(P, g1, g2, g3, g4, loss, best, since, iters)\u001b[0m\n\u001b[1;32m    123\u001b[0m \u001b[0;34m\u001b[0m\u001b[0m\n\u001b[1;32m    124\u001b[0m     \u001b[0miters\u001b[0m\u001b[0;34m+=\u001b[0m\u001b[0;36m1\u001b[0m                                                         \u001b[0;31m#count each iteration (epoch)\u001b[0m\u001b[0;34m\u001b[0m\u001b[0;34m\u001b[0m\u001b[0m\n\u001b[0;32m--> 125\u001b[0;31m     \u001b[0mrun\u001b[0m\u001b[0;34m(\u001b[0m\u001b[0mP\u001b[0m\u001b[0;34m,\u001b[0m \u001b[0mg1\u001b[0m\u001b[0;34m,\u001b[0m\u001b[0mg2\u001b[0m\u001b[0;34m,\u001b[0m\u001b[0mg3\u001b[0m\u001b[0;34m,\u001b[0m\u001b[0mg4\u001b[0m\u001b[0;34m,\u001b[0m \u001b[0mloss\u001b[0m\u001b[0;34m,\u001b[0m \u001b[0mbest\u001b[0m\u001b[0;34m,\u001b[0m \u001b[0msince\u001b[0m\u001b[0;34m,\u001b[0m \u001b[0miters\u001b[0m\u001b[0;34m)\u001b[0m                    \u001b[0;31m#run all cfa steps again (until solved or max recursion limit reached)\u001b[0m\u001b[0;34m\u001b[0m\u001b[0;34m\u001b[0m\u001b[0m\n\u001b[0m\u001b[1;32m    126\u001b[0m \u001b[0;34m\u001b[0m\u001b[0m\n\u001b[1;32m    127\u001b[0m \u001b[0;34m\u001b[0m\u001b[0m\n",
            "\u001b[0;32m<ipython-input-221-4195913b356b>\u001b[0m in \u001b[0;36mrun\u001b[0;34m(P, g1, g2, g3, g4, loss, best, since, iters)\u001b[0m\n\u001b[1;32m    123\u001b[0m \u001b[0;34m\u001b[0m\u001b[0m\n\u001b[1;32m    124\u001b[0m     \u001b[0miters\u001b[0m\u001b[0;34m+=\u001b[0m\u001b[0;36m1\u001b[0m                                                         \u001b[0;31m#count each iteration (epoch)\u001b[0m\u001b[0;34m\u001b[0m\u001b[0;34m\u001b[0m\u001b[0m\n\u001b[0;32m--> 125\u001b[0;31m     \u001b[0mrun\u001b[0m\u001b[0;34m(\u001b[0m\u001b[0mP\u001b[0m\u001b[0;34m,\u001b[0m \u001b[0mg1\u001b[0m\u001b[0;34m,\u001b[0m\u001b[0mg2\u001b[0m\u001b[0;34m,\u001b[0m\u001b[0mg3\u001b[0m\u001b[0;34m,\u001b[0m\u001b[0mg4\u001b[0m\u001b[0;34m,\u001b[0m \u001b[0mloss\u001b[0m\u001b[0;34m,\u001b[0m \u001b[0mbest\u001b[0m\u001b[0;34m,\u001b[0m \u001b[0msince\u001b[0m\u001b[0;34m,\u001b[0m \u001b[0miters\u001b[0m\u001b[0;34m)\u001b[0m                    \u001b[0;31m#run all cfa steps again (until solved or max recursion limit reached)\u001b[0m\u001b[0;34m\u001b[0m\u001b[0;34m\u001b[0m\u001b[0m\n\u001b[0m\u001b[1;32m    126\u001b[0m \u001b[0;34m\u001b[0m\u001b[0m\n\u001b[1;32m    127\u001b[0m \u001b[0;34m\u001b[0m\u001b[0m\n",
            "\u001b[0;32m<ipython-input-221-4195913b356b>\u001b[0m in \u001b[0;36mrun\u001b[0;34m(P, g1, g2, g3, g4, loss, best, since, iters)\u001b[0m\n\u001b[1;32m    123\u001b[0m \u001b[0;34m\u001b[0m\u001b[0m\n\u001b[1;32m    124\u001b[0m     \u001b[0miters\u001b[0m\u001b[0;34m+=\u001b[0m\u001b[0;36m1\u001b[0m                                                         \u001b[0;31m#count each iteration (epoch)\u001b[0m\u001b[0;34m\u001b[0m\u001b[0;34m\u001b[0m\u001b[0m\n\u001b[0;32m--> 125\u001b[0;31m     \u001b[0mrun\u001b[0m\u001b[0;34m(\u001b[0m\u001b[0mP\u001b[0m\u001b[0;34m,\u001b[0m \u001b[0mg1\u001b[0m\u001b[0;34m,\u001b[0m\u001b[0mg2\u001b[0m\u001b[0;34m,\u001b[0m\u001b[0mg3\u001b[0m\u001b[0;34m,\u001b[0m\u001b[0mg4\u001b[0m\u001b[0;34m,\u001b[0m \u001b[0mloss\u001b[0m\u001b[0;34m,\u001b[0m \u001b[0mbest\u001b[0m\u001b[0;34m,\u001b[0m \u001b[0msince\u001b[0m\u001b[0;34m,\u001b[0m \u001b[0miters\u001b[0m\u001b[0;34m)\u001b[0m                    \u001b[0;31m#run all cfa steps again (until solved or max recursion limit reached)\u001b[0m\u001b[0;34m\u001b[0m\u001b[0;34m\u001b[0m\u001b[0m\n\u001b[0m\u001b[1;32m    126\u001b[0m \u001b[0;34m\u001b[0m\u001b[0m\n\u001b[1;32m    127\u001b[0m \u001b[0;34m\u001b[0m\u001b[0m\n",
            "\u001b[0;32m<ipython-input-221-4195913b356b>\u001b[0m in \u001b[0;36mrun\u001b[0;34m(P, g1, g2, g3, g4, loss, best, since, iters)\u001b[0m\n\u001b[1;32m    123\u001b[0m \u001b[0;34m\u001b[0m\u001b[0m\n\u001b[1;32m    124\u001b[0m     \u001b[0miters\u001b[0m\u001b[0;34m+=\u001b[0m\u001b[0;36m1\u001b[0m                                                         \u001b[0;31m#count each iteration (epoch)\u001b[0m\u001b[0;34m\u001b[0m\u001b[0;34m\u001b[0m\u001b[0m\n\u001b[0;32m--> 125\u001b[0;31m     \u001b[0mrun\u001b[0m\u001b[0;34m(\u001b[0m\u001b[0mP\u001b[0m\u001b[0;34m,\u001b[0m \u001b[0mg1\u001b[0m\u001b[0;34m,\u001b[0m\u001b[0mg2\u001b[0m\u001b[0;34m,\u001b[0m\u001b[0mg3\u001b[0m\u001b[0;34m,\u001b[0m\u001b[0mg4\u001b[0m\u001b[0;34m,\u001b[0m \u001b[0mloss\u001b[0m\u001b[0;34m,\u001b[0m \u001b[0mbest\u001b[0m\u001b[0;34m,\u001b[0m \u001b[0msince\u001b[0m\u001b[0;34m,\u001b[0m \u001b[0miters\u001b[0m\u001b[0;34m)\u001b[0m                    \u001b[0;31m#run all cfa steps again (until solved or max recursion limit reached)\u001b[0m\u001b[0;34m\u001b[0m\u001b[0;34m\u001b[0m\u001b[0m\n\u001b[0m\u001b[1;32m    126\u001b[0m \u001b[0;34m\u001b[0m\u001b[0m\n\u001b[1;32m    127\u001b[0m \u001b[0;34m\u001b[0m\u001b[0m\n",
            "\u001b[0;32m<ipython-input-221-4195913b356b>\u001b[0m in \u001b[0;36mrun\u001b[0;34m(P, g1, g2, g3, g4, loss, best, since, iters)\u001b[0m\n\u001b[1;32m    108\u001b[0m         \u001b[0mprint\u001b[0m\u001b[0;34m(\u001b[0m\u001b[0;34m'4'\u001b[0m\u001b[0;34m)\u001b[0m\u001b[0;34m\u001b[0m\u001b[0;34m\u001b[0m\u001b[0m\n\u001b[1;32m    109\u001b[0m \u001b[0;34m\u001b[0m\u001b[0m\n\u001b[0;32m--> 110\u001b[0;31m     \u001b[0;34m(\u001b[0m\u001b[0mloss\u001b[0m\u001b[0;34m.\u001b[0m\u001b[0msum\u001b[0m\u001b[0;34m(\u001b[0m\u001b[0;34m)\u001b[0m\u001b[0;34m)\u001b[0m\u001b[0;34m.\u001b[0m\u001b[0mbackward\u001b[0m\u001b[0;34m(\u001b[0m\u001b[0mretain_graph\u001b[0m\u001b[0;34m=\u001b[0m\u001b[0;32mTrue\u001b[0m\u001b[0;34m)\u001b[0m\u001b[0;34m\u001b[0m\u001b[0;34m\u001b[0m\u001b[0m\n\u001b[0m\u001b[1;32m    111\u001b[0m     \u001b[0moptimizer\u001b[0m\u001b[0;34m.\u001b[0m\u001b[0mstep\u001b[0m\u001b[0;34m(\u001b[0m\u001b[0;34m)\u001b[0m\u001b[0;34m\u001b[0m\u001b[0;34m\u001b[0m\u001b[0m\n\u001b[1;32m    112\u001b[0m     \u001b[0mscheduler\u001b[0m\u001b[0;34m.\u001b[0m\u001b[0mstep\u001b[0m\u001b[0;34m(\u001b[0m\u001b[0mtorch\u001b[0m\u001b[0;34m.\u001b[0m\u001b[0mabs\u001b[0m\u001b[0;34m(\u001b[0m\u001b[0mcrit\u001b[0m\u001b[0;34m(\u001b[0m\u001b[0mbest\u001b[0m\u001b[0;34m.\u001b[0m\u001b[0mint\u001b[0m\u001b[0;34m(\u001b[0m\u001b[0;34m)\u001b[0m\u001b[0;34m,\u001b[0m \u001b[0my\u001b[0m\u001b[0;34m)\u001b[0m\u001b[0;34m.\u001b[0m\u001b[0msum\u001b[0m\u001b[0;34m(\u001b[0m\u001b[0;34m)\u001b[0m\u001b[0;34m)\u001b[0m\u001b[0;34m)\u001b[0m           \u001b[0;31m#activate the scheduler  according to the loss of the best grid\u001b[0m\u001b[0;34m\u001b[0m\u001b[0;34m\u001b[0m\u001b[0m\n",
            "\u001b[0;32m/usr/local/lib/python3.6/dist-packages/torch/tensor.py\u001b[0m in \u001b[0;36mbackward\u001b[0;34m(self, gradient, retain_graph, create_graph)\u001b[0m\n\u001b[1;32m    196\u001b[0m                 \u001b[0mproducts\u001b[0m\u001b[0;34m.\u001b[0m \u001b[0mDefaults\u001b[0m \u001b[0mto\u001b[0m\u001b[0;31m \u001b[0m\u001b[0;31m`\u001b[0m\u001b[0;31m`\u001b[0m\u001b[0;32mFalse\u001b[0m\u001b[0;31m`\u001b[0m\u001b[0;31m`\u001b[0m\u001b[0;34m.\u001b[0m\u001b[0;34m\u001b[0m\u001b[0;34m\u001b[0m\u001b[0m\n\u001b[1;32m    197\u001b[0m         \"\"\"\n\u001b[0;32m--> 198\u001b[0;31m         \u001b[0mtorch\u001b[0m\u001b[0;34m.\u001b[0m\u001b[0mautograd\u001b[0m\u001b[0;34m.\u001b[0m\u001b[0mbackward\u001b[0m\u001b[0;34m(\u001b[0m\u001b[0mself\u001b[0m\u001b[0;34m,\u001b[0m \u001b[0mgradient\u001b[0m\u001b[0;34m,\u001b[0m \u001b[0mretain_graph\u001b[0m\u001b[0;34m,\u001b[0m \u001b[0mcreate_graph\u001b[0m\u001b[0;34m)\u001b[0m\u001b[0;34m\u001b[0m\u001b[0;34m\u001b[0m\u001b[0m\n\u001b[0m\u001b[1;32m    199\u001b[0m \u001b[0;34m\u001b[0m\u001b[0m\n\u001b[1;32m    200\u001b[0m     \u001b[0;32mdef\u001b[0m \u001b[0mregister_hook\u001b[0m\u001b[0;34m(\u001b[0m\u001b[0mself\u001b[0m\u001b[0;34m,\u001b[0m \u001b[0mhook\u001b[0m\u001b[0;34m)\u001b[0m\u001b[0;34m:\u001b[0m\u001b[0;34m\u001b[0m\u001b[0;34m\u001b[0m\u001b[0m\n",
            "\u001b[0;32m/usr/local/lib/python3.6/dist-packages/torch/autograd/__init__.py\u001b[0m in \u001b[0;36mbackward\u001b[0;34m(tensors, grad_tensors, retain_graph, create_graph, grad_variables)\u001b[0m\n\u001b[1;32m     98\u001b[0m     Variable._execution_engine.run_backward(\n\u001b[1;32m     99\u001b[0m         \u001b[0mtensors\u001b[0m\u001b[0;34m,\u001b[0m \u001b[0mgrad_tensors\u001b[0m\u001b[0;34m,\u001b[0m \u001b[0mretain_graph\u001b[0m\u001b[0;34m,\u001b[0m \u001b[0mcreate_graph\u001b[0m\u001b[0;34m,\u001b[0m\u001b[0;34m\u001b[0m\u001b[0;34m\u001b[0m\u001b[0m\n\u001b[0;32m--> 100\u001b[0;31m         allow_unreachable=True)  # allow_unreachable flag\n\u001b[0m\u001b[1;32m    101\u001b[0m \u001b[0;34m\u001b[0m\u001b[0m\n\u001b[1;32m    102\u001b[0m \u001b[0;34m\u001b[0m\u001b[0m\n",
            "\u001b[0;31mKeyboardInterrupt\u001b[0m: "
          ]
        },
        {
          "output_type": "stream",
          "text": [
            "Error in callback <function _init_jupyter.<locals>.cleanup at 0x7fc04778a6a8> (for post_run_cell):\n"
          ],
          "name": "stdout"
        },
        {
          "output_type": "error",
          "ename": "KeyboardInterrupt",
          "evalue": "ignored",
          "traceback": [
            "\u001b[0;31m---------------------------------------------------------------------------\u001b[0m",
            "\u001b[0;31mKeyboardInterrupt\u001b[0m                         Traceback (most recent call last)",
            "\u001b[0;32m/usr/local/lib/python3.6/dist-packages/wandb/__init__.py\u001b[0m in \u001b[0;36mcleanup\u001b[0;34m()\u001b[0m\n\u001b[1;32m    500\u001b[0m         \u001b[0;31m# shutdown async logger because _user_process_finished isn't called in jupyter\u001b[0m\u001b[0;34m\u001b[0m\u001b[0;34m\u001b[0m\u001b[0;34m\u001b[0m\u001b[0m\n\u001b[1;32m    501\u001b[0m         \u001b[0mshutdown_async_log_thread\u001b[0m\u001b[0;34m(\u001b[0m\u001b[0;34m)\u001b[0m\u001b[0;34m\u001b[0m\u001b[0;34m\u001b[0m\u001b[0m\n\u001b[0;32m--> 502\u001b[0;31m         \u001b[0mrun\u001b[0m\u001b[0;34m.\u001b[0m\u001b[0m_stop_jupyter_agent\u001b[0m\u001b[0;34m(\u001b[0m\u001b[0;34m)\u001b[0m\u001b[0;34m\u001b[0m\u001b[0;34m\u001b[0m\u001b[0m\n\u001b[0m\u001b[1;32m    503\u001b[0m     \u001b[0;32mif\u001b[0m \u001b[0mhasattr\u001b[0m\u001b[0;34m(\u001b[0m\u001b[0mipython\u001b[0m\u001b[0;34m.\u001b[0m\u001b[0mevents\u001b[0m\u001b[0;34m,\u001b[0m \u001b[0;34m\"_orig_post_run\"\u001b[0m\u001b[0;34m)\u001b[0m\u001b[0;34m:\u001b[0m\u001b[0;34m\u001b[0m\u001b[0;34m\u001b[0m\u001b[0m\n\u001b[1;32m    504\u001b[0m         \u001b[0mipython\u001b[0m\u001b[0;34m.\u001b[0m\u001b[0mevents\u001b[0m\u001b[0;34m.\u001b[0m\u001b[0munregister\u001b[0m\u001b[0;34m(\u001b[0m\u001b[0;34m\"post_run_cell\"\u001b[0m\u001b[0;34m,\u001b[0m \u001b[0mipython\u001b[0m\u001b[0;34m.\u001b[0m\u001b[0mevents\u001b[0m\u001b[0;34m.\u001b[0m\u001b[0m_orig_post_run\u001b[0m\u001b[0;34m)\u001b[0m\u001b[0;34m\u001b[0m\u001b[0;34m\u001b[0m\u001b[0m\n",
            "\u001b[0;32m/usr/local/lib/python3.6/dist-packages/wandb/wandb_run.py\u001b[0m in \u001b[0;36m_stop_jupyter_agent\u001b[0;34m(self)\u001b[0m\n\u001b[1;32m    183\u001b[0m \u001b[0;34m\u001b[0m\u001b[0m\n\u001b[1;32m    184\u001b[0m     \u001b[0;32mdef\u001b[0m \u001b[0m_stop_jupyter_agent\u001b[0m\u001b[0;34m(\u001b[0m\u001b[0mself\u001b[0m\u001b[0;34m)\u001b[0m\u001b[0;34m:\u001b[0m\u001b[0;34m\u001b[0m\u001b[0;34m\u001b[0m\u001b[0m\n\u001b[0;32m--> 185\u001b[0;31m         \u001b[0mself\u001b[0m\u001b[0;34m.\u001b[0m\u001b[0m_jupyter_agent\u001b[0m\u001b[0;34m.\u001b[0m\u001b[0mstop\u001b[0m\u001b[0;34m(\u001b[0m\u001b[0;34m)\u001b[0m\u001b[0;34m\u001b[0m\u001b[0;34m\u001b[0m\u001b[0m\n\u001b[0m\u001b[1;32m    186\u001b[0m \u001b[0;34m\u001b[0m\u001b[0m\n\u001b[1;32m    187\u001b[0m     \u001b[0;32mdef\u001b[0m \u001b[0msend_message\u001b[0m\u001b[0;34m(\u001b[0m\u001b[0mself\u001b[0m\u001b[0;34m,\u001b[0m \u001b[0moptions\u001b[0m\u001b[0;34m)\u001b[0m\u001b[0;34m:\u001b[0m\u001b[0;34m\u001b[0m\u001b[0;34m\u001b[0m\u001b[0m\n",
            "\u001b[0;32m/usr/local/lib/python3.6/dist-packages/wandb/jupyter.py\u001b[0m in \u001b[0;36mstop\u001b[0;34m(self)\u001b[0m\n\u001b[1;32m    140\u001b[0m             \u001b[0mself\u001b[0m\u001b[0;34m.\u001b[0m\u001b[0mrm\u001b[0m\u001b[0;34m.\u001b[0m\u001b[0munmirror_stdout_stderr\u001b[0m\u001b[0;34m(\u001b[0m\u001b[0;34m)\u001b[0m\u001b[0;34m\u001b[0m\u001b[0;34m\u001b[0m\u001b[0m\n\u001b[1;32m    141\u001b[0m             \u001b[0mwandb\u001b[0m\u001b[0;34m.\u001b[0m\u001b[0mrun\u001b[0m\u001b[0;34m.\u001b[0m\u001b[0mclose_files\u001b[0m\u001b[0;34m(\u001b[0m\u001b[0;34m)\u001b[0m\u001b[0;34m\u001b[0m\u001b[0;34m\u001b[0m\u001b[0m\n\u001b[0;32m--> 142\u001b[0;31m             \u001b[0mself\u001b[0m\u001b[0;34m.\u001b[0m\u001b[0mrm\u001b[0m\u001b[0;34m.\u001b[0m\u001b[0mshutdown\u001b[0m\u001b[0;34m(\u001b[0m\u001b[0;34m)\u001b[0m\u001b[0;34m\u001b[0m\u001b[0;34m\u001b[0m\u001b[0m\n\u001b[0m\u001b[1;32m    143\u001b[0m             \u001b[0mself\u001b[0m\u001b[0;34m.\u001b[0m\u001b[0mpaused\u001b[0m \u001b[0;34m=\u001b[0m \u001b[0;32mTrue\u001b[0m\u001b[0;34m\u001b[0m\u001b[0;34m\u001b[0m\u001b[0m\n\u001b[1;32m    144\u001b[0m \u001b[0;34m\u001b[0m\u001b[0m\n",
            "\u001b[0;32m/usr/local/lib/python3.6/dist-packages/wandb/run_manager.py\u001b[0m in \u001b[0;36mshutdown\u001b[0;34m(self, exitcode)\u001b[0m\n\u001b[1;32m   1084\u001b[0m         \u001b[0;32mif\u001b[0m \u001b[0mself\u001b[0m\u001b[0;34m.\u001b[0m\u001b[0m_cloud\u001b[0m\u001b[0;34m:\u001b[0m\u001b[0;34m\u001b[0m\u001b[0;34m\u001b[0m\u001b[0m\n\u001b[1;32m   1085\u001b[0m             \u001b[0mlogger\u001b[0m\u001b[0;34m.\u001b[0m\u001b[0minfo\u001b[0m\u001b[0;34m(\u001b[0m\u001b[0;34m\"stopping streaming files and file change observer\"\u001b[0m\u001b[0;34m)\u001b[0m\u001b[0;34m\u001b[0m\u001b[0;34m\u001b[0m\u001b[0m\n\u001b[0;32m-> 1086\u001b[0;31m             \u001b[0mself\u001b[0m\u001b[0;34m.\u001b[0m\u001b[0m_end_file_syncing\u001b[0m\u001b[0;34m(\u001b[0m\u001b[0mexitcode\u001b[0m\u001b[0;34m)\u001b[0m\u001b[0;34m\u001b[0m\u001b[0;34m\u001b[0m\u001b[0m\n\u001b[0m\u001b[1;32m   1087\u001b[0m \u001b[0;34m\u001b[0m\u001b[0m\n\u001b[1;32m   1088\u001b[0m \u001b[0;34m\u001b[0m\u001b[0m\n",
            "\u001b[0;32m/usr/local/lib/python3.6/dist-packages/wandb/run_manager.py\u001b[0m in \u001b[0;36m_end_file_syncing\u001b[0;34m(self, exitcode)\u001b[0m\n\u001b[1;32m    668\u001b[0m         \u001b[0;31m# TODO: there was a case where _file_event_handlers was getting modified in the loop.\u001b[0m\u001b[0;34m\u001b[0m\u001b[0;34m\u001b[0m\u001b[0;34m\u001b[0m\u001b[0m\n\u001b[1;32m    669\u001b[0m         \u001b[0;32mfor\u001b[0m \u001b[0mhandler\u001b[0m \u001b[0;32min\u001b[0m \u001b[0mlist\u001b[0m\u001b[0;34m(\u001b[0m\u001b[0mself\u001b[0m\u001b[0;34m.\u001b[0m\u001b[0m_file_event_handlers\u001b[0m\u001b[0;34m.\u001b[0m\u001b[0mvalues\u001b[0m\u001b[0;34m(\u001b[0m\u001b[0;34m)\u001b[0m\u001b[0;34m)\u001b[0m\u001b[0;34m:\u001b[0m\u001b[0;34m\u001b[0m\u001b[0;34m\u001b[0m\u001b[0m\n\u001b[0;32m--> 670\u001b[0;31m             \u001b[0mhandler\u001b[0m\u001b[0;34m.\u001b[0m\u001b[0mfinish\u001b[0m\u001b[0;34m(\u001b[0m\u001b[0;34m)\u001b[0m\u001b[0;34m\u001b[0m\u001b[0;34m\u001b[0m\u001b[0m\n\u001b[0m\u001b[1;32m    671\u001b[0m         \u001b[0mself\u001b[0m\u001b[0;34m.\u001b[0m\u001b[0m_file_pusher\u001b[0m\u001b[0;34m.\u001b[0m\u001b[0mfinish\u001b[0m\u001b[0;34m(\u001b[0m\u001b[0;34m)\u001b[0m\u001b[0;34m\u001b[0m\u001b[0;34m\u001b[0m\u001b[0m\n\u001b[1;32m    672\u001b[0m         \u001b[0mself\u001b[0m\u001b[0;34m.\u001b[0m\u001b[0m_api\u001b[0m\u001b[0;34m.\u001b[0m\u001b[0mget_file_stream_api\u001b[0m\u001b[0;34m(\u001b[0m\u001b[0;34m)\u001b[0m\u001b[0;34m.\u001b[0m\u001b[0mfinish\u001b[0m\u001b[0;34m(\u001b[0m\u001b[0mexitcode\u001b[0m\u001b[0;34m)\u001b[0m\u001b[0;34m\u001b[0m\u001b[0;34m\u001b[0m\u001b[0m\n",
            "\u001b[0;32m/usr/local/lib/python3.6/dist-packages/wandb/run_manager.py\u001b[0m in \u001b[0;36mfinish\u001b[0;34m(self)\u001b[0m\n\u001b[1;32m    343\u001b[0m     \u001b[0;32mdef\u001b[0m \u001b[0mfinish\u001b[0m\u001b[0;34m(\u001b[0m\u001b[0mself\u001b[0m\u001b[0;34m)\u001b[0m\u001b[0;34m:\u001b[0m\u001b[0;34m\u001b[0m\u001b[0;34m\u001b[0m\u001b[0m\n\u001b[1;32m    344\u001b[0m         \u001b[0;32mif\u001b[0m \u001b[0mself\u001b[0m\u001b[0;34m.\u001b[0m\u001b[0m_tailer\u001b[0m\u001b[0;34m:\u001b[0m\u001b[0;34m\u001b[0m\u001b[0;34m\u001b[0m\u001b[0m\n\u001b[0;32m--> 345\u001b[0;31m             \u001b[0mself\u001b[0m\u001b[0;34m.\u001b[0m\u001b[0m_tailer\u001b[0m\u001b[0;34m.\u001b[0m\u001b[0mstop\u001b[0m\u001b[0;34m(\u001b[0m\u001b[0;34m)\u001b[0m\u001b[0;34m\u001b[0m\u001b[0;34m\u001b[0m\u001b[0m\n\u001b[0m\u001b[1;32m    346\u001b[0m             \u001b[0mself\u001b[0m\u001b[0;34m.\u001b[0m\u001b[0m_tailer\u001b[0m \u001b[0;34m=\u001b[0m \u001b[0;32mNone\u001b[0m\u001b[0;34m\u001b[0m\u001b[0;34m\u001b[0m\u001b[0m\n\u001b[1;32m    347\u001b[0m \u001b[0;34m\u001b[0m\u001b[0m\n",
            "\u001b[0;32m/usr/local/lib/python3.6/dist-packages/wandb/run_manager.py\u001b[0m in \u001b[0;36mstop\u001b[0;34m(self)\u001b[0m\n\u001b[1;32m     89\u001b[0m     \u001b[0;32mdef\u001b[0m \u001b[0mstop\u001b[0m\u001b[0;34m(\u001b[0m\u001b[0mself\u001b[0m\u001b[0;34m)\u001b[0m\u001b[0;34m:\u001b[0m\u001b[0;34m\u001b[0m\u001b[0;34m\u001b[0m\u001b[0m\n\u001b[1;32m     90\u001b[0m         \u001b[0mself\u001b[0m\u001b[0;34m.\u001b[0m\u001b[0mrunning\u001b[0m \u001b[0;34m=\u001b[0m \u001b[0;32mFalse\u001b[0m\u001b[0;34m\u001b[0m\u001b[0;34m\u001b[0m\u001b[0m\n\u001b[0;32m---> 91\u001b[0;31m         \u001b[0mself\u001b[0m\u001b[0;34m.\u001b[0m\u001b[0m_thread\u001b[0m\u001b[0;34m.\u001b[0m\u001b[0mjoin\u001b[0m\u001b[0;34m(\u001b[0m\u001b[0;34m)\u001b[0m\u001b[0;34m\u001b[0m\u001b[0;34m\u001b[0m\u001b[0m\n\u001b[0m\u001b[1;32m     92\u001b[0m         \u001b[0mself\u001b[0m\u001b[0;34m.\u001b[0m\u001b[0m_file\u001b[0m\u001b[0;34m.\u001b[0m\u001b[0mclose\u001b[0m\u001b[0;34m(\u001b[0m\u001b[0;34m)\u001b[0m\u001b[0;34m\u001b[0m\u001b[0;34m\u001b[0m\u001b[0m\n\u001b[1;32m     93\u001b[0m \u001b[0;34m\u001b[0m\u001b[0m\n",
            "\u001b[0;32m/usr/lib/python3.6/threading.py\u001b[0m in \u001b[0;36mjoin\u001b[0;34m(self, timeout)\u001b[0m\n\u001b[1;32m   1054\u001b[0m \u001b[0;34m\u001b[0m\u001b[0m\n\u001b[1;32m   1055\u001b[0m         \u001b[0;32mif\u001b[0m \u001b[0mtimeout\u001b[0m \u001b[0;32mis\u001b[0m \u001b[0;32mNone\u001b[0m\u001b[0;34m:\u001b[0m\u001b[0;34m\u001b[0m\u001b[0;34m\u001b[0m\u001b[0m\n\u001b[0;32m-> 1056\u001b[0;31m             \u001b[0mself\u001b[0m\u001b[0;34m.\u001b[0m\u001b[0m_wait_for_tstate_lock\u001b[0m\u001b[0;34m(\u001b[0m\u001b[0;34m)\u001b[0m\u001b[0;34m\u001b[0m\u001b[0;34m\u001b[0m\u001b[0m\n\u001b[0m\u001b[1;32m   1057\u001b[0m         \u001b[0;32melse\u001b[0m\u001b[0;34m:\u001b[0m\u001b[0;34m\u001b[0m\u001b[0;34m\u001b[0m\u001b[0m\n\u001b[1;32m   1058\u001b[0m             \u001b[0;31m# the behavior of a negative timeout isn't documented, but\u001b[0m\u001b[0;34m\u001b[0m\u001b[0;34m\u001b[0m\u001b[0;34m\u001b[0m\u001b[0m\n",
            "\u001b[0;32m/usr/lib/python3.6/threading.py\u001b[0m in \u001b[0;36m_wait_for_tstate_lock\u001b[0;34m(self, block, timeout)\u001b[0m\n\u001b[1;32m   1070\u001b[0m         \u001b[0;32mif\u001b[0m \u001b[0mlock\u001b[0m \u001b[0;32mis\u001b[0m \u001b[0;32mNone\u001b[0m\u001b[0;34m:\u001b[0m  \u001b[0;31m# already determined that the C code is done\u001b[0m\u001b[0;34m\u001b[0m\u001b[0;34m\u001b[0m\u001b[0m\n\u001b[1;32m   1071\u001b[0m             \u001b[0;32massert\u001b[0m \u001b[0mself\u001b[0m\u001b[0;34m.\u001b[0m\u001b[0m_is_stopped\u001b[0m\u001b[0;34m\u001b[0m\u001b[0;34m\u001b[0m\u001b[0m\n\u001b[0;32m-> 1072\u001b[0;31m         \u001b[0;32melif\u001b[0m \u001b[0mlock\u001b[0m\u001b[0;34m.\u001b[0m\u001b[0macquire\u001b[0m\u001b[0;34m(\u001b[0m\u001b[0mblock\u001b[0m\u001b[0;34m,\u001b[0m \u001b[0mtimeout\u001b[0m\u001b[0;34m)\u001b[0m\u001b[0;34m:\u001b[0m\u001b[0;34m\u001b[0m\u001b[0;34m\u001b[0m\u001b[0m\n\u001b[0m\u001b[1;32m   1073\u001b[0m             \u001b[0mlock\u001b[0m\u001b[0;34m.\u001b[0m\u001b[0mrelease\u001b[0m\u001b[0;34m(\u001b[0m\u001b[0;34m)\u001b[0m\u001b[0;34m\u001b[0m\u001b[0;34m\u001b[0m\u001b[0m\n\u001b[1;32m   1074\u001b[0m             \u001b[0mself\u001b[0m\u001b[0;34m.\u001b[0m\u001b[0m_stop\u001b[0m\u001b[0;34m(\u001b[0m\u001b[0;34m)\u001b[0m\u001b[0;34m\u001b[0m\u001b[0;34m\u001b[0m\u001b[0m\n",
            "\u001b[0;31mKeyboardInterrupt\u001b[0m: "
          ]
        }
      ]
    },
    {
      "cell_type": "code",
      "metadata": {
        "id": "QZygkNbtTfwH",
        "colab_type": "code",
        "colab": {}
      },
      "source": [
        "best,y"
      ],
      "execution_count": 0,
      "outputs": []
    },
    {
      "cell_type": "markdown",
      "metadata": {
        "id": "YADPSLvIhD4R",
        "colab_type": "text"
      },
      "source": [
        "## Minesweeper Brute Force (for comparison to CFA):"
      ]
    },
    {
      "cell_type": "markdown",
      "metadata": {
        "id": "Acqz6OVL0bRd",
        "colab_type": "text"
      },
      "source": [
        "As a sanity check to make sure the CFA algorithm does improve our search (best try with a gridsize 3)."
      ]
    },
    {
      "cell_type": "code",
      "metadata": {
        "id": "s3yARh8EfCFX",
        "colab_type": "code",
        "colab": {}
      },
      "source": [
        "y = torch.Tensor(grid.astype(int)).to(device)      #get the complete minesweeper grid\n",
        "P, g1,g2,g3,g4 = init_pop(wab.n,d,s)               #initialize the population of cuttlefish cells\n",
        "loss = crit(P, y).sum((1,2))                       #calc error between predicted grid and actual minesweeper grid \n",
        "best = P[torch.argmin(loss),...]                   #save the closest predicted grid (to the actual)              "
      ],
      "execution_count": 0,
      "outputs": []
    },
    {
      "cell_type": "code",
      "metadata": {
        "id": "-WVpxj9lG1Vn",
        "colab_type": "code",
        "colab": {}
      },
      "source": [
        "iters = 0\n",
        "\n",
        "def run(n, d, s, best, loss, since, iters):\n",
        "    P = torch.randint(0, 10, (wab.n, wab.gridsize, wab.gridsize), dtype=torch.float32, requires_grad=True).to(device)\n",
        "    for i,j in fixedidx:\n",
        "        P[:, i,j] = torch.Tensor(grid).to(torch.float32)[i,j] \n",
        "    if min_loss(P) <= torch.min(loss):                                  \n",
        "        loss = crit(P, y).sum((1,2))\n",
        "        best = P[torch.argmin(loss),...]                              \n",
        "        (loss.sum()).backward(retain_graph=True)\n",
        "\n",
        "\n",
        "    wb.log({\"Loss\": loss.sum().item()}) \n",
        "    \n",
        "    iters += 1\n",
        "    \n",
        "    if crit(best.int(), y).sum() == 0:\n",
        "        print('\\n', 'Solution found!')\n",
        "        print(pretty(grid.astype(int)), '\\n')                                            \n",
        "        print(pretty(best.detach().cpu().numpy().astype(int)), '\\n')                                                                     \n",
        "        print('Total loss after', iters, 'iterations is:', loss.sum().item())\n",
        "        print('Time:', time.time() - since)\n",
        "        sys.exit('Program complete.')\n",
        "    \n",
        "    run(wab.n, d, s, best, loss, since, iters)"
      ],
      "execution_count": 0,
      "outputs": []
    },
    {
      "cell_type": "code",
      "metadata": {
        "id": "-elZfvxVG1Yr",
        "colab_type": "code",
        "colab": {}
      },
      "source": [
        "since = time.time()\n",
        "try:\n",
        "    run(wab.n, d, s, best, loss, since, iters)\n",
        "except(KeygridInterrupt):\n",
        "    print(pretty(grid.astype(int)), '\\n')                                            \n",
        "    print(pretty(best.detach().cpu().numpy().astype(int)), '\\n')                                                                     \n",
        "    print('Total loss after', iters, 'iterations is:', loss.sum().item())     "
      ],
      "execution_count": 0,
      "outputs": []
    },
    {
      "cell_type": "code",
      "metadata": {
        "id": "6rjNqVdhTcJI",
        "colab_type": "code",
        "colab": {}
      },
      "source": [
        ""
      ],
      "execution_count": 0,
      "outputs": []
    },
    {
      "cell_type": "code",
      "metadata": {
        "id": "5TilXg-lTcLs",
        "colab_type": "code",
        "colab": {}
      },
      "source": [
        ""
      ],
      "execution_count": 0,
      "outputs": []
    },
    {
      "cell_type": "markdown",
      "metadata": {
        "id": "armR-3pZ79e0",
        "colab_type": "text"
      },
      "source": [
        "## And now lets use a CNN, because why not?"
      ]
    },
    {
      "cell_type": "code",
      "metadata": {
        "id": "-Mf94xYpTcNw",
        "colab_type": "code",
        "colab": {
          "base_uri": "https://localhost:8080/",
          "height": 72
        },
        "outputId": "859a619a-f9b0-4175-a518-287d5d999628"
      },
      "source": [
        "y = torch.Tensor(grid.astype(int)).to(device)      #get the complete minesweeper grid\n",
        "P, g1,g2,g3,g4 = init_pop(wab.n,d)               #initialize the population of cuttlefish cells\n",
        "loss = crit(P, y).sum((1,2))                       #calc error between predicted grid and actual minesweeper grid \n",
        "best = P[torch.argmin(loss),...]                   #save the closest predicted grid (to the actual) "
      ],
      "execution_count": 333,
      "outputs": [
        {
          "output_type": "stream",
          "text": [
            "/usr/local/lib/python3.6/dist-packages/torch/nn/modules/loss.py:798: UserWarning: Using a target size (torch.Size([4, 4])) that is different to the input size (torch.Size([200, 4, 4])). This will likely lead to incorrect results due to broadcasting. Please ensure they have the same size.\n",
            "  return F.smooth_l1_loss(input, target, reduction=self.reduction)\n"
          ],
          "name": "stderr"
        }
      ]
    },
    {
      "cell_type": "code",
      "metadata": {
        "id": "Cv0AvxkEDbS_",
        "colab_type": "code",
        "colab": {
          "base_uri": "https://localhost:8080/",
          "height": 34
        },
        "outputId": "b19b6cc2-4dd4-4dea-8bf9-65ebaa18706c"
      },
      "source": [
        "P = P.unsqueeze(1)\n",
        "ys = y.unsqueeze(0).repeat(P.shape[0], 1,1,1)\n",
        "print(ys.shape)"
      ],
      "execution_count": 334,
      "outputs": [
        {
          "output_type": "stream",
          "text": [
            "torch.Size([200, 1, 4, 4])\n"
          ],
          "name": "stdout"
        }
      ]
    },
    {
      "cell_type": "code",
      "metadata": {
        "id": "7djWhTuHD-B-",
        "colab_type": "code",
        "colab": {
          "base_uri": "https://localhost:8080/",
          "height": 660
        },
        "outputId": "89e13381-bed5-4800-9ce4-f6b6852b3e93"
      },
      "source": [
        "P.to(device)\n",
        "ys.to(device)"
      ],
      "execution_count": 335,
      "outputs": [
        {
          "output_type": "execute_result",
          "data": {
            "text/plain": [
              "tensor([[[[0., 0., 0., 0.],\n",
              "          [1., 1., 1., 0.],\n",
              "          [1., 9., 1., 0.],\n",
              "          [1., 1., 1., 0.]]],\n",
              "\n",
              "\n",
              "        [[[0., 0., 0., 0.],\n",
              "          [1., 1., 1., 0.],\n",
              "          [1., 9., 1., 0.],\n",
              "          [1., 1., 1., 0.]]],\n",
              "\n",
              "\n",
              "        [[[0., 0., 0., 0.],\n",
              "          [1., 1., 1., 0.],\n",
              "          [1., 9., 1., 0.],\n",
              "          [1., 1., 1., 0.]]],\n",
              "\n",
              "\n",
              "        ...,\n",
              "\n",
              "\n",
              "        [[[0., 0., 0., 0.],\n",
              "          [1., 1., 1., 0.],\n",
              "          [1., 9., 1., 0.],\n",
              "          [1., 1., 1., 0.]]],\n",
              "\n",
              "\n",
              "        [[[0., 0., 0., 0.],\n",
              "          [1., 1., 1., 0.],\n",
              "          [1., 9., 1., 0.],\n",
              "          [1., 1., 1., 0.]]],\n",
              "\n",
              "\n",
              "        [[[0., 0., 0., 0.],\n",
              "          [1., 1., 1., 0.],\n",
              "          [1., 9., 1., 0.],\n",
              "          [1., 1., 1., 0.]]]], device='cuda:0')"
            ]
          },
          "metadata": {
            "tags": []
          },
          "execution_count": 335
        }
      ]
    },
    {
      "cell_type": "code",
      "metadata": {
        "id": "8RsIMr6IHfO7",
        "colab_type": "code",
        "colab": {
          "base_uri": "https://localhost:8080/",
          "height": 34
        },
        "outputId": "f6c7f2f4-5aaa-44dc-fdeb-a6da7bcd119b"
      },
      "source": [
        "print(P.shape, ys.shape)"
      ],
      "execution_count": 336,
      "outputs": [
        {
          "output_type": "stream",
          "text": [
            "torch.Size([200, 1, 4, 4]) torch.Size([200, 1, 4, 4])\n"
          ],
          "name": "stdout"
        }
      ]
    },
    {
      "cell_type": "code",
      "metadata": {
        "id": "eolF_HMm8KGj",
        "colab_type": "code",
        "colab": {}
      },
      "source": [
        "class CNN(torch.nn.Module):\n",
        "    def __init__(self, gridsize):\n",
        "        super(CNN, self).__init__()\n",
        "        self.gs = gridsize\n",
        "        self.conv = torch.nn.Conv2d(1, 1, gridsize-1, stride=1, padding=1)\n",
        "        self.conv1 = torch.nn.Conv2d(1,1, gridsize, stride=1, padding=0, dilation=1)\n",
        "        self.conv2 = torch.nn.Conv2d(1, 1, gridsize, stride=2, padding=2)\n",
        "        self.relu = torch.nn.ReLU()\n",
        "        self.fc = torch.nn.Linear(1,1)\n",
        "    def forward(self, x):\n",
        "        x = self.conv(x)\n",
        "        x = self.relu(x)\n",
        "        # x = self.conv1(x)\n",
        "        # x = self.relu(x)\n",
        "        # x = self.conv2(x)\n",
        "        # x = self.relu(x)\n",
        "        # x = self.fc(x)\n",
        "        return(x)"
      ],
      "execution_count": 0,
      "outputs": []
    },
    {
      "cell_type": "code",
      "metadata": {
        "id": "AU_lFMCADBuR",
        "colab_type": "code",
        "colab": {
          "base_uri": "https://localhost:8080/",
          "height": 139
        },
        "outputId": "6f89dbe5-829d-43c3-ca8c-365be6f9e30a"
      },
      "source": [
        "model = CNN(wab.gridsize)\n",
        "model.to(device)"
      ],
      "execution_count": 338,
      "outputs": [
        {
          "output_type": "execute_result",
          "data": {
            "text/plain": [
              "CNN(\n",
              "  (conv): Conv2d(1, 1, kernel_size=(3, 3), stride=(1, 1), padding=(1, 1))\n",
              "  (conv1): Conv2d(1, 1, kernel_size=(4, 4), stride=(1, 1))\n",
              "  (conv2): Conv2d(1, 1, kernel_size=(4, 4), stride=(2, 2), padding=(2, 2))\n",
              "  (relu): ReLU()\n",
              "  (fc): Linear(in_features=1, out_features=1, bias=True)\n",
              ")"
            ]
          },
          "metadata": {
            "tags": []
          },
          "execution_count": 338
        }
      ]
    },
    {
      "cell_type": "code",
      "metadata": {
        "id": "ZUvFehk4H5Nw",
        "colab_type": "code",
        "colab": {}
      },
      "source": [
        "optimizer = torch.optim.AdamW(params, 0.2)\n",
        "wab.optim='adamW'\n",
        "\n",
        "criterion = torch.nn.SmoothL1Loss(reduction='none')\n",
        "wab.loss_fx = 'SmoothL1'"
      ],
      "execution_count": 0,
      "outputs": []
    },
    {
      "cell_type": "code",
      "metadata": {
        "id": "bkPRKyFJ8KMX",
        "colab_type": "code",
        "colab": {}
      },
      "source": [
        "def train():\n",
        "    for epoch in range(10000000):\n",
        "        out = model(P)\n",
        "        loss = criterion(out, ys)\n",
        "        optimizer.zero_grad()\n",
        "        (loss.sum()).backward(retain_graph=True)\n",
        "        optimizer.step()\n",
        "        best = out[torch.argmin(loss.sum((1,2,3)))]\n",
        "        if (best.int() - ys[0,].int()).sum() == 0:                   \n",
        "            print('\\n', 'Solution found!')\n",
        "            print(y[0,])                                          \n",
        "            print(best.detach().cpu().numpy().astype(int), '\\n')                                                                     \n",
        "            print('Total loss after', epoch, 'iterations is:', criterion(best,ys[0,]).detach().cpu().item())\n",
        "            print('Time:', time.time()-since)\n",
        "            return(best)\n",
        "        if epoch%100 == 0:\n",
        "            print(phase, epoch, torch.min(loss.sum((1,2,3)))) "
      ],
      "execution_count": 0,
      "outputs": []
    },
    {
      "cell_type": "code",
      "metadata": {
        "id": "y80b5GnwSayw",
        "colab_type": "code",
        "colab": {
          "base_uri": "https://localhost:8080/",
          "height": 86
        },
        "outputId": "587b780b-4384-4454-af20-8a20d1bcf996"
      },
      "source": [
        "y"
      ],
      "execution_count": 341,
      "outputs": [
        {
          "output_type": "execute_result",
          "data": {
            "text/plain": [
              "tensor([[0., 0., 0., 0.],\n",
              "        [1., 1., 1., 0.],\n",
              "        [1., 9., 1., 0.],\n",
              "        [1., 1., 1., 0.]], device='cuda:0')"
            ]
          },
          "metadata": {
            "tags": []
          },
          "execution_count": 341
        }
      ]
    },
    {
      "cell_type": "code",
      "metadata": {
        "id": "bAnStwZHQztN",
        "colab_type": "code",
        "colab": {
          "base_uri": "https://localhost:8080/",
          "height": 436
        },
        "outputId": "39f4a827-f4a5-43e0-b24a-4c47778888b5"
      },
      "source": [
        "out = train()"
      ],
      "execution_count": 0,
      "outputs": [
        {
          "output_type": "stream",
          "text": [
            "train 0 tensor(11.7808, device='cuda:0', grad_fn=<MinBackward1>) tensor(14.2563, device='cuda:0', grad_fn=<MaxBackward1>)\n",
            "train 100 tensor(11.7808, device='cuda:0', grad_fn=<MinBackward1>) tensor(14.2563, device='cuda:0', grad_fn=<MaxBackward1>)\n",
            "train 200 tensor(11.7808, device='cuda:0', grad_fn=<MinBackward1>) tensor(14.2563, device='cuda:0', grad_fn=<MaxBackward1>)\n",
            "train 300 tensor(11.7808, device='cuda:0', grad_fn=<MinBackward1>) tensor(14.2563, device='cuda:0', grad_fn=<MaxBackward1>)\n",
            "train 400 tensor(11.7808, device='cuda:0', grad_fn=<MinBackward1>) tensor(14.2563, device='cuda:0', grad_fn=<MaxBackward1>)\n",
            "train 500 tensor(11.7808, device='cuda:0', grad_fn=<MinBackward1>) tensor(14.2563, device='cuda:0', grad_fn=<MaxBackward1>)\n",
            "train 600 tensor(11.7808, device='cuda:0', grad_fn=<MinBackward1>) tensor(14.2563, device='cuda:0', grad_fn=<MaxBackward1>)\n",
            "train 700 tensor(11.7808, device='cuda:0', grad_fn=<MinBackward1>) tensor(14.2563, device='cuda:0', grad_fn=<MaxBackward1>)\n",
            "train 800 tensor(11.7808, device='cuda:0', grad_fn=<MinBackward1>) tensor(14.2563, device='cuda:0', grad_fn=<MaxBackward1>)\n",
            "train 900 tensor(11.7808, device='cuda:0', grad_fn=<MinBackward1>) tensor(14.2563, device='cuda:0', grad_fn=<MaxBackward1>)\n",
            "train 1000 tensor(11.7808, device='cuda:0', grad_fn=<MinBackward1>) tensor(14.2563, device='cuda:0', grad_fn=<MaxBackward1>)\n",
            "train 1100 tensor(11.7808, device='cuda:0', grad_fn=<MinBackward1>) tensor(14.2563, device='cuda:0', grad_fn=<MaxBackward1>)\n",
            "train 1200 tensor(11.7808, device='cuda:0', grad_fn=<MinBackward1>) tensor(14.2563, device='cuda:0', grad_fn=<MaxBackward1>)\n",
            "train 1300 tensor(11.7808, device='cuda:0', grad_fn=<MinBackward1>) tensor(14.2563, device='cuda:0', grad_fn=<MaxBackward1>)\n",
            "train 1400 tensor(11.7808, device='cuda:0', grad_fn=<MinBackward1>) tensor(14.2563, device='cuda:0', grad_fn=<MaxBackward1>)\n",
            "train 1500 tensor(11.7808, device='cuda:0', grad_fn=<MinBackward1>) tensor(14.2563, device='cuda:0', grad_fn=<MaxBackward1>)\n",
            "train 1600 tensor(11.7808, device='cuda:0', grad_fn=<MinBackward1>) tensor(14.2563, device='cuda:0', grad_fn=<MaxBackward1>)\n",
            "train 1700 tensor(11.7808, device='cuda:0', grad_fn=<MinBackward1>) tensor(14.2563, device='cuda:0', grad_fn=<MaxBackward1>)\n",
            "train 1800 tensor(11.7808, device='cuda:0', grad_fn=<MinBackward1>) tensor(14.2563, device='cuda:0', grad_fn=<MaxBackward1>)\n",
            "train 1900 tensor(11.7808, device='cuda:0', grad_fn=<MinBackward1>) tensor(14.2563, device='cuda:0', grad_fn=<MaxBackward1>)\n",
            "train 2000 tensor(11.7808, device='cuda:0', grad_fn=<MinBackward1>) tensor(14.2563, device='cuda:0', grad_fn=<MaxBackward1>)\n",
            "train 2100 tensor(11.7808, device='cuda:0', grad_fn=<MinBackward1>) tensor(14.2563, device='cuda:0', grad_fn=<MaxBackward1>)\n",
            "train 2200 tensor(11.7808, device='cuda:0', grad_fn=<MinBackward1>) tensor(14.2563, device='cuda:0', grad_fn=<MaxBackward1>)\n"
          ],
          "name": "stdout"
        }
      ]
    },
    {
      "cell_type": "code",
      "metadata": {
        "id": "8EDIO7h68KfI",
        "colab_type": "code",
        "colab": {}
      },
      "source": [
        "out"
      ],
      "execution_count": 0,
      "outputs": []
    },
    {
      "cell_type": "code",
      "metadata": {
        "id": "nestl01DI8FL",
        "colab_type": "code",
        "colab": {}
      },
      "source": [
        ""
      ],
      "execution_count": 0,
      "outputs": []
    },
    {
      "cell_type": "code",
      "metadata": {
        "id": "GacpcvgRI8IH",
        "colab_type": "code",
        "colab": {}
      },
      "source": [
        ""
      ],
      "execution_count": 0,
      "outputs": []
    },
    {
      "cell_type": "markdown",
      "metadata": {
        "id": "zGp0mmR9inWE",
        "colab_type": "text"
      },
      "source": [
        "# Minesweeper\n",
        "### a Turing-Complete system simulation"
      ]
    },
    {
      "cell_type": "markdown",
      "metadata": {
        "id": "udK5OklVE47S",
        "colab_type": "text"
      },
      "source": [
        "##### Turing-Complete Systems"
      ]
    },
    {
      "cell_type": "markdown",
      "metadata": {
        "id": "dKuc850NFAVn",
        "colab_type": "text"
      },
      "source": [
        "A Turing machine is one that can simulate and algorithm by reading, writting, and moving about a single string (or tape) of values according to a table of rules. A similar machine that is also able to recognize the rule table for any other turing machine is said to be Turing-Complete. Therefore, we only need to simulate any Turing-Complete system to show Turing-Completeness in a new system."
      ]
    },
    {
      "cell_type": "markdown",
      "metadata": {
        "colab_type": "text",
        "id": "tJcCfLnuHlUa"
      },
      "source": [
        "##### Mine-sweeper Turing-Completeness"
      ]
    },
    {
      "cell_type": "markdown",
      "metadata": {
        "colab_type": "text",
        "id": "FxOaTz8YHlUd"
      },
      "source": [
        "Minesweeper was shown to be Turing-Complete in [2007 by Richard Kay](http://web.mat.bham.ac.uk/R.W.Kaye/minesw/infmsw.pdf) who stated the game played on an infinite grid is anologous to the proven Turing-Complete [game of life](https://web.stanford.edu/class/sts145/Library/life.pdf). Furthermore, the mines in this version of Minesweeper have different rules in the table. The assertion rest upon the availability of infinite time and memory. Here we can simulate a finite version of such machine by constructing a rule table of logic gates. Given the assertions mentions, configuring the Minesweeper simulation to perform logic gates, the program is shows Turing-Completeness. The figures below are directly from Richard Kay's paper. The top figure details how cells in the grid must be configured according to have a partial configuration (C) surrounded by infinite other cells that satisfies the rule table (R). These components compute the value for each state of the turing machine tape. As Kay described, the rule table for manipulating the tape can then be written as shown partially in the middle figure. Combining the top and bottom process allows us to construct wires for logic gates. The bottom image details the constructed logic gate in the infinite board. The left and right states are wires (as we saw earlier can be configured in Minewsweeper) holding single 0 or 1 values. States in and out represent wire streams caring the machines state and head information. Basically, the infinite, orthogonal Minesweeper board creates the states which instruct the head of the Turing machine."
      ]
    },
    {
      "cell_type": "markdown",
      "metadata": {
        "id": "DODaDdNNzTf1",
        "colab_type": "text"
      },
      "source": [
        "![alt text](https://i.imgur.com/AwLRYXE.png)![alt text](https://i.imgur.com/PApgfkd.png)![alt text](https://i.imgur.com/pYVYaUp.png)"
      ]
    },
    {
      "cell_type": "code",
      "metadata": {
        "id": "a3GJvjQnK4Jm",
        "colab_type": "code",
        "colab": {}
      },
      "source": [
        "#Simulation of minesweeper turing mahine \n",
        "##I had a lot of trouble with this. I'm not sure if its just not possible to code because you need an infinite plane\n",
        "###or if I'm not briding the gap between the wires in the grid and the turing tape.  "
      ],
      "execution_count": 0,
      "outputs": []
    },
    {
      "cell_type": "code",
      "metadata": {
        "id": "8Kj2CziYE_l8",
        "colab_type": "code",
        "colab": {}
      },
      "source": [
        "tape = [1,0,1, ...]"
      ],
      "execution_count": 0,
      "outputs": []
    },
    {
      "cell_type": "code",
      "metadata": {
        "id": "1KTKeZE6PAHr",
        "colab_type": "code",
        "colab": {}
      },
      "source": [
        "def read(i):\n",
        "    action = check_rules(tape[i])"
      ],
      "execution_count": 0,
      "outputs": []
    },
    {
      "cell_type": "code",
      "metadata": {
        "id": "nhkF3BaoO84q",
        "colab_type": "code",
        "colab": {}
      },
      "source": [
        "def write(state):\n",
        "    if state == 2:\n",
        "        tape[i:] == 0\n",
        "    return tape"
      ],
      "execution_count": 0,
      "outputs": []
    },
    {
      "cell_type": "code",
      "metadata": {
        "id": "2rp0ni29l5ff",
        "colab_type": "code",
        "colab": {}
      },
      "source": [
        "def move(i):\n",
        "    direction = check_rules(tape[i])\n",
        "    if direction > 0 :\n",
        "        i = i+1\n",
        "    elif direction < 0:\n",
        "        i = i-1\n",
        "    elif direction == 0:\n",
        "        i = i\n",
        "    return i"
      ],
      "execution_count": 0,
      "outputs": []
    },
    {
      "cell_type": "code",
      "metadata": {
        "id": "X7_ER4QbibNh",
        "colab_type": "code",
        "colab": {}
      },
      "source": [
        "def compute_grid():\n",
        "    #get the rule table for the wires coming in.\n",
        "    return something"
      ],
      "execution_count": 0,
      "outputs": []
    },
    {
      "cell_type": "code",
      "metadata": {
        "id": "kb0C5p4El51Y",
        "colab_type": "code",
        "colab": {}
      },
      "source": [
        "def check_rules(tape):\n",
        "    a,b,c = tape\n",
        "    R = compute_grid\n",
        "    action = #what do based on(R)\n",
        "    return action"
      ],
      "execution_count": 0,
      "outputs": []
    },
    {
      "cell_type": "code",
      "metadata": {
        "id": "YTAFXECNO87j",
        "colab_type": "code",
        "colab": {}
      },
      "source": [
        ""
      ],
      "execution_count": 0,
      "outputs": []
    },
    {
      "cell_type": "code",
      "metadata": {
        "id": "mrpCCHxuO8-Z",
        "colab_type": "code",
        "colab": {}
      },
      "source": [
        ""
      ],
      "execution_count": 0,
      "outputs": []
    },
    {
      "cell_type": "code",
      "metadata": {
        "id": "vPnHwXQSO9BC",
        "colab_type": "code",
        "colab": {}
      },
      "source": [
        ""
      ],
      "execution_count": 0,
      "outputs": []
    },
    {
      "cell_type": "code",
      "metadata": {
        "id": "c-oQPYr4O9DU",
        "colab_type": "code",
        "colab": {}
      },
      "source": [
        ""
      ],
      "execution_count": 0,
      "outputs": []
    },
    {
      "cell_type": "code",
      "metadata": {
        "id": "-yhvO9n3K4L5",
        "colab_type": "code",
        "colab": {}
      },
      "source": [
        "# Outline how you would use your choosen turing-complete system to impliment your choosen heuristic algorithm."
      ],
      "execution_count": 0,
      "outputs": []
    },
    {
      "cell_type": "markdown",
      "metadata": {
        "id": "7SV75hDJl61u",
        "colab_type": "text"
      },
      "source": [
        "The Turing-complete Minesweeper machine simulator (MTCS) takes in states from left and right inputs. These states and the current state dictate the head to perform action (or not), which is all computed by the minesweeper logic gate components. We can think of setting up the Minesweeper components as the CFA algorithm itself. The rule table could be written in the Minesweeper orthogonality approach so that the process of moving from one population of cells, evaluating the loss, updating the population best, and moving to the next population to repeat the process is preserved. The initial configuration (C) would serve as the starting populations of cells. They would have to be configured in orthoganality agreement as shown in the figure below. In the original MTCS, the set of values in minesweeper (a,b,c,d,e,f,g) have been replaced for our group of cells, G1 as group 1 and so forth. Neutral values have also been replaced with random neutral values that represent the reflection and vsibility terms in the original CFA functions, L for the loss, and B for the best population update. By converting the reflection and visiblity components between 0, 1, and N, we can simulate wires that, in more complex arrangements, can form logic gates. Rule tables for each wire would be configured for the \\{G1,G2,G3,G4,L,B} and \\{0,1,N,G1,G2,G3,G4,L,B} depending on each configuration. This approach is redundant because when a logic (L) or best (B) value is needed, it would branch into its own specific logic wire configuration to compute that terms values as the turing state moves about the tape. Since these wires carry the state and head location, they turing machine would potentially be optimized since they CFA wires are controlling it.\n",
        " "
      ]
    },
    {
      "cell_type": "markdown",
      "metadata": {
        "id": "MByoFjLLlDOB",
        "colab_type": "text"
      },
      "source": [
        "![alt text](https://i.imgur.com/6MnJKzz.png)"
      ]
    },
    {
      "cell_type": "code",
      "metadata": {
        "id": "A6x279SwKGNT",
        "colab_type": "code",
        "colab": {}
      },
      "source": [
        ""
      ],
      "execution_count": 0,
      "outputs": []
    },
    {
      "cell_type": "markdown",
      "metadata": {
        "id": "5UotRTdJsbZV",
        "colab_type": "text"
      },
      "source": [
        "# References and Reads"
      ]
    },
    {
      "cell_type": "markdown",
      "metadata": {
        "id": "5JpMn-wpsdnA",
        "colab_type": "text"
      },
      "source": [
        "CuttleFish and CFA:\n",
        "*   https://www.ijser.org/researchpaper/Cuttlefish-Algorithm-A-Novel-Bio-Inspired-Optimization-Algorithm.pdf\n",
        "*   http://giantcuttlefish.com/?tag=chromatophore\n",
        "*   https://en.wikipedia.org/wiki/List_of_metaphor-based_metaheuristics#Cuttlefish\n",
        "*   https://www.mathworks.com/matlabcentral/fileexchange/63416-cuttlefish-optimization-algorithm\n",
        "*   https://en.wikipedia.org/wiki/List_of_metaphor-based_metaheuristics \n",
        "\n",
        "Minesweeper, NP Completeness, Turing Machines:\n",
        "*   https://www.youtube.com/watch?v=ziViLYrf1Ak\n",
        "*   https://www.youtube.com/watch?v=7B85WbEiYf4\n",
        "*   https://en.wikipedia.org/wiki/List_of_NP-complete_problems \n",
        "*   https://en.wikipedia.org/wiki/Turing_completeness\n",
        "*   https://www.youtube.com/watch?v=W9G_1xG77LE\n",
        "*   https://www.youtube.com/watch?v=YX40hbAHx3s\n",
        "*   https://en.wikipedia.org/wiki/Microsoft_Minesweeper\n",
        "*   http://www.minesweeper.info/articles/MinesweeperIsNPComplete.pdf\n",
        "*   https://gist.github.com/mohd-akram/3057736\n",
        "\n",
        "Background on Heuristics, Computer Science, and Mathematics in Complexity:\n",
        "*   https://www.youtube.com/watch?v=EKWGGDXe5MA\n",
        "*   https://www.youtube.com/watch?v=k_GFq12w5WU&feature=emb_title\n",
        "*   https://www.youtube.com/watch?v=_eC14GonZnU\n",
        "*   https://www.youtube.com/watch?v=gV67Sj2jkVg\n",
        "*   https://www.youtube.com/watch?v=WllJrHX_3ZI\n",
        "*   https://www.youtube.com/watch?v=QKKD-_VxxFA\n",
        "\n",
        "\n",
        "\n"
      ]
    },
    {
      "cell_type": "markdown",
      "metadata": {
        "id": "gC4XloMvr9Am",
        "colab_type": "text"
      },
      "source": [
        "![alt text](http://giantcuttlefish.com/wp-content/uploads/2014/02/Cave-P-2_9537-23.jpg)"
      ]
    },
    {
      "cell_type": "code",
      "metadata": {
        "id": "khZD5GqIVBt2",
        "colab_type": "code",
        "colab": {}
      },
      "source": [
        ""
      ],
      "execution_count": 0,
      "outputs": []
    }
  ]
}